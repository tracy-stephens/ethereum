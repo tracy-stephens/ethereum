{
 "cells": [
  {
   "cell_type": "code",
   "execution_count": 234,
   "metadata": {},
   "outputs": [
    {
     "name": "stdout",
     "output_type": "stream",
     "text": [
      "The autoreload extension is already loaded. To reload it, use:\n",
      "  %reload_ext autoreload\n"
     ]
    }
   ],
   "source": [
    "%load_ext autoreload\n",
    "%autoreload 2\n",
    "\n",
    "import numpy as np\n",
    "import pandas as pd\n",
    "import matplotlib.pyplot as plt\n",
    "from tqdm import tqdm\n",
    "from numpy import intersect1d\n",
    "from datetime import datetime\n",
    "\n",
    "from ethereum import (\n",
    "    timestamp_to_datetime,\n",
    "    EthereumData\n",
    ")\n",
    "from utils import (\n",
    "    latest,\n",
    "    lead_lag,\n",
    "    add_latest_avail_block,\n",
    "    lagged_block_data\n",
    ")"
   ]
  },
  {
   "cell_type": "markdown",
   "metadata": {},
   "source": [
    "## 1. Load Data\n",
    "### 1A - Load data from /data"
   ]
  },
  {
   "cell_type": "code",
   "execution_count": 2,
   "metadata": {},
   "outputs": [],
   "source": [
    "dt = \"2021-09-01\"\n",
    "\n",
    "eth_data = EthereumData(start_date=dt, end_date=dt, save_path=f\"data/{dt}\")"
   ]
  },
  {
   "cell_type": "code",
   "execution_count": 3,
   "metadata": {},
   "outputs": [
    {
     "name": "stdout",
     "output_type": "stream",
     "text": [
      "Loading blocks...\n",
      "Loading transactions...\n",
      "Loading contracts...\n",
      "Loading logs...\n",
      "Loading receipts...\n",
      "Loading token_transfers...\n",
      "Loading tokens...\n"
     ]
    }
   ],
   "source": [
    "eth_data.load()"
   ]
  },
  {
   "cell_type": "markdown",
   "metadata": {},
   "source": [
    "### 1B - Determine lagged block numbers"
   ]
  },
  {
   "cell_type": "code",
   "execution_count": 15,
   "metadata": {},
   "outputs": [],
   "source": [
    "pit = eth_data.point_in_time_blocks(lag=60)"
   ]
  },
  {
   "cell_type": "code",
   "execution_count": 16,
   "metadata": {},
   "outputs": [
    {
     "data": {
      "text/html": [
       "<div>\n",
       "<style scoped>\n",
       "    .dataframe tbody tr th:only-of-type {\n",
       "        vertical-align: middle;\n",
       "    }\n",
       "\n",
       "    .dataframe tbody tr th {\n",
       "        vertical-align: top;\n",
       "    }\n",
       "\n",
       "    .dataframe thead th {\n",
       "        text-align: right;\n",
       "    }\n",
       "</style>\n",
       "<table border=\"1\" class=\"dataframe\">\n",
       "  <thead>\n",
       "    <tr style=\"text-align: right;\">\n",
       "      <th></th>\n",
       "      <th>datetime</th>\n",
       "      <th>lag_cutoff</th>\n",
       "      <th>latest_avail_block</th>\n",
       "    </tr>\n",
       "    <tr>\n",
       "      <th>number</th>\n",
       "      <th></th>\n",
       "      <th></th>\n",
       "      <th></th>\n",
       "    </tr>\n",
       "  </thead>\n",
       "  <tbody>\n",
       "    <tr>\n",
       "      <th>13142877</th>\n",
       "      <td>2021-09-01 23:58:31</td>\n",
       "      <td>2021-09-01 23:57:31</td>\n",
       "      <td>13142873.0</td>\n",
       "    </tr>\n",
       "    <tr>\n",
       "      <th>13142878</th>\n",
       "      <td>2021-09-01 23:58:48</td>\n",
       "      <td>2021-09-01 23:57:48</td>\n",
       "      <td>13142874.0</td>\n",
       "    </tr>\n",
       "    <tr>\n",
       "      <th>13142879</th>\n",
       "      <td>2021-09-01 23:59:42</td>\n",
       "      <td>2021-09-01 23:58:42</td>\n",
       "      <td>13142877.0</td>\n",
       "    </tr>\n",
       "    <tr>\n",
       "      <th>13142880</th>\n",
       "      <td>2021-09-01 23:59:49</td>\n",
       "      <td>2021-09-01 23:58:49</td>\n",
       "      <td>13142878.0</td>\n",
       "    </tr>\n",
       "    <tr>\n",
       "      <th>13142881</th>\n",
       "      <td>2021-09-01 23:59:54</td>\n",
       "      <td>2021-09-01 23:58:54</td>\n",
       "      <td>13142878.0</td>\n",
       "    </tr>\n",
       "  </tbody>\n",
       "</table>\n",
       "</div>"
      ],
      "text/plain": [
       "                    datetime          lag_cutoff  latest_avail_block\n",
       "number                                                              \n",
       "13142877 2021-09-01 23:58:31 2021-09-01 23:57:31          13142873.0\n",
       "13142878 2021-09-01 23:58:48 2021-09-01 23:57:48          13142874.0\n",
       "13142879 2021-09-01 23:59:42 2021-09-01 23:58:42          13142877.0\n",
       "13142880 2021-09-01 23:59:49 2021-09-01 23:58:49          13142878.0\n",
       "13142881 2021-09-01 23:59:54 2021-09-01 23:58:54          13142878.0"
      ]
     },
     "execution_count": 16,
     "metadata": {},
     "output_type": "execute_result"
    }
   ],
   "source": [
    "pit.tail()"
   ]
  },
  {
   "cell_type": "markdown",
   "metadata": {},
   "source": [
    "## 2. Derive a block-level features\n",
    "\n",
    "### 2A - Get blocks data"
   ]
  },
  {
   "cell_type": "code",
   "execution_count": 96,
   "metadata": {},
   "outputs": [
    {
     "data": {
      "text/html": [
       "<div>\n",
       "<style scoped>\n",
       "    .dataframe tbody tr th:only-of-type {\n",
       "        vertical-align: middle;\n",
       "    }\n",
       "\n",
       "    .dataframe tbody tr th {\n",
       "        vertical-align: top;\n",
       "    }\n",
       "\n",
       "    .dataframe thead th {\n",
       "        text-align: right;\n",
       "    }\n",
       "</style>\n",
       "<table border=\"1\" class=\"dataframe\">\n",
       "  <thead>\n",
       "    <tr style=\"text-align: right;\">\n",
       "      <th></th>\n",
       "      <th>hash</th>\n",
       "      <th>parent_hash</th>\n",
       "      <th>nonce</th>\n",
       "      <th>sha3_uncles</th>\n",
       "      <th>logs_bloom</th>\n",
       "      <th>transactions_root</th>\n",
       "      <th>state_root</th>\n",
       "      <th>receipts_root</th>\n",
       "      <th>miner</th>\n",
       "      <th>difficulty</th>\n",
       "      <th>total_difficulty</th>\n",
       "      <th>size</th>\n",
       "      <th>extra_data</th>\n",
       "      <th>gas_limit</th>\n",
       "      <th>gas_used</th>\n",
       "      <th>timestamp</th>\n",
       "      <th>transaction_count</th>\n",
       "      <th>base_fee_per_gas</th>\n",
       "    </tr>\n",
       "    <tr>\n",
       "      <th>number</th>\n",
       "      <th></th>\n",
       "      <th></th>\n",
       "      <th></th>\n",
       "      <th></th>\n",
       "      <th></th>\n",
       "      <th></th>\n",
       "      <th></th>\n",
       "      <th></th>\n",
       "      <th></th>\n",
       "      <th></th>\n",
       "      <th></th>\n",
       "      <th></th>\n",
       "      <th></th>\n",
       "      <th></th>\n",
       "      <th></th>\n",
       "      <th></th>\n",
       "      <th></th>\n",
       "      <th></th>\n",
       "    </tr>\n",
       "  </thead>\n",
       "  <tbody>\n",
       "    <tr>\n",
       "      <th>13136427</th>\n",
       "      <td>0x1c3d38ad2873c0f281079850e70df67d557af60856ba...</td>\n",
       "      <td>0xc902c6182d6f0b6c5662b50170668ccfe70620d5757d...</td>\n",
       "      <td>0x07d513dbda4cc93f</td>\n",
       "      <td>0x1dcc4de8dec75d7aab85b567b6ccd41ad312451b948a...</td>\n",
       "      <td>0x3aa3696f158108f9b68e9fefbf05ff8dcae232b97fdf...</td>\n",
       "      <td>0x011b82a4198dc9937b496f7b02e5c62c8e3a6ce58533...</td>\n",
       "      <td>0xe685d2e2f9ad896b406796445fcbf2beb4c259f5a25e...</td>\n",
       "      <td>0x9a319e351917874113d70f2cf3c86438202ea42184c1...</td>\n",
       "      <td>0x5a0b54d5dc17e0aadc383d2db43b0a0d3e029c4c</td>\n",
       "      <td>8409848555241209</td>\n",
       "      <td>29853078656530319963926</td>\n",
       "      <td>160051</td>\n",
       "      <td>0xd883010a08846765746888676f312e31362e37856c69...</td>\n",
       "      <td>30029266</td>\n",
       "      <td>30015153</td>\n",
       "      <td>1630454412</td>\n",
       "      <td>333</td>\n",
       "      <td>124202762367</td>\n",
       "    </tr>\n",
       "    <tr>\n",
       "      <th>13136428</th>\n",
       "      <td>0x6426cbb21bddc0934e73267132826043a654135dab55...</td>\n",
       "      <td>0x1c3d38ad2873c0f281079850e70df67d557af60856ba...</td>\n",
       "      <td>0x70e96f255d67bcaf</td>\n",
       "      <td>0x1dcc4de8dec75d7aab85b567b6ccd41ad312451b948a...</td>\n",
       "      <td>0x80a101a2403244518004047084111a0184019a204180...</td>\n",
       "      <td>0xb8f758c6b2840173f52f1c55de7b7df677f9b2152ec3...</td>\n",
       "      <td>0xa63915d5cd2cd2c67daa1d3d3455d0894f8fe48cf22a...</td>\n",
       "      <td>0x92b0f888b8c09265b0e10f7410a65b075296de9a341e...</td>\n",
       "      <td>0xea674fdde714fd979de3edf0f56aa9716b898ec8</td>\n",
       "      <td>8401640107478779</td>\n",
       "      <td>29853087058170427442705</td>\n",
       "      <td>35643</td>\n",
       "      <td>0x65746865726d696e652d6575726f70652d7765737433</td>\n",
       "      <td>30000000</td>\n",
       "      <td>7393588</td>\n",
       "      <td>1630454440</td>\n",
       "      <td>67</td>\n",
       "      <td>139713514618</td>\n",
       "    </tr>\n",
       "    <tr>\n",
       "      <th>13136429</th>\n",
       "      <td>0x1025103470c75a669b02ff29ea99056c4804e401abd1...</td>\n",
       "      <td>0x6426cbb21bddc0934e73267132826043a654135dab55...</td>\n",
       "      <td>0xf9d63a09a02a237b</td>\n",
       "      <td>0x1dcc4de8dec75d7aab85b567b6ccd41ad312451b948a...</td>\n",
       "      <td>0x100000000000008000000008000a0000400000000000...</td>\n",
       "      <td>0xf312c9bb4ace0cd553ad987ca3b1ee0c0123a217169f...</td>\n",
       "      <td>0x785b8a58ce673085521687f8f3468d6581e5d2775bef...</td>\n",
       "      <td>0xce766a8699a08bf3315507212dde49f0b5a30897ec5a...</td>\n",
       "      <td>0x829bd824b016326a401d083b33d092293333a830</td>\n",
       "      <td>8405746765779804</td>\n",
       "      <td>29853095463917193222509</td>\n",
       "      <td>8983</td>\n",
       "      <td>0xe4b883e5bda9e7a59ee4bb99e9b1bc0b0921</td>\n",
       "      <td>30029295</td>\n",
       "      <td>1164952</td>\n",
       "      <td>1630454444</td>\n",
       "      <td>9</td>\n",
       "      <td>130857526667</td>\n",
       "    </tr>\n",
       "    <tr>\n",
       "      <th>13136430</th>\n",
       "      <td>0x4cbb6f647eb936cb60bb884801d495645a99d22476da...</td>\n",
       "      <td>0x1025103470c75a669b02ff29ea99056c4804e401abd1...</td>\n",
       "      <td>0xb8dfd70a6131457c</td>\n",
       "      <td>0x1dcc4de8dec75d7aab85b567b6ccd41ad312451b948a...</td>\n",
       "      <td>0x492401ba0000402010830004a0010221180203015400...</td>\n",
       "      <td>0xc811dd6729d521d2df1a51aaf930066acf18586cb982...</td>\n",
       "      <td>0x8f5a3a9fafb298ed46ca6567def270e0faf139f6eeba...</td>\n",
       "      <td>0x3c7105e6ac201c5fe4a46d2e8174dab921e08ab5c786...</td>\n",
       "      <td>0x0708f87a089a91c65d48721aa941084648562287</td>\n",
       "      <td>8409855429285078</td>\n",
       "      <td>29853103873772622507587</td>\n",
       "      <td>28133</td>\n",
       "      <td>0x73706964657230380a3a3843</td>\n",
       "      <td>30000000</td>\n",
       "      <td>7933734</td>\n",
       "      <td>1630454446</td>\n",
       "      <td>78</td>\n",
       "      <td>115769452729</td>\n",
       "    </tr>\n",
       "    <tr>\n",
       "      <th>13136431</th>\n",
       "      <td>0x40aa76a3056da154d217fe3a86557b3f498efeb31427...</td>\n",
       "      <td>0x4cbb6f647eb936cb60bb884801d495645a99d22476da...</td>\n",
       "      <td>0xc00349689a041feb</td>\n",
       "      <td>0x1dcc4de8dec75d7aab85b567b6ccd41ad312451b948a...</td>\n",
       "      <td>0x30f2f1ff5908f9b391ca3102ffb8dfd360eada9cf385...</td>\n",
       "      <td>0xd57ee073f4ca6111a8a19895cbf4735b10f75879c929...</td>\n",
       "      <td>0x470290655f21516251b1a0288b7a598bfffec171fc36...</td>\n",
       "      <td>0x23df64c82f4345b862d898494ceb1fd7e8e01fa0fdad...</td>\n",
       "      <td>0x5a0b54d5dc17e0aadc383d2db43b0a0d3e029c4c</td>\n",
       "      <td>8413966098973704</td>\n",
       "      <td>29853112287738721481291</td>\n",
       "      <td>166713</td>\n",
       "      <td>0xd883010a08846765746888676f312e31362e37856c69...</td>\n",
       "      <td>30000000</td>\n",
       "      <td>29985451</td>\n",
       "      <td>1630454448</td>\n",
       "      <td>402</td>\n",
       "      <td>108952304832</td>\n",
       "    </tr>\n",
       "  </tbody>\n",
       "</table>\n",
       "</div>"
      ],
      "text/plain": [
       "                                                       hash  \\\n",
       "number                                                        \n",
       "13136427  0x1c3d38ad2873c0f281079850e70df67d557af60856ba...   \n",
       "13136428  0x6426cbb21bddc0934e73267132826043a654135dab55...   \n",
       "13136429  0x1025103470c75a669b02ff29ea99056c4804e401abd1...   \n",
       "13136430  0x4cbb6f647eb936cb60bb884801d495645a99d22476da...   \n",
       "13136431  0x40aa76a3056da154d217fe3a86557b3f498efeb31427...   \n",
       "\n",
       "                                                parent_hash  \\\n",
       "number                                                        \n",
       "13136427  0xc902c6182d6f0b6c5662b50170668ccfe70620d5757d...   \n",
       "13136428  0x1c3d38ad2873c0f281079850e70df67d557af60856ba...   \n",
       "13136429  0x6426cbb21bddc0934e73267132826043a654135dab55...   \n",
       "13136430  0x1025103470c75a669b02ff29ea99056c4804e401abd1...   \n",
       "13136431  0x4cbb6f647eb936cb60bb884801d495645a99d22476da...   \n",
       "\n",
       "                       nonce  \\\n",
       "number                         \n",
       "13136427  0x07d513dbda4cc93f   \n",
       "13136428  0x70e96f255d67bcaf   \n",
       "13136429  0xf9d63a09a02a237b   \n",
       "13136430  0xb8dfd70a6131457c   \n",
       "13136431  0xc00349689a041feb   \n",
       "\n",
       "                                                sha3_uncles  \\\n",
       "number                                                        \n",
       "13136427  0x1dcc4de8dec75d7aab85b567b6ccd41ad312451b948a...   \n",
       "13136428  0x1dcc4de8dec75d7aab85b567b6ccd41ad312451b948a...   \n",
       "13136429  0x1dcc4de8dec75d7aab85b567b6ccd41ad312451b948a...   \n",
       "13136430  0x1dcc4de8dec75d7aab85b567b6ccd41ad312451b948a...   \n",
       "13136431  0x1dcc4de8dec75d7aab85b567b6ccd41ad312451b948a...   \n",
       "\n",
       "                                                 logs_bloom  \\\n",
       "number                                                        \n",
       "13136427  0x3aa3696f158108f9b68e9fefbf05ff8dcae232b97fdf...   \n",
       "13136428  0x80a101a2403244518004047084111a0184019a204180...   \n",
       "13136429  0x100000000000008000000008000a0000400000000000...   \n",
       "13136430  0x492401ba0000402010830004a0010221180203015400...   \n",
       "13136431  0x30f2f1ff5908f9b391ca3102ffb8dfd360eada9cf385...   \n",
       "\n",
       "                                          transactions_root  \\\n",
       "number                                                        \n",
       "13136427  0x011b82a4198dc9937b496f7b02e5c62c8e3a6ce58533...   \n",
       "13136428  0xb8f758c6b2840173f52f1c55de7b7df677f9b2152ec3...   \n",
       "13136429  0xf312c9bb4ace0cd553ad987ca3b1ee0c0123a217169f...   \n",
       "13136430  0xc811dd6729d521d2df1a51aaf930066acf18586cb982...   \n",
       "13136431  0xd57ee073f4ca6111a8a19895cbf4735b10f75879c929...   \n",
       "\n",
       "                                                 state_root  \\\n",
       "number                                                        \n",
       "13136427  0xe685d2e2f9ad896b406796445fcbf2beb4c259f5a25e...   \n",
       "13136428  0xa63915d5cd2cd2c67daa1d3d3455d0894f8fe48cf22a...   \n",
       "13136429  0x785b8a58ce673085521687f8f3468d6581e5d2775bef...   \n",
       "13136430  0x8f5a3a9fafb298ed46ca6567def270e0faf139f6eeba...   \n",
       "13136431  0x470290655f21516251b1a0288b7a598bfffec171fc36...   \n",
       "\n",
       "                                              receipts_root  \\\n",
       "number                                                        \n",
       "13136427  0x9a319e351917874113d70f2cf3c86438202ea42184c1...   \n",
       "13136428  0x92b0f888b8c09265b0e10f7410a65b075296de9a341e...   \n",
       "13136429  0xce766a8699a08bf3315507212dde49f0b5a30897ec5a...   \n",
       "13136430  0x3c7105e6ac201c5fe4a46d2e8174dab921e08ab5c786...   \n",
       "13136431  0x23df64c82f4345b862d898494ceb1fd7e8e01fa0fdad...   \n",
       "\n",
       "                                               miner        difficulty  \\\n",
       "number                                                                   \n",
       "13136427  0x5a0b54d5dc17e0aadc383d2db43b0a0d3e029c4c  8409848555241209   \n",
       "13136428  0xea674fdde714fd979de3edf0f56aa9716b898ec8  8401640107478779   \n",
       "13136429  0x829bd824b016326a401d083b33d092293333a830  8405746765779804   \n",
       "13136430  0x0708f87a089a91c65d48721aa941084648562287  8409855429285078   \n",
       "13136431  0x5a0b54d5dc17e0aadc383d2db43b0a0d3e029c4c  8413966098973704   \n",
       "\n",
       "                 total_difficulty    size  \\\n",
       "number                                      \n",
       "13136427  29853078656530319963926  160051   \n",
       "13136428  29853087058170427442705   35643   \n",
       "13136429  29853095463917193222509    8983   \n",
       "13136430  29853103873772622507587   28133   \n",
       "13136431  29853112287738721481291  166713   \n",
       "\n",
       "                                                 extra_data  gas_limit  \\\n",
       "number                                                                   \n",
       "13136427  0xd883010a08846765746888676f312e31362e37856c69...   30029266   \n",
       "13136428     0x65746865726d696e652d6575726f70652d7765737433   30000000   \n",
       "13136429             0xe4b883e5bda9e7a59ee4bb99e9b1bc0b0921   30029295   \n",
       "13136430                         0x73706964657230380a3a3843   30000000   \n",
       "13136431  0xd883010a08846765746888676f312e31362e37856c69...   30000000   \n",
       "\n",
       "          gas_used   timestamp  transaction_count  base_fee_per_gas  \n",
       "number                                                               \n",
       "13136427  30015153  1630454412                333      124202762367  \n",
       "13136428   7393588  1630454440                 67      139713514618  \n",
       "13136429   1164952  1630454444                  9      130857526667  \n",
       "13136430   7933734  1630454446                 78      115769452729  \n",
       "13136431  29985451  1630454448                402      108952304832  "
      ]
     },
     "execution_count": 96,
     "metadata": {},
     "output_type": "execute_result"
    }
   ],
   "source": [
    "# blocks dataset\n",
    "blocks_df = eth_data.blocks.set_index('number').sort_index()\n",
    "blocks_df.head()"
   ]
  },
  {
   "cell_type": "markdown",
   "metadata": {},
   "source": [
    "Discard some columns..."
   ]
  },
  {
   "cell_type": "code",
   "execution_count": 101,
   "metadata": {},
   "outputs": [
    {
     "data": {
      "text/html": [
       "<div>\n",
       "<style scoped>\n",
       "    .dataframe tbody tr th:only-of-type {\n",
       "        vertical-align: middle;\n",
       "    }\n",
       "\n",
       "    .dataframe tbody tr th {\n",
       "        vertical-align: top;\n",
       "    }\n",
       "\n",
       "    .dataframe thead th {\n",
       "        text-align: right;\n",
       "    }\n",
       "</style>\n",
       "<table border=\"1\" class=\"dataframe\">\n",
       "  <thead>\n",
       "    <tr style=\"text-align: right;\">\n",
       "      <th></th>\n",
       "      <th>difficulty</th>\n",
       "      <th>total_difficulty</th>\n",
       "      <th>size</th>\n",
       "      <th>gas_limit</th>\n",
       "      <th>gas_used</th>\n",
       "      <th>transaction_count</th>\n",
       "      <th>base_fee_per_gas</th>\n",
       "    </tr>\n",
       "    <tr>\n",
       "      <th>number</th>\n",
       "      <th></th>\n",
       "      <th></th>\n",
       "      <th></th>\n",
       "      <th></th>\n",
       "      <th></th>\n",
       "      <th></th>\n",
       "      <th></th>\n",
       "    </tr>\n",
       "  </thead>\n",
       "  <tbody>\n",
       "    <tr>\n",
       "      <th>13136427</th>\n",
       "      <td>8409848555241209</td>\n",
       "      <td>29853078656530319963926</td>\n",
       "      <td>160051</td>\n",
       "      <td>30029266</td>\n",
       "      <td>30015153</td>\n",
       "      <td>333</td>\n",
       "      <td>124202762367</td>\n",
       "    </tr>\n",
       "    <tr>\n",
       "      <th>13136428</th>\n",
       "      <td>8401640107478779</td>\n",
       "      <td>29853087058170427442705</td>\n",
       "      <td>35643</td>\n",
       "      <td>30000000</td>\n",
       "      <td>7393588</td>\n",
       "      <td>67</td>\n",
       "      <td>139713514618</td>\n",
       "    </tr>\n",
       "    <tr>\n",
       "      <th>13136429</th>\n",
       "      <td>8405746765779804</td>\n",
       "      <td>29853095463917193222509</td>\n",
       "      <td>8983</td>\n",
       "      <td>30029295</td>\n",
       "      <td>1164952</td>\n",
       "      <td>9</td>\n",
       "      <td>130857526667</td>\n",
       "    </tr>\n",
       "    <tr>\n",
       "      <th>13136430</th>\n",
       "      <td>8409855429285078</td>\n",
       "      <td>29853103873772622507587</td>\n",
       "      <td>28133</td>\n",
       "      <td>30000000</td>\n",
       "      <td>7933734</td>\n",
       "      <td>78</td>\n",
       "      <td>115769452729</td>\n",
       "    </tr>\n",
       "    <tr>\n",
       "      <th>13136431</th>\n",
       "      <td>8413966098973704</td>\n",
       "      <td>29853112287738721481291</td>\n",
       "      <td>166713</td>\n",
       "      <td>30000000</td>\n",
       "      <td>29985451</td>\n",
       "      <td>402</td>\n",
       "      <td>108952304832</td>\n",
       "    </tr>\n",
       "  </tbody>\n",
       "</table>\n",
       "</div>"
      ],
      "text/plain": [
       "                difficulty         total_difficulty    size  gas_limit  \\\n",
       "number                                                                   \n",
       "13136427  8409848555241209  29853078656530319963926  160051   30029266   \n",
       "13136428  8401640107478779  29853087058170427442705   35643   30000000   \n",
       "13136429  8405746765779804  29853095463917193222509    8983   30029295   \n",
       "13136430  8409855429285078  29853103873772622507587   28133   30000000   \n",
       "13136431  8413966098973704  29853112287738721481291  166713   30000000   \n",
       "\n",
       "          gas_used  transaction_count  base_fee_per_gas  \n",
       "number                                                   \n",
       "13136427  30015153                333      124202762367  \n",
       "13136428   7393588                 67      139713514618  \n",
       "13136429   1164952                  9      130857526667  \n",
       "13136430   7933734                 78      115769452729  \n",
       "13136431  29985451                402      108952304832  "
      ]
     },
     "execution_count": 101,
     "metadata": {},
     "output_type": "execute_result"
    }
   ],
   "source": [
    "keep_cols = [\n",
    "    'difficulty', 'total_difficulty', 'size', 'gas_limit', 'gas_used', 'transaction_count', 'base_fee_per_gas'\n",
    "]\n",
    "blocks_df = blocks_df[keep_cols]\n",
    "blocks_df.head()"
   ]
  },
  {
   "cell_type": "markdown",
   "metadata": {},
   "source": [
    "### 2B - Create some features\n",
    "\n",
    "This example calculates the rolling 5-block mean of base_fee_per_gas"
   ]
  },
  {
   "cell_type": "code",
   "execution_count": 133,
   "metadata": {},
   "outputs": [],
   "source": [
    "block_feature_df = blocks_df.rolling(5).mean()\n",
    "block_feature_df.columns = [i + \"_mean_5\" for i in blocks_df.columns]"
   ]
  },
  {
   "cell_type": "markdown",
   "metadata": {},
   "source": [
    "### 2C - Lag the features by the point-in-time block numbers"
   ]
  },
  {
   "cell_type": "code",
   "execution_count": 301,
   "metadata": {},
   "outputs": [
    {
     "data": {
      "text/html": [
       "<div>\n",
       "<style scoped>\n",
       "    .dataframe tbody tr th:only-of-type {\n",
       "        vertical-align: middle;\n",
       "    }\n",
       "\n",
       "    .dataframe tbody tr th {\n",
       "        vertical-align: top;\n",
       "    }\n",
       "\n",
       "    .dataframe thead th {\n",
       "        text-align: right;\n",
       "    }\n",
       "</style>\n",
       "<table border=\"1\" class=\"dataframe\">\n",
       "  <thead>\n",
       "    <tr style=\"text-align: right;\">\n",
       "      <th></th>\n",
       "      <th>difficulty_mean_5_lagged</th>\n",
       "      <th>total_difficulty_mean_5_lagged</th>\n",
       "      <th>size_mean_5_lagged</th>\n",
       "      <th>gas_limit_mean_5_lagged</th>\n",
       "      <th>gas_used_mean_5_lagged</th>\n",
       "      <th>transaction_count_mean_5_lagged</th>\n",
       "      <th>base_fee_per_gas_mean_5_lagged</th>\n",
       "    </tr>\n",
       "    <tr>\n",
       "      <th>number</th>\n",
       "      <th></th>\n",
       "      <th></th>\n",
       "      <th></th>\n",
       "      <th></th>\n",
       "      <th></th>\n",
       "      <th></th>\n",
       "      <th></th>\n",
       "    </tr>\n",
       "  </thead>\n",
       "  <tbody>\n",
       "    <tr>\n",
       "      <th>13142877</th>\n",
       "      <td>8.284458e+15</td>\n",
       "      <td>2.990665e+22</td>\n",
       "      <td>97634.4</td>\n",
       "      <td>30011718.0</td>\n",
       "      <td>21173035.2</td>\n",
       "      <td>331.8</td>\n",
       "      <td>8.710222e+10</td>\n",
       "    </tr>\n",
       "    <tr>\n",
       "      <th>13142878</th>\n",
       "      <td>8.285270e+15</td>\n",
       "      <td>2.990665e+22</td>\n",
       "      <td>117439.0</td>\n",
       "      <td>30005859.0</td>\n",
       "      <td>21789922.4</td>\n",
       "      <td>343.2</td>\n",
       "      <td>9.150861e+10</td>\n",
       "    </tr>\n",
       "    <tr>\n",
       "      <th>13142879</th>\n",
       "      <td>8.278001e+15</td>\n",
       "      <td>2.990668e+22</td>\n",
       "      <td>124057.2</td>\n",
       "      <td>30023441.8</td>\n",
       "      <td>21179043.0</td>\n",
       "      <td>227.8</td>\n",
       "      <td>1.088666e+11</td>\n",
       "    </tr>\n",
       "    <tr>\n",
       "      <th>13142880</th>\n",
       "      <td>8.275579e+15</td>\n",
       "      <td>2.990669e+22</td>\n",
       "      <td>125910.0</td>\n",
       "      <td>30023436.0</td>\n",
       "      <td>20827050.6</td>\n",
       "      <td>227.4</td>\n",
       "      <td>1.137266e+11</td>\n",
       "    </tr>\n",
       "    <tr>\n",
       "      <th>13142881</th>\n",
       "      <td>8.275579e+15</td>\n",
       "      <td>2.990669e+22</td>\n",
       "      <td>125910.0</td>\n",
       "      <td>30023436.0</td>\n",
       "      <td>20827050.6</td>\n",
       "      <td>227.4</td>\n",
       "      <td>1.137266e+11</td>\n",
       "    </tr>\n",
       "  </tbody>\n",
       "</table>\n",
       "</div>"
      ],
      "text/plain": [
       "          difficulty_mean_5_lagged  total_difficulty_mean_5_lagged  \\\n",
       "number                                                               \n",
       "13142877              8.284458e+15                    2.990665e+22   \n",
       "13142878              8.285270e+15                    2.990665e+22   \n",
       "13142879              8.278001e+15                    2.990668e+22   \n",
       "13142880              8.275579e+15                    2.990669e+22   \n",
       "13142881              8.275579e+15                    2.990669e+22   \n",
       "\n",
       "          size_mean_5_lagged  gas_limit_mean_5_lagged  gas_used_mean_5_lagged  \\\n",
       "number                                                                          \n",
       "13142877             97634.4               30011718.0              21173035.2   \n",
       "13142878            117439.0               30005859.0              21789922.4   \n",
       "13142879            124057.2               30023441.8              21179043.0   \n",
       "13142880            125910.0               30023436.0              20827050.6   \n",
       "13142881            125910.0               30023436.0              20827050.6   \n",
       "\n",
       "          transaction_count_mean_5_lagged  base_fee_per_gas_mean_5_lagged  \n",
       "number                                                                     \n",
       "13142877                            331.8                    8.710222e+10  \n",
       "13142878                            343.2                    9.150861e+10  \n",
       "13142879                            227.8                    1.088666e+11  \n",
       "13142880                            227.4                    1.137266e+11  \n",
       "13142881                            227.4                    1.137266e+11  "
      ]
     },
     "execution_count": 301,
     "metadata": {},
     "output_type": "execute_result"
    }
   ],
   "source": [
    "lagged_features = lagged_block_data(block_feature_df, pit)\n",
    "lagged_features.tail()"
   ]
  },
  {
   "cell_type": "markdown",
   "metadata": {},
   "source": [
    "Now the `lagged features` data should match the `block_feature_df` data for the block in `latest_avail_block`."
   ]
  },
  {
   "cell_type": "code",
   "execution_count": 303,
   "metadata": {},
   "outputs": [
    {
     "data": {
      "text/html": [
       "<div>\n",
       "<style scoped>\n",
       "    .dataframe tbody tr th:only-of-type {\n",
       "        vertical-align: middle;\n",
       "    }\n",
       "\n",
       "    .dataframe tbody tr th {\n",
       "        vertical-align: top;\n",
       "    }\n",
       "\n",
       "    .dataframe thead th {\n",
       "        text-align: right;\n",
       "    }\n",
       "</style>\n",
       "<table border=\"1\" class=\"dataframe\">\n",
       "  <thead>\n",
       "    <tr style=\"text-align: right;\">\n",
       "      <th></th>\n",
       "      <th>datetime</th>\n",
       "      <th>lag_cutoff</th>\n",
       "      <th>latest_avail_block</th>\n",
       "    </tr>\n",
       "    <tr>\n",
       "      <th>number</th>\n",
       "      <th></th>\n",
       "      <th></th>\n",
       "      <th></th>\n",
       "    </tr>\n",
       "  </thead>\n",
       "  <tbody>\n",
       "    <tr>\n",
       "      <th>13142877</th>\n",
       "      <td>2021-09-01 23:58:31</td>\n",
       "      <td>2021-09-01 23:57:31</td>\n",
       "      <td>13142873.0</td>\n",
       "    </tr>\n",
       "    <tr>\n",
       "      <th>13142878</th>\n",
       "      <td>2021-09-01 23:58:48</td>\n",
       "      <td>2021-09-01 23:57:48</td>\n",
       "      <td>13142874.0</td>\n",
       "    </tr>\n",
       "    <tr>\n",
       "      <th>13142879</th>\n",
       "      <td>2021-09-01 23:59:42</td>\n",
       "      <td>2021-09-01 23:58:42</td>\n",
       "      <td>13142877.0</td>\n",
       "    </tr>\n",
       "    <tr>\n",
       "      <th>13142880</th>\n",
       "      <td>2021-09-01 23:59:49</td>\n",
       "      <td>2021-09-01 23:58:49</td>\n",
       "      <td>13142878.0</td>\n",
       "    </tr>\n",
       "    <tr>\n",
       "      <th>13142881</th>\n",
       "      <td>2021-09-01 23:59:54</td>\n",
       "      <td>2021-09-01 23:58:54</td>\n",
       "      <td>13142878.0</td>\n",
       "    </tr>\n",
       "  </tbody>\n",
       "</table>\n",
       "</div>"
      ],
      "text/plain": [
       "                    datetime          lag_cutoff  latest_avail_block\n",
       "number                                                              \n",
       "13142877 2021-09-01 23:58:31 2021-09-01 23:57:31          13142873.0\n",
       "13142878 2021-09-01 23:58:48 2021-09-01 23:57:48          13142874.0\n",
       "13142879 2021-09-01 23:59:42 2021-09-01 23:58:42          13142877.0\n",
       "13142880 2021-09-01 23:59:49 2021-09-01 23:58:49          13142878.0\n",
       "13142881 2021-09-01 23:59:54 2021-09-01 23:58:54          13142878.0"
      ]
     },
     "execution_count": 303,
     "metadata": {},
     "output_type": "execute_result"
    }
   ],
   "source": [
    "pit.tail()"
   ]
  },
  {
   "cell_type": "code",
   "execution_count": 304,
   "metadata": {},
   "outputs": [
    {
     "data": {
      "text/plain": [
       "difficulty_mean_5           8.264272e+15\n",
       "total_difficulty_mean_5     2.990671e+22\n",
       "size_mean_5                 8.032300e+04\n",
       "gas_limit_mean_5            3.005860e+07\n",
       "gas_used_mean_5             1.404093e+07\n",
       "transaction_count_mean_5    1.634000e+02\n",
       "base_fee_per_gas_mean_5     1.225574e+11\n",
       "Name: 13142881, dtype: float64"
      ]
     },
     "execution_count": 304,
     "metadata": {},
     "output_type": "execute_result"
    }
   ],
   "source": [
    "block_feature_df.loc[13142881]"
   ]
  },
  {
   "cell_type": "code",
   "execution_count": 305,
   "metadata": {},
   "outputs": [
    {
     "data": {
      "text/plain": [
       "difficulty_mean_5           8.275579e+15\n",
       "total_difficulty_mean_5     2.990669e+22\n",
       "size_mean_5                 1.259100e+05\n",
       "gas_limit_mean_5            3.002344e+07\n",
       "gas_used_mean_5             2.082705e+07\n",
       "transaction_count_mean_5    2.274000e+02\n",
       "base_fee_per_gas_mean_5     1.137266e+11\n",
       "Name: 13142878, dtype: float64"
      ]
     },
     "execution_count": 305,
     "metadata": {},
     "output_type": "execute_result"
    }
   ],
   "source": [
    "block_feature_df.loc[13142878]"
   ]
  },
  {
   "cell_type": "code",
   "execution_count": 313,
   "metadata": {},
   "outputs": [
    {
     "data": {
      "text/plain": [
       "array([ True,  True,  True,  True,  True,  True,  True])"
      ]
     },
     "execution_count": 313,
     "metadata": {},
     "output_type": "execute_result"
    }
   ],
   "source": [
    "lagged_features.loc[13142881].values == block_feature_df.loc[13142878].values"
   ]
  },
  {
   "cell_type": "markdown",
   "metadata": {},
   "source": [
    "## 3. Derive transaction-level features"
   ]
  },
  {
   "cell_type": "markdown",
   "metadata": {},
   "source": [
    "### 3A - Get receipts data"
   ]
  },
  {
   "cell_type": "code",
   "execution_count": 255,
   "metadata": {},
   "outputs": [
    {
     "data": {
      "text/html": [
       "<div>\n",
       "<style scoped>\n",
       "    .dataframe tbody tr th:only-of-type {\n",
       "        vertical-align: middle;\n",
       "    }\n",
       "\n",
       "    .dataframe tbody tr th {\n",
       "        vertical-align: top;\n",
       "    }\n",
       "\n",
       "    .dataframe thead th {\n",
       "        text-align: right;\n",
       "    }\n",
       "</style>\n",
       "<table border=\"1\" class=\"dataframe\">\n",
       "  <thead>\n",
       "    <tr style=\"text-align: right;\">\n",
       "      <th></th>\n",
       "      <th>transaction_hash</th>\n",
       "      <th>transaction_index</th>\n",
       "      <th>block_hash</th>\n",
       "      <th>block_number</th>\n",
       "      <th>cumulative_gas_used</th>\n",
       "      <th>gas_used</th>\n",
       "      <th>contract_address</th>\n",
       "      <th>root</th>\n",
       "      <th>status</th>\n",
       "      <th>effective_gas_price</th>\n",
       "      <th>transaction_id</th>\n",
       "      <th>is_vanilla</th>\n",
       "    </tr>\n",
       "  </thead>\n",
       "  <tbody>\n",
       "    <tr>\n",
       "      <th>0</th>\n",
       "      <td>0xb73ba89e2711f11fa62132c2eebdc828e853700f04f8...</td>\n",
       "      <td>200</td>\n",
       "      <td>0x8626b9f635910cf8b4a1b6a2567fee4a4b0aa30d8e3b...</td>\n",
       "      <td>13136829</td>\n",
       "      <td>13993863</td>\n",
       "      <td>67483</td>\n",
       "      <td>NaN</td>\n",
       "      <td>NaN</td>\n",
       "      <td>1</td>\n",
       "      <td>93889714585</td>\n",
       "      <td>13136829_200</td>\n",
       "      <td>False</td>\n",
       "    </tr>\n",
       "    <tr>\n",
       "      <th>1</th>\n",
       "      <td>0x2343b30f3cde30c238c878388cd9ae7c30dd4ff8414b...</td>\n",
       "      <td>201</td>\n",
       "      <td>0x8626b9f635910cf8b4a1b6a2567fee4a4b0aa30d8e3b...</td>\n",
       "      <td>13136829</td>\n",
       "      <td>14142764</td>\n",
       "      <td>148901</td>\n",
       "      <td>NaN</td>\n",
       "      <td>NaN</td>\n",
       "      <td>1</td>\n",
       "      <td>93889714585</td>\n",
       "      <td>13136829_201</td>\n",
       "      <td>False</td>\n",
       "    </tr>\n",
       "    <tr>\n",
       "      <th>2</th>\n",
       "      <td>0x1be38967c808e0dcb5855150eca004870e1fa43216e8...</td>\n",
       "      <td>202</td>\n",
       "      <td>0x8626b9f635910cf8b4a1b6a2567fee4a4b0aa30d8e3b...</td>\n",
       "      <td>13136829</td>\n",
       "      <td>14163764</td>\n",
       "      <td>21000</td>\n",
       "      <td>NaN</td>\n",
       "      <td>NaN</td>\n",
       "      <td>1</td>\n",
       "      <td>93615785860</td>\n",
       "      <td>13136829_202</td>\n",
       "      <td>True</td>\n",
       "    </tr>\n",
       "    <tr>\n",
       "      <th>3</th>\n",
       "      <td>0xbe30c74511d39b8a93ce0df8591709d2873f3a5ce218...</td>\n",
       "      <td>203</td>\n",
       "      <td>0x8626b9f635910cf8b4a1b6a2567fee4a4b0aa30d8e3b...</td>\n",
       "      <td>13136829</td>\n",
       "      <td>14209909</td>\n",
       "      <td>46145</td>\n",
       "      <td>NaN</td>\n",
       "      <td>NaN</td>\n",
       "      <td>1</td>\n",
       "      <td>93615785860</td>\n",
       "      <td>13136829_203</td>\n",
       "      <td>False</td>\n",
       "    </tr>\n",
       "    <tr>\n",
       "      <th>4</th>\n",
       "      <td>0x3f25d61048d385215215ceffe7d5966de8614d9aedd4...</td>\n",
       "      <td>204</td>\n",
       "      <td>0x8626b9f635910cf8b4a1b6a2567fee4a4b0aa30d8e3b...</td>\n",
       "      <td>13136829</td>\n",
       "      <td>14230909</td>\n",
       "      <td>21000</td>\n",
       "      <td>NaN</td>\n",
       "      <td>NaN</td>\n",
       "      <td>1</td>\n",
       "      <td>93615785860</td>\n",
       "      <td>13136829_204</td>\n",
       "      <td>True</td>\n",
       "    </tr>\n",
       "  </tbody>\n",
       "</table>\n",
       "</div>"
      ],
      "text/plain": [
       "                                    transaction_hash  transaction_index  \\\n",
       "0  0xb73ba89e2711f11fa62132c2eebdc828e853700f04f8...                200   \n",
       "1  0x2343b30f3cde30c238c878388cd9ae7c30dd4ff8414b...                201   \n",
       "2  0x1be38967c808e0dcb5855150eca004870e1fa43216e8...                202   \n",
       "3  0xbe30c74511d39b8a93ce0df8591709d2873f3a5ce218...                203   \n",
       "4  0x3f25d61048d385215215ceffe7d5966de8614d9aedd4...                204   \n",
       "\n",
       "                                          block_hash  block_number  \\\n",
       "0  0x8626b9f635910cf8b4a1b6a2567fee4a4b0aa30d8e3b...      13136829   \n",
       "1  0x8626b9f635910cf8b4a1b6a2567fee4a4b0aa30d8e3b...      13136829   \n",
       "2  0x8626b9f635910cf8b4a1b6a2567fee4a4b0aa30d8e3b...      13136829   \n",
       "3  0x8626b9f635910cf8b4a1b6a2567fee4a4b0aa30d8e3b...      13136829   \n",
       "4  0x8626b9f635910cf8b4a1b6a2567fee4a4b0aa30d8e3b...      13136829   \n",
       "\n",
       "   cumulative_gas_used  gas_used contract_address  root  status  \\\n",
       "0             13993863     67483              NaN   NaN       1   \n",
       "1             14142764    148901              NaN   NaN       1   \n",
       "2             14163764     21000              NaN   NaN       1   \n",
       "3             14209909     46145              NaN   NaN       1   \n",
       "4             14230909     21000              NaN   NaN       1   \n",
       "\n",
       "   effective_gas_price transaction_id  is_vanilla  \n",
       "0          93889714585   13136829_200       False  \n",
       "1          93889714585   13136829_201       False  \n",
       "2          93615785860   13136829_202        True  \n",
       "3          93615785860   13136829_203       False  \n",
       "4          93615785860   13136829_204        True  "
      ]
     },
     "execution_count": 255,
     "metadata": {},
     "output_type": "execute_result"
    }
   ],
   "source": [
    "receipts_df = eth_data.receipts # receipts data\n",
    "receipts_df.head()"
   ]
  },
  {
   "cell_type": "markdown",
   "metadata": {},
   "source": [
    "This data is large..."
   ]
  },
  {
   "cell_type": "code",
   "execution_count": 256,
   "metadata": {},
   "outputs": [
    {
     "data": {
      "text/plain": [
       "(1225104, 12)"
      ]
     },
     "execution_count": 256,
     "metadata": {},
     "output_type": "execute_result"
    }
   ],
   "source": [
    "receipts_df.shape"
   ]
  },
  {
   "cell_type": "markdown",
   "metadata": {},
   "source": [
    "Id transactions by `<block_number>_<transaction_index>` and sort by this number."
   ]
  },
  {
   "cell_type": "code",
   "execution_count": 257,
   "metadata": {},
   "outputs": [],
   "source": [
    "receipts_df['transaction_id'] = receipts_df['block_number'].astype(str) + \"_\" + \\\n",
    "    receipts_df['transaction_index'].astype(str)\n",
    "receipts_df = receipts_df.set_index('transaction_id').sort_index()"
   ]
  },
  {
   "cell_type": "markdown",
   "metadata": {},
   "source": [
    "Another possible feature (pct vanilla transactions)..."
   ]
  },
  {
   "cell_type": "code",
   "execution_count": 258,
   "metadata": {},
   "outputs": [],
   "source": [
    "receipts_df['is_vanilla'] = receipts_df['gas_used'] == 21000"
   ]
  },
  {
   "cell_type": "markdown",
   "metadata": {},
   "source": [
    "Reduce the size by removing unnecessary columns..."
   ]
  },
  {
   "cell_type": "code",
   "execution_count": 259,
   "metadata": {},
   "outputs": [],
   "source": [
    "keep_cols = [\n",
    "    'block_number', 'cumulative_gas_used', 'gas_used', 'status', \n",
    "    'effective_gas_price', 'is_vanilla'\n",
    "]\n",
    "receipts_df = receipts_df[keep_cols]"
   ]
  },
  {
   "cell_type": "code",
   "execution_count": 260,
   "metadata": {},
   "outputs": [
    {
     "data": {
      "text/html": [
       "<div>\n",
       "<style scoped>\n",
       "    .dataframe tbody tr th:only-of-type {\n",
       "        vertical-align: middle;\n",
       "    }\n",
       "\n",
       "    .dataframe tbody tr th {\n",
       "        vertical-align: top;\n",
       "    }\n",
       "\n",
       "    .dataframe thead th {\n",
       "        text-align: right;\n",
       "    }\n",
       "</style>\n",
       "<table border=\"1\" class=\"dataframe\">\n",
       "  <thead>\n",
       "    <tr style=\"text-align: right;\">\n",
       "      <th></th>\n",
       "      <th>block_number</th>\n",
       "      <th>cumulative_gas_used</th>\n",
       "      <th>gas_used</th>\n",
       "      <th>status</th>\n",
       "      <th>effective_gas_price</th>\n",
       "      <th>is_vanilla</th>\n",
       "    </tr>\n",
       "    <tr>\n",
       "      <th>transaction_id</th>\n",
       "      <th></th>\n",
       "      <th></th>\n",
       "      <th></th>\n",
       "      <th></th>\n",
       "      <th></th>\n",
       "      <th></th>\n",
       "    </tr>\n",
       "  </thead>\n",
       "  <tbody>\n",
       "    <tr>\n",
       "      <th>13142881_95</th>\n",
       "      <td>13142881</td>\n",
       "      <td>8059896</td>\n",
       "      <td>175203</td>\n",
       "      <td>1</td>\n",
       "      <td>117241330377</td>\n",
       "      <td>False</td>\n",
       "    </tr>\n",
       "    <tr>\n",
       "      <th>13142881_96</th>\n",
       "      <td>13142881</td>\n",
       "      <td>8347559</td>\n",
       "      <td>287663</td>\n",
       "      <td>1</td>\n",
       "      <td>120372221672</td>\n",
       "      <td>False</td>\n",
       "    </tr>\n",
       "    <tr>\n",
       "      <th>13142881_97</th>\n",
       "      <td>13142881</td>\n",
       "      <td>8449478</td>\n",
       "      <td>101919</td>\n",
       "      <td>1</td>\n",
       "      <td>117195869288</td>\n",
       "      <td>False</td>\n",
       "    </tr>\n",
       "    <tr>\n",
       "      <th>13142881_98</th>\n",
       "      <td>13142881</td>\n",
       "      <td>8470478</td>\n",
       "      <td>21000</td>\n",
       "      <td>1</td>\n",
       "      <td>117195869288</td>\n",
       "      <td>True</td>\n",
       "    </tr>\n",
       "    <tr>\n",
       "      <th>13142881_99</th>\n",
       "      <td>13142881</td>\n",
       "      <td>8491478</td>\n",
       "      <td>21000</td>\n",
       "      <td>1</td>\n",
       "      <td>117195869288</td>\n",
       "      <td>True</td>\n",
       "    </tr>\n",
       "  </tbody>\n",
       "</table>\n",
       "</div>"
      ],
      "text/plain": [
       "                block_number  cumulative_gas_used  gas_used  status  \\\n",
       "transaction_id                                                        \n",
       "13142881_95         13142881              8059896    175203       1   \n",
       "13142881_96         13142881              8347559    287663       1   \n",
       "13142881_97         13142881              8449478    101919       1   \n",
       "13142881_98         13142881              8470478     21000       1   \n",
       "13142881_99         13142881              8491478     21000       1   \n",
       "\n",
       "                effective_gas_price  is_vanilla  \n",
       "transaction_id                                   \n",
       "13142881_95            117241330377       False  \n",
       "13142881_96            120372221672       False  \n",
       "13142881_97            117195869288       False  \n",
       "13142881_98            117195869288        True  \n",
       "13142881_99            117195869288        True  "
      ]
     },
     "execution_count": 260,
     "metadata": {},
     "output_type": "execute_result"
    }
   ],
   "source": [
    "receipts_df.tail()"
   ]
  },
  {
   "cell_type": "markdown",
   "metadata": {},
   "source": [
    "### 3B - Create some features"
   ]
  },
  {
   "cell_type": "markdown",
   "metadata": {},
   "source": [
    "Remove `block_number` first so you don't apply the transformation on it."
   ]
  },
  {
   "cell_type": "code",
   "execution_count": 262,
   "metadata": {},
   "outputs": [
    {
     "data": {
      "text/html": [
       "<div>\n",
       "<style scoped>\n",
       "    .dataframe tbody tr th:only-of-type {\n",
       "        vertical-align: middle;\n",
       "    }\n",
       "\n",
       "    .dataframe tbody tr th {\n",
       "        vertical-align: top;\n",
       "    }\n",
       "\n",
       "    .dataframe thead th {\n",
       "        text-align: right;\n",
       "    }\n",
       "</style>\n",
       "<table border=\"1\" class=\"dataframe\">\n",
       "  <thead>\n",
       "    <tr style=\"text-align: right;\">\n",
       "      <th></th>\n",
       "      <th>cumulative_gas_used_mean_1000</th>\n",
       "      <th>gas_used_mean_1000</th>\n",
       "      <th>status_mean_1000</th>\n",
       "      <th>effective_gas_price_mean_1000</th>\n",
       "      <th>is_vanilla_mean_1000</th>\n",
       "    </tr>\n",
       "    <tr>\n",
       "      <th>transaction_id</th>\n",
       "      <th></th>\n",
       "      <th></th>\n",
       "      <th></th>\n",
       "      <th></th>\n",
       "      <th></th>\n",
       "    </tr>\n",
       "  </thead>\n",
       "  <tbody>\n",
       "    <tr>\n",
       "      <th>13142881_95</th>\n",
       "      <td>9953924.448</td>\n",
       "      <td>92231.954</td>\n",
       "      <td>0.963</td>\n",
       "      <td>1.304770e+11</td>\n",
       "      <td>0.310</td>\n",
       "    </tr>\n",
       "    <tr>\n",
       "      <th>13142881_96</th>\n",
       "      <td>9947828.639</td>\n",
       "      <td>92442.360</td>\n",
       "      <td>0.963</td>\n",
       "      <td>1.304890e+11</td>\n",
       "      <td>0.310</td>\n",
       "    </tr>\n",
       "    <tr>\n",
       "      <th>13142881_97</th>\n",
       "      <td>9941788.482</td>\n",
       "      <td>92498.012</td>\n",
       "      <td>0.963</td>\n",
       "      <td>1.304979e+11</td>\n",
       "      <td>0.310</td>\n",
       "    </tr>\n",
       "    <tr>\n",
       "      <th>13142881_98</th>\n",
       "      <td>9935513.582</td>\n",
       "      <td>92263.269</td>\n",
       "      <td>0.963</td>\n",
       "      <td>1.305068e+11</td>\n",
       "      <td>0.311</td>\n",
       "    </tr>\n",
       "    <tr>\n",
       "      <th>13142881_99</th>\n",
       "      <td>9929182.425</td>\n",
       "      <td>92207.012</td>\n",
       "      <td>0.963</td>\n",
       "      <td>1.305157e+11</td>\n",
       "      <td>0.312</td>\n",
       "    </tr>\n",
       "  </tbody>\n",
       "</table>\n",
       "</div>"
      ],
      "text/plain": [
       "                cumulative_gas_used_mean_1000  gas_used_mean_1000  \\\n",
       "transaction_id                                                      \n",
       "13142881_95                       9953924.448           92231.954   \n",
       "13142881_96                       9947828.639           92442.360   \n",
       "13142881_97                       9941788.482           92498.012   \n",
       "13142881_98                       9935513.582           92263.269   \n",
       "13142881_99                       9929182.425           92207.012   \n",
       "\n",
       "                status_mean_1000  effective_gas_price_mean_1000  \\\n",
       "transaction_id                                                    \n",
       "13142881_95                0.963                   1.304770e+11   \n",
       "13142881_96                0.963                   1.304890e+11   \n",
       "13142881_97                0.963                   1.304979e+11   \n",
       "13142881_98                0.963                   1.305068e+11   \n",
       "13142881_99                0.963                   1.305157e+11   \n",
       "\n",
       "                is_vanilla_mean_1000  \n",
       "transaction_id                        \n",
       "13142881_95                    0.310  \n",
       "13142881_96                    0.310  \n",
       "13142881_97                    0.310  \n",
       "13142881_98                    0.311  \n",
       "13142881_99                    0.312  "
      ]
     },
     "execution_count": 262,
     "metadata": {},
     "output_type": "execute_result"
    }
   ],
   "source": [
    "receipts_features = receipts_df.drop(columns='block_number').rolling(1000).mean()\n",
    "receipts_features.columns = [i + \"_mean_1000\" for i in receipts_features.columns]\n",
    "receipts_features.tail()"
   ]
  },
  {
   "cell_type": "markdown",
   "metadata": {},
   "source": [
    "Add back in `block_number` so you can lag by it."
   ]
  },
  {
   "cell_type": "code",
   "execution_count": 263,
   "metadata": {},
   "outputs": [
    {
     "data": {
      "text/html": [
       "<div>\n",
       "<style scoped>\n",
       "    .dataframe tbody tr th:only-of-type {\n",
       "        vertical-align: middle;\n",
       "    }\n",
       "\n",
       "    .dataframe tbody tr th {\n",
       "        vertical-align: top;\n",
       "    }\n",
       "\n",
       "    .dataframe thead th {\n",
       "        text-align: right;\n",
       "    }\n",
       "</style>\n",
       "<table border=\"1\" class=\"dataframe\">\n",
       "  <thead>\n",
       "    <tr style=\"text-align: right;\">\n",
       "      <th></th>\n",
       "      <th>cumulative_gas_used_mean_1000</th>\n",
       "      <th>gas_used_mean_1000</th>\n",
       "      <th>status_mean_1000</th>\n",
       "      <th>effective_gas_price_mean_1000</th>\n",
       "      <th>is_vanilla_mean_1000</th>\n",
       "      <th>block_number</th>\n",
       "    </tr>\n",
       "    <tr>\n",
       "      <th>transaction_id</th>\n",
       "      <th></th>\n",
       "      <th></th>\n",
       "      <th></th>\n",
       "      <th></th>\n",
       "      <th></th>\n",
       "      <th></th>\n",
       "    </tr>\n",
       "  </thead>\n",
       "  <tbody>\n",
       "    <tr>\n",
       "      <th>13142881_95</th>\n",
       "      <td>9953924.448</td>\n",
       "      <td>92231.954</td>\n",
       "      <td>0.963</td>\n",
       "      <td>1.304770e+11</td>\n",
       "      <td>0.310</td>\n",
       "      <td>13142881</td>\n",
       "    </tr>\n",
       "    <tr>\n",
       "      <th>13142881_96</th>\n",
       "      <td>9947828.639</td>\n",
       "      <td>92442.360</td>\n",
       "      <td>0.963</td>\n",
       "      <td>1.304890e+11</td>\n",
       "      <td>0.310</td>\n",
       "      <td>13142881</td>\n",
       "    </tr>\n",
       "    <tr>\n",
       "      <th>13142881_97</th>\n",
       "      <td>9941788.482</td>\n",
       "      <td>92498.012</td>\n",
       "      <td>0.963</td>\n",
       "      <td>1.304979e+11</td>\n",
       "      <td>0.310</td>\n",
       "      <td>13142881</td>\n",
       "    </tr>\n",
       "    <tr>\n",
       "      <th>13142881_98</th>\n",
       "      <td>9935513.582</td>\n",
       "      <td>92263.269</td>\n",
       "      <td>0.963</td>\n",
       "      <td>1.305068e+11</td>\n",
       "      <td>0.311</td>\n",
       "      <td>13142881</td>\n",
       "    </tr>\n",
       "    <tr>\n",
       "      <th>13142881_99</th>\n",
       "      <td>9929182.425</td>\n",
       "      <td>92207.012</td>\n",
       "      <td>0.963</td>\n",
       "      <td>1.305157e+11</td>\n",
       "      <td>0.312</td>\n",
       "      <td>13142881</td>\n",
       "    </tr>\n",
       "  </tbody>\n",
       "</table>\n",
       "</div>"
      ],
      "text/plain": [
       "                cumulative_gas_used_mean_1000  gas_used_mean_1000  \\\n",
       "transaction_id                                                      \n",
       "13142881_95                       9953924.448           92231.954   \n",
       "13142881_96                       9947828.639           92442.360   \n",
       "13142881_97                       9941788.482           92498.012   \n",
       "13142881_98                       9935513.582           92263.269   \n",
       "13142881_99                       9929182.425           92207.012   \n",
       "\n",
       "                status_mean_1000  effective_gas_price_mean_1000  \\\n",
       "transaction_id                                                    \n",
       "13142881_95                0.963                   1.304770e+11   \n",
       "13142881_96                0.963                   1.304890e+11   \n",
       "13142881_97                0.963                   1.304979e+11   \n",
       "13142881_98                0.963                   1.305068e+11   \n",
       "13142881_99                0.963                   1.305157e+11   \n",
       "\n",
       "                is_vanilla_mean_1000  block_number  \n",
       "transaction_id                                      \n",
       "13142881_95                    0.310      13142881  \n",
       "13142881_96                    0.310      13142881  \n",
       "13142881_97                    0.310      13142881  \n",
       "13142881_98                    0.311      13142881  \n",
       "13142881_99                    0.312      13142881  "
      ]
     },
     "execution_count": 263,
     "metadata": {},
     "output_type": "execute_result"
    }
   ],
   "source": [
    "receipts_features['block_number'] = receipts_df['block_number']\n",
    "receipts_features.tail()"
   ]
  },
  {
   "cell_type": "markdown",
   "metadata": {},
   "source": [
    "### 3C - Lag the features using point-in-time"
   ]
  },
  {
   "cell_type": "markdown",
   "metadata": {},
   "source": [
    "Here I used `.last()` to get the data for the latest available transaction in the latest available block. You can also use other `groupby` functions like `.max()`, `.min()`, `.mean()`."
   ]
  },
  {
   "cell_type": "code",
   "execution_count": 315,
   "metadata": {},
   "outputs": [
    {
     "data": {
      "text/html": [
       "<div>\n",
       "<style scoped>\n",
       "    .dataframe tbody tr th:only-of-type {\n",
       "        vertical-align: middle;\n",
       "    }\n",
       "\n",
       "    .dataframe tbody tr th {\n",
       "        vertical-align: top;\n",
       "    }\n",
       "\n",
       "    .dataframe thead th {\n",
       "        text-align: right;\n",
       "    }\n",
       "</style>\n",
       "<table border=\"1\" class=\"dataframe\">\n",
       "  <thead>\n",
       "    <tr style=\"text-align: right;\">\n",
       "      <th></th>\n",
       "      <th>cumulative_gas_used_mean_1000</th>\n",
       "      <th>gas_used_mean_1000</th>\n",
       "      <th>status_mean_1000</th>\n",
       "      <th>effective_gas_price_mean_1000</th>\n",
       "      <th>is_vanilla_mean_1000</th>\n",
       "    </tr>\n",
       "    <tr>\n",
       "      <th>block_number</th>\n",
       "      <th></th>\n",
       "      <th></th>\n",
       "      <th></th>\n",
       "      <th></th>\n",
       "      <th></th>\n",
       "    </tr>\n",
       "  </thead>\n",
       "  <tbody>\n",
       "    <tr>\n",
       "      <th>13142877</th>\n",
       "      <td>1.234260e+07</td>\n",
       "      <td>93428.398</td>\n",
       "      <td>0.966</td>\n",
       "      <td>1.171656e+11</td>\n",
       "      <td>0.346</td>\n",
       "    </tr>\n",
       "    <tr>\n",
       "      <th>13142878</th>\n",
       "      <td>1.146192e+07</td>\n",
       "      <td>90535.790</td>\n",
       "      <td>0.966</td>\n",
       "      <td>1.272549e+11</td>\n",
       "      <td>0.316</td>\n",
       "    </tr>\n",
       "    <tr>\n",
       "      <th>13142879</th>\n",
       "      <td>9.969367e+06</td>\n",
       "      <td>91857.884</td>\n",
       "      <td>0.966</td>\n",
       "      <td>1.299560e+11</td>\n",
       "      <td>0.326</td>\n",
       "    </tr>\n",
       "    <tr>\n",
       "      <th>13142880</th>\n",
       "      <td>9.924649e+06</td>\n",
       "      <td>91537.948</td>\n",
       "      <td>0.968</td>\n",
       "      <td>1.301227e+11</td>\n",
       "      <td>0.327</td>\n",
       "    </tr>\n",
       "    <tr>\n",
       "      <th>13142881</th>\n",
       "      <td>9.929182e+06</td>\n",
       "      <td>92207.012</td>\n",
       "      <td>0.963</td>\n",
       "      <td>1.305157e+11</td>\n",
       "      <td>0.312</td>\n",
       "    </tr>\n",
       "  </tbody>\n",
       "</table>\n",
       "</div>"
      ],
      "text/plain": [
       "              cumulative_gas_used_mean_1000  gas_used_mean_1000  \\\n",
       "block_number                                                      \n",
       "13142877                       1.234260e+07           93428.398   \n",
       "13142878                       1.146192e+07           90535.790   \n",
       "13142879                       9.969367e+06           91857.884   \n",
       "13142880                       9.924649e+06           91537.948   \n",
       "13142881                       9.929182e+06           92207.012   \n",
       "\n",
       "              status_mean_1000  effective_gas_price_mean_1000  \\\n",
       "block_number                                                    \n",
       "13142877                 0.966                   1.171656e+11   \n",
       "13142878                 0.966                   1.272549e+11   \n",
       "13142879                 0.966                   1.299560e+11   \n",
       "13142880                 0.968                   1.301227e+11   \n",
       "13142881                 0.963                   1.305157e+11   \n",
       "\n",
       "              is_vanilla_mean_1000  \n",
       "block_number                        \n",
       "13142877                     0.346  \n",
       "13142878                     0.316  \n",
       "13142879                     0.326  \n",
       "13142880                     0.327  \n",
       "13142881                     0.312  "
      ]
     },
     "execution_count": 315,
     "metadata": {},
     "output_type": "execute_result"
    }
   ],
   "source": [
    "receipts_features_by_block = receipts_features.groupby(['block_number']).last()\n",
    "receipts_features_by_block.tail()"
   ]
  },
  {
   "cell_type": "code",
   "execution_count": 316,
   "metadata": {},
   "outputs": [
    {
     "data": {
      "text/plain": [
       "cumulative_gas_used_mean_1000    1.627043e+07\n",
       "gas_used_mean_1000               7.029460e+04\n",
       "status_mean_1000                 9.740000e-01\n",
       "effective_gas_price_mean_1000    1.049680e+11\n",
       "is_vanilla_mean_1000             5.290000e-01\n",
       "Name: 13142874, dtype: float64"
      ]
     },
     "execution_count": 316,
     "metadata": {},
     "output_type": "execute_result"
    }
   ],
   "source": [
    "receipts_features_by_block.loc[13142874]"
   ]
  },
  {
   "cell_type": "code",
   "execution_count": 319,
   "metadata": {},
   "outputs": [
    {
     "data": {
      "text/html": [
       "<div>\n",
       "<style scoped>\n",
       "    .dataframe tbody tr th:only-of-type {\n",
       "        vertical-align: middle;\n",
       "    }\n",
       "\n",
       "    .dataframe tbody tr th {\n",
       "        vertical-align: top;\n",
       "    }\n",
       "\n",
       "    .dataframe thead th {\n",
       "        text-align: right;\n",
       "    }\n",
       "</style>\n",
       "<table border=\"1\" class=\"dataframe\">\n",
       "  <thead>\n",
       "    <tr style=\"text-align: right;\">\n",
       "      <th></th>\n",
       "      <th>cumulative_gas_used_mean_1000_lagged</th>\n",
       "      <th>gas_used_mean_1000_lagged</th>\n",
       "      <th>status_mean_1000_lagged</th>\n",
       "      <th>effective_gas_price_mean_1000_lagged</th>\n",
       "      <th>is_vanilla_mean_1000_lagged</th>\n",
       "    </tr>\n",
       "    <tr>\n",
       "      <th>number</th>\n",
       "      <th></th>\n",
       "      <th></th>\n",
       "      <th></th>\n",
       "      <th></th>\n",
       "      <th></th>\n",
       "    </tr>\n",
       "  </thead>\n",
       "  <tbody>\n",
       "    <tr>\n",
       "      <th>13142877</th>\n",
       "      <td>1.737155e+07</td>\n",
       "      <td>52070.541</td>\n",
       "      <td>0.985</td>\n",
       "      <td>9.790392e+10</td>\n",
       "      <td>0.697</td>\n",
       "    </tr>\n",
       "    <tr>\n",
       "      <th>13142878</th>\n",
       "      <td>1.627043e+07</td>\n",
       "      <td>70294.597</td>\n",
       "      <td>0.974</td>\n",
       "      <td>1.049680e+11</td>\n",
       "      <td>0.529</td>\n",
       "    </tr>\n",
       "    <tr>\n",
       "      <th>13142879</th>\n",
       "      <td>1.234260e+07</td>\n",
       "      <td>93428.398</td>\n",
       "      <td>0.966</td>\n",
       "      <td>1.171656e+11</td>\n",
       "      <td>0.346</td>\n",
       "    </tr>\n",
       "    <tr>\n",
       "      <th>13142880</th>\n",
       "      <td>1.146192e+07</td>\n",
       "      <td>90535.790</td>\n",
       "      <td>0.966</td>\n",
       "      <td>1.272549e+11</td>\n",
       "      <td>0.316</td>\n",
       "    </tr>\n",
       "    <tr>\n",
       "      <th>13142881</th>\n",
       "      <td>1.146192e+07</td>\n",
       "      <td>90535.790</td>\n",
       "      <td>0.966</td>\n",
       "      <td>1.272549e+11</td>\n",
       "      <td>0.316</td>\n",
       "    </tr>\n",
       "  </tbody>\n",
       "</table>\n",
       "</div>"
      ],
      "text/plain": [
       "          cumulative_gas_used_mean_1000_lagged  gas_used_mean_1000_lagged  \\\n",
       "number                                                                      \n",
       "13142877                          1.737155e+07                  52070.541   \n",
       "13142878                          1.627043e+07                  70294.597   \n",
       "13142879                          1.234260e+07                  93428.398   \n",
       "13142880                          1.146192e+07                  90535.790   \n",
       "13142881                          1.146192e+07                  90535.790   \n",
       "\n",
       "          status_mean_1000_lagged  effective_gas_price_mean_1000_lagged  \\\n",
       "number                                                                    \n",
       "13142877                    0.985                          9.790392e+10   \n",
       "13142878                    0.974                          1.049680e+11   \n",
       "13142879                    0.966                          1.171656e+11   \n",
       "13142880                    0.966                          1.272549e+11   \n",
       "13142881                    0.966                          1.272549e+11   \n",
       "\n",
       "          is_vanilla_mean_1000_lagged  \n",
       "number                                 \n",
       "13142877                        0.697  \n",
       "13142878                        0.529  \n",
       "13142879                        0.346  \n",
       "13142880                        0.316  \n",
       "13142881                        0.316  "
      ]
     },
     "execution_count": 319,
     "metadata": {},
     "output_type": "execute_result"
    }
   ],
   "source": [
    "receipts_features_by_block_lagged = lagged_block_data(receipts_features_by_block, pit)\n",
    "receipts_features_by_block_lagged .tail()"
   ]
  },
  {
   "cell_type": "markdown",
   "metadata": {},
   "source": [
    "### 3D - Merge lagged features with transactions"
   ]
  },
  {
   "cell_type": "markdown",
   "metadata": {},
   "source": [
    "Receipts features are still on the block level..."
   ]
  },
  {
   "cell_type": "code",
   "execution_count": 332,
   "metadata": {},
   "outputs": [
    {
     "data": {
      "text/html": [
       "<div>\n",
       "<style scoped>\n",
       "    .dataframe tbody tr th:only-of-type {\n",
       "        vertical-align: middle;\n",
       "    }\n",
       "\n",
       "    .dataframe tbody tr th {\n",
       "        vertical-align: top;\n",
       "    }\n",
       "\n",
       "    .dataframe thead th {\n",
       "        text-align: right;\n",
       "    }\n",
       "</style>\n",
       "<table border=\"1\" class=\"dataframe\">\n",
       "  <thead>\n",
       "    <tr style=\"text-align: right;\">\n",
       "      <th></th>\n",
       "      <th>block_number</th>\n",
       "      <th>cumulative_gas_used_mean_1000_lagged</th>\n",
       "      <th>gas_used_mean_1000_lagged</th>\n",
       "      <th>status_mean_1000_lagged</th>\n",
       "      <th>effective_gas_price_mean_1000_lagged</th>\n",
       "      <th>is_vanilla_mean_1000_lagged</th>\n",
       "    </tr>\n",
       "    <tr>\n",
       "      <th>transaction_id</th>\n",
       "      <th></th>\n",
       "      <th></th>\n",
       "      <th></th>\n",
       "      <th></th>\n",
       "      <th></th>\n",
       "      <th></th>\n",
       "    </tr>\n",
       "  </thead>\n",
       "  <tbody>\n",
       "    <tr>\n",
       "      <th>13142881_95</th>\n",
       "      <td>13142881</td>\n",
       "      <td>1.146192e+07</td>\n",
       "      <td>90535.79</td>\n",
       "      <td>0.966</td>\n",
       "      <td>1.272549e+11</td>\n",
       "      <td>0.316</td>\n",
       "    </tr>\n",
       "    <tr>\n",
       "      <th>13142881_96</th>\n",
       "      <td>13142881</td>\n",
       "      <td>1.146192e+07</td>\n",
       "      <td>90535.79</td>\n",
       "      <td>0.966</td>\n",
       "      <td>1.272549e+11</td>\n",
       "      <td>0.316</td>\n",
       "    </tr>\n",
       "    <tr>\n",
       "      <th>13142881_97</th>\n",
       "      <td>13142881</td>\n",
       "      <td>1.146192e+07</td>\n",
       "      <td>90535.79</td>\n",
       "      <td>0.966</td>\n",
       "      <td>1.272549e+11</td>\n",
       "      <td>0.316</td>\n",
       "    </tr>\n",
       "    <tr>\n",
       "      <th>13142881_98</th>\n",
       "      <td>13142881</td>\n",
       "      <td>1.146192e+07</td>\n",
       "      <td>90535.79</td>\n",
       "      <td>0.966</td>\n",
       "      <td>1.272549e+11</td>\n",
       "      <td>0.316</td>\n",
       "    </tr>\n",
       "    <tr>\n",
       "      <th>13142881_99</th>\n",
       "      <td>13142881</td>\n",
       "      <td>1.146192e+07</td>\n",
       "      <td>90535.79</td>\n",
       "      <td>0.966</td>\n",
       "      <td>1.272549e+11</td>\n",
       "      <td>0.316</td>\n",
       "    </tr>\n",
       "  </tbody>\n",
       "</table>\n",
       "</div>"
      ],
      "text/plain": [
       "                block_number  cumulative_gas_used_mean_1000_lagged  \\\n",
       "transaction_id                                                       \n",
       "13142881_95         13142881                          1.146192e+07   \n",
       "13142881_96         13142881                          1.146192e+07   \n",
       "13142881_97         13142881                          1.146192e+07   \n",
       "13142881_98         13142881                          1.146192e+07   \n",
       "13142881_99         13142881                          1.146192e+07   \n",
       "\n",
       "                gas_used_mean_1000_lagged  status_mean_1000_lagged  \\\n",
       "transaction_id                                                       \n",
       "13142881_95                      90535.79                    0.966   \n",
       "13142881_96                      90535.79                    0.966   \n",
       "13142881_97                      90535.79                    0.966   \n",
       "13142881_98                      90535.79                    0.966   \n",
       "13142881_99                      90535.79                    0.966   \n",
       "\n",
       "                effective_gas_price_mean_1000_lagged  \\\n",
       "transaction_id                                         \n",
       "13142881_95                             1.272549e+11   \n",
       "13142881_96                             1.272549e+11   \n",
       "13142881_97                             1.272549e+11   \n",
       "13142881_98                             1.272549e+11   \n",
       "13142881_99                             1.272549e+11   \n",
       "\n",
       "                is_vanilla_mean_1000_lagged  \n",
       "transaction_id                               \n",
       "13142881_95                           0.316  \n",
       "13142881_96                           0.316  \n",
       "13142881_97                           0.316  \n",
       "13142881_98                           0.316  \n",
       "13142881_99                           0.316  "
      ]
     },
     "execution_count": 332,
     "metadata": {},
     "output_type": "execute_result"
    }
   ],
   "source": [
    "receipts_features_lagged = pd.merge(\n",
    "    left=receipts_features[['block_number']],\n",
    "    right=receipts_features_by_block_lagged,\n",
    "    how='left',\n",
    "    left_on='block_number',\n",
    "    right_index=True\n",
    ")\n",
    "receipts_features_lagged.tail()"
   ]
  },
  {
   "cell_type": "code",
   "execution_count": 333,
   "metadata": {},
   "outputs": [
    {
     "data": {
      "text/plain": [
       "(1225104, 6)"
      ]
     },
     "execution_count": 333,
     "metadata": {},
     "output_type": "execute_result"
    }
   ],
   "source": [
    "receipts_features_lagged.shape"
   ]
  },
  {
   "cell_type": "markdown",
   "metadata": {},
   "source": [
    "## Example Model"
   ]
  },
  {
   "cell_type": "code",
   "execution_count": 371,
   "metadata": {},
   "outputs": [],
   "source": [
    "import numpy as np\n",
    "from sklearn.linear_model import LinearRegression\n",
    "from sklearn.metrics import mean_squared_error, r2_score"
   ]
  },
  {
   "cell_type": "code",
   "execution_count": 402,
   "metadata": {},
   "outputs": [],
   "source": [
    "clean_x = receipts_features_lagged.filter(like='lagged').dropna().sort_index()\n",
    "clean_y = receipts_df['effective_gas_price'].loc[clean_features.index]"
   ]
  },
  {
   "cell_type": "code",
   "execution_count": 363,
   "metadata": {},
   "outputs": [],
   "source": [
    "reg = LinearRegression().fit(clean_x, clean_y)"
   ]
  },
  {
   "cell_type": "code",
   "execution_count": 367,
   "metadata": {},
   "outputs": [
    {
     "data": {
      "text/plain": [
       "0.3617531339765909"
      ]
     },
     "execution_count": 367,
     "metadata": {},
     "output_type": "execute_result"
    }
   ],
   "source": [
    "reg.score(clean_x, clean_y)"
   ]
  },
  {
   "cell_type": "code",
   "execution_count": 403,
   "metadata": {},
   "outputs": [
    {
     "data": {
      "text/plain": [
       "Index(['cumulative_gas_used_mean_1000_lagged', 'gas_used_mean_1000_lagged',\n",
       "       'status_mean_1000_lagged', 'effective_gas_price_mean_1000_lagged',\n",
       "       'is_vanilla_mean_1000_lagged'],\n",
       "      dtype='object')"
      ]
     },
     "execution_count": 403,
     "metadata": {},
     "output_type": "execute_result"
    }
   ],
   "source": [
    "clean_x.columns"
   ]
  },
  {
   "cell_type": "code",
   "execution_count": null,
   "metadata": {},
   "outputs": [],
   "source": []
  },
  {
   "cell_type": "code",
   "execution_count": 405,
   "metadata": {},
   "outputs": [
    {
     "data": {
      "text/plain": [
       "cumulative_gas_used_mean_1000_lagged    7.312198e+02\n",
       "gas_used_mean_1000_lagged               1.822809e+06\n",
       "status_mean_1000_lagged                -1.062498e+11\n",
       "effective_gas_price_mean_1000_lagged    6.442315e-01\n",
       "is_vanilla_mean_1000_lagged             1.714716e+11\n",
       "dtype: float64"
      ]
     },
     "execution_count": 405,
     "metadata": {},
     "output_type": "execute_result"
    }
   ],
   "source": [
    "pd.Series(reg.coef_, index=clean_x.columns)"
   ]
  },
  {
   "cell_type": "code",
   "execution_count": 372,
   "metadata": {},
   "outputs": [],
   "source": [
    "pred_y = reg.predict(clean_x)"
   ]
  },
  {
   "cell_type": "code",
   "execution_count": 374,
   "metadata": {},
   "outputs": [
    {
     "data": {
      "text/plain": [
       "2.4343709896861565e+22"
      ]
     },
     "execution_count": 374,
     "metadata": {},
     "output_type": "execute_result"
    }
   ],
   "source": [
    "mean_squared_error(clean_y, pred_y)"
   ]
  },
  {
   "cell_type": "code",
   "execution_count": 375,
   "metadata": {},
   "outputs": [
    {
     "data": {
      "text/plain": [
       "0.3617531339765909"
      ]
     },
     "execution_count": 375,
     "metadata": {},
     "output_type": "execute_result"
    }
   ],
   "source": [
    "r2_score(clean_y, pred_y)"
   ]
  },
  {
   "cell_type": "code",
   "execution_count": 388,
   "metadata": {},
   "outputs": [],
   "source": [
    "clean_x['effective_gas_price'] = clean_y \n",
    "clean_x['predicted_gas_price'] = pred_y "
   ]
  },
  {
   "cell_type": "code",
   "execution_count": 397,
   "metadata": {},
   "outputs": [
    {
     "data": {
      "image/png": "[encoded data removed]",
      "text/plain": [
       "<Figure size 432x288 with 1 Axes>"
      ]
     },
     "metadata": {
      "needs_background": "light"
     },
     "output_type": "display_data"
    }
   ],
   "source": [
    "sample_results = clean_x[['effective_gas_price', 'predicted_gas_price']].sample(50000)\n",
    "plt.scatter(sample_results['predicted_gas_price'], sample_results['effective_gas_price'])\n",
    "plt.title('Predicted vs Realized Gas Prices');"
   ]
  }
 ],
 "metadata": {
  "kernelspec": {
   "display_name": "Python 3",
   "language": "python",
   "name": "python3"
  },
  "language_info": {
   "codemirror_mode": {
    "name": "ipython",
    "version": 3
   },
   "file_extension": ".py",
   "mimetype": "text/x-python",
   "name": "python",
   "nbconvert_exporter": "python",
   "pygments_lexer": "ipython3",
   "version": "3.7.4"
  }
 },
 "nbformat": 4,
 "nbformat_minor": 4
}
