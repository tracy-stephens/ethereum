{
 "cells": [
  {
   "cell_type": "code",
   "execution_count": 14,
   "metadata": {
    "colab": {
     "base_uri": "https://localhost:8080/"
    },
    "executionInfo": {
     "elapsed": 42248,
     "status": "ok",
     "timestamp": 1633229633496,
     "user": {
      "displayName": "Anthony Baldor",
      "photoUrl": "https://lh3.googleusercontent.com/a-/AOh14GjC6OQn2_gPdOZjtflgnOoLdrn1VmaG_GdGWwnxvw=s64",
      "userId": "03344446607899466781"
     },
     "user_tz": 420
    },
    "id": "X4BOilCXS9JA",
    "outputId": "3b243c18-e117-4837-b0be-652e56ad68fa"
   },
   "outputs": [],
   "source": [
    "import matplotlib.pyplot as plt\n",
    "import seaborn as sns\n",
    "import pandas as pd\n",
    "import numpy as np\n",
    "import boto3\n",
    "from tqdm import tqdm\n",
    "from sagemaker import get_execution_role\n",
    "from sagemaker.session import Session"
   ]
  },
  {
   "cell_type": "code",
   "execution_count": null,
   "metadata": {},
   "outputs": [],
   "source": [
    "# Directory\n",
    "\n",
    "!pwd"
   ]
  },
  {
   "cell_type": "code",
   "execution_count": null,
   "metadata": {},
   "outputs": [],
   "source": [
    "# Confirm sagemaker role exists\n",
    "\n",
    "import sagemaker\n",
    "from sagemaker import get_execution_role\n",
    "from sagemaker.session import Session\n",
    "\n",
    "role = get_execution_role()\n",
    "\n",
    "try:\n",
    "    role = sagemaker.get_execution_role()\n",
    "except ValueError:\n",
    "    iam = boto3.client('iam')\n",
    "    role = iam.get_role(RoleName='arn:aws:iam::971504885040:role/SageMaker')['Role']['Arn']"
   ]
  },
  {
   "cell_type": "code",
   "execution_count": null,
   "metadata": {},
   "outputs": [],
   "source": [
    "# Import files from S3\n",
    "\n",
    "import pandas as pd\n",
    "import boto3\n",
    "import io\n",
    "\n",
    "bucket = \"sagemaker-w210-eth\"\n",
    "\n",
    "# Txt file\n",
    "data_key = '2021-09-01/transaction_hashes_13136427_13142881.txt'\n",
    "s3_client = boto3.client('s3')\n",
    "obj = s3_client.get_object(Bucket=bucket, Key=data_key)\n",
    "contents = obj['Body'].read()\n",
    "print(contents.decode(\"utf-8\"))\n"
   ]
  },
  {
   "cell_type": "code",
   "execution_count": 6,
   "metadata": {},
   "outputs": [],
   "source": [
    "%matplotlib inline"
   ]
  },
  {
   "cell_type": "code",
   "execution_count": 15,
   "metadata": {},
   "outputs": [],
   "source": [
    "role = get_execution_role()\n",
    "bucket = \"w210-ethereum\"    \n",
    "client = boto3.client('s3')"
   ]
  },
  {
   "cell_type": "code",
   "execution_count": 16,
   "metadata": {
    "executionInfo": {
     "elapsed": 137,
     "status": "ok",
     "timestamp": 1633229639682,
     "user": {
      "displayName": "Anthony Baldor",
      "photoUrl": "https://lh3.googleusercontent.com/a-/AOh14GjC6OQn2_gPdOZjtflgnOoLdrn1VmaG_GdGWwnxvw=s64",
      "userId": "03344446607899466781"
     },
     "user_tz": 420
    },
    "id": "rBNiWiI2Lof7"
   },
   "outputs": [],
   "source": [
    "tables = [\"blocks\", \"transactions\", \"tokens\", \"logs\", \n",
    "          \"traces\", \"contracts\", \"balances\", \"token_transfers\"]\n",
    "#tables = {i : f\"`etherium-liquidity.crypto_etherium.{i}`\" for i in tables}\n",
    "tables = {i : f\"`bigquery-public-data.crypto_ethereum.{i}`\" for i in tables}"
   ]
  },
  {
   "cell_type": "code",
   "execution_count": 17,
   "metadata": {
    "colab": {
     "base_uri": "https://localhost:8080/"
    },
    "executionInfo": {
     "elapsed": 161,
     "status": "ok",
     "timestamp": 1633229641444,
     "user": {
      "displayName": "Anthony Baldor",
      "photoUrl": "https://lh3.googleusercontent.com/a-/AOh14GjC6OQn2_gPdOZjtflgnOoLdrn1VmaG_GdGWwnxvw=s64",
      "userId": "03344446607899466781"
     },
     "user_tz": 420
    },
    "id": "Xrq5E9mRLo_J",
    "outputId": "8aaeb272-d437-48c0-f479-64f65fb65d33"
   },
   "outputs": [
    {
     "data": {
      "text/plain": [
       "{'blocks': '`bigquery-public-data.crypto_ethereum.blocks`',\n",
       " 'transactions': '`bigquery-public-data.crypto_ethereum.transactions`',\n",
       " 'tokens': '`bigquery-public-data.crypto_ethereum.tokens`',\n",
       " 'logs': '`bigquery-public-data.crypto_ethereum.logs`',\n",
       " 'traces': '`bigquery-public-data.crypto_ethereum.traces`',\n",
       " 'contracts': '`bigquery-public-data.crypto_ethereum.contracts`',\n",
       " 'balances': '`bigquery-public-data.crypto_ethereum.balances`',\n",
       " 'token_transfers': '`bigquery-public-data.crypto_ethereum.token_transfers`'}"
      ]
     },
     "execution_count": 17,
     "metadata": {},
     "output_type": "execute_result"
    }
   ],
   "source": [
    "tables"
   ]
  },
  {
   "cell_type": "code",
   "execution_count": 18,
   "metadata": {
    "colab": {
     "base_uri": "https://localhost:8080/",
     "height": 537
    },
    "executionInfo": {
     "elapsed": 343,
     "status": "error",
     "timestamp": 1633229643944,
     "user": {
      "displayName": "Anthony Baldor",
      "photoUrl": "https://lh3.googleusercontent.com/a-/AOh14GjC6OQn2_gPdOZjtflgnOoLdrn1VmaG_GdGWwnxvw=s64",
      "userId": "03344446607899466781"
     },
     "user_tz": 420
    },
    "id": "orlA1E6iPLuk",
    "outputId": "a8cc7c1d-52d8-4b97-b069-5efe1f450928"
   },
   "outputs": [
    {
     "name": "stderr",
     "output_type": "stream",
     "text": [
      "  0%|          | 0/8 [00:00<?, ?it/s]"
     ]
    },
    {
     "ename": "AttributeError",
     "evalue": "'S3' object has no attribute 'query'",
     "output_type": "error",
     "traceback": [
      "\u001b[0;31m---------------------------------------------------------------------------\u001b[0m",
      "\u001b[0;31mAttributeError\u001b[0m                            Traceback (most recent call last)",
      "\u001b[0;32m<ipython-input-18-6eb84fcb4204>\u001b[0m in \u001b[0;36m<module>\u001b[0;34m()\u001b[0m\n\u001b[1;32m      4\u001b[0m     k : client.query(\n\u001b[1;32m      5\u001b[0m         \u001b[0;34mf\"SELECT * FROM {v} ORDER BY RAND() LIMIT {limit}\"\u001b[0m\u001b[0;34m\u001b[0m\u001b[0;34m\u001b[0m\u001b[0m\n\u001b[0;32m----> 6\u001b[0;31m         ).to_dataframe() for k, v in tqdm(tables.items())\n\u001b[0m\u001b[1;32m      7\u001b[0m     }\n",
      "\u001b[0;32m<ipython-input-18-6eb84fcb4204>\u001b[0m in \u001b[0;36m<dictcomp>\u001b[0;34m(.0)\u001b[0m\n\u001b[1;32m      4\u001b[0m     k : client.query(\n\u001b[1;32m      5\u001b[0m         \u001b[0;34mf\"SELECT * FROM {v} ORDER BY RAND() LIMIT {limit}\"\u001b[0m\u001b[0;34m\u001b[0m\u001b[0;34m\u001b[0m\u001b[0m\n\u001b[0;32m----> 6\u001b[0;31m         ).to_dataframe() for k, v in tqdm(tables.items())\n\u001b[0m\u001b[1;32m      7\u001b[0m     }\n",
      "\u001b[0;32m/home/ec2-user/anaconda3/envs/python3/lib/python3.6/site-packages/botocore/client.py\u001b[0m in \u001b[0;36m__getattr__\u001b[0;34m(self, item)\u001b[0m\n\u001b[1;32m    643\u001b[0m         raise AttributeError(\n\u001b[1;32m    644\u001b[0m             \"'%s' object has no attribute '%s'\" % (\n\u001b[0;32m--> 645\u001b[0;31m                 self.__class__.__name__, item)\n\u001b[0m\u001b[1;32m    646\u001b[0m         )\n\u001b[1;32m    647\u001b[0m \u001b[0;34m\u001b[0m\u001b[0m\n",
      "\u001b[0;31mAttributeError\u001b[0m: 'S3' object has no attribute 'query'"
     ]
    }
   ],
   "source": [
    "limit = 10000\n",
    "\n",
    "data = {\n",
    "    k : client.query(\n",
    "        f\"SELECT * FROM {v} ORDER BY RAND() LIMIT {limit}\"\n",
    "        ).to_dataframe() for k, v in tqdm(tables.items())\n",
    "    }"
   ]
  },
  {
   "cell_type": "markdown",
   "metadata": {
    "id": "mOSJdFppnl06"
   },
   "source": [
    "## Functions"
   ]
  },
  {
   "cell_type": "code",
   "execution_count": 6,
   "metadata": {
    "executionInfo": {
     "elapsed": 150,
     "status": "ok",
     "timestamp": 1633229685298,
     "user": {
      "displayName": "Anthony Baldor",
      "photoUrl": "https://lh3.googleusercontent.com/a-/AOh14GjC6OQn2_gPdOZjtflgnOoLdrn1VmaG_GdGWwnxvw=s64",
      "userId": "03344446607899466781"
     },
     "user_tz": 420
    },
    "id": "IMDAxQytiOyI"
   },
   "outputs": [],
   "source": [
    "def scatterplots_over_time(df, time_col):\n",
    "  \"\"\"Create scatterplots over time\n",
    "\n",
    "  Parameters:\n",
    "  -----------\n",
    "  df: dataframe\n",
    "    dataframe containing desired data\n",
    "  time_col: str\n",
    "    Name of column that contains date to plot over time\n",
    "\n",
    "  Returns:\n",
    "  -------\n",
    "  no return, just plots\n",
    "  \"\"\"\n",
    "  numeric_cols = df.select_dtypes(include=np.number).columns.tolist()\n",
    "\n",
    "  # Set the number of rows and columns\n",
    "  num_cols = 2\n",
    "  if len(numeric_cols)//num_cols == len(numeric_cols)/num_cols:\n",
    "    num_rows = len(numeric_cols)//num_cols\n",
    "  else:\n",
    "    num_rows = len(numeric_cols)//num_cols + 1\n",
    "\n",
    "  # Create the figure\n",
    "  fig, ax = plt.subplots(num_rows, num_cols, figsize=(12,12))\n",
    "\n",
    "  # Create subplots\n",
    "  row = 0\n",
    "  col = 0\n",
    "\n",
    "  for i, c in enumerate(numeric_cols):\n",
    "\n",
    "    # Set row\n",
    "    row = i//num_cols\n",
    "\n",
    "    # Create plot for one variable\n",
    "    ax[row,col].scatter(x=df[time_col], y=df[c])\n",
    "\n",
    "    # Set title\n",
    "    ax[row, col].set_title(c)\n",
    "\n",
    "    if (col+1)//num_cols == (col+1)/num_cols:\n",
    "      col = 0\n",
    "      row += 1\n",
    "    else:\n",
    "      col += 1\n",
    "\n",
    "  # Delete subplot if necessary\n",
    "  if len(numeric_cols)//num_cols != len(numeric_cols)/num_cols:\n",
    "    for x in range((len(numeric_cols)+1)%num_cols+1):\n",
    "      fig.delaxes(ax[num_rows-1][num_cols-x-1])\n",
    "\n",
    "  # Set overall title\n",
    "  fig.suptitle(\"Scatterplots of Numeric Columns\")"
   ]
  },
  {
   "cell_type": "code",
   "execution_count": 7,
   "metadata": {
    "executionInfo": {
     "elapsed": 144,
     "status": "ok",
     "timestamp": 1633229688758,
     "user": {
      "displayName": "Anthony Baldor",
      "photoUrl": "https://lh3.googleusercontent.com/a-/AOh14GjC6OQn2_gPdOZjtflgnOoLdrn1VmaG_GdGWwnxvw=s64",
      "userId": "03344446607899466781"
     },
     "user_tz": 420
    },
    "id": "q3TAIInmUW2t"
   },
   "outputs": [],
   "source": [
    "def create_boxplots(df, figsize=(12,12)):\n",
    "  \"\"\"Create boxplots\n",
    "\n",
    "  Parameters:\n",
    "  -----------\n",
    "  df: dataframe\n",
    "    dataframe containing desired data\n",
    "  time_col: str\n",
    "    Name of column that contains date to plot over time\n",
    "\n",
    "  Returns:\n",
    "  -------\n",
    "  no return, just plots\n",
    "  \"\"\"\n",
    "  numeric_cols = df.select_dtypes(include=np.number).columns.tolist()\n",
    "\n",
    "  # Set the number of rows and columns\n",
    "  num_cols = 2\n",
    "  if len(numeric_cols)//num_cols == len(numeric_cols)/num_cols:\n",
    "    num_rows = len(numeric_cols)//num_cols\n",
    "  else:\n",
    "    num_rows = len(numeric_cols)//num_cols + 1\n",
    "\n",
    "  # Create the figure\n",
    "  fig, ax = plt.subplots(num_rows, num_cols, figsize=figsize)\n",
    "\n",
    "  # Create subplots\n",
    "  row = 0\n",
    "  col = 0\n",
    "\n",
    "  for i, c in enumerate(numeric_cols):\n",
    "\n",
    "    # Set row\n",
    "    row = i//num_cols\n",
    "\n",
    "    # Create plot for one variable\n",
    "    sns.boxplot(data=df, y=(c), ax=ax[row, col])\n",
    "\n",
    "    # Set title\n",
    "    ax[row, col].set_title(c)\n",
    "\n",
    "    if (col+1)//num_cols == (col+1)/num_cols:\n",
    "      col = 0\n",
    "      row += 1\n",
    "    else:\n",
    "      col += 1\n",
    "\n",
    "  # Delete subplot if necessary\n",
    "  if len(numeric_cols)//num_cols != len(numeric_cols)/num_cols:\n",
    "    for x in range((len(numeric_cols)+1)%num_cols+1):\n",
    "      fig.delaxes(ax[num_rows-1][num_cols-x-1])\n",
    "\n",
    "  # Set overall title\n",
    "  fig.suptitle(\"Boxplots of Numeric Columns\")\n",
    "\n",
    "  fig.tight_layout()\n",
    "  fig.subplots_adjust(top = 0.95)"
   ]
  },
  {
   "cell_type": "code",
   "execution_count": 8,
   "metadata": {
    "executionInfo": {
     "elapsed": 153,
     "status": "ok",
     "timestamp": 1633229691280,
     "user": {
      "displayName": "Anthony Baldor",
      "photoUrl": "https://lh3.googleusercontent.com/a-/AOh14GjC6OQn2_gPdOZjtflgnOoLdrn1VmaG_GdGWwnxvw=s64",
      "userId": "03344446607899466781"
     },
     "user_tz": 420
    },
    "id": "TSEr3y9JmEpH"
   },
   "outputs": [],
   "source": [
    "def create_boxplots_over_time(df, time_col):\n",
    "  \"\"\"Create boxplots over time\n",
    "\n",
    "  Parameters:\n",
    "  -----------\n",
    "  df: dataframe\n",
    "    dataframe containing desired data\n",
    "  time_col: str\n",
    "    Name of column that contains date to plot over time\n",
    "\n",
    "  Returns:\n",
    "  -------\n",
    "  no return, just plots\n",
    "  \"\"\"\n",
    "  numeric_cols = df.select_dtypes(include=np.number).columns.tolist()\n",
    "\n",
    "  # Set the number of rows and columns\n",
    "  num_cols = 2\n",
    "  if len(numeric_cols)//num_cols == len(numeric_cols)/num_cols:\n",
    "    num_rows = len(numeric_cols)//num_cols\n",
    "  else:\n",
    "    num_rows = len(numeric_cols)//num_cols + 1\n",
    "\n",
    "  # Create the figure\n",
    "  fig, ax = plt.subplots(num_rows, num_cols, figsize=(12,12))\n",
    "\n",
    "  # Create subplots\n",
    "  row = 0\n",
    "  col = 0\n",
    "\n",
    "  for i, c in enumerate(numeric_cols):\n",
    "\n",
    "    # Set row\n",
    "    row = i//num_cols\n",
    "\n",
    "    # Create plot for one variable\n",
    "    sns.boxplot(data=df, x=df[time_col].dt.year, y=(c), ax=ax[row, col])\n",
    "\n",
    "    # Set title\n",
    "    ax[row, col].set_title(c)\n",
    "\n",
    "    if (col+1)//num_cols == (col+1)/num_cols:\n",
    "      col = 0\n",
    "      row += 1\n",
    "    else:\n",
    "      col += 1\n",
    "\n",
    "  # Delete subplot if necessary\n",
    "  if len(numeric_cols)//num_cols != len(numeric_cols)/num_cols:\n",
    "    for x in range((len(numeric_cols)+1)%num_cols+1):\n",
    "      fig.delaxes(ax[num_rows-1][num_cols-x-1])\n",
    "\n",
    "  # Set overall title\n",
    "  fig.suptitle(\"Boxplots of Numeric Columns By Year\")\n",
    "\n",
    "  fig.tight_layout()\n",
    "  fig.subplots_adjust(top = 0.95)"
   ]
  },
  {
   "cell_type": "code",
   "execution_count": null,
   "metadata": {},
   "outputs": [],
   "source": [
    "def autocorrelation_plot(df, col, num_lags):\n",
    "    \"\"\"\n",
    "    Parameters:\n",
    "    -----------\n",
    "    df: dataframe\n",
    "    dataframe containing desired data\n",
    "    col: str\n",
    "    name of column to calculate autocorrelation\n",
    "    num_lags: int\n",
    "    number of lags to include in plot\n",
    "\n",
    "    Returns:\n",
    "    -------\n",
    "    no return, just plots\n",
    "    \"\"\"\n",
    "    \n",
    "    "
   ]
  },
  {
   "cell_type": "code",
   "execution_count": null,
   "metadata": {},
   "outputs": [],
   "source": []
  },
  {
   "cell_type": "markdown",
   "metadata": {
    "id": "H731Z1mDL9p-"
   },
   "source": [
    "## Blocks"
   ]
  },
  {
   "cell_type": "code",
   "execution_count": 10,
   "metadata": {
    "colab": {
     "base_uri": "https://localhost:8080/",
     "height": 166
    },
    "executionInfo": {
     "elapsed": 174,
     "status": "error",
     "timestamp": 1633229703563,
     "user": {
      "displayName": "Anthony Baldor",
      "photoUrl": "https://lh3.googleusercontent.com/a-/AOh14GjC6OQn2_gPdOZjtflgnOoLdrn1VmaG_GdGWwnxvw=s64",
      "userId": "03344446607899466781"
     },
     "user_tz": 420
    },
    "id": "R-cw0JERSkyp",
    "outputId": "87861bb2-68fc-46d9-a851-785af673851c"
   },
   "outputs": [
    {
     "ename": "NameError",
     "evalue": "ignored",
     "output_type": "error",
     "traceback": [
      "\u001b[0;31m---------------------------------------------------------------------------\u001b[0m",
      "\u001b[0;31mNameError\u001b[0m                                 Traceback (most recent call last)",
      "\u001b[0;32m<ipython-input-10-af2dcd99c765>\u001b[0m in \u001b[0;36m<module>\u001b[0;34m()\u001b[0m\n\u001b[0;32m----> 1\u001b[0;31m \u001b[0mdf\u001b[0m \u001b[0;34m=\u001b[0m \u001b[0mdata\u001b[0m\u001b[0;34m[\u001b[0m\u001b[0;34m'blocks'\u001b[0m\u001b[0;34m]\u001b[0m\u001b[0;34m\u001b[0m\u001b[0;34m\u001b[0m\u001b[0m\n\u001b[0m",
      "\u001b[0;31mNameError\u001b[0m: name 'data' is not defined"
     ]
    }
   ],
   "source": [
    "df = data['blocks']"
   ]
  },
  {
   "cell_type": "code",
   "execution_count": null,
   "metadata": {
    "id": "CUzC-wLTO6Y1"
   },
   "outputs": [],
   "source": [
    "df.head()"
   ]
  },
  {
   "cell_type": "code",
   "execution_count": null,
   "metadata": {
    "id": "i8GCRBj1pASO"
   },
   "outputs": [],
   "source": [
    "df = df.reset_index()"
   ]
  },
  {
   "cell_type": "code",
   "execution_count": null,
   "metadata": {
    "id": "-QZu8R4CPjcI"
   },
   "outputs": [],
   "source": [
    "df.columns"
   ]
  },
  {
   "cell_type": "code",
   "execution_count": null,
   "metadata": {
    "id": "_cdgThZ_O6bg"
   },
   "outputs": [],
   "source": [
    "df.describe(percentiles=[.01, .05, .10, .25, .50, .75, .90, .95, .99])"
   ]
  },
  {
   "cell_type": "code",
   "execution_count": null,
   "metadata": {
    "id": "mQsEHNIyO6df"
   },
   "outputs": [],
   "source": [
    "df.dtypes"
   ]
  },
  {
   "cell_type": "code",
   "execution_count": null,
   "metadata": {
    "id": "bjnVKnUrS-dT"
   },
   "outputs": [],
   "source": [
    "df['timestamp'].groupby([df['timestamp'].dt.year.rename('y'), df['timestamp'].dt.month.rename('m')]).count().plot(title='Count Over Time', legend=False)"
   ]
  },
  {
   "cell_type": "code",
   "execution_count": null,
   "metadata": {
    "id": "XFgNF17PWsDG"
   },
   "outputs": [],
   "source": [
    "total = df.isnull().sum().sort_values(ascending=False)\n",
    "percent = (df.isnull().sum()/df.isnull().count()).sort_values(ascending=False)\n",
    "missing_data = pd.concat([total, percent], axis=1, keys=['Total', 'Percent'])\n",
    "print(\"Percent Not Missing\")\n",
    "missing_data.head(25)"
   ]
  },
  {
   "cell_type": "code",
   "execution_count": null,
   "metadata": {
    "id": "scW05iCV_Ypc"
   },
   "outputs": [],
   "source": [
    "print(\"Unique Values, Total Count\")\n",
    "for col in df:\n",
    "    print(col, df[col].nunique(), df[col].count())"
   ]
  },
  {
   "cell_type": "code",
   "execution_count": null,
   "metadata": {
    "id": "hStML3j9Sboq"
   },
   "outputs": [],
   "source": [
    "# Increase the size of the heatmap.\n",
    "plt.figure(figsize=(16, 6))\n",
    "# Store heatmap object in a variable to easily access it when you want to include more features (such as title).\n",
    "# Set the range of values to be displayed on the colormap from -1 to 1, and set the annotation to True to display the correlation values on the heatmap.\n",
    "heatmap = sns.heatmap(df.corr(), vmin=-1, vmax=1, annot=True)\n",
    "# Give a title to the heatmap. Pad defines the distance of the title from the top of the heatmap.\n",
    "heatmap.set_title('Correlation Heatmap of Blocks', fontdict={'fontsize':12}, pad=12);"
   ]
  },
  {
   "cell_type": "code",
   "execution_count": null,
   "metadata": {
    "id": "lZpVThn_kvig"
   },
   "outputs": [],
   "source": [
    "scatterplots_over_time(df, 'timestamp')"
   ]
  },
  {
   "cell_type": "code",
   "execution_count": null,
   "metadata": {
    "id": "wcTVpcHDlWL1"
   },
   "outputs": [],
   "source": [
    "create_boxplots(df)"
   ]
  },
  {
   "cell_type": "code",
   "execution_count": null,
   "metadata": {
    "id": "dlJoIKsUmZdu"
   },
   "outputs": [],
   "source": [
    "create_boxplots_over_time(df, 'timestamp')"
   ]
  }
 ],
 "metadata": {
  "colab": {
   "collapsed_sections": [],
   "name": "ethereum-liquidity-Rob.ipynb",
   "provenance": [
    {
     "file_id": "1rViCuS7FoNsVkKpEl0OEry-CUWt61v8U",
     "timestamp": 1631669263843
    },
    {
     "file_id": "1NouzfCpN27TFJDODgPh1TWeaB2vfq3Oz",
     "timestamp": 1631459543667
    }
   ]
  },
  "kernelspec": {
   "display_name": "conda_python3",
   "language": "python",
   "name": "conda_python3"
  },
  "language_info": {
   "codemirror_mode": {
    "name": "ipython",
    "version": 3
   },
   "file_extension": ".py",
   "mimetype": "text/x-python",
   "name": "python",
   "nbconvert_exporter": "python",
   "pygments_lexer": "ipython3",
   "version": "3.6.13"
  }
 },
 "nbformat": 4,
 "nbformat_minor": 4
}
