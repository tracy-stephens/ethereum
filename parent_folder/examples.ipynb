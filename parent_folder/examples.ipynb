{
 "cells": [
  {
   "cell_type": "code",
   "execution_count": null,
   "id": "5c91202f",
   "metadata": {},
   "outputs": [],
   "source": [
    "# Directory\n",
    "\n",
    "!pwd"
   ]
  },
  {
   "cell_type": "code",
   "execution_count": 26,
   "id": "d2ee03a1",
   "metadata": {},
   "outputs": [],
   "source": [
    "# Confirm sagemaker role exists\n",
    "\n",
    "import sagemaker\n",
    "from sagemaker import get_execution_role\n",
    "from sagemaker.session import Session\n",
    "\n",
    "role = get_execution_role()\n",
    "\n",
    "try:\n",
    "    role = sagemaker.get_execution_role()\n",
    "except ValueError:\n",
    "    iam = boto3.client('iam')\n",
    "    role = iam.get_role(RoleName='arn:aws:iam::971504885040:role/SageMaker')['Role']['Arn']"
   ]
  },
  {
   "cell_type": "code",
   "execution_count": 27,
   "id": "4c1a68eb",
   "metadata": {},
   "outputs": [
    {
     "name": "stdout",
     "output_type": "stream",
     "text": [
      "\n"
     ]
    }
   ],
   "source": [
    "# Import files from S3\n",
    "\n",
    "import pandas as pd\n",
    "import boto3\n",
    "import io\n",
    "\n",
    "bucket = \"sagemaker-w210-eth\"\n",
    "\n",
    "# Txt file\n",
    "data_key = '2021-09-01/transaction_hashes_13136427_13142881.txt'\n",
    "s3_client = boto3.client('s3')\n",
    "obj = s3_client.get_object(Bucket=bucket, Key=data_key)\n",
    "contents = obj['Body'].read()\n",
    "print(contents.decode(\"utf-8\"))\n",
    "\n",
    "# CSV file\n",
    "# file_key = '2021-09-01/tokens_13136427_13142881.csv'\n",
    "# s3_client = boto3.client('s3')\n",
    "# obj = s3_client.get_object(Bucket=bucket, Key=file_key)\n",
    "# df = pd.read_csv(io.BytesIO(obj['Body'].read()))\n",
    "# df.head()"
   ]
  },
  {
   "cell_type": "code",
   "execution_count": 28,
   "id": "7c69be77",
   "metadata": {},
   "outputs": [
    {
     "name": "stdout",
     "output_type": "stream",
     "text": [
      "Cloning into 'ethereum'...\n",
      "remote: Enumerating objects: 71, done.\u001b[K\n",
      "remote: Counting objects: 100% (71/71), done.\u001b[K\n",
      "remote: Compressing objects: 100% (47/47), done.\u001b[K\n",
      "remote: Total 71 (delta 28), reused 58 (delta 19), pack-reused 0\u001b[K\n",
      "Receiving objects: 100% (71/71), 430.87 KiB | 9.79 MiB/s, done.\n",
      "Resolving deltas: 100% (28/28), done.\n"
     ]
    }
   ],
   "source": [
    "# Clone Tracy's Repo\n",
    "! git clone https://github.com/tracy-stephens/ethereum"
   ]
  },
  {
   "cell_type": "code",
   "execution_count": 3,
   "id": "7b7550c4",
   "metadata": {},
   "outputs": [
    {
     "name": "stdout",
     "output_type": "stream",
     "text": [
      "Linux ip-10-10-83-162.us-west-2.compute.internal 4.14.243-185.433.amzn2.x86_64 #1 SMP Mon Aug 9 05:55:52 UTC 2021 x86_64 x86_64 x86_64 GNU/Linux\n"
     ]
    }
   ],
   "source": [
    "!uname -a"
   ]
  },
  {
   "cell_type": "code",
   "execution_count": null,
   "id": "fc672e47",
   "metadata": {},
   "outputs": [],
   "source": [
    "# Install libraries for ETH download\n",
    "!pacman -S geth\n",
    "\n",
    "#!sudo add-apt-repository -y ppa:ethereum/ethereum\n",
    "#!sudo apt-get update\n",
    "#!sudo apt-get install ethereum\n",
    "#!pip3 install ethereum-etl"
   ]
  }
 ],
 "metadata": {
  "kernelspec": {
   "display_name": "conda_python3",
   "language": "python",
   "name": "conda_python3"
  },
  "language_info": {
   "codemirror_mode": {
    "name": "ipython",
    "version": 3
   },
   "file_extension": ".py",
   "mimetype": "text/x-python",
   "name": "python",
   "nbconvert_exporter": "python",
   "pygments_lexer": "ipython3",
   "version": "3.6.13"
  }
 },
 "nbformat": 4,
 "nbformat_minor": 5
}
