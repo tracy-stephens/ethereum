{
 "cells": [
  {
   "cell_type": "code",
   "execution_count": 3,
   "metadata": {
    "colab": {
     "base_uri": "https://localhost:8080/"
    },
    "executionInfo": {
     "elapsed": 16022,
     "status": "ok",
     "timestamp": 1633285237988,
     "user": {
      "displayName": "Anthony Baldor",
      "photoUrl": "https://lh3.googleusercontent.com/a-/AOh14GjC6OQn2_gPdOZjtflgnOoLdrn1VmaG_GdGWwnxvw=s64",
      "userId": "03344446607899466781"
     },
     "user_tz": 420
    },
    "id": "nOsdqwlaOnil",
    "outputId": "7c45b6c3-3434-476c-9443-f5cc191b562b"
   },
   "outputs": [
    {
     "name": "stdout",
     "output_type": "stream",
     "text": [
      "The google.cloud.bigquery extension is already loaded. To reload it, use:\n",
      "  %reload_ext google.cloud.bigquery\n",
      "Authenticated\n"
     ]
    }
   ],
   "source": [
    "import matplotlib.pyplot as plt\n",
    "import seaborn as sns\n",
    "import pandas as pd\n",
    "import numpy as np\n",
    "from tqdm import tqdm\n",
    "\n",
    "%matplotlib inline\n",
    "%load_ext google.cloud.bigquery\n",
    "\n",
    "from google.colab import auth\n",
    "auth.authenticate_user()\n",
    "print('Authenticated')\n",
    "\n",
    "from google.cloud import bigquery"
   ]
  },
  {
   "cell_type": "code",
   "execution_count": 4,
   "metadata": {
    "executionInfo": {
     "elapsed": 162,
     "status": "ok",
     "timestamp": 1633285242148,
     "user": {
      "displayName": "Anthony Baldor",
      "photoUrl": "https://lh3.googleusercontent.com/a-/AOh14GjC6OQn2_gPdOZjtflgnOoLdrn1VmaG_GdGWwnxvw=s64",
      "userId": "03344446607899466781"
     },
     "user_tz": 420
    },
    "id": "tQQFZOgtQSKt"
   },
   "outputs": [],
   "source": [
    "project_id = 'ethereum-326902'\n",
    "client = bigquery.Client(project=project_id)"
   ]
  },
  {
   "cell_type": "code",
   "execution_count": 5,
   "metadata": {
    "executionInfo": {
     "elapsed": 149,
     "status": "ok",
     "timestamp": 1633285245611,
     "user": {
      "displayName": "Anthony Baldor",
      "photoUrl": "https://lh3.googleusercontent.com/a-/AOh14GjC6OQn2_gPdOZjtflgnOoLdrn1VmaG_GdGWwnxvw=s64",
      "userId": "03344446607899466781"
     },
     "user_tz": 420
    },
    "id": "w3d4sHl8SaxV"
   },
   "outputs": [],
   "source": [
    "tables = [\"blocks\", \"transactions\", \"tokens\", \"logs\", \n",
    "          \"traces\", \"contracts\", \"balances\", \"token_transfers\"]\n",
    "#tables = {i : f\"`etherium-liquidity.crypto_etherium.{i}`\" for i in tables}\n",
    "tables = {i : f\"`bigquery-public-data.crypto_ethereum.{i}`\" for i in tables}"
   ]
  },
  {
   "cell_type": "code",
   "execution_count": 6,
   "metadata": {
    "colab": {
     "base_uri": "https://localhost:8080/"
    },
    "executionInfo": {
     "elapsed": 162,
     "status": "ok",
     "timestamp": 1633285248912,
     "user": {
      "displayName": "Anthony Baldor",
      "photoUrl": "https://lh3.googleusercontent.com/a-/AOh14GjC6OQn2_gPdOZjtflgnOoLdrn1VmaG_GdGWwnxvw=s64",
      "userId": "03344446607899466781"
     },
     "user_tz": 420
    },
    "id": "ezZAvA5NSvNV",
    "outputId": "a5417df6-f9b8-48d4-ff61-a39034974f46"
   },
   "outputs": [
    {
     "data": {
      "text/plain": [
       "{'balances': '`bigquery-public-data.crypto_ethereum.balances`',\n",
       " 'blocks': '`bigquery-public-data.crypto_ethereum.blocks`',\n",
       " 'contracts': '`bigquery-public-data.crypto_ethereum.contracts`',\n",
       " 'logs': '`bigquery-public-data.crypto_ethereum.logs`',\n",
       " 'token_transfers': '`bigquery-public-data.crypto_ethereum.token_transfers`',\n",
       " 'tokens': '`bigquery-public-data.crypto_ethereum.tokens`',\n",
       " 'traces': '`bigquery-public-data.crypto_ethereum.traces`',\n",
       " 'transactions': '`bigquery-public-data.crypto_ethereum.transactions`'}"
      ]
     },
     "execution_count": 6,
     "metadata": {},
     "output_type": "execute_result"
    }
   ],
   "source": [
    "tables"
   ]
  },
  {
   "cell_type": "code",
   "execution_count": 7,
   "metadata": {
    "colab": {
     "base_uri": "https://localhost:8080/",
     "height": 555
    },
    "executionInfo": {
     "elapsed": 341,
     "status": "error",
     "timestamp": 1633285251137,
     "user": {
      "displayName": "Anthony Baldor",
      "photoUrl": "https://lh3.googleusercontent.com/a-/AOh14GjC6OQn2_gPdOZjtflgnOoLdrn1VmaG_GdGWwnxvw=s64",
      "userId": "03344446607899466781"
     },
     "user_tz": 420
    },
    "id": "2E1j69qoTfG9",
    "outputId": "7b4a330e-0e92-4eac-cb36-163aa6f842c9"
   },
   "outputs": [
    {
     "name": "stderr",
     "output_type": "stream",
     "text": [
      "  0%|          | 0/8 [00:00<?, ?it/s]"
     ]
    },
    {
     "ename": "Forbidden",
     "evalue": "ignored",
     "output_type": "error",
     "traceback": [
      "\u001b[0;31m---------------------------------------------------------------------------\u001b[0m",
      "\u001b[0;31mForbidden\u001b[0m                                 Traceback (most recent call last)",
      "\u001b[0;32m<ipython-input-7-966df34c947d>\u001b[0m in \u001b[0;36m<module>\u001b[0;34m()\u001b[0m\n\u001b[1;32m      4\u001b[0m     k : client.query(\n\u001b[1;32m      5\u001b[0m         \u001b[0;34mf\"SELECT * FROM {v} ORDER BY RAND() LIMIT {limit}\"\u001b[0m\u001b[0;34m\u001b[0m\u001b[0;34m\u001b[0m\u001b[0m\n\u001b[0;32m----> 6\u001b[0;31m         ).to_dataframe() for k, v in tqdm(tables.items())\n\u001b[0m\u001b[1;32m      7\u001b[0m     }\n",
      "\u001b[0;32m<ipython-input-7-966df34c947d>\u001b[0m in \u001b[0;36m<dictcomp>\u001b[0;34m(.0)\u001b[0m\n\u001b[1;32m      4\u001b[0m     k : client.query(\n\u001b[1;32m      5\u001b[0m         \u001b[0;34mf\"SELECT * FROM {v} ORDER BY RAND() LIMIT {limit}\"\u001b[0m\u001b[0;34m\u001b[0m\u001b[0;34m\u001b[0m\u001b[0m\n\u001b[0;32m----> 6\u001b[0;31m         ).to_dataframe() for k, v in tqdm(tables.items())\n\u001b[0m\u001b[1;32m      7\u001b[0m     }\n",
      "\u001b[0;32m/usr/local/lib/python3.7/dist-packages/google/cloud/bigquery/client.py\u001b[0m in \u001b[0;36mquery\u001b[0;34m(self, query, job_config, job_id, job_id_prefix, location, project, retry)\u001b[0m\n\u001b[1;32m   2073\u001b[0m         \u001b[0mjob_ref\u001b[0m \u001b[0;34m=\u001b[0m \u001b[0mjob\u001b[0m\u001b[0;34m.\u001b[0m\u001b[0m_JobReference\u001b[0m\u001b[0;34m(\u001b[0m\u001b[0mjob_id\u001b[0m\u001b[0;34m,\u001b[0m \u001b[0mproject\u001b[0m\u001b[0;34m=\u001b[0m\u001b[0mproject\u001b[0m\u001b[0;34m,\u001b[0m \u001b[0mlocation\u001b[0m\u001b[0;34m=\u001b[0m\u001b[0mlocation\u001b[0m\u001b[0;34m)\u001b[0m\u001b[0;34m\u001b[0m\u001b[0;34m\u001b[0m\u001b[0m\n\u001b[1;32m   2074\u001b[0m         \u001b[0mquery_job\u001b[0m \u001b[0;34m=\u001b[0m \u001b[0mjob\u001b[0m\u001b[0;34m.\u001b[0m\u001b[0mQueryJob\u001b[0m\u001b[0;34m(\u001b[0m\u001b[0mjob_ref\u001b[0m\u001b[0;34m,\u001b[0m \u001b[0mquery\u001b[0m\u001b[0;34m,\u001b[0m \u001b[0mclient\u001b[0m\u001b[0;34m=\u001b[0m\u001b[0mself\u001b[0m\u001b[0;34m,\u001b[0m \u001b[0mjob_config\u001b[0m\u001b[0;34m=\u001b[0m\u001b[0mjob_config\u001b[0m\u001b[0;34m)\u001b[0m\u001b[0;34m\u001b[0m\u001b[0;34m\u001b[0m\u001b[0m\n\u001b[0;32m-> 2075\u001b[0;31m         \u001b[0mquery_job\u001b[0m\u001b[0;34m.\u001b[0m\u001b[0m_begin\u001b[0m\u001b[0;34m(\u001b[0m\u001b[0mretry\u001b[0m\u001b[0;34m=\u001b[0m\u001b[0mretry\u001b[0m\u001b[0;34m)\u001b[0m\u001b[0;34m\u001b[0m\u001b[0;34m\u001b[0m\u001b[0m\n\u001b[0m\u001b[1;32m   2076\u001b[0m \u001b[0;34m\u001b[0m\u001b[0m\n\u001b[1;32m   2077\u001b[0m         \u001b[0;32mreturn\u001b[0m \u001b[0mquery_job\u001b[0m\u001b[0;34m\u001b[0m\u001b[0;34m\u001b[0m\u001b[0m\n",
      "\u001b[0;32m/usr/local/lib/python3.7/dist-packages/google/cloud/bigquery/job.py\u001b[0m in \u001b[0;36m_begin\u001b[0;34m(self, client, retry)\u001b[0m\n\u001b[1;32m   2935\u001b[0m \u001b[0;34m\u001b[0m\u001b[0m\n\u001b[1;32m   2936\u001b[0m         \u001b[0;32mtry\u001b[0m\u001b[0;34m:\u001b[0m\u001b[0;34m\u001b[0m\u001b[0;34m\u001b[0m\u001b[0m\n\u001b[0;32m-> 2937\u001b[0;31m             \u001b[0msuper\u001b[0m\u001b[0;34m(\u001b[0m\u001b[0mQueryJob\u001b[0m\u001b[0;34m,\u001b[0m \u001b[0mself\u001b[0m\u001b[0;34m)\u001b[0m\u001b[0;34m.\u001b[0m\u001b[0m_begin\u001b[0m\u001b[0;34m(\u001b[0m\u001b[0mclient\u001b[0m\u001b[0;34m=\u001b[0m\u001b[0mclient\u001b[0m\u001b[0;34m,\u001b[0m \u001b[0mretry\u001b[0m\u001b[0;34m=\u001b[0m\u001b[0mretry\u001b[0m\u001b[0;34m)\u001b[0m\u001b[0;34m\u001b[0m\u001b[0;34m\u001b[0m\u001b[0m\n\u001b[0m\u001b[1;32m   2938\u001b[0m         \u001b[0;32mexcept\u001b[0m \u001b[0mexceptions\u001b[0m\u001b[0;34m.\u001b[0m\u001b[0mGoogleCloudError\u001b[0m \u001b[0;32mas\u001b[0m \u001b[0mexc\u001b[0m\u001b[0;34m:\u001b[0m\u001b[0;34m\u001b[0m\u001b[0;34m\u001b[0m\u001b[0m\n\u001b[1;32m   2939\u001b[0m             \u001b[0mexc\u001b[0m\u001b[0;34m.\u001b[0m\u001b[0mmessage\u001b[0m \u001b[0;34m+=\u001b[0m \u001b[0mself\u001b[0m\u001b[0;34m.\u001b[0m\u001b[0m_format_for_exception\u001b[0m\u001b[0;34m(\u001b[0m\u001b[0mself\u001b[0m\u001b[0;34m.\u001b[0m\u001b[0mquery\u001b[0m\u001b[0;34m,\u001b[0m \u001b[0mself\u001b[0m\u001b[0;34m.\u001b[0m\u001b[0mjob_id\u001b[0m\u001b[0;34m)\u001b[0m\u001b[0;34m\u001b[0m\u001b[0;34m\u001b[0m\u001b[0m\n",
      "\u001b[0;32m/usr/local/lib/python3.7/dist-packages/google/cloud/bigquery/job.py\u001b[0m in \u001b[0;36m_begin\u001b[0;34m(self, client, retry)\u001b[0m\n\u001b[1;32m    616\u001b[0m         \u001b[0;31m# job has an ID.\u001b[0m\u001b[0;34m\u001b[0m\u001b[0;34m\u001b[0m\u001b[0;34m\u001b[0m\u001b[0m\n\u001b[1;32m    617\u001b[0m         api_response = client._call_api(\n\u001b[0;32m--> 618\u001b[0;31m             \u001b[0mretry\u001b[0m\u001b[0;34m,\u001b[0m \u001b[0mmethod\u001b[0m\u001b[0;34m=\u001b[0m\u001b[0;34m\"POST\"\u001b[0m\u001b[0;34m,\u001b[0m \u001b[0mpath\u001b[0m\u001b[0;34m=\u001b[0m\u001b[0mpath\u001b[0m\u001b[0;34m,\u001b[0m \u001b[0mdata\u001b[0m\u001b[0;34m=\u001b[0m\u001b[0mself\u001b[0m\u001b[0;34m.\u001b[0m\u001b[0mto_api_repr\u001b[0m\u001b[0;34m(\u001b[0m\u001b[0;34m)\u001b[0m\u001b[0;34m\u001b[0m\u001b[0;34m\u001b[0m\u001b[0m\n\u001b[0m\u001b[1;32m    619\u001b[0m         )\n\u001b[1;32m    620\u001b[0m         \u001b[0mself\u001b[0m\u001b[0;34m.\u001b[0m\u001b[0m_set_properties\u001b[0m\u001b[0;34m(\u001b[0m\u001b[0mapi_response\u001b[0m\u001b[0;34m)\u001b[0m\u001b[0;34m\u001b[0m\u001b[0;34m\u001b[0m\u001b[0m\n",
      "\u001b[0;32m/usr/local/lib/python3.7/dist-packages/google/cloud/bigquery/client.py\u001b[0m in \u001b[0;36m_call_api\u001b[0;34m(self, retry, **kwargs)\u001b[0m\n\u001b[1;32m    474\u001b[0m         \u001b[0;32mif\u001b[0m \u001b[0mretry\u001b[0m\u001b[0;34m:\u001b[0m\u001b[0;34m\u001b[0m\u001b[0;34m\u001b[0m\u001b[0m\n\u001b[1;32m    475\u001b[0m             \u001b[0mcall\u001b[0m \u001b[0;34m=\u001b[0m \u001b[0mretry\u001b[0m\u001b[0;34m(\u001b[0m\u001b[0mcall\u001b[0m\u001b[0;34m)\u001b[0m\u001b[0;34m\u001b[0m\u001b[0;34m\u001b[0m\u001b[0m\n\u001b[0;32m--> 476\u001b[0;31m         \u001b[0;32mreturn\u001b[0m \u001b[0mcall\u001b[0m\u001b[0;34m(\u001b[0m\u001b[0;34m)\u001b[0m\u001b[0;34m\u001b[0m\u001b[0;34m\u001b[0m\u001b[0m\n\u001b[0m\u001b[1;32m    477\u001b[0m \u001b[0;34m\u001b[0m\u001b[0m\n\u001b[1;32m    478\u001b[0m     \u001b[0;32mdef\u001b[0m \u001b[0mget_dataset\u001b[0m\u001b[0;34m(\u001b[0m\u001b[0mself\u001b[0m\u001b[0;34m,\u001b[0m \u001b[0mdataset_ref\u001b[0m\u001b[0;34m,\u001b[0m \u001b[0mretry\u001b[0m\u001b[0;34m=\u001b[0m\u001b[0mDEFAULT_RETRY\u001b[0m\u001b[0;34m)\u001b[0m\u001b[0;34m:\u001b[0m\u001b[0;34m\u001b[0m\u001b[0;34m\u001b[0m\u001b[0m\n",
      "\u001b[0;32m/usr/local/lib/python3.7/dist-packages/google/api_core/retry.py\u001b[0m in \u001b[0;36mretry_wrapped_func\u001b[0;34m(*args, **kwargs)\u001b[0m\n\u001b[1;32m    284\u001b[0m                 \u001b[0msleep_generator\u001b[0m\u001b[0;34m,\u001b[0m\u001b[0;34m\u001b[0m\u001b[0;34m\u001b[0m\u001b[0m\n\u001b[1;32m    285\u001b[0m                 \u001b[0mself\u001b[0m\u001b[0;34m.\u001b[0m\u001b[0m_deadline\u001b[0m\u001b[0;34m,\u001b[0m\u001b[0;34m\u001b[0m\u001b[0;34m\u001b[0m\u001b[0m\n\u001b[0;32m--> 286\u001b[0;31m                 \u001b[0mon_error\u001b[0m\u001b[0;34m=\u001b[0m\u001b[0mon_error\u001b[0m\u001b[0;34m,\u001b[0m\u001b[0;34m\u001b[0m\u001b[0;34m\u001b[0m\u001b[0m\n\u001b[0m\u001b[1;32m    287\u001b[0m             )\n\u001b[1;32m    288\u001b[0m \u001b[0;34m\u001b[0m\u001b[0m\n",
      "\u001b[0;32m/usr/local/lib/python3.7/dist-packages/google/api_core/retry.py\u001b[0m in \u001b[0;36mretry_target\u001b[0;34m(target, predicate, sleep_generator, deadline, on_error)\u001b[0m\n\u001b[1;32m    182\u001b[0m     \u001b[0;32mfor\u001b[0m \u001b[0msleep\u001b[0m \u001b[0;32min\u001b[0m \u001b[0msleep_generator\u001b[0m\u001b[0;34m:\u001b[0m\u001b[0;34m\u001b[0m\u001b[0;34m\u001b[0m\u001b[0m\n\u001b[1;32m    183\u001b[0m         \u001b[0;32mtry\u001b[0m\u001b[0;34m:\u001b[0m\u001b[0;34m\u001b[0m\u001b[0;34m\u001b[0m\u001b[0m\n\u001b[0;32m--> 184\u001b[0;31m             \u001b[0;32mreturn\u001b[0m \u001b[0mtarget\u001b[0m\u001b[0;34m(\u001b[0m\u001b[0;34m)\u001b[0m\u001b[0;34m\u001b[0m\u001b[0;34m\u001b[0m\u001b[0m\n\u001b[0m\u001b[1;32m    185\u001b[0m \u001b[0;34m\u001b[0m\u001b[0m\n\u001b[1;32m    186\u001b[0m         \u001b[0;31m# pylint: disable=broad-except\u001b[0m\u001b[0;34m\u001b[0m\u001b[0;34m\u001b[0m\u001b[0;34m\u001b[0m\u001b[0m\n",
      "\u001b[0;32m/usr/local/lib/python3.7/dist-packages/google/cloud/_http.py\u001b[0m in \u001b[0;36mapi_request\u001b[0;34m(self, method, path, query_params, data, content_type, headers, api_base_url, api_version, expect_json, _target_object)\u001b[0m\n\u001b[1;32m    391\u001b[0m \u001b[0;34m\u001b[0m\u001b[0m\n\u001b[1;32m    392\u001b[0m         \u001b[0;32mif\u001b[0m \u001b[0;32mnot\u001b[0m \u001b[0;36m200\u001b[0m \u001b[0;34m<=\u001b[0m \u001b[0mresponse\u001b[0m\u001b[0;34m.\u001b[0m\u001b[0mstatus_code\u001b[0m \u001b[0;34m<\u001b[0m \u001b[0;36m300\u001b[0m\u001b[0;34m:\u001b[0m\u001b[0;34m\u001b[0m\u001b[0;34m\u001b[0m\u001b[0m\n\u001b[0;32m--> 393\u001b[0;31m             \u001b[0;32mraise\u001b[0m \u001b[0mexceptions\u001b[0m\u001b[0;34m.\u001b[0m\u001b[0mfrom_http_response\u001b[0m\u001b[0;34m(\u001b[0m\u001b[0mresponse\u001b[0m\u001b[0;34m)\u001b[0m\u001b[0;34m\u001b[0m\u001b[0;34m\u001b[0m\u001b[0m\n\u001b[0m\u001b[1;32m    394\u001b[0m \u001b[0;34m\u001b[0m\u001b[0m\n\u001b[1;32m    395\u001b[0m         \u001b[0;32mif\u001b[0m \u001b[0mexpect_json\u001b[0m \u001b[0;32mand\u001b[0m \u001b[0mresponse\u001b[0m\u001b[0;34m.\u001b[0m\u001b[0mcontent\u001b[0m\u001b[0;34m:\u001b[0m\u001b[0;34m\u001b[0m\u001b[0;34m\u001b[0m\u001b[0m\n",
      "\u001b[0;31mForbidden\u001b[0m: 403 POST https://bigquery.googleapis.com/bigquery/v2/projects/ethereum-326902/jobs: Access Denied: Project ethereum-326902: User does not have bigquery.jobs.create permission in project ethereum-326902.\n\n(job ID: 18dc73c7-42f4-4d5c-8856-d08d1f127a46)\n\n                              -----Query Job SQL Follows-----                              \n\n    |    .    |    .    |    .    |    .    |    .    |    .    |    .    |    .    |\n   1:SELECT * FROM `bigquery-public-data.crypto_ethereum.blocks` ORDER BY RAND() LIMIT 1000\n    |    .    |    .    |    .    |    .    |    .    |    .    |    .    |    .    |"
     ]
    }
   ],
   "source": [
    "limit = 1000\n",
    "\n",
    "data = {\n",
    "    k : client.query(\n",
    "        f\"SELECT * FROM {v} ORDER BY RAND() LIMIT {limit}\"\n",
    "        ).to_dataframe() for k, v in tqdm(tables.items())\n",
    "    }"
   ]
  },
  {
   "cell_type": "markdown",
   "metadata": {
    "id": "gVD5H-VCpNS8"
   },
   "source": [
    "## Blocks"
   ]
  },
  {
   "cell_type": "code",
   "execution_count": null,
   "metadata": {
    "id": "KhOAbmwOUl_B"
   },
   "outputs": [],
   "source": [
    "blocks = data['blocks']"
   ]
  },
  {
   "cell_type": "code",
   "execution_count": null,
   "metadata": {
    "id": "yDYWfIfoWOf0"
   },
   "outputs": [],
   "source": [
    "len(blocks['timestamp']) == len(blocks['timestamp'].unique()) ## timestamps are unique"
   ]
  },
  {
   "cell_type": "code",
   "execution_count": null,
   "metadata": {
    "id": "5j6Wx8BFU7rU"
   },
   "outputs": [],
   "source": [
    "blocks = blocks.set_index('timestamp')"
   ]
  },
  {
   "cell_type": "code",
   "execution_count": null,
   "metadata": {
    "id": "YTzhdy8MY5Xy"
   },
   "outputs": [],
   "source": [
    "numeric_fields = [\n",
    "    'number',\n",
    "    'difficulty',\n",
    "    'total_difficulty', \n",
    "    'size',\n",
    "    'gas_used',\n",
    "    'gas_limit',\n",
    "    'transaction_count',\n",
    "    'base_fee_per_gas'\n",
    "]\n",
    "len(numeric_fields)"
   ]
  },
  {
   "cell_type": "code",
   "execution_count": null,
   "metadata": {
    "id": "by1Scbp4ZYo2"
   },
   "outputs": [],
   "source": [
    "fig, axes = plt.subplots(4, 2, figsize=(12, 12))\n",
    "\n",
    "for i, f in enumerate(numeric_fields):\n",
    "  row = int(np.floor(i / 2))\n",
    "  col = i % 2\n",
    "  pd.to_numeric(blocks[f]).plot(title=f, ax=axes[row, col])\n",
    "\n",
    "fig.tight_layout();"
   ]
  },
  {
   "cell_type": "markdown",
   "metadata": {
    "id": "-9M4KsL1cQXx"
   },
   "source": [
    "Notes\n",
    "- total difficulty =? difficulty up to that point\n",
    "- difficulty rising exponentially\n",
    "- gas used frequently reaches the limit\n",
    "- what is base_fee_per_gas?\n",
    "- transaction counts have stayed fairly static, size has risen\n",
    "\n",
    "---\n",
    "\n"
   ]
  },
  {
   "cell_type": "code",
   "execution_count": null,
   "metadata": {
    "colab": {
     "base_uri": "https://localhost:8080/"
    },
    "executionInfo": {
     "elapsed": 254,
     "status": "ok",
     "timestamp": 1631753081685,
     "user": {
      "displayName": "Tracy Stephens",
      "photoUrl": "https://lh3.googleusercontent.com/a/default-user=s64",
      "userId": "09827283236120130105"
     },
     "user_tz": 240
    },
    "id": "LdFQCspNedeV",
    "outputId": "238ec0eb-66cf-4b34-f4a6-1d542df09405"
   },
   "outputs": [
    {
     "data": {
      "text/plain": [
       "Timestamp('2021-08-07 16:40:03+0000', tz='UTC')"
      ]
     },
     "execution_count": 31,
     "metadata": {},
     "output_type": "execute_result"
    }
   ],
   "source": [
    "### Question: what is base_fee_per_gas?\n",
    "blocks['base_fee_per_gas'].dropna().index.min()"
   ]
  },
  {
   "cell_type": "markdown",
   "metadata": {
    "id": "ASQ2v0yGgVsZ"
   },
   "source": [
    "**London Upgrade & Base Fees**\n",
    "\n",
    "In Aug '21 there was a change to make gas fees more predictable. \n",
    "\n",
    "Previously -\n",
    "* gas fee = Gas units (limit) * Gas price per unit\n",
    "\n",
    "Now it is - \n",
    "* gas fee = Gas units (limit) * (Base fee + Tip)\n",
    "\n",
    "Benefits of the London upgrade\n",
    "* better transaction fee estimation\n",
    "* generally quicker transaction inclusion\n",
    "* offsetting the ETH issuance by burning a percentage of transaction fees\n",
    "\n",
    "Starting with the London network upgrade, every block has a base fee, the minimum price per unit of gas for inclusion in this block, calculated by the network based on demand for block space. As the base fee of the transaction fee is burnt, users are also expected to set a tip (priority fee) in their transactions. The tip compensates miners for executing and propagating user transactions in blocks and is expected to be set automatically by most wallets.\n",
    "\n",
    "There are other changes with the London Upgrade - \n",
    "* block size\n",
    "* MaxFeePerGas (in transactions dataset)\n",
    "\n",
    "More questions\n",
    "- Do you still pay gas if you reach the limit (yes)"
   ]
  },
  {
   "cell_type": "code",
   "execution_count": null,
   "metadata": {
    "id": "bGbmAkOlcOLM"
   },
   "outputs": [],
   "source": [
    "### Question: does total difficulty = sum of difficulty? Yes!\n",
    "\n",
    "difficulty_df = client.query(\n",
    "    f\"SELECT timestamp, difficulty, total_difficulty FROM {tables['blocks']} ORDER BY timestamp ASC LIMIT 1000\"\n",
    "    ).to_dataframe() "
   ]
  },
  {
   "cell_type": "markdown",
   "metadata": {
    "id": "AUkTOVnNKQiI"
   },
   "source": []
  },
  {
   "cell_type": "code",
   "execution_count": null,
   "metadata": {
    "colab": {
     "base_uri": "https://localhost:8080/"
    },
    "executionInfo": {
     "elapsed": 17,
     "status": "ok",
     "timestamp": 1632509896913,
     "user": {
      "displayName": "Tracy Stephens",
      "photoUrl": "https://lh3.googleusercontent.com/a/default-user=s64",
      "userId": "09827283236120130105"
     },
     "user_tz": 240
    },
    "id": "b07ja5gVdneh",
    "outputId": "5ae4ccec-638f-4bce-fcd3-57dcad6c229b"
   },
   "outputs": [
    {
     "data": {
      "text/plain": [
       "True"
      ]
     },
     "execution_count": 9,
     "metadata": {},
     "output_type": "execute_result"
    }
   ],
   "source": [
    "diff = difficulty_df['total_difficulty'] - difficulty_df['difficulty'].cumsum() \n",
    "diff.sum() == 0"
   ]
  },
  {
   "cell_type": "markdown",
   "metadata": {
    "id": "M7COrVcWc0fY"
   },
   "source": []
  },
  {
   "cell_type": "code",
   "execution_count": null,
   "metadata": {
    "colab": {
     "base_uri": "https://localhost:8080/",
     "height": 484
    },
    "executionInfo": {
     "elapsed": 930,
     "status": "error",
     "timestamp": 1632509897831,
     "user": {
      "displayName": "Tracy Stephens",
      "photoUrl": "https://lh3.googleusercontent.com/a/default-user=s64",
      "userId": "09827283236120130105"
     },
     "user_tz": 240
    },
    "id": "cggtw2EweFp3",
    "outputId": "8cc679c4-6035-4efd-937e-e0b7f6d52903"
   },
   "outputs": [
    {
     "ename": "NameError",
     "evalue": "ignored",
     "output_type": "error",
     "traceback": [
      "\u001b[0;31m---------------------------------------------------------------------------\u001b[0m",
      "\u001b[0;31mNameError\u001b[0m                                 Traceback (most recent call last)",
      "\u001b[0;32m<ipython-input-10-d49ef4607359>\u001b[0m in \u001b[0;36m<module>\u001b[0;34m()\u001b[0m\n\u001b[1;32m      3\u001b[0m \u001b[0mfig\u001b[0m\u001b[0;34m,\u001b[0m \u001b[0maxes\u001b[0m \u001b[0;34m=\u001b[0m \u001b[0mplt\u001b[0m\u001b[0;34m.\u001b[0m\u001b[0msubplots\u001b[0m\u001b[0;34m(\u001b[0m\u001b[0;36m1\u001b[0m\u001b[0;34m,\u001b[0m \u001b[0;36m3\u001b[0m\u001b[0;34m,\u001b[0m \u001b[0mfigsize\u001b[0m\u001b[0;34m=\u001b[0m\u001b[0;34m(\u001b[0m\u001b[0;36m14\u001b[0m\u001b[0;34m,\u001b[0m \u001b[0;36m4\u001b[0m\u001b[0;34m)\u001b[0m\u001b[0;34m)\u001b[0m\u001b[0;34m\u001b[0m\u001b[0;34m\u001b[0m\u001b[0m\n\u001b[1;32m      4\u001b[0m \u001b[0;34m\u001b[0m\u001b[0m\n\u001b[0;32m----> 5\u001b[0;31m \u001b[0mleftover\u001b[0m \u001b[0;34m=\u001b[0m \u001b[0;34m(\u001b[0m\u001b[0mblocks\u001b[0m\u001b[0;34m[\u001b[0m\u001b[0;34m'gas_limit'\u001b[0m\u001b[0;34m]\u001b[0m \u001b[0;34m-\u001b[0m \u001b[0mblocks\u001b[0m\u001b[0;34m[\u001b[0m\u001b[0;34m'gas_used'\u001b[0m\u001b[0;34m]\u001b[0m\u001b[0;34m)\u001b[0m \u001b[0;34m/\u001b[0m \u001b[0mblocks\u001b[0m\u001b[0;34m[\u001b[0m\u001b[0;34m'gas_limit'\u001b[0m\u001b[0;34m]\u001b[0m\u001b[0;34m\u001b[0m\u001b[0;34m\u001b[0m\u001b[0m\n\u001b[0m\u001b[1;32m      6\u001b[0m \u001b[0mleftover\u001b[0m\u001b[0;34m.\u001b[0m\u001b[0mplot\u001b[0m\u001b[0;34m(\u001b[0m\u001b[0mtitle\u001b[0m\u001b[0;34m=\u001b[0m\u001b[0;34m\"Gas Used % of Gas Limit\"\u001b[0m\u001b[0;34m,\u001b[0m \u001b[0max\u001b[0m\u001b[0;34m=\u001b[0m\u001b[0maxes\u001b[0m\u001b[0;34m[\u001b[0m\u001b[0;36m0\u001b[0m\u001b[0;34m]\u001b[0m\u001b[0;34m)\u001b[0m\u001b[0;34m;\u001b[0m\u001b[0;34m\u001b[0m\u001b[0;34m\u001b[0m\u001b[0m\n\u001b[1;32m      7\u001b[0m \u001b[0;34m\u001b[0m\u001b[0m\n",
      "\u001b[0;31mNameError\u001b[0m: name 'blocks' is not defined"
     ]
    },
    {
     "data": {
      "image/png": "[encoded data removed]",
      "text/plain": [
       "<Figure size 1008x288 with 3 Axes>"
      ]
     },
     "metadata": {
      "needs_background": "light"
     },
     "output_type": "display_data"
    }
   ],
   "source": [
    "### Questions: how often does gas_used reach gas_limit?\n",
    "\n",
    "fig, axes = plt.subplots(1, 3, figsize=(14, 4))\n",
    "\n",
    "leftover = (blocks['gas_limit'] - blocks['gas_used']) / blocks['gas_limit']\n",
    "leftover.plot(title=\"Gas Used % of Gas Limit\", ax=axes[0]);\n",
    "\n",
    "bins = 1000\n",
    "df = pd.Series({i / bins : (leftover <= i / bins).mean() for i in range(bins)})\n",
    "df.plot(title=\"% of Time less than x% Gas Leftover\", ax=axes[1])\n",
    "leftover.hist(ax=axes[2]);\n",
    "\n",
    "df.head()"
   ]
  },
  {
   "cell_type": "markdown",
   "metadata": {
    "id": "ZM5vXAXhl970"
   },
   "source": [
    "On the block level, gas tends to get very close to the limit. For 50% of the time the difference between gas_used and gas_limit is < 1%. \n"
   ]
  },
  {
   "cell_type": "code",
   "execution_count": null,
   "metadata": {
    "colab": {
     "base_uri": "https://localhost:8080/",
     "height": 181
    },
    "executionInfo": {
     "elapsed": 12,
     "status": "error",
     "timestamp": 1632509898800,
     "user": {
      "displayName": "Tracy Stephens",
      "photoUrl": "https://lh3.googleusercontent.com/a/default-user=s64",
      "userId": "09827283236120130105"
     },
     "user_tz": 240
    },
    "id": "XHlZvMmzoeSa",
    "outputId": "019f6827-61b2-4ac9-b0ad-c0fcb3ba3ebd"
   },
   "outputs": [
    {
     "ename": "NameError",
     "evalue": "ignored",
     "output_type": "error",
     "traceback": [
      "\u001b[0;31m---------------------------------------------------------------------------\u001b[0m",
      "\u001b[0;31mNameError\u001b[0m                                 Traceback (most recent call last)",
      "\u001b[0;32m<ipython-input-11-39af9fa3594f>\u001b[0m in \u001b[0;36m<module>\u001b[0;34m()\u001b[0m\n\u001b[0;32m----> 1\u001b[0;31m \u001b[0mdf\u001b[0m \u001b[0;34m=\u001b[0m \u001b[0mblocks\u001b[0m\u001b[0;34m[\u001b[0m\u001b[0;34m'difficulty'\u001b[0m\u001b[0;34m]\u001b[0m \u001b[0;34m/\u001b[0m \u001b[0mblocks\u001b[0m\u001b[0;34m[\u001b[0m\u001b[0;34m'total_difficulty'\u001b[0m\u001b[0;34m]\u001b[0m \u001b[0;34m-\u001b[0m \u001b[0;36m1\u001b[0m\u001b[0;34m\u001b[0m\u001b[0;34m\u001b[0m\u001b[0m\n\u001b[0m\u001b[1;32m      2\u001b[0m \u001b[0mpd\u001b[0m\u001b[0;34m.\u001b[0m\u001b[0mto_numeric\u001b[0m\u001b[0;34m(\u001b[0m\u001b[0mdf\u001b[0m\u001b[0;34m)\u001b[0m\u001b[0;34m[\u001b[0m\u001b[0;34m'2020'\u001b[0m\u001b[0;34m:\u001b[0m\u001b[0;34m]\u001b[0m\u001b[0;34m.\u001b[0m\u001b[0mplot\u001b[0m\u001b[0;34m(\u001b[0m\u001b[0;34m)\u001b[0m\u001b[0;34m\u001b[0m\u001b[0;34m\u001b[0m\u001b[0m\n",
      "\u001b[0;31mNameError\u001b[0m: name 'blocks' is not defined"
     ]
    }
   ],
   "source": [
    "df = blocks['difficulty'] / blocks['total_difficulty'] - 1\n",
    "pd.to_numeric(df)['2020':].plot()"
   ]
  },
  {
   "cell_type": "code",
   "execution_count": null,
   "metadata": {
    "colab": {
     "base_uri": "https://localhost:8080/",
     "height": 232
    },
    "executionInfo": {
     "elapsed": 359,
     "status": "error",
     "timestamp": 1632509900579,
     "user": {
      "displayName": "Tracy Stephens",
      "photoUrl": "https://lh3.googleusercontent.com/a/default-user=s64",
      "userId": "09827283236120130105"
     },
     "user_tz": 240
    },
    "id": "-EjNF6WgoOnV",
    "outputId": "f5718a57-3e89-47c0-b0e4-0ce75f9831ab"
   },
   "outputs": [
    {
     "ename": "NameError",
     "evalue": "ignored",
     "output_type": "error",
     "traceback": [
      "\u001b[0;31m---------------------------------------------------------------------------\u001b[0m",
      "\u001b[0;31mNameError\u001b[0m                                 Traceback (most recent call last)",
      "\u001b[0;32m<ipython-input-12-03ffb993649f>\u001b[0m in \u001b[0;36m<module>\u001b[0;34m()\u001b[0m\n\u001b[1;32m      1\u001b[0m plt.scatter(\n\u001b[0;32m----> 2\u001b[0;31m     \u001b[0mx\u001b[0m\u001b[0;34m=\u001b[0m\u001b[0mblocks\u001b[0m\u001b[0;34m[\u001b[0m\u001b[0;34m'difficulty'\u001b[0m\u001b[0;34m]\u001b[0m\u001b[0;34m,\u001b[0m\u001b[0;34m\u001b[0m\u001b[0;34m\u001b[0m\u001b[0m\n\u001b[0m\u001b[1;32m      3\u001b[0m     \u001b[0my\u001b[0m\u001b[0;34m=\u001b[0m\u001b[0mblocks\u001b[0m\u001b[0;34m[\u001b[0m\u001b[0;34m'total_difficulty'\u001b[0m\u001b[0;34m]\u001b[0m\u001b[0;34m\u001b[0m\u001b[0;34m\u001b[0m\u001b[0m\n\u001b[1;32m      4\u001b[0m )\n\u001b[1;32m      5\u001b[0m \u001b[0mplt\u001b[0m\u001b[0;34m.\u001b[0m\u001b[0mtitle\u001b[0m\u001b[0;34m(\u001b[0m\u001b[0;34m\"difficulty vs total_difficulty\"\u001b[0m\u001b[0;34m)\u001b[0m\u001b[0;34m;\u001b[0m\u001b[0;34m\u001b[0m\u001b[0;34m\u001b[0m\u001b[0m\n",
      "\u001b[0;31mNameError\u001b[0m: name 'blocks' is not defined"
     ]
    }
   ],
   "source": [
    "plt.scatter(\n",
    "    x=blocks['difficulty'], \n",
    "    y=blocks['total_difficulty']\n",
    ")\n",
    "plt.title(\"difficulty vs total_difficulty\");"
   ]
  },
  {
   "cell_type": "code",
   "execution_count": null,
   "metadata": {
    "colab": {
     "base_uri": "https://localhost:8080/",
     "height": 294
    },
    "executionInfo": {
     "elapsed": 339,
     "status": "ok",
     "timestamp": 1631753102087,
     "user": {
      "displayName": "Tracy Stephens",
      "photoUrl": "https://lh3.googleusercontent.com/a/default-user=s64",
      "userId": "09827283236120130105"
     },
     "user_tz": 240
    },
    "id": "bvrW3-9IVgAA",
    "outputId": "4c585c8d-967c-4c1c-b6ff-8d4e053d0dc8"
   },
   "outputs": [
    {
     "data": {
      "image/png": "[encoded data removed]",
      "text/plain": [
       "<Figure size 432x288 with 1 Axes>"
      ]
     },
     "metadata": {
      "needs_background": "light"
     },
     "output_type": "display_data"
    }
   ],
   "source": [
    "plt.scatter(\n",
    "    x=blocks['difficulty'], \n",
    "    y=blocks['gas_used']\n",
    ")\n",
    "plt.title(\"difficulty vs gas_used\");"
   ]
  },
  {
   "cell_type": "code",
   "execution_count": null,
   "metadata": {
    "colab": {
     "base_uri": "https://localhost:8080/",
     "height": 294
    },
    "executionInfo": {
     "elapsed": 349,
     "status": "ok",
     "timestamp": 1631753107854,
     "user": {
      "displayName": "Tracy Stephens",
      "photoUrl": "https://lh3.googleusercontent.com/a/default-user=s64",
      "userId": "09827283236120130105"
     },
     "user_tz": 240
    },
    "id": "FJYpuU9OUx5Y",
    "outputId": "f6b18f2c-9816-407a-87c0-0799309910bb"
   },
   "outputs": [
    {
     "data": {
      "image/png": "[encoded data removed]",
      "text/plain": [
       "<Figure size 432x288 with 1 Axes>"
      ]
     },
     "metadata": {
      "needs_background": "light"
     },
     "output_type": "display_data"
    }
   ],
   "source": [
    "plt.scatter(\n",
    "    x=blocks['total_difficulty'], \n",
    "    y=blocks['gas_used']\n",
    ")\n",
    "plt.title(\"total_difficulty vs gas_used\");"
   ]
  },
  {
   "cell_type": "code",
   "execution_count": null,
   "metadata": {
    "colab": {
     "base_uri": "https://localhost:8080/",
     "height": 294
    },
    "executionInfo": {
     "elapsed": 314,
     "status": "ok",
     "timestamp": 1631753109699,
     "user": {
      "displayName": "Tracy Stephens",
      "photoUrl": "https://lh3.googleusercontent.com/a/default-user=s64",
      "userId": "09827283236120130105"
     },
     "user_tz": 240
    },
    "id": "8-S4RxxNYDFf",
    "outputId": "d63e0fd2-9bd5-4208-cfa0-871c4035e690"
   },
   "outputs": [
    {
     "data": {
      "image/png": "[encoded data removed]",
      "text/plain": [
       "<Figure size 432x288 with 1 Axes>"
      ]
     },
     "metadata": {
      "needs_background": "light"
     },
     "output_type": "display_data"
    }
   ],
   "source": [
    "plt.scatter(\n",
    "    x=blocks['gas_limit'], \n",
    "    y=blocks['gas_used']\n",
    ")\n",
    "plt.title(\"gas_limit vs gas_used\");"
   ]
  },
  {
   "cell_type": "markdown",
   "metadata": {
    "id": "5JdApX6TpWmv"
   },
   "source": [
    "## Transactions"
   ]
  },
  {
   "cell_type": "code",
   "execution_count": null,
   "metadata": {
    "colab": {
     "base_uri": "https://localhost:8080/",
     "height": 164
    },
    "executionInfo": {
     "elapsed": 534,
     "status": "error",
     "timestamp": 1632509904235,
     "user": {
      "displayName": "Tracy Stephens",
      "photoUrl": "https://lh3.googleusercontent.com/a/default-user=s64",
      "userId": "09827283236120130105"
     },
     "user_tz": 240
    },
    "id": "aWLAtuB_pZzi",
    "outputId": "3d8fd4d0-6a87-43f1-c951-628ed43f32cc"
   },
   "outputs": [
    {
     "ename": "NameError",
     "evalue": "ignored",
     "output_type": "error",
     "traceback": [
      "\u001b[0;31m---------------------------------------------------------------------------\u001b[0m",
      "\u001b[0;31mNameError\u001b[0m                                 Traceback (most recent call last)",
      "\u001b[0;32m<ipython-input-13-4023e6de6a35>\u001b[0m in \u001b[0;36m<module>\u001b[0;34m()\u001b[0m\n\u001b[0;32m----> 1\u001b[0;31m \u001b[0mtransactions\u001b[0m \u001b[0;34m=\u001b[0m \u001b[0mdata\u001b[0m\u001b[0;34m[\u001b[0m\u001b[0;34m'transactions'\u001b[0m\u001b[0;34m]\u001b[0m\u001b[0;34m\u001b[0m\u001b[0;34m\u001b[0m\u001b[0m\n\u001b[0m",
      "\u001b[0;31mNameError\u001b[0m: name 'data' is not defined"
     ]
    }
   ],
   "source": [
    "transactions = data['transactions']"
   ]
  },
  {
   "cell_type": "code",
   "execution_count": null,
   "metadata": {
    "id": "qx0B4fpY1Jdq"
   },
   "outputs": [],
   "source": [
    "def is_unique(col):\n",
    "  try: \n",
    "    res = len(col) == len(col.unique())\n",
    "  except TypeError:\n",
    "    res = np.nan\n",
    "  return res"
   ]
  },
  {
   "cell_type": "code",
   "execution_count": null,
   "metadata": {
    "colab": {
     "base_uri": "https://localhost:8080/"
    },
    "executionInfo": {
     "elapsed": 279,
     "status": "ok",
     "timestamp": 1631903781597,
     "user": {
      "displayName": "Tracy Stephens",
      "photoUrl": "https://lh3.googleusercontent.com/a/default-user=s64",
      "userId": "09827283236120130105"
     },
     "user_tz": 420
    },
    "id": "4gMzsmTd1TN-",
    "outputId": "82011df9-1037-4038-f259-962456f6501c"
   },
   "outputs": [
    {
     "data": {
      "text/plain": [
       "{'block_hash': True,\n",
       " 'block_number': True,\n",
       " 'block_timestamp': True,\n",
       " 'from_address': False,\n",
       " 'gas': False,\n",
       " 'gas_price': False,\n",
       " 'hash': True,\n",
       " 'input': False,\n",
       " 'max_fee_per_gas': False,\n",
       " 'max_priority_fee_per_gas': False,\n",
       " 'nonce': False,\n",
       " 'receipt_contract_address': False,\n",
       " 'receipt_cumulative_gas_used': False,\n",
       " 'receipt_effective_gas_price': False,\n",
       " 'receipt_gas_used': False,\n",
       " 'receipt_root': False,\n",
       " 'receipt_status': False,\n",
       " 'to_address': False,\n",
       " 'transaction_index': False,\n",
       " 'transaction_type': False,\n",
       " 'value': False}"
      ]
     },
     "execution_count": 41,
     "metadata": {},
     "output_type": "execute_result"
    }
   ],
   "source": [
    "transactions_unique = {k : is_unique(transactions[k]) for k in transactions.columns}\n",
    "transactions_unique"
   ]
  },
  {
   "cell_type": "code",
   "execution_count": null,
   "metadata": {
    "colab": {
     "base_uri": "https://localhost:8080/"
    },
    "executionInfo": {
     "elapsed": 290,
     "status": "ok",
     "timestamp": 1631904028830,
     "user": {
      "displayName": "Tracy Stephens",
      "photoUrl": "https://lh3.googleusercontent.com/a/default-user=s64",
      "userId": "09827283236120130105"
     },
     "user_tz": 420
    },
    "id": "ZhgmltsiCVqY",
    "outputId": "37cb0bf0-6ace-4cbd-a625-feebff941651"
   },
   "outputs": [
    {
     "data": {
      "text/plain": [
       "{'max_fee_per_gas': NaN             984\n",
       " 1.690000e+11      1\n",
       " 1.107543e+11      1\n",
       " 5.994600e+10      1\n",
       " 6.008379e+10      1\n",
       " 1.250000e+11      1\n",
       " 4.720000e+10      1\n",
       " 5.540230e+10      1\n",
       " 7.690661e+10      1\n",
       " 1.393115e+11      1\n",
       " 1.027598e+11      1\n",
       " 1.727768e+11      1\n",
       " 4.977828e+10      1\n",
       " 1.315100e+11      1\n",
       " 7.944059e+10      1\n",
       " 8.709455e+10      1\n",
       " 1.300000e+11      1\n",
       " Name: max_fee_per_gas, dtype: int64,\n",
       " 'max_priority_fee_per_gas': NaN             984\n",
       " 1.500000e+09      6\n",
       " 1.000000e+09      2\n",
       " 2.000000e+09      2\n",
       " 7.000000e+09      1\n",
       " 4.720000e+10      1\n",
       " 4.000000e+09      1\n",
       " 5.994600e+10      1\n",
       " 1.940000e+09      1\n",
       " 0.000000e+00      1\n",
       " Name: max_priority_fee_per_gas, dtype: int64,\n",
       " 'receipt_contract_address': NaN                                           998\n",
       " 0x2a4fa6c19cedaa211941c8381866f86c2f842190      1\n",
       " 0x75d1011fde4bcdc6441ccbcead4037954e8dccb7      1\n",
       " Name: receipt_contract_address, dtype: int64,\n",
       " 'receipt_status': 1.0    926\n",
       " NaN     49\n",
       " 0.0     25\n",
       " Name: receipt_status, dtype: int64,\n",
       " 'transaction_type': NaN    984\n",
       " 2.0     16\n",
       " Name: transaction_type, dtype: int64}"
      ]
     },
     "execution_count": 48,
     "metadata": {},
     "output_type": "execute_result"
    }
   ],
   "source": [
    "{\n",
    "    k : transactions[k].value_counts(dropna=False) \n",
    "    for k, v in transactions_unique.items() if v == False and len(transactions[k].unique()) < 20\n",
    "}"
   ]
  },
  {
   "cell_type": "code",
   "execution_count": null,
   "metadata": {
    "colab": {
     "base_uri": "https://localhost:8080/"
    },
    "executionInfo": {
     "elapsed": 300,
     "status": "ok",
     "timestamp": 1631904138053,
     "user": {
      "displayName": "Tracy Stephens",
      "photoUrl": "https://lh3.googleusercontent.com/a/default-user=s64",
      "userId": "09827283236120130105"
     },
     "user_tz": 420
    },
    "id": "3UdRLqbuEFxK",
    "outputId": "4f452165-55e4-4f02-f6a6-63f2a7d0c5f0"
   },
   "outputs": [
    {
     "data": {
      "text/plain": [
       "Timestamp('2021-08-16 16:54:26+0000', tz='UTC')"
      ]
     },
     "execution_count": 50,
     "metadata": {},
     "output_type": "execute_result"
    }
   ],
   "source": [
    "transactions[transactions['transaction_type'] == 2]['block_timestamp'].min()"
   ]
  },
  {
   "cell_type": "code",
   "execution_count": null,
   "metadata": {
    "colab": {
     "base_uri": "https://localhost:8080/",
     "height": 563
    },
    "executionInfo": {
     "elapsed": 466,
     "status": "ok",
     "timestamp": 1631905831284,
     "user": {
      "displayName": "Tracy Stephens",
      "photoUrl": "https://lh3.googleusercontent.com/a/default-user=s64",
      "userId": "09827283236120130105"
     },
     "user_tz": 420
    },
    "id": "w3ucElJLElMN",
    "outputId": "52be590a-f78f-4ac5-f28c-d0fbb115d510"
   },
   "outputs": [
    {
     "data": {
      "text/html": [
       "<div>\n",
       "<style scoped>\n",
       "    .dataframe tbody tr th:only-of-type {\n",
       "        vertical-align: middle;\n",
       "    }\n",
       "\n",
       "    .dataframe tbody tr th {\n",
       "        vertical-align: top;\n",
       "    }\n",
       "\n",
       "    .dataframe thead th {\n",
       "        text-align: right;\n",
       "    }\n",
       "</style>\n",
       "<table border=\"1\" class=\"dataframe\">\n",
       "  <thead>\n",
       "    <tr style=\"text-align: right;\">\n",
       "      <th></th>\n",
       "      <th>hash</th>\n",
       "      <th>nonce</th>\n",
       "      <th>transaction_index</th>\n",
       "      <th>from_address</th>\n",
       "      <th>to_address</th>\n",
       "      <th>value</th>\n",
       "      <th>gas</th>\n",
       "      <th>gas_price</th>\n",
       "      <th>input</th>\n",
       "      <th>receipt_cumulative_gas_used</th>\n",
       "      <th>receipt_gas_used</th>\n",
       "      <th>receipt_contract_address</th>\n",
       "      <th>receipt_root</th>\n",
       "      <th>receipt_status</th>\n",
       "      <th>block_timestamp</th>\n",
       "      <th>block_number</th>\n",
       "      <th>block_hash</th>\n",
       "      <th>max_fee_per_gas</th>\n",
       "      <th>max_priority_fee_per_gas</th>\n",
       "      <th>transaction_type</th>\n",
       "      <th>receipt_effective_gas_price</th>\n",
       "    </tr>\n",
       "    <tr>\n",
       "      <th>receipt_contract_address</th>\n",
       "      <th></th>\n",
       "      <th></th>\n",
       "      <th></th>\n",
       "      <th></th>\n",
       "      <th></th>\n",
       "      <th></th>\n",
       "      <th></th>\n",
       "      <th></th>\n",
       "      <th></th>\n",
       "      <th></th>\n",
       "      <th></th>\n",
       "      <th></th>\n",
       "      <th></th>\n",
       "      <th></th>\n",
       "      <th></th>\n",
       "      <th></th>\n",
       "      <th></th>\n",
       "      <th></th>\n",
       "      <th></th>\n",
       "      <th></th>\n",
       "      <th></th>\n",
       "    </tr>\n",
       "  </thead>\n",
       "  <tbody>\n",
       "    <tr>\n",
       "      <th>False</th>\n",
       "      <td>2</td>\n",
       "      <td>2</td>\n",
       "      <td>2</td>\n",
       "      <td>2</td>\n",
       "      <td>0</td>\n",
       "      <td>2</td>\n",
       "      <td>2</td>\n",
       "      <td>2</td>\n",
       "      <td>2</td>\n",
       "      <td>2</td>\n",
       "      <td>2</td>\n",
       "      <td>2</td>\n",
       "      <td>0</td>\n",
       "      <td>2</td>\n",
       "      <td>2</td>\n",
       "      <td>2</td>\n",
       "      <td>2</td>\n",
       "      <td>0</td>\n",
       "      <td>0</td>\n",
       "      <td>0</td>\n",
       "      <td>2</td>\n",
       "    </tr>\n",
       "    <tr>\n",
       "      <th>True</th>\n",
       "      <td>998</td>\n",
       "      <td>998</td>\n",
       "      <td>998</td>\n",
       "      <td>998</td>\n",
       "      <td>998</td>\n",
       "      <td>998</td>\n",
       "      <td>998</td>\n",
       "      <td>998</td>\n",
       "      <td>998</td>\n",
       "      <td>998</td>\n",
       "      <td>998</td>\n",
       "      <td>0</td>\n",
       "      <td>49</td>\n",
       "      <td>949</td>\n",
       "      <td>998</td>\n",
       "      <td>998</td>\n",
       "      <td>998</td>\n",
       "      <td>16</td>\n",
       "      <td>16</td>\n",
       "      <td>16</td>\n",
       "      <td>998</td>\n",
       "    </tr>\n",
       "  </tbody>\n",
       "</table>\n",
       "</div>"
      ],
      "text/plain": [
       "                          hash  ...  receipt_effective_gas_price\n",
       "receipt_contract_address        ...                             \n",
       "False                        2  ...                            2\n",
       "True                       998  ...                          998\n",
       "\n",
       "[2 rows x 21 columns]"
      ]
     },
     "execution_count": 76,
     "metadata": {},
     "output_type": "execute_result"
    },
    {
     "data": {
      "image/png": "[encoded data removed]",
      "text/plain": [
       "<Figure size 432x288 with 1 Axes>"
      ]
     },
     "metadata": {
      "needs_background": "light"
     },
     "output_type": "display_data"
    }
   ],
   "source": [
    "contract_groups = transactions.groupby(\n",
    "    transactions['receipt_contract_address'].isna()\n",
    "    )\n",
    "\n",
    "contract_groups.mean().filter(like='gas').transpose().plot.bar(\n",
    "        title=\"Group means\"\n",
    "    );\n",
    "contract_groups.count()\n",
    "# need to normalize this by other factors"
   ]
  },
  {
   "cell_type": "code",
   "execution_count": null,
   "metadata": {
    "id": "YRZ0WyKqVYRu"
   },
   "outputs": [],
   "source": [
    "### transactions on one day"
   ]
  },
  {
   "cell_type": "code",
   "execution_count": null,
   "metadata": {
    "id": "Tm0DdEZi-Bsx"
   },
   "outputs": [],
   "source": [
    "sample_addresses = transactions['from_address'][:100]\n",
    "sample_addresses_str = \"('\" + \"','\".join(sample_addresses) + \"')\"\n",
    "is_sc_sql = f\"SELECT * FROM {tables['contracts']} \" \\\n",
    "  f\"WHERE address in {sample_addresses_str} LIMIT {limit}\""
   ]
  },
  {
   "cell_type": "code",
   "execution_count": null,
   "metadata": {
    "colab": {
     "base_uri": "https://localhost:8080/",
     "height": 49
    },
    "executionInfo": {
     "elapsed": 4919,
     "status": "ok",
     "timestamp": 1631907335927,
     "user": {
      "displayName": "Tracy Stephens",
      "photoUrl": "https://lh3.googleusercontent.com/a/default-user=s64",
      "userId": "09827283236120130105"
     },
     "user_tz": 420
    },
    "id": "BPE5zruJ83D-",
    "outputId": "47c93f46-7c17-474b-d781-9a4d7677f4ca"
   },
   "outputs": [
    {
     "data": {
      "text/html": [
       "<div>\n",
       "<style scoped>\n",
       "    .dataframe tbody tr th:only-of-type {\n",
       "        vertical-align: middle;\n",
       "    }\n",
       "\n",
       "    .dataframe tbody tr th {\n",
       "        vertical-align: top;\n",
       "    }\n",
       "\n",
       "    .dataframe thead th {\n",
       "        text-align: right;\n",
       "    }\n",
       "</style>\n",
       "<table border=\"1\" class=\"dataframe\">\n",
       "  <thead>\n",
       "    <tr style=\"text-align: right;\">\n",
       "      <th></th>\n",
       "      <th>address</th>\n",
       "      <th>bytecode</th>\n",
       "      <th>function_sighashes</th>\n",
       "      <th>is_erc20</th>\n",
       "      <th>is_erc721</th>\n",
       "      <th>block_timestamp</th>\n",
       "      <th>block_number</th>\n",
       "      <th>block_hash</th>\n",
       "    </tr>\n",
       "  </thead>\n",
       "  <tbody>\n",
       "  </tbody>\n",
       "</table>\n",
       "</div>"
      ],
      "text/plain": [
       "Empty DataFrame\n",
       "Columns: [address, bytecode, function_sighashes, is_erc20, is_erc721, block_timestamp, block_number, block_hash]\n",
       "Index: []"
      ]
     },
     "execution_count": 78,
     "metadata": {},
     "output_type": "execute_result"
    }
   ],
   "source": [
    "### Join transactions with smart contracts\n",
    "client.query(is_sc_sql).to_dataframe()"
   ]
  },
  {
   "cell_type": "markdown",
   "metadata": {
    "id": "9dF074YjBAEx"
   },
   "source": [
    "## Contracts"
   ]
  },
  {
   "cell_type": "code",
   "execution_count": null,
   "metadata": {
    "id": "99NzYU4JA_xz"
   },
   "outputs": [],
   "source": [
    "contracts = data[\"contracts\"]"
   ]
  },
  {
   "cell_type": "code",
   "execution_count": null,
   "metadata": {
    "colab": {
     "base_uri": "https://localhost:8080/"
    },
    "executionInfo": {
     "elapsed": 329,
     "status": "ok",
     "timestamp": 1631753429715,
     "user": {
      "displayName": "Tracy Stephens",
      "photoUrl": "https://lh3.googleusercontent.com/a/default-user=s64",
      "userId": "09827283236120130105"
     },
     "user_tz": 240
    },
    "id": "8aknxdF3FTBm",
    "outputId": "13559a85-7061-419c-bf5b-789a97187c4c"
   },
   "outputs": [
    {
     "name": "stdout",
     "output_type": "stream",
     "text": [
      "address\n",
      "bytecode\n",
      "function_sighashes\n",
      "is_erc20\n",
      "is_erc721\n",
      "block_timestamp\n",
      "block_number\n",
      "block_hash\n"
     ]
    }
   ],
   "source": [
    "for col in contracts.columns:\n",
    "  print(col)"
   ]
  },
  {
   "cell_type": "code",
   "execution_count": null,
   "metadata": {
    "colab": {
     "base_uri": "https://localhost:8080/"
    },
    "executionInfo": {
     "elapsed": 265,
     "status": "ok",
     "timestamp": 1631753357680,
     "user": {
      "displayName": "Tracy Stephens",
      "photoUrl": "https://lh3.googleusercontent.com/a/default-user=s64",
      "userId": "09827283236120130105"
     },
     "user_tz": 240
    },
    "id": "XlkYLJrWA_Tn",
    "outputId": "85b09f2e-fb2c-427f-afcc-a89d62c1d515"
   },
   "outputs": [
    {
     "data": {
      "text/plain": [
       "{'address': True,\n",
       " 'block_hash': False,\n",
       " 'block_number': False,\n",
       " 'block_timestamp': False,\n",
       " 'bytecode': False,\n",
       " 'function_sighashes': nan,\n",
       " 'is_erc20': False,\n",
       " 'is_erc721': False}"
      ]
     },
     "execution_count": 60,
     "metadata": {},
     "output_type": "execute_result"
    }
   ],
   "source": [
    "{k : is_unique(contracts[k]) for k in contracts.columns}"
   ]
  },
  {
   "cell_type": "code",
   "execution_count": null,
   "metadata": {
    "colab": {
     "base_uri": "https://localhost:8080/"
    },
    "executionInfo": {
     "elapsed": 307,
     "status": "ok",
     "timestamp": 1631907614323,
     "user": {
      "displayName": "Tracy Stephens",
      "photoUrl": "https://lh3.googleusercontent.com/a/default-user=s64",
      "userId": "09827283236120130105"
     },
     "user_tz": 420
    },
    "id": "s9SxUGvPRDmP",
    "outputId": "dbf5d758-6567-45e6-c848-415c14923bef"
   },
   "outputs": [
    {
     "data": {
      "text/plain": [
       "0         0x6eb3f879cb30fe243b4dfee438691c043318585733ff\n",
       "1      0x606060405236156100825760e060020a600035046306...\n",
       "2      0x6080604052600080fd00a265627a7a723058204db7b4...\n",
       "3      0x6060604052361561004a576000357c01000000000000...\n",
       "4      0x60806040526004361061003b576000357c0100000000...\n",
       "                             ...                        \n",
       "995    0x608060405234801561001057600080fd5b5060043610...\n",
       "996         0x6d4946c0e9f43f4dee607b0ef1fa1c3318585733ff\n",
       "997    0x738018280076d7fa2caa1147e441352e8a89e1ddbe33...\n",
       "998    0x7300000000a8f806c754549943b6550a2594c9a12633...\n",
       "999    0x7300000000a8f806c754549943b6550a2594c9a12633...\n",
       "Name: bytecode, Length: 1000, dtype: object"
      ]
     },
     "execution_count": 82,
     "metadata": {},
     "output_type": "execute_result"
    }
   ],
   "source": [
    "contracts['bytecode']"
   ]
  },
  {
   "cell_type": "code",
   "execution_count": null,
   "metadata": {
    "colab": {
     "base_uri": "https://localhost:8080/",
     "height": 298
    },
    "executionInfo": {
     "elapsed": 398,
     "status": "ok",
     "timestamp": 1631753900925,
     "user": {
      "displayName": "Tracy Stephens",
      "photoUrl": "https://lh3.googleusercontent.com/a/default-user=s64",
      "userId": "09827283236120130105"
     },
     "user_tz": 240
    },
    "id": "PV9V-1GvFGmv",
    "outputId": "8dac3b1c-05e6-4bca-e1ed-71d9aa7f5c36"
   },
   "outputs": [
    {
     "name": "stdout",
     "output_type": "stream",
     "text": [
      "20\n"
     ]
    },
    {
     "data": {
      "image/png": "[encoded data removed]",
      "text/plain": [
       "<Figure size 864x288 with 1 Axes>"
      ]
     },
     "metadata": {
      "needs_background": "light"
     },
     "output_type": "display_data"
    }
   ],
   "source": [
    "# Question: Whar are function_sighashes?\n",
    "\n",
    "num_functions = np.asarray([len(i) for i in contracts['function_sighashes']])\n",
    "print(num_functions.max())\n",
    "pd.Series(num_functions).hist(bins=20, figsize=(12, 4))\n",
    "plt.title(\"Histogram of Count(function_sighashes)\");"
   ]
  },
  {
   "cell_type": "code",
   "execution_count": null,
   "metadata": {
    "id": "mRhu-cAUHJzy"
   },
   "outputs": [],
   "source": [
    "# Question: Do smart contracts prompt transactions? "
   ]
  },
  {
   "cell_type": "code",
   "execution_count": null,
   "metadata": {
    "id": "SNGhQwhWH3E1"
   },
   "outputs": [],
   "source": []
  },
  {
   "cell_type": "markdown",
   "metadata": {
    "id": "Ro9Joa2QH4R_"
   },
   "source": [
    "## Logs"
   ]
  },
  {
   "cell_type": "code",
   "execution_count": null,
   "metadata": {
    "id": "1ZUvUt9NH6Vo"
   },
   "outputs": [],
   "source": [
    "logs = data[\"logs\"]"
   ]
  },
  {
   "cell_type": "code",
   "execution_count": null,
   "metadata": {
    "colab": {
     "base_uri": "https://localhost:8080/"
    },
    "executionInfo": {
     "elapsed": 7,
     "status": "ok",
     "timestamp": 1631754122664,
     "user": {
      "displayName": "Tracy Stephens",
      "photoUrl": "https://lh3.googleusercontent.com/a/default-user=s64",
      "userId": "09827283236120130105"
     },
     "user_tz": 240
    },
    "id": "nXhUblXYH8Xm",
    "outputId": "59e8fdcf-a462-429f-ddce-793a2417a463"
   },
   "outputs": [
    {
     "name": "stdout",
     "output_type": "stream",
     "text": [
      "log_index\n",
      "transaction_hash\n",
      "transaction_index\n",
      "address\n",
      "data\n",
      "topics\n",
      "block_timestamp\n",
      "block_number\n",
      "block_hash\n"
     ]
    }
   ],
   "source": [
    "for col in logs.columns:\n",
    "  print(col)"
   ]
  },
  {
   "cell_type": "code",
   "execution_count": null,
   "metadata": {
    "colab": {
     "base_uri": "https://localhost:8080/"
    },
    "executionInfo": {
     "elapsed": 270,
     "status": "ok",
     "timestamp": 1631754155241,
     "user": {
      "displayName": "Tracy Stephens",
      "photoUrl": "https://lh3.googleusercontent.com/a/default-user=s64",
      "userId": "09827283236120130105"
     },
     "user_tz": 240
    },
    "id": "banwWXRIIEKU",
    "outputId": "a7c23a9c-1d34-4c6f-8d63-e2cdfc65ca07"
   },
   "outputs": [
    {
     "data": {
      "text/plain": [
       "{'address': False,\n",
       " 'block_hash': True,\n",
       " 'block_number': True,\n",
       " 'block_timestamp': True,\n",
       " 'data': False,\n",
       " 'log_index': False,\n",
       " 'topics': nan,\n",
       " 'transaction_hash': True,\n",
       " 'transaction_index': False}"
      ]
     },
     "execution_count": 81,
     "metadata": {},
     "output_type": "execute_result"
    }
   ],
   "source": [
    "{k : is_unique(logs[k]) for k in logs.columns}"
   ]
  },
  {
   "cell_type": "code",
   "execution_count": null,
   "metadata": {
    "colab": {
     "base_uri": "https://localhost:8080/",
     "height": 609
    },
    "executionInfo": {
     "elapsed": 381,
     "status": "ok",
     "timestamp": 1631754169328,
     "user": {
      "displayName": "Tracy Stephens",
      "photoUrl": "https://lh3.googleusercontent.com/a/default-user=s64",
      "userId": "09827283236120130105"
     },
     "user_tz": 240
    },
    "id": "UfEAhPK0IJQt",
    "outputId": "b6ea24e5-29ba-4c2c-a1b7-f165216b0e66"
   },
   "outputs": [
    {
     "data": {
      "text/html": [
       "<div>\n",
       "<style scoped>\n",
       "    .dataframe tbody tr th:only-of-type {\n",
       "        vertical-align: middle;\n",
       "    }\n",
       "\n",
       "    .dataframe tbody tr th {\n",
       "        vertical-align: top;\n",
       "    }\n",
       "\n",
       "    .dataframe thead th {\n",
       "        text-align: right;\n",
       "    }\n",
       "</style>\n",
       "<table border=\"1\" class=\"dataframe\">\n",
       "  <thead>\n",
       "    <tr style=\"text-align: right;\">\n",
       "      <th></th>\n",
       "      <th>log_index</th>\n",
       "      <th>transaction_hash</th>\n",
       "      <th>transaction_index</th>\n",
       "      <th>address</th>\n",
       "      <th>data</th>\n",
       "      <th>topics</th>\n",
       "      <th>block_timestamp</th>\n",
       "      <th>block_number</th>\n",
       "      <th>block_hash</th>\n",
       "    </tr>\n",
       "  </thead>\n",
       "  <tbody>\n",
       "    <tr>\n",
       "      <th>0</th>\n",
       "      <td>74</td>\n",
       "      <td>0x184d7c51d454828fc25105271d7884dd00ce14bcdd01...</td>\n",
       "      <td>53</td>\n",
       "      <td>0x98c6938f15cb8e12aff2a8ca9b0a9f2fc6e20901</td>\n",
       "      <td>0x00000000000000000000000000000000000000000000...</td>\n",
       "      <td>[0x1c411e9a96e071241c2f21f7726b17ae89e3cab4c78...</td>\n",
       "      <td>2020-07-14 20:57:15+00:00</td>\n",
       "      <td>10459901</td>\n",
       "      <td>0x4b3beb9ac6f63abee4dbfd67e61c1612a336e6167a15...</td>\n",
       "    </tr>\n",
       "    <tr>\n",
       "      <th>1</th>\n",
       "      <td>79</td>\n",
       "      <td>0xaa749c41096c4d0fd3b631d0205e86c7549f66090d1e...</td>\n",
       "      <td>1</td>\n",
       "      <td>0x8f7b0b40e27e357540f90f187d90ce06366ac5a5</td>\n",
       "      <td>0x00000000000000000000000000000000000000000000...</td>\n",
       "      <td>[0xddf252ad1be2c89b69c2b068fc378daa952ba7f163c...</td>\n",
       "      <td>2018-06-28 11:45:14+00:00</td>\n",
       "      <td>5868910</td>\n",
       "      <td>0x826c204660fa2fa2fd82e134cb019bbe853a17b5a3a9...</td>\n",
       "    </tr>\n",
       "    <tr>\n",
       "      <th>2</th>\n",
       "      <td>197</td>\n",
       "      <td>0x9f17dc48dc49055e248206a14a00cdffbde901284a37...</td>\n",
       "      <td>168</td>\n",
       "      <td>0x8ab98c28295ea3bd2db6ac8b3ca57a625c054bd1</td>\n",
       "      <td>0xffffffffffffffffffffffffffffffffffffffffffff...</td>\n",
       "      <td>[0x8c5be1e5ebec7d5bd14f71427d1e84f3dd0314c0f7b...</td>\n",
       "      <td>2021-01-10 11:03:26+00:00</td>\n",
       "      <td>11626709</td>\n",
       "      <td>0x0aa1aef3bc5583bd40f584ab63e8ae880cbe5dac0af7...</td>\n",
       "    </tr>\n",
       "    <tr>\n",
       "      <th>3</th>\n",
       "      <td>757</td>\n",
       "      <td>0x4c150ba53e81d114d48bbd81b78a230ad9a2010885cb...</td>\n",
       "      <td>45</td>\n",
       "      <td>0xc92e74b131d7b1d46e60e07f3fae5d8877dd03f0</td>\n",
       "      <td>0x00000000000000000000000000000000000000000000...</td>\n",
       "      <td>[0xddf252ad1be2c89b69c2b068fc378daa952ba7f163c...</td>\n",
       "      <td>2020-04-11 22:53:21+00:00</td>\n",
       "      <td>9853764</td>\n",
       "      <td>0xf8627b29bcdae23cb5ff19f251d501ce67de574c9919...</td>\n",
       "    </tr>\n",
       "    <tr>\n",
       "      <th>4</th>\n",
       "      <td>24</td>\n",
       "      <td>0x2250e21f118be5f5ca0232d42a0943f700efb215eec6...</td>\n",
       "      <td>23</td>\n",
       "      <td>0x34fa7ddde9d0e1b98cd281ee1e8ba1db37c64399</td>\n",
       "      <td>0x00000000000000000000000000000000000000000000...</td>\n",
       "      <td>[0x8b0128a4fabd37506205539bbe54f2446be33691844...</td>\n",
       "      <td>2019-08-17 11:29:50+00:00</td>\n",
       "      <td>8367705</td>\n",
       "      <td>0x9e4e275eee9b7757082620ec95c3cf2c84f6849ae14e...</td>\n",
       "    </tr>\n",
       "    <tr>\n",
       "      <th>...</th>\n",
       "      <td>...</td>\n",
       "      <td>...</td>\n",
       "      <td>...</td>\n",
       "      <td>...</td>\n",
       "      <td>...</td>\n",
       "      <td>...</td>\n",
       "      <td>...</td>\n",
       "      <td>...</td>\n",
       "      <td>...</td>\n",
       "    </tr>\n",
       "    <tr>\n",
       "      <th>995</th>\n",
       "      <td>67</td>\n",
       "      <td>0x5279d84592a5428dc86792be59a037d4b947bfad3ddd...</td>\n",
       "      <td>71</td>\n",
       "      <td>0x1e0447b19bb6ecfdae1e4ae1694b0c3659614e4e</td>\n",
       "      <td>0x00000000000000000000000000000000000000000000...</td>\n",
       "      <td>[0xf4626fd1187f91e6761ffb8a6ac3e8d9235a4a92da5...</td>\n",
       "      <td>2021-08-18 01:58:50+00:00</td>\n",
       "      <td>13046408</td>\n",
       "      <td>0x45674f415cac40c27f2600c3889fc1f2b67dd4f2315d...</td>\n",
       "    </tr>\n",
       "    <tr>\n",
       "      <th>996</th>\n",
       "      <td>246</td>\n",
       "      <td>0x8bb79574736570510a4dbad89aab82c9402dd8470b0b...</td>\n",
       "      <td>60</td>\n",
       "      <td>0x5a2c659fd2cbaa77c3fa30c062ca7cf7f9d60460</td>\n",
       "      <td>0x00000000000000000000000000000000000000000000...</td>\n",
       "      <td>[0x0f6798a560793a54c3bcfe86a93cde1e73087d944c0...</td>\n",
       "      <td>2018-03-24 03:42:39+00:00</td>\n",
       "      <td>5310903</td>\n",
       "      <td>0x527bbd4957a5ff0726794bc83310bff33926691aa4f7...</td>\n",
       "    </tr>\n",
       "    <tr>\n",
       "      <th>997</th>\n",
       "      <td>3</td>\n",
       "      <td>0x105b25f5b097005375eafeb691129a7a25ba6732da34...</td>\n",
       "      <td>2</td>\n",
       "      <td>0xf55c33d94150d93c2cfb833bcca30be388b14964</td>\n",
       "      <td>0x00000000000000000000000000000000000000000000...</td>\n",
       "      <td>[0xd78ad95fa46c994b6551d0da85fc275fe613ce37657...</td>\n",
       "      <td>2021-04-03 15:50:22+00:00</td>\n",
       "      <td>12167521</td>\n",
       "      <td>0xfad59978687c6e72cc8e5360bd60fc4cba4d2ab9e24e...</td>\n",
       "    </tr>\n",
       "    <tr>\n",
       "      <th>998</th>\n",
       "      <td>23</td>\n",
       "      <td>0xf3e0f09ed0ec024e26a83ea260bfa31ab1181fec14cf...</td>\n",
       "      <td>33</td>\n",
       "      <td>0xc02aaa39b223fe8d0a0e5c4f27ead9083c756cc2</td>\n",
       "      <td>0x00000000000000000000000000000000000000000000...</td>\n",
       "      <td>[0xddf252ad1be2c89b69c2b068fc378daa952ba7f163c...</td>\n",
       "      <td>2021-03-12 06:26:35+00:00</td>\n",
       "      <td>12022131</td>\n",
       "      <td>0x0b415023415b3f19ff96cc00d26607cb07fed90a9869...</td>\n",
       "    </tr>\n",
       "    <tr>\n",
       "      <th>999</th>\n",
       "      <td>122</td>\n",
       "      <td>0xb1e2a1d12dd415b26d5b5a9f0de086e07e42ffcfbb8a...</td>\n",
       "      <td>66</td>\n",
       "      <td>0x6811a4e0652732b89b10262f11f02916c3486272</td>\n",
       "      <td>0x00000000000000000000000000000000000000000000...</td>\n",
       "      <td>[0x5da8bee6926d973131e8cfc1908a8b2f62d7402ffb2...</td>\n",
       "      <td>2020-06-24 09:22:46+00:00</td>\n",
       "      <td>10327638</td>\n",
       "      <td>0x68427ca46efa8b39a5eb0c2afa92a64f7ba043f18419...</td>\n",
       "    </tr>\n",
       "  </tbody>\n",
       "</table>\n",
       "<p>1000 rows × 9 columns</p>\n",
       "</div>"
      ],
      "text/plain": [
       "     log_index  ...                                         block_hash\n",
       "0           74  ...  0x4b3beb9ac6f63abee4dbfd67e61c1612a336e6167a15...\n",
       "1           79  ...  0x826c204660fa2fa2fd82e134cb019bbe853a17b5a3a9...\n",
       "2          197  ...  0x0aa1aef3bc5583bd40f584ab63e8ae880cbe5dac0af7...\n",
       "3          757  ...  0xf8627b29bcdae23cb5ff19f251d501ce67de574c9919...\n",
       "4           24  ...  0x9e4e275eee9b7757082620ec95c3cf2c84f6849ae14e...\n",
       "..         ...  ...                                                ...\n",
       "995         67  ...  0x45674f415cac40c27f2600c3889fc1f2b67dd4f2315d...\n",
       "996        246  ...  0x527bbd4957a5ff0726794bc83310bff33926691aa4f7...\n",
       "997          3  ...  0xfad59978687c6e72cc8e5360bd60fc4cba4d2ab9e24e...\n",
       "998         23  ...  0x0b415023415b3f19ff96cc00d26607cb07fed90a9869...\n",
       "999        122  ...  0x68427ca46efa8b39a5eb0c2afa92a64f7ba043f18419...\n",
       "\n",
       "[1000 rows x 9 columns]"
      ]
     },
     "execution_count": 82,
     "metadata": {},
     "output_type": "execute_result"
    }
   ],
   "source": [
    "logs"
   ]
  }
 ],
 "metadata": {
  "colab": {
   "collapsed_sections": [],
   "name": "eda-tracy.ipynb",
   "provenance": []
  },
  "kernelspec": {
   "display_name": "conda_python3",
   "language": "python",
   "name": "conda_python3"
  },
  "language_info": {
   "codemirror_mode": {
    "name": "ipython",
    "version": 3
   },
   "file_extension": ".py",
   "mimetype": "text/x-python",
   "name": "python",
   "nbconvert_exporter": "python",
   "pygments_lexer": "ipython3",
   "version": "3.6.13"
  }
 },
 "nbformat": 4,
 "nbformat_minor": 4
}
