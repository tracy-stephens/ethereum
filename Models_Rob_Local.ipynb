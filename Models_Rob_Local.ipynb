{
 "cells": [
  {
   "cell_type": "code",
   "execution_count": 23,
   "id": "2d0db8e2",
   "metadata": {},
   "outputs": [
    {
     "name": "stdout",
     "output_type": "stream",
     "text": [
      "/home/ec2-user/SageMaker\n"
     ]
    }
   ],
   "source": [
    "# Directory\n",
    "\n",
    "!pwd"
   ]
  },
  {
   "cell_type": "code",
   "execution_count": 26,
   "id": "71ae3fc9",
   "metadata": {},
   "outputs": [],
   "source": [
    "# Confirm sagemaker role exists\n",
    "\n",
    "import sagemaker\n",
    "from sagemaker import get_execution_role\n",
    "from sagemaker.session import Session\n",
    "\n",
    "role = get_execution_role()\n",
    "\n",
    "try:\n",
    "    role = sagemaker.get_execution_role()\n",
    "except ValueError:\n",
    "    iam = boto3.client('iam')\n",
    "    role = iam.get_role(RoleName='arn:aws:iam::971504885040:role/SageMaker')['Role']['Arn']"
   ]
  },
  {
   "cell_type": "code",
   "execution_count": 27,
   "id": "4aec6e3c",
   "metadata": {},
   "outputs": [
    {
     "name": "stdout",
     "output_type": "stream",
     "text": [
      "\n"
     ]
    }
   ],
   "source": [
    "# Import files from S3\n",
    "\n",
    "import pandas as pd\n",
    "import boto3\n",
    "import io\n",
    "\n",
    "bucket = \"sagemaker-w210-eth\"\n",
    "\n",
    "# Txt file\n",
    "data_key = '2021-09-01/transaction_hashes_13136427_13142881.txt'\n",
    "s3_client = boto3.client('s3')\n",
    "obj = s3_client.get_object(Bucket=bucket, Key=data_key)\n",
    "contents = obj['Body'].read()\n",
    "print(contents.decode(\"utf-8\"))\n",
    "\n",
    "# CSV file\n",
    "# file_key = '2021-09-01/tokens_13136427_13142881.csv'\n",
    "# s3_client = boto3.client('s3')\n",
    "# obj = s3_client.get_object(Bucket=bucket, Key=file_key)\n",
    "# df = pd.read_csv(io.BytesIO(obj['Body'].read()))\n",
    "# df.head()"
   ]
  },
  {
   "cell_type": "code",
   "execution_count": null,
   "id": "680e8a25",
   "metadata": {},
   "outputs": [],
   "source": []
  },
  {
   "cell_type": "markdown",
   "id": "8089c0e2",
   "metadata": {},
   "source": [
    "# Imports"
   ]
  },
  {
   "cell_type": "code",
   "execution_count": 1,
   "id": "7ee89f38",
   "metadata": {},
   "outputs": [],
   "source": [
    "%load_ext autoreload\n",
    "%autoreload 2\n",
    "\n",
    "import numpy as np\n",
    "import pandas as pd\n",
    "import matplotlib.pyplot as plt\n",
    "from tqdm import tqdm\n",
    "from numpy import intersect1d\n",
    "from datetime import datetime\n",
    "from pyathena import connect"
   ]
  },
  {
   "cell_type": "code",
   "execution_count": 3,
   "id": "17662415",
   "metadata": {},
   "outputs": [],
   "source": [
    "from ethereum import (\n",
    "    timestamp_to_datetime,\n",
    "    EthereumData\n",
    ")\n",
    "from utils import (\n",
    "    latest,\n",
    "    lead_lag,\n",
    "    add_latest_avail_block,\n",
    "    lagged_block_data\n",
    ")"
   ]
  },
  {
   "cell_type": "code",
   "execution_count": 4,
   "id": "7184f8f9",
   "metadata": {},
   "outputs": [],
   "source": [
    "conn = connect(\n",
    "    s3_staging_dir='s3://sagemaker-w210-eth/raw_data/August/',\n",
    "    region_name='us-west-2'\n",
    ")"
   ]
  },
  {
   "cell_type": "code",
   "execution_count": 5,
   "id": "ce9bb231",
   "metadata": {},
   "outputs": [],
   "source": [
    "conn.close()"
   ]
  },
  {
   "cell_type": "code",
   "execution_count": 6,
   "id": "543f2470",
   "metadata": {},
   "outputs": [
    {
     "data": {
      "text/plain": [
       "(174710, 9)"
      ]
     },
     "execution_count": 6,
     "metadata": {},
     "output_type": "execute_result"
    }
   ],
   "source": [
    "cols = [\n",
    "    'number', 'difficulty', 'total_difficulty', 'size', 'gas_limit', \n",
    "    'gas_used', 'timestamp', 'transaction_count', 'base_fee_per_gas'\n",
    "]\n",
    "\n",
    "blocks = pd.read_sql(f\"SELECT {', '.join(cols)} FROM ethereumetl.blocks\", conn)\n",
    "blocks.shape"
   ]
  },
  {
   "cell_type": "code",
   "execution_count": 7,
   "id": "5b5e9874",
   "metadata": {},
   "outputs": [
    {
     "data": {
      "text/html": [
       "<div>\n",
       "<style scoped>\n",
       "    .dataframe tbody tr th:only-of-type {\n",
       "        vertical-align: middle;\n",
       "    }\n",
       "\n",
       "    .dataframe tbody tr th {\n",
       "        vertical-align: top;\n",
       "    }\n",
       "\n",
       "    .dataframe thead th {\n",
       "        text-align: right;\n",
       "    }\n",
       "</style>\n",
       "<table border=\"1\" class=\"dataframe\">\n",
       "  <thead>\n",
       "    <tr style=\"text-align: right;\">\n",
       "      <th></th>\n",
       "      <th>number</th>\n",
       "      <th>difficulty</th>\n",
       "      <th>total_difficulty</th>\n",
       "      <th>size</th>\n",
       "      <th>gas_limit</th>\n",
       "      <th>gas_used</th>\n",
       "      <th>timestamp</th>\n",
       "      <th>transaction_count</th>\n",
       "      <th>base_fee_per_gas</th>\n",
       "    </tr>\n",
       "  </thead>\n",
       "  <tbody>\n",
       "    <tr>\n",
       "      <th>0</th>\n",
       "      <td>NaN</td>\n",
       "      <td>None</td>\n",
       "      <td>None</td>\n",
       "      <td>NaN</td>\n",
       "      <td>NaN</td>\n",
       "      <td>NaN</td>\n",
       "      <td>NaN</td>\n",
       "      <td>NaN</td>\n",
       "      <td>NaN</td>\n",
       "    </tr>\n",
       "    <tr>\n",
       "      <th>1</th>\n",
       "      <td>12962018.0</td>\n",
       "      <td>None</td>\n",
       "      <td>None</td>\n",
       "      <td>55433.0</td>\n",
       "      <td>15000000.0</td>\n",
       "      <td>14994306.0</td>\n",
       "      <td>1.628126e+09</td>\n",
       "      <td>160.0</td>\n",
       "      <td>NaN</td>\n",
       "    </tr>\n",
       "    <tr>\n",
       "      <th>2</th>\n",
       "      <td>12962019.0</td>\n",
       "      <td>None</td>\n",
       "      <td>None</td>\n",
       "      <td>79403.0</td>\n",
       "      <td>14985353.0</td>\n",
       "      <td>14969945.0</td>\n",
       "      <td>1.628126e+09</td>\n",
       "      <td>217.0</td>\n",
       "      <td>NaN</td>\n",
       "    </tr>\n",
       "    <tr>\n",
       "      <th>3</th>\n",
       "      <td>12962020.0</td>\n",
       "      <td>None</td>\n",
       "      <td>None</td>\n",
       "      <td>69949.0</td>\n",
       "      <td>14970720.0</td>\n",
       "      <td>14964505.0</td>\n",
       "      <td>1.628126e+09</td>\n",
       "      <td>155.0</td>\n",
       "      <td>NaN</td>\n",
       "    </tr>\n",
       "    <tr>\n",
       "      <th>4</th>\n",
       "      <td>12962021.0</td>\n",
       "      <td>None</td>\n",
       "      <td>None</td>\n",
       "      <td>92704.0</td>\n",
       "      <td>14956102.0</td>\n",
       "      <td>14944125.0</td>\n",
       "      <td>1.628126e+09</td>\n",
       "      <td>195.0</td>\n",
       "      <td>NaN</td>\n",
       "    </tr>\n",
       "  </tbody>\n",
       "</table>\n",
       "</div>"
      ],
      "text/plain": [
       "       number difficulty total_difficulty     size   gas_limit    gas_used  \\\n",
       "0         NaN       None             None      NaN         NaN         NaN   \n",
       "1  12962018.0       None             None  55433.0  15000000.0  14994306.0   \n",
       "2  12962019.0       None             None  79403.0  14985353.0  14969945.0   \n",
       "3  12962020.0       None             None  69949.0  14970720.0  14964505.0   \n",
       "4  12962021.0       None             None  92704.0  14956102.0  14944125.0   \n",
       "\n",
       "      timestamp  transaction_count  base_fee_per_gas  \n",
       "0           NaN                NaN               NaN  \n",
       "1  1.628126e+09              160.0               NaN  \n",
       "2  1.628126e+09              217.0               NaN  \n",
       "3  1.628126e+09              155.0               NaN  \n",
       "4  1.628126e+09              195.0               NaN  "
      ]
     },
     "execution_count": 7,
     "metadata": {},
     "output_type": "execute_result"
    }
   ],
   "source": [
    "blocks.head()"
   ]
  },
  {
   "cell_type": "code",
   "execution_count": 1,
   "id": "490c2d77",
   "metadata": {},
   "outputs": [
    {
     "name": "stdout",
     "output_type": "stream",
     "text": [
      "OK\n"
     ]
    }
   ],
   "source": [
    "import numpy as np\n",
    "import pandas as pd\n",
    "\n",
    "import os\n",
    "from sklearn.compose import ColumnTransformer\n",
    "from sklearn.pipeline import Pipeline\n",
    "from sklearn.impute import SimpleImputer\n",
    "from sklearn.preprocessing import LabelEncoder, OneHotEncoder\n",
    "from sklearn.model_selection import train_test_split\n",
    "from sklearn.metrics import mean_squared_error\n",
    "import math\n",
    "import seaborn as sns\n",
    "import matplotlib.pyplot as plt\n",
    "from sklearn.ensemble import RandomForestRegressor    \n",
    "# from xgboost import XGBRegressor\n",
    "from sklearn.model_selection import GridSearchCV\n",
    "print(\"OK\")\n",
    "\n",
    "import warnings\n",
    "warnings.filterwarnings('ignore')\n",
    "\n",
    "from sklearn.linear_model import LinearRegression, Ridge\n",
    "from sklearn.metrics import mean_squared_error, mean_absolute_error\n",
    "from sklearn import metrics\n",
    "\n",
    "from scipy.stats import norm\n",
    "from scipy import stats\n",
    "\n",
    "import xgboost as xgb\n",
    "from xgboost import plot_importance"
   ]
  },
  {
   "cell_type": "markdown",
   "id": "ccacd660",
   "metadata": {},
   "source": [
    "## Load Data"
   ]
  },
  {
   "cell_type": "code",
   "execution_count": 2,
   "id": "d11d102f",
   "metadata": {},
   "outputs": [],
   "source": [
    "data = pd.read_csv(r'C:\\Users\\rol\\Desktop\\w210\\merged_df.csv')"
   ]
  },
  {
   "cell_type": "code",
   "execution_count": 3,
   "id": "ad2ca146",
   "metadata": {},
   "outputs": [
    {
     "data": {
      "text/html": [
       "<div>\n",
       "<style scoped>\n",
       "    .dataframe tbody tr th:only-of-type {\n",
       "        vertical-align: middle;\n",
       "    }\n",
       "\n",
       "    .dataframe tbody tr th {\n",
       "        vertical-align: top;\n",
       "    }\n",
       "\n",
       "    .dataframe thead th {\n",
       "        text-align: right;\n",
       "    }\n",
       "</style>\n",
       "<table border=\"1\" class=\"dataframe\">\n",
       "  <thead>\n",
       "    <tr style=\"text-align: right;\">\n",
       "      <th></th>\n",
       "      <th>Unnamed: 0</th>\n",
       "      <th>datetime</th>\n",
       "      <th>lag_cutoff</th>\n",
       "      <th>latest_avail_block</th>\n",
       "      <th>timestamp</th>\n",
       "      <th>difficulty</th>\n",
       "      <th>total_difficulty</th>\n",
       "      <th>size</th>\n",
       "      <th>gas_limit</th>\n",
       "      <th>gas_used_x</th>\n",
       "      <th>...</th>\n",
       "      <th>gas</th>\n",
       "      <th>gas_price</th>\n",
       "      <th>max_fee_per_gas</th>\n",
       "      <th>max_priority_fee_per_gas</th>\n",
       "      <th>transaction_type</th>\n",
       "      <th>transaction_hash</th>\n",
       "      <th>cumulative_gas_used</th>\n",
       "      <th>gas_used_y</th>\n",
       "      <th>status</th>\n",
       "      <th>effective_gas_price</th>\n",
       "    </tr>\n",
       "  </thead>\n",
       "  <tbody>\n",
       "    <tr>\n",
       "      <th>0</th>\n",
       "      <td>0</td>\n",
       "      <td>2021-09-01 00:00:12</td>\n",
       "      <td>2021-08-31 23:59:12</td>\n",
       "      <td>NaN</td>\n",
       "      <td>1630454412</td>\n",
       "      <td>8409848555241209</td>\n",
       "      <td>29853078656530319963926</td>\n",
       "      <td>160051</td>\n",
       "      <td>30029266</td>\n",
       "      <td>30015153</td>\n",
       "      <td>...</td>\n",
       "      <td>300000.0</td>\n",
       "      <td>1.243733e+11</td>\n",
       "      <td>NaN</td>\n",
       "      <td>NaN</td>\n",
       "      <td>0.0</td>\n",
       "      <td>0xdf1540c9bb3e44dc41e35603046bbffd67171b31399e...</td>\n",
       "      <td>164019.0</td>\n",
       "      <td>164019.0</td>\n",
       "      <td>1.0</td>\n",
       "      <td>1.243733e+11</td>\n",
       "    </tr>\n",
       "    <tr>\n",
       "      <th>1</th>\n",
       "      <td>1</td>\n",
       "      <td>2021-09-01 00:00:12</td>\n",
       "      <td>2021-08-31 23:59:12</td>\n",
       "      <td>NaN</td>\n",
       "      <td>1630454412</td>\n",
       "      <td>8409848555241209</td>\n",
       "      <td>29853078656530319963926</td>\n",
       "      <td>160051</td>\n",
       "      <td>30029266</td>\n",
       "      <td>30015153</td>\n",
       "      <td>...</td>\n",
       "      <td>265742.0</td>\n",
       "      <td>1.242028e+11</td>\n",
       "      <td>3.497839e+11</td>\n",
       "      <td>0.000000e+00</td>\n",
       "      <td>2.0</td>\n",
       "      <td>0x35c8854601809a98bbdb0ef84ae8def378962f5b609c...</td>\n",
       "      <td>390486.0</td>\n",
       "      <td>226467.0</td>\n",
       "      <td>1.0</td>\n",
       "      <td>1.242028e+11</td>\n",
       "    </tr>\n",
       "    <tr>\n",
       "      <th>2</th>\n",
       "      <td>2</td>\n",
       "      <td>2021-09-01 00:00:12</td>\n",
       "      <td>2021-08-31 23:59:12</td>\n",
       "      <td>NaN</td>\n",
       "      <td>1630454412</td>\n",
       "      <td>8409848555241209</td>\n",
       "      <td>29853078656530319963926</td>\n",
       "      <td>160051</td>\n",
       "      <td>30029266</td>\n",
       "      <td>30015153</td>\n",
       "      <td>...</td>\n",
       "      <td>250000.0</td>\n",
       "      <td>3.490306e+11</td>\n",
       "      <td>NaN</td>\n",
       "      <td>NaN</td>\n",
       "      <td>0.0</td>\n",
       "      <td>0xa702f078b50ef377bd165f21d28e7238acca741f74e3...</td>\n",
       "      <td>496355.0</td>\n",
       "      <td>105869.0</td>\n",
       "      <td>1.0</td>\n",
       "      <td>3.490306e+11</td>\n",
       "    </tr>\n",
       "    <tr>\n",
       "      <th>3</th>\n",
       "      <td>3</td>\n",
       "      <td>2021-09-01 00:00:12</td>\n",
       "      <td>2021-08-31 23:59:12</td>\n",
       "      <td>NaN</td>\n",
       "      <td>1630454412</td>\n",
       "      <td>8409848555241209</td>\n",
       "      <td>29853078656530319963926</td>\n",
       "      <td>160051</td>\n",
       "      <td>30029266</td>\n",
       "      <td>30015153</td>\n",
       "      <td>...</td>\n",
       "      <td>286357.0</td>\n",
       "      <td>1.262028e+11</td>\n",
       "      <td>1.998429e+11</td>\n",
       "      <td>2.000000e+09</td>\n",
       "      <td>2.0</td>\n",
       "      <td>0xf32ecb8b499256a8ca64c5ab023db661ae505a87e671...</td>\n",
       "      <td>682268.0</td>\n",
       "      <td>185913.0</td>\n",
       "      <td>1.0</td>\n",
       "      <td>1.262028e+11</td>\n",
       "    </tr>\n",
       "    <tr>\n",
       "      <th>4</th>\n",
       "      <td>4</td>\n",
       "      <td>2021-09-01 00:00:12</td>\n",
       "      <td>2021-08-31 23:59:12</td>\n",
       "      <td>NaN</td>\n",
       "      <td>1630454412</td>\n",
       "      <td>8409848555241209</td>\n",
       "      <td>29853078656530319963926</td>\n",
       "      <td>160051</td>\n",
       "      <td>30029266</td>\n",
       "      <td>30015153</td>\n",
       "      <td>...</td>\n",
       "      <td>238807.0</td>\n",
       "      <td>1.447516e+11</td>\n",
       "      <td>1.447516e+11</td>\n",
       "      <td>1.447516e+11</td>\n",
       "      <td>2.0</td>\n",
       "      <td>0x0a591170911e195c5ef139bcc0a78fc42e268e7e3212...</td>\n",
       "      <td>836485.0</td>\n",
       "      <td>154217.0</td>\n",
       "      <td>1.0</td>\n",
       "      <td>1.447516e+11</td>\n",
       "    </tr>\n",
       "  </tbody>\n",
       "</table>\n",
       "<p>5 rows × 32 columns</p>\n",
       "</div>"
      ],
      "text/plain": [
       "   Unnamed: 0             datetime           lag_cutoff  latest_avail_block  \\\n",
       "0           0  2021-09-01 00:00:12  2021-08-31 23:59:12                 NaN   \n",
       "1           1  2021-09-01 00:00:12  2021-08-31 23:59:12                 NaN   \n",
       "2           2  2021-09-01 00:00:12  2021-08-31 23:59:12                 NaN   \n",
       "3           3  2021-09-01 00:00:12  2021-08-31 23:59:12                 NaN   \n",
       "4           4  2021-09-01 00:00:12  2021-08-31 23:59:12                 NaN   \n",
       "\n",
       "    timestamp        difficulty         total_difficulty    size  gas_limit  \\\n",
       "0  1630454412  8409848555241209  29853078656530319963926  160051   30029266   \n",
       "1  1630454412  8409848555241209  29853078656530319963926  160051   30029266   \n",
       "2  1630454412  8409848555241209  29853078656530319963926  160051   30029266   \n",
       "3  1630454412  8409848555241209  29853078656530319963926  160051   30029266   \n",
       "4  1630454412  8409848555241209  29853078656530319963926  160051   30029266   \n",
       "\n",
       "   gas_used_x  ...       gas     gas_price  max_fee_per_gas  \\\n",
       "0    30015153  ...  300000.0  1.243733e+11              NaN   \n",
       "1    30015153  ...  265742.0  1.242028e+11     3.497839e+11   \n",
       "2    30015153  ...  250000.0  3.490306e+11              NaN   \n",
       "3    30015153  ...  286357.0  1.262028e+11     1.998429e+11   \n",
       "4    30015153  ...  238807.0  1.447516e+11     1.447516e+11   \n",
       "\n",
       "   max_priority_fee_per_gas  transaction_type  \\\n",
       "0                       NaN               0.0   \n",
       "1              0.000000e+00               2.0   \n",
       "2                       NaN               0.0   \n",
       "3              2.000000e+09               2.0   \n",
       "4              1.447516e+11               2.0   \n",
       "\n",
       "                                    transaction_hash  cumulative_gas_used  \\\n",
       "0  0xdf1540c9bb3e44dc41e35603046bbffd67171b31399e...             164019.0   \n",
       "1  0x35c8854601809a98bbdb0ef84ae8def378962f5b609c...             390486.0   \n",
       "2  0xa702f078b50ef377bd165f21d28e7238acca741f74e3...             496355.0   \n",
       "3  0xf32ecb8b499256a8ca64c5ab023db661ae505a87e671...             682268.0   \n",
       "4  0x0a591170911e195c5ef139bcc0a78fc42e268e7e3212...             836485.0   \n",
       "\n",
       "   gas_used_y  status  effective_gas_price  \n",
       "0    164019.0     1.0         1.243733e+11  \n",
       "1    226467.0     1.0         1.242028e+11  \n",
       "2    105869.0     1.0         3.490306e+11  \n",
       "3    185913.0     1.0         1.262028e+11  \n",
       "4    154217.0     1.0         1.447516e+11  \n",
       "\n",
       "[5 rows x 32 columns]"
      ]
     },
     "execution_count": 3,
     "metadata": {},
     "output_type": "execute_result"
    }
   ],
   "source": [
    "data.head()"
   ]
  },
  {
   "cell_type": "code",
   "execution_count": 4,
   "id": "ba73cf05",
   "metadata": {},
   "outputs": [
    {
     "name": "stdout",
     "output_type": "stream",
     "text": [
      "min block number: 13136427\n",
      "median block number: 13139616.0\n",
      "max block number: 13142881\n"
     ]
    }
   ],
   "source": [
    "print(\"min block number:\", data.block_number.min())\n",
    "print(\"median block number:\", data.block_number.median())\n",
    "print(\"max block number:\", data.block_number.max())"
   ]
  },
  {
   "cell_type": "code",
   "execution_count": 5,
   "id": "159f2dcb",
   "metadata": {},
   "outputs": [
    {
     "name": "stdout",
     "output_type": "stream",
     "text": [
      "length of data before dropping NAs: 1225214\n",
      "length of data after dropping NAs: 629154\n"
     ]
    }
   ],
   "source": [
    "print(\"length of data before dropping NAs:\", len(data))\n",
    "data = data.dropna()\n",
    "print(\"length of data after dropping NAs:\", len(data))"
   ]
  },
  {
   "cell_type": "markdown",
   "id": "a66f8b84",
   "metadata": {},
   "source": [
    "## Create train / dev / test splits"
   ]
  },
  {
   "cell_type": "code",
   "execution_count": 14,
   "id": "709a6411",
   "metadata": {},
   "outputs": [],
   "source": [
    "\n",
    "X_columns = ['difficulty_mean_5_lagged', 'size_mean_5_lagged', 'gas_limit_mean_5_lagged', \n",
    "                    'base_fee_per_gas_mean_5_lagged']\n",
    "\n",
    "Y_column = ['effective_gas_price']\n",
    "\n",
    "# X_train = data[data.timestamp<'10/01/2021'][X_columns]\n",
    "# Y_train = data[data.timestamp<'10/01/2021'][Y_column]\n",
    "\n",
    "# X_dev = data[(data.timestamp>='10/01/2021') & (data.timestamp<='11/01/2021')][X_columns]\n",
    "# Y_dev = data[(data.timestamp>='10/01/2021') & (data.timestamp<='11/01/2021')][Y_column]\n",
    "\n",
    "# X_test = data[data.timestamp>'11/01/2021'][X_columns]\n",
    "# Y_test = data[data.timestamp>'11/01/2021'][Y_column]\n",
    "\n",
    "X_train = data[data.block_number<13141000][X_columns]\n",
    "Y_train = data[data.block_number<13141000][Y_column]\n",
    "\n",
    "X_dev = data[(data.block_number>=13141000) & (data.block_number<=13141000)][X_columns]\n",
    "Y_dev = data[(data.block_number>=13141000) & (data.block_number<=13141000)][Y_column]\n",
    "\n",
    "X_test = data[data.block_number>13143000][X_columns]\n",
    "Y_test = data[data.block_number>13143000][Y_column]\n",
    "\n",
    "#create data sets that concatenates X's and y's for EDA\n",
    "train_data = X_train.copy()\n",
    "dev_data = X_dev.copy()\n",
    "test_data = X_test.copy()"
   ]
  },
  {
   "cell_type": "code",
   "execution_count": 13,
   "id": "22f6bb34",
   "metadata": {},
   "outputs": [
    {
     "data": {
      "text/plain": [
       "Index(['Unnamed: 0', 'datetime', 'lag_cutoff', 'latest_avail_block',\n",
       "       'timestamp', 'difficulty', 'total_difficulty', 'size', 'gas_limit',\n",
       "       'gas_used_x', 'transaction_count', 'base_fee_per_gas',\n",
       "       'timestamp_mean_5_lagged', 'difficulty_mean_5_lagged',\n",
       "       'total_difficulty_mean_5_lagged', 'size_mean_5_lagged',\n",
       "       'gas_limit_mean_5_lagged', 'gas_used_mean_5_lagged',\n",
       "       'transaction_count_mean_5_lagged', 'base_fee_per_gas_mean_5_lagged',\n",
       "       'hash', 'block_number', 'gas', 'gas_price', 'max_fee_per_gas',\n",
       "       'max_priority_fee_per_gas', 'transaction_type', 'transaction_hash',\n",
       "       'cumulative_gas_used', 'gas_used_y', 'status', 'effective_gas_price'],\n",
       "      dtype='object')"
      ]
     },
     "execution_count": 13,
     "metadata": {},
     "output_type": "execute_result"
    }
   ],
   "source": [
    "data.columns"
   ]
  },
  {
   "cell_type": "markdown",
   "id": "6c6b28fb",
   "metadata": {},
   "source": [
    "## Linear Regression"
   ]
  },
  {
   "cell_type": "code",
   "execution_count": 15,
   "id": "548a9532",
   "metadata": {},
   "outputs": [
    {
     "name": "stdout",
     "output_type": "stream",
     "text": [
      "The MSE of the Linear Regression model on train data is: 13619172329015994220544.0000\n",
      "The RMSE of the Linear Regression model on train data is: 116701209629.6178\n",
      "The R^2 of the Linear Regression model on train data is: 0.0960\n",
      "The MSE of the Linear Regression model on dev data is: 914342224284898295808.0000\n",
      "The RMSE of the Linear Regression model on dev data is: 30238092272.5773\n",
      "The R^2 of the Linear Regression model on dev data is: -0.0032\n"
     ]
    },
    {
     "data": {
      "text/plain": [
       "array([[-1.41536299e-05,  8.50360425e+04, -1.43444418e+04,\n",
       "         9.66423484e-01]])"
      ]
     },
     "execution_count": 15,
     "metadata": {},
     "output_type": "execute_result"
    }
   ],
   "source": [
    "# Call in the LinearRegression object\n",
    "lin_reg = LinearRegression(normalize=True, n_jobs=-1)\n",
    "\n",
    "lin_reg_features = ['difficulty_mean_5_lagged', 'size_mean_5_lagged', 'gas_limit_mean_5_lagged', \n",
    "                    'base_fee_per_gas_mean_5_lagged']\n",
    "\n",
    "\n",
    "# fit train and test data. \n",
    "lin_reg.fit(X_train[lin_reg_features], Y_train)\n",
    "\n",
    "# Predict train data. \n",
    "y_train_pred = lin_reg.predict(X_train[lin_reg_features])\n",
    "\n",
    "# Get training metrics\n",
    "lr_mse_train = mean_squared_error(Y_train, y_train_pred)\n",
    "lr_rmse_train = np.sqrt(mean_squared_error(Y_train, y_train_pred))\n",
    "lr_r2score_train = metrics.r2_score(Y_train, y_train_pred)\n",
    "\n",
    "print ('The MSE of the Linear Regression model on train data is: %.4f'%lr_mse_train)\n",
    "print ('The RMSE of the Linear Regression model on train data is: %.4f'%lr_rmse_train)\n",
    "print ('The R^2 of the Linear Regression model on train data is: %.4f'%lr_r2score_train)\n",
    "\n",
    "# Predict dev data. \n",
    "y_dev_pred_lr = lin_reg.predict(X_dev[lin_reg_features])\n",
    "\n",
    "lr_mse_dev = mean_squared_error(Y_dev, y_dev_pred_lr)\n",
    "lr_rmse_dev = np.sqrt(mean_squared_error(Y_dev, y_dev_pred_lr))\n",
    "lr_r2score_dev = metrics.r2_score(Y_dev, y_dev_pred_lr)\n",
    "\n",
    "print ('The MSE of the Linear Regression model on dev data is: %.4f'%lr_mse_dev)\n",
    "print ('The RMSE of the Linear Regression model on dev data is: %.4f'%lr_rmse_dev)\n",
    "print ('The R^2 of the Linear Regression model on dev data is: %.4f'%lr_r2score_dev)\n",
    "\n",
    "lin_reg.coef_"
   ]
  },
  {
   "cell_type": "code",
   "execution_count": 16,
   "id": "e9310506",
   "metadata": {},
   "outputs": [
    {
     "name": "stdout",
     "output_type": "stream",
     "text": [
      "                             OLS Regression Results                            \n",
      "===============================================================================\n",
      "Dep. Variable:     effective_gas_price   R-squared:                       0.096\n",
      "Model:                             OLS   Adj. R-squared:                  0.096\n",
      "Method:                  Least Squares   F-statistic:                 1.571e+04\n",
      "Date:                 Wed, 20 Oct 2021   Prob (F-statistic):               0.00\n",
      "Time:                         09:54:41   Log-Likelihood:            -1.1945e+07\n",
      "No. Observations:               444015   AIC:                         2.389e+07\n",
      "Df Residuals:                   444011   BIC:                         2.389e+07\n",
      "Df Model:                            3                                         \n",
      "Covariance Type:             nonrobust                                         \n",
      "==================================================================================================\n",
      "                                     coef    std err          t      P>|t|      [0.025      0.975]\n",
      "--------------------------------------------------------------------------------------------------\n",
      "difficulty_mean_5_lagged       -1.411e-05   1.82e-06     -7.736      0.000   -1.77e-05   -1.05e-05\n",
      "size_mean_5_lagged              8.521e+04   7724.308     11.031      0.000    7.01e+04       1e+05\n",
      "gas_limit_mean_5_lagged         4038.8147    514.418      7.851      0.000    3030.571    5047.058\n",
      "base_fee_per_gas_mean_5_lagged     0.9666      0.005    187.458      0.000       0.957       0.977\n",
      "==============================================================================\n",
      "Omnibus:                  2065568.155   Durbin-Watson:                   1.916\n",
      "Prob(Omnibus):                  0.000   Jarque-Bera (JB):   36195810477754.719\n",
      "Skew:                         167.909   Prob(JB):                         0.00\n",
      "Kurtosis:                   44233.662   Cond. No.                     3.69e+11\n",
      "==============================================================================\n",
      "\n",
      "Warnings:\n",
      "[1] Standard Errors assume that the covariance matrix of the errors is correctly specified.\n",
      "[2] The condition number is large, 3.69e+11. This might indicate that there are\n",
      "strong multicollinearity or other numerical problems.\n"
     ]
    }
   ],
   "source": [
    "import statsmodels.api as sm\n",
    "mod = sm.OLS(Y_train,X_train[lin_reg_features])\n",
    "mod2 = mod.fit()\n",
    "print(mod2.summary())"
   ]
  },
  {
   "cell_type": "markdown",
   "id": "c3077554",
   "metadata": {},
   "source": [
    "## Ridge Regression"
   ]
  },
  {
   "cell_type": "code",
   "execution_count": 17,
   "id": "59bfb3b5",
   "metadata": {},
   "outputs": [
    {
     "name": "stdout",
     "output_type": "stream",
     "text": [
      "The MSE of the Ridge Regression model on train data is: 13619172329015994220544.0000\n",
      "The RMSE of the Ridge Regression model on train data is: 116701209629.6178\n",
      "The R^2 of the Ridge Regression model on train data is: 0.0960\n",
      "The MSE of the Ridge Regression model on dev data is: 914342224284898295808.0000\n",
      "The RMSE of the Ridge Regression model on dev data is: 30238092272.5773\n",
      "The R^2 of the Ridge Regression model on dev data is: -0.0032\n",
      "coefficients: [[-1.41536299e-05  8.50360425e+04 -1.43444418e+04  9.66423484e-01]]\n"
     ]
    }
   ],
   "source": [
    "#Instantiate regression\n",
    "ridge_reg = Ridge(alpha=0.75, random_state=42)\n",
    "\n",
    "# fit train and test data. \n",
    "ridge_reg.fit(X_train[lin_reg_features], Y_train)\n",
    "\n",
    "# Predict train data. \n",
    "y_train_pred_rr = ridge_reg.predict(X_train[lin_reg_features])\n",
    "\n",
    "# Get training metrics\n",
    "rr_mse_train = mean_squared_error(Y_train, y_train_pred)\n",
    "rr_rmse_train = np.sqrt(mean_squared_error(Y_train, y_train_pred))\n",
    "rr_r2score_train = metrics.r2_score(Y_train, y_train_pred)\n",
    "\n",
    "print ('The MSE of the Ridge Regression model on train data is: %.4f'%rr_mse_train)\n",
    "print ('The RMSE of the Ridge Regression model on train data is: %.4f'%rr_rmse_train)\n",
    "print ('The R^2 of the Ridge Regression model on train data is: %.4f'%rr_r2score_train)\n",
    "\n",
    "# Predict dev data. \n",
    "y_dev_pred_rr = ridge_reg.predict(X_dev[lin_reg_features])\n",
    "\n",
    "rr_mse_dev = mean_squared_error(Y_dev, y_dev_pred_rr)\n",
    "rr_rmse_dev = np.sqrt(mean_squared_error(Y_dev, y_dev_pred_rr))\n",
    "rr_r2score_dev = metrics.r2_score(Y_dev, y_dev_pred_rr)\n",
    "\n",
    "print ('The MSE of the Ridge Regression model on dev data is: %.4f'%lr_mse_dev)\n",
    "print ('The RMSE of the Ridge Regression model on dev data is: %.4f'%lr_rmse_dev)\n",
    "print ('The R^2 of the Ridge Regression model on dev data is: %.4f'%lr_r2score_dev)\n",
    "\n",
    "print(\"coefficients:\", ridge_reg.coef_)"
   ]
  },
  {
   "cell_type": "markdown",
   "id": "8dedf9f4",
   "metadata": {},
   "source": [
    "## Random Forest"
   ]
  },
  {
   "cell_type": "code",
   "execution_count": 19,
   "id": "0a66d3e1",
   "metadata": {},
   "outputs": [
    {
     "name": "stdout",
     "output_type": "stream",
     "text": [
      "1.3583380527214555e+22\n",
      "9.117129486307909e+20\n"
     ]
    }
   ],
   "source": [
    "#Instantiate the random forest\n",
    "rf = RandomForestRegressor(n_estimators = 1000, max_depth = 3, bootstrap = True, max_features = 4, \n",
    "                           min_samples_leaf = 50, random_state = 42)\n",
    "\n",
    "rf_features = ['difficulty_mean_5_lagged', 'size_mean_5_lagged', 'gas_limit_mean_5_lagged', \n",
    "                    'base_fee_per_gas_mean_5_lagged']\n",
    "\n",
    "#Train the model on the training data\n",
    "rf.fit(X_train[rf_features], Y_train)\n",
    "\n",
    "#Get the predictions on the training data set\n",
    "rf_train_predictions = rf.predict(X_train[rf_features])\n",
    "\n",
    "#Get the predictions on the dev data set\n",
    "rf_dev_predictions = rf.predict(X_dev[rf_features])\n",
    "\n",
    "\n",
    "rf_MSE_train = mean_squared_error(Y_train, rf_train_predictions)\n",
    "rf_MSE_dev = mean_squared_error(Y_dev, rf_dev_predictions)\n",
    "print(rf_MSE_train)\n",
    "print(rf_MSE_dev)"
   ]
  },
  {
   "cell_type": "code",
   "execution_count": 20,
   "id": "27d69da5",
   "metadata": {},
   "outputs": [
    {
     "name": "stdout",
     "output_type": "stream",
     "text": [
      "                         Features  Feature_Importance\n",
      "3  base_fee_per_gas_mean_5_lagged             0.97553\n",
      "1              size_mean_5_lagged             0.02447\n",
      "0        difficulty_mean_5_lagged             0.00000\n",
      "2         gas_limit_mean_5_lagged             0.00000\n"
     ]
    },
    {
     "data": {
      "text/plain": [
       "<AxesSubplot:title={'center':'Random Forest Feature Importance'}, ylabel='Features'>"
      ]
     },
     "execution_count": 20,
     "metadata": {},
     "output_type": "execute_result"
    },
    {
     "data": {
      "image/png": "[encoded data removed]",
      "text/plain": [
       "<Figure size 432x288 with 1 Axes>"
      ]
     },
     "metadata": {
      "needs_background": "light"
     },
     "output_type": "display_data"
    }
   ],
   "source": [
    "rf_feature_importances = rf.feature_importances_\n",
    "rf_feature_importances_dict = {'Features': rf_features,\n",
    "                               'Feature_Importance': rf_feature_importances}\n",
    "rf_feature_importances_df = pd.DataFrame(rf_feature_importances_dict)\n",
    "rf_feature_importances_df.sort_values(by=['Feature_Importance'], \n",
    "                                      ascending=False,\n",
    "                                      inplace=True)\n",
    "print(rf_feature_importances_df.head(30))\n",
    "\n",
    "rf_feature_importances_df = rf_feature_importances_df.set_index('Features')\n",
    "rf_feature_importances_df['Feature_Importance'].nlargest(15).plot(kind='barh',\n",
    "                                                                  title='Random Forest Feature Importance')"
   ]
  },
  {
   "cell_type": "code",
   "execution_count": null,
   "id": "65ca84f0",
   "metadata": {},
   "outputs": [],
   "source": [
    "data.columns"
   ]
  },
  {
   "cell_type": "markdown",
   "id": "3e2d9eba",
   "metadata": {},
   "source": [
    "## Gradient Boosting"
   ]
  },
  {
   "cell_type": "code",
   "execution_count": 21,
   "id": "b4dcfff3",
   "metadata": {},
   "outputs": [
    {
     "name": "stdout",
     "output_type": "stream",
     "text": [
      "[0]\tRMSE-rmse:1.83719e+11\n",
      "Will train until RMSE-rmse hasn't improved in 10 rounds.\n",
      "[1]\tRMSE-rmse:1.81964e+11\n",
      "[2]\tRMSE-rmse:1.80101e+11\n",
      "[3]\tRMSE-rmse:1.78351e+11\n",
      "[4]\tRMSE-rmse:1.76683e+11\n",
      "[5]\tRMSE-rmse:1.7499e+11\n",
      "[6]\tRMSE-rmse:1.73323e+11\n",
      "[7]\tRMSE-rmse:1.71706e+11\n",
      "[8]\tRMSE-rmse:1.69949e+11\n",
      "[9]\tRMSE-rmse:1.68334e+11\n",
      "[10]\tRMSE-rmse:1.66767e+11\n",
      "[11]\tRMSE-rmse:1.64936e+11\n",
      "[12]\tRMSE-rmse:1.63249e+11\n",
      "[13]\tRMSE-rmse:1.61591e+11\n",
      "[14]\tRMSE-rmse:1.60085e+11\n",
      "[15]\tRMSE-rmse:1.58483e+11\n",
      "[16]\tRMSE-rmse:1.56981e+11\n",
      "[17]\tRMSE-rmse:1.55253e+11\n",
      "[18]\tRMSE-rmse:1.5367e+11\n",
      "[19]\tRMSE-rmse:1.52245e+11\n",
      "[20]\tRMSE-rmse:1.50836e+11\n",
      "[21]\tRMSE-rmse:1.49379e+11\n",
      "[22]\tRMSE-rmse:1.48004e+11\n",
      "[23]\tRMSE-rmse:1.46387e+11\n",
      "[24]\tRMSE-rmse:1.44908e+11\n",
      "[25]\tRMSE-rmse:1.43561e+11\n",
      "[26]\tRMSE-rmse:1.41992e+11\n",
      "[27]\tRMSE-rmse:1.4034e+11\n",
      "[28]\tRMSE-rmse:1.38822e+11\n",
      "[29]\tRMSE-rmse:1.37296e+11\n",
      "[30]\tRMSE-rmse:1.35905e+11\n",
      "[31]\tRMSE-rmse:1.34649e+11\n",
      "[32]\tRMSE-rmse:1.33385e+11\n",
      "[33]\tRMSE-rmse:1.32036e+11\n",
      "[34]\tRMSE-rmse:1.30818e+11\n",
      "[35]\tRMSE-rmse:1.293e+11\n",
      "[36]\tRMSE-rmse:1.28097e+11\n",
      "[37]\tRMSE-rmse:1.26892e+11\n",
      "[38]\tRMSE-rmse:1.25431e+11\n",
      "[39]\tRMSE-rmse:1.24163e+11\n",
      "[40]\tRMSE-rmse:1.22728e+11\n",
      "[41]\tRMSE-rmse:1.21546e+11\n",
      "[42]\tRMSE-rmse:1.20424e+11\n",
      "[43]\tRMSE-rmse:1.19125e+11\n",
      "[44]\tRMSE-rmse:1.18031e+11\n",
      "[45]\tRMSE-rmse:1.16927e+11\n",
      "[46]\tRMSE-rmse:1.15854e+11\n",
      "[47]\tRMSE-rmse:1.14607e+11\n",
      "[48]\tRMSE-rmse:1.13382e+11\n",
      "[49]\tRMSE-rmse:1.12345e+11\n",
      "[50]\tRMSE-rmse:1.11144e+11\n",
      "[51]\tRMSE-rmse:1.10032e+11\n",
      "[52]\tRMSE-rmse:1.08767e+11\n",
      "[53]\tRMSE-rmse:1.07517e+11\n",
      "[54]\tRMSE-rmse:1.06363e+11\n",
      "[55]\tRMSE-rmse:1.0536e+11\n",
      "[56]\tRMSE-rmse:1.04235e+11\n",
      "[57]\tRMSE-rmse:1.03268e+11\n",
      "[58]\tRMSE-rmse:1.02167e+11\n",
      "[59]\tRMSE-rmse:1.01074e+11\n",
      "[60]\tRMSE-rmse:1.00068e+11\n",
      "[61]\tRMSE-rmse:9.89996e+10\n",
      "[62]\tRMSE-rmse:9.7942e+10\n",
      "[63]\tRMSE-rmse:9.70106e+10\n",
      "[64]\tRMSE-rmse:9.59762e+10\n",
      "[65]\tRMSE-rmse:9.51029e+10\n",
      "[66]\tRMSE-rmse:9.41003e+10\n",
      "[67]\tRMSE-rmse:9.31105e+10\n",
      "[68]\tRMSE-rmse:9.2119e+10\n",
      "[69]\tRMSE-rmse:9.12754e+10\n",
      "[70]\tRMSE-rmse:9.04554e+10\n",
      "[71]\tRMSE-rmse:8.95006e+10\n",
      "[72]\tRMSE-rmse:8.85618e+10\n",
      "[73]\tRMSE-rmse:8.77974e+10\n",
      "[74]\tRMSE-rmse:8.69931e+10\n",
      "[75]\tRMSE-rmse:8.61753e+10\n",
      "[76]\tRMSE-rmse:8.52758e+10\n",
      "[77]\tRMSE-rmse:8.4381e+10\n",
      "[78]\tRMSE-rmse:8.36019e+10\n",
      "[79]\tRMSE-rmse:8.28764e+10\n",
      "[80]\tRMSE-rmse:8.20199e+10\n",
      "[81]\tRMSE-rmse:8.12528e+10\n",
      "[82]\tRMSE-rmse:8.05239e+10\n",
      "[83]\tRMSE-rmse:7.98228e+10\n",
      "[84]\tRMSE-rmse:7.91284e+10\n",
      "[85]\tRMSE-rmse:7.83643e+10\n",
      "[86]\tRMSE-rmse:7.7506e+10\n",
      "[87]\tRMSE-rmse:7.67171e+10\n",
      "[88]\tRMSE-rmse:7.59353e+10\n",
      "[89]\tRMSE-rmse:7.51638e+10\n",
      "[90]\tRMSE-rmse:7.44081e+10\n",
      "[91]\tRMSE-rmse:7.37406e+10\n",
      "[92]\tRMSE-rmse:7.30007e+10\n",
      "[93]\tRMSE-rmse:7.23691e+10\n",
      "[94]\tRMSE-rmse:7.17261e+10\n",
      "[95]\tRMSE-rmse:7.11163e+10\n",
      "[96]\tRMSE-rmse:7.04957e+10\n",
      "[97]\tRMSE-rmse:6.97894e+10\n",
      "[98]\tRMSE-rmse:6.91406e+10\n",
      "[99]\tRMSE-rmse:6.85292e+10\n",
      "[100]\tRMSE-rmse:6.79198e+10\n",
      "[101]\tRMSE-rmse:6.73518e+10\n",
      "[102]\tRMSE-rmse:6.68016e+10\n",
      "[103]\tRMSE-rmse:6.62653e+10\n",
      "[104]\tRMSE-rmse:6.56178e+10\n",
      "[105]\tRMSE-rmse:6.50654e+10\n",
      "[106]\tRMSE-rmse:6.45008e+10\n",
      "[107]\tRMSE-rmse:6.39585e+10\n",
      "[108]\tRMSE-rmse:6.34268e+10\n",
      "[109]\tRMSE-rmse:6.29058e+10\n",
      "[110]\tRMSE-rmse:6.24192e+10\n",
      "[111]\tRMSE-rmse:6.19142e+10\n",
      "[112]\tRMSE-rmse:6.14413e+10\n",
      "[113]\tRMSE-rmse:6.09238e+10\n",
      "[114]\tRMSE-rmse:6.04121e+10\n",
      "[115]\tRMSE-rmse:5.98036e+10\n",
      "[116]\tRMSE-rmse:5.93364e+10\n",
      "[117]\tRMSE-rmse:5.88725e+10\n",
      "[118]\tRMSE-rmse:5.84215e+10\n",
      "[119]\tRMSE-rmse:5.79704e+10\n",
      "[120]\tRMSE-rmse:5.75084e+10\n",
      "[121]\tRMSE-rmse:5.71115e+10\n",
      "[122]\tRMSE-rmse:5.66567e+10\n",
      "[123]\tRMSE-rmse:5.62093e+10\n",
      "[124]\tRMSE-rmse:5.5782e+10\n",
      "[125]\tRMSE-rmse:5.53483e+10\n",
      "[126]\tRMSE-rmse:5.48197e+10\n",
      "[127]\tRMSE-rmse:5.43894e+10\n",
      "[128]\tRMSE-rmse:5.40368e+10\n",
      "[129]\tRMSE-rmse:5.35317e+10\n",
      "[130]\tRMSE-rmse:5.31297e+10\n",
      "[131]\tRMSE-rmse:5.27313e+10\n",
      "[132]\tRMSE-rmse:5.23366e+10\n",
      "[133]\tRMSE-rmse:5.19576e+10\n",
      "[134]\tRMSE-rmse:5.15674e+10\n",
      "[135]\tRMSE-rmse:5.12279e+10\n",
      "[136]\tRMSE-rmse:5.07632e+10\n",
      "[137]\tRMSE-rmse:5.03992e+10\n",
      "[138]\tRMSE-rmse:5.00965e+10\n",
      "[139]\tRMSE-rmse:4.98273e+10\n",
      "[140]\tRMSE-rmse:4.94787e+10\n",
      "[141]\tRMSE-rmse:4.91548e+10\n",
      "[142]\tRMSE-rmse:4.88322e+10\n",
      "[143]\tRMSE-rmse:4.84894e+10\n",
      "[144]\tRMSE-rmse:4.81546e+10\n",
      "[145]\tRMSE-rmse:4.78233e+10\n",
      "[146]\tRMSE-rmse:4.7492e+10\n",
      "[147]\tRMSE-rmse:4.71649e+10\n",
      "[148]\tRMSE-rmse:4.68567e+10\n",
      "[149]\tRMSE-rmse:4.64687e+10\n",
      "[150]\tRMSE-rmse:4.6153e+10\n",
      "[151]\tRMSE-rmse:4.5864e+10\n",
      "[152]\tRMSE-rmse:4.55668e+10\n",
      "[153]\tRMSE-rmse:4.52583e+10\n",
      "[154]\tRMSE-rmse:4.49696e+10\n",
      "[155]\tRMSE-rmse:4.47587e+10\n",
      "[156]\tRMSE-rmse:4.44646e+10\n",
      "[157]\tRMSE-rmse:4.41836e+10\n",
      "[158]\tRMSE-rmse:4.39304e+10\n",
      "[159]\tRMSE-rmse:4.35926e+10\n",
      "[160]\tRMSE-rmse:4.33168e+10\n",
      "[161]\tRMSE-rmse:4.31266e+10\n",
      "[162]\tRMSE-rmse:4.28639e+10\n",
      "[163]\tRMSE-rmse:4.25969e+10\n",
      "[164]\tRMSE-rmse:4.23483e+10\n",
      "[165]\tRMSE-rmse:4.21389e+10\n",
      "[166]\tRMSE-rmse:4.18894e+10\n",
      "[167]\tRMSE-rmse:4.16612e+10\n",
      "[168]\tRMSE-rmse:4.14651e+10\n",
      "[169]\tRMSE-rmse:4.12252e+10\n",
      "[170]\tRMSE-rmse:4.09767e+10\n",
      "[171]\tRMSE-rmse:4.07835e+10\n",
      "[172]\tRMSE-rmse:4.05612e+10\n",
      "[173]\tRMSE-rmse:4.03409e+10\n",
      "[174]\tRMSE-rmse:4.01283e+10\n",
      "[175]\tRMSE-rmse:3.99543e+10\n",
      "[176]\tRMSE-rmse:3.9712e+10\n",
      "[177]\tRMSE-rmse:3.95142e+10\n",
      "[178]\tRMSE-rmse:3.93237e+10\n",
      "[179]\tRMSE-rmse:3.916e+10\n",
      "[180]\tRMSE-rmse:3.89623e+10\n",
      "[181]\tRMSE-rmse:3.88218e+10\n",
      "[182]\tRMSE-rmse:3.86835e+10\n",
      "[183]\tRMSE-rmse:3.85359e+10\n",
      "[184]\tRMSE-rmse:3.83224e+10\n",
      "[185]\tRMSE-rmse:3.81464e+10\n",
      "[186]\tRMSE-rmse:3.79778e+10\n",
      "[187]\tRMSE-rmse:3.78307e+10\n",
      "[188]\tRMSE-rmse:3.76432e+10\n",
      "[189]\tRMSE-rmse:3.74504e+10\n",
      "[190]\tRMSE-rmse:3.72822e+10\n",
      "[191]\tRMSE-rmse:3.71197e+10\n",
      "[192]\tRMSE-rmse:3.69686e+10\n",
      "[193]\tRMSE-rmse:3.6806e+10\n",
      "[194]\tRMSE-rmse:3.66468e+10\n",
      "[195]\tRMSE-rmse:3.64942e+10\n",
      "[196]\tRMSE-rmse:3.63662e+10\n",
      "[197]\tRMSE-rmse:3.62568e+10\n",
      "[198]\tRMSE-rmse:3.61467e+10\n",
      "[199]\tRMSE-rmse:3.6006e+10\n",
      "[200]\tRMSE-rmse:3.58545e+10\n",
      "[201]\tRMSE-rmse:3.57464e+10\n",
      "[202]\tRMSE-rmse:3.56061e+10\n",
      "[203]\tRMSE-rmse:3.55014e+10\n",
      "[204]\tRMSE-rmse:3.54082e+10\n",
      "[205]\tRMSE-rmse:3.52797e+10\n",
      "[206]\tRMSE-rmse:3.51622e+10\n",
      "[207]\tRMSE-rmse:3.50746e+10\n",
      "[208]\tRMSE-rmse:3.50196e+10\n",
      "[209]\tRMSE-rmse:3.49264e+10\n",
      "[210]\tRMSE-rmse:3.48272e+10\n",
      "[211]\tRMSE-rmse:3.47396e+10\n",
      "[212]\tRMSE-rmse:3.46173e+10\n",
      "[213]\tRMSE-rmse:3.45225e+10\n",
      "[214]\tRMSE-rmse:3.44137e+10\n",
      "[215]\tRMSE-rmse:3.42929e+10\n",
      "[216]\tRMSE-rmse:3.4187e+10\n",
      "[217]\tRMSE-rmse:3.41022e+10\n",
      "[218]\tRMSE-rmse:3.39687e+10\n",
      "[219]\tRMSE-rmse:3.38772e+10\n",
      "[220]\tRMSE-rmse:3.37769e+10\n",
      "[221]\tRMSE-rmse:3.36912e+10\n",
      "[222]\tRMSE-rmse:3.36338e+10\n",
      "[223]\tRMSE-rmse:3.35537e+10\n",
      "[224]\tRMSE-rmse:3.34745e+10\n",
      "[225]\tRMSE-rmse:3.33923e+10\n",
      "[226]\tRMSE-rmse:3.33168e+10\n",
      "[227]\tRMSE-rmse:3.32364e+10\n",
      "[228]\tRMSE-rmse:3.31363e+10\n",
      "[229]\tRMSE-rmse:3.30762e+10\n",
      "[230]\tRMSE-rmse:3.30156e+10\n",
      "[231]\tRMSE-rmse:3.2949e+10\n",
      "[232]\tRMSE-rmse:3.28982e+10\n",
      "[233]\tRMSE-rmse:3.28418e+10\n",
      "[234]\tRMSE-rmse:3.27867e+10\n",
      "[235]\tRMSE-rmse:3.27073e+10\n",
      "[236]\tRMSE-rmse:3.26486e+10\n",
      "[237]\tRMSE-rmse:3.25972e+10\n",
      "[238]\tRMSE-rmse:3.25476e+10\n",
      "[239]\tRMSE-rmse:3.24973e+10\n",
      "[240]\tRMSE-rmse:3.24375e+10\n",
      "[241]\tRMSE-rmse:3.23339e+10\n",
      "[242]\tRMSE-rmse:3.22745e+10\n",
      "[243]\tRMSE-rmse:3.22343e+10\n",
      "[244]\tRMSE-rmse:3.2201e+10\n",
      "[245]\tRMSE-rmse:3.2162e+10\n",
      "[246]\tRMSE-rmse:3.21134e+10\n",
      "[247]\tRMSE-rmse:3.20716e+10\n",
      "[248]\tRMSE-rmse:3.20374e+10\n",
      "[249]\tRMSE-rmse:3.19797e+10\n",
      "[250]\tRMSE-rmse:3.1949e+10\n",
      "[251]\tRMSE-rmse:3.1915e+10\n",
      "[252]\tRMSE-rmse:3.18769e+10\n",
      "[253]\tRMSE-rmse:3.18127e+10\n",
      "[254]\tRMSE-rmse:3.17628e+10\n",
      "[255]\tRMSE-rmse:3.17277e+10\n",
      "[256]\tRMSE-rmse:3.16516e+10\n",
      "[257]\tRMSE-rmse:3.15915e+10\n",
      "[258]\tRMSE-rmse:3.15507e+10\n",
      "[259]\tRMSE-rmse:3.15014e+10\n",
      "[260]\tRMSE-rmse:3.14606e+10\n",
      "[261]\tRMSE-rmse:3.14348e+10\n",
      "[262]\tRMSE-rmse:3.14033e+10\n",
      "[263]\tRMSE-rmse:3.13346e+10\n",
      "[264]\tRMSE-rmse:3.13068e+10\n",
      "[265]\tRMSE-rmse:3.1257e+10\n",
      "[266]\tRMSE-rmse:3.1229e+10\n",
      "[267]\tRMSE-rmse:3.11977e+10\n",
      "[268]\tRMSE-rmse:3.117e+10\n",
      "[269]\tRMSE-rmse:3.11472e+10\n",
      "[270]\tRMSE-rmse:3.11233e+10\n",
      "[271]\tRMSE-rmse:3.10866e+10\n",
      "[272]\tRMSE-rmse:3.10494e+10\n",
      "[273]\tRMSE-rmse:3.10155e+10\n",
      "[274]\tRMSE-rmse:3.09951e+10\n",
      "[275]\tRMSE-rmse:3.09762e+10\n",
      "[276]\tRMSE-rmse:3.09567e+10\n",
      "[277]\tRMSE-rmse:3.09189e+10\n",
      "[278]\tRMSE-rmse:3.08925e+10\n",
      "[279]\tRMSE-rmse:3.08477e+10\n",
      "[280]\tRMSE-rmse:3.08198e+10\n",
      "[281]\tRMSE-rmse:3.07985e+10\n",
      "[282]\tRMSE-rmse:3.07813e+10\n",
      "[283]\tRMSE-rmse:3.07629e+10\n",
      "[284]\tRMSE-rmse:3.07451e+10\n",
      "[285]\tRMSE-rmse:3.07243e+10\n",
      "[286]\tRMSE-rmse:3.06966e+10\n",
      "[287]\tRMSE-rmse:3.06833e+10\n",
      "[288]\tRMSE-rmse:3.06546e+10\n",
      "[289]\tRMSE-rmse:3.06337e+10\n",
      "[290]\tRMSE-rmse:3.06164e+10\n",
      "[291]\tRMSE-rmse:3.06011e+10\n",
      "[292]\tRMSE-rmse:3.05839e+10\n",
      "[293]\tRMSE-rmse:3.05638e+10\n",
      "[294]\tRMSE-rmse:3.05504e+10\n",
      "[295]\tRMSE-rmse:3.05349e+10\n",
      "[296]\tRMSE-rmse:3.05222e+10\n",
      "[297]\tRMSE-rmse:3.05112e+10\n",
      "[298]\tRMSE-rmse:3.05019e+10\n",
      "[299]\tRMSE-rmse:3.04896e+10\n",
      "[300]\tRMSE-rmse:3.04752e+10\n",
      "[301]\tRMSE-rmse:3.04537e+10\n",
      "[302]\tRMSE-rmse:3.04429e+10\n",
      "[303]\tRMSE-rmse:3.04283e+10\n",
      "[304]\tRMSE-rmse:3.04094e+10\n",
      "[305]\tRMSE-rmse:3.04001e+10\n",
      "[306]\tRMSE-rmse:3.03909e+10\n",
      "[307]\tRMSE-rmse:3.03819e+10\n",
      "[308]\tRMSE-rmse:3.03804e+10\n",
      "[309]\tRMSE-rmse:3.03721e+10\n",
      "[310]\tRMSE-rmse:3.03569e+10\n",
      "[311]\tRMSE-rmse:3.03492e+10\n",
      "[312]\tRMSE-rmse:3.03438e+10\n",
      "[313]\tRMSE-rmse:3.03396e+10\n",
      "[314]\tRMSE-rmse:3.0326e+10\n",
      "[315]\tRMSE-rmse:3.03155e+10\n",
      "[316]\tRMSE-rmse:3.03141e+10\n",
      "[317]\tRMSE-rmse:3.03054e+10\n",
      "[318]\tRMSE-rmse:3.02986e+10\n",
      "[319]\tRMSE-rmse:3.02914e+10\n",
      "[320]\tRMSE-rmse:3.02912e+10\n",
      "[321]\tRMSE-rmse:3.02853e+10\n",
      "[322]\tRMSE-rmse:3.028e+10\n",
      "[323]\tRMSE-rmse:3.02777e+10\n",
      "[324]\tRMSE-rmse:3.02735e+10\n",
      "[325]\tRMSE-rmse:3.02717e+10\n",
      "[326]\tRMSE-rmse:3.02632e+10\n",
      "[327]\tRMSE-rmse:3.02564e+10\n",
      "[328]\tRMSE-rmse:3.02604e+10\n",
      "[329]\tRMSE-rmse:3.02597e+10\n",
      "[330]\tRMSE-rmse:3.02602e+10\n",
      "[331]\tRMSE-rmse:3.02584e+10\n",
      "[332]\tRMSE-rmse:3.02546e+10\n",
      "[333]\tRMSE-rmse:3.02473e+10\n",
      "[334]\tRMSE-rmse:3.02452e+10\n",
      "[335]\tRMSE-rmse:3.02456e+10\n",
      "[336]\tRMSE-rmse:3.02421e+10\n",
      "[337]\tRMSE-rmse:3.02455e+10\n",
      "[338]\tRMSE-rmse:3.02454e+10\n",
      "[339]\tRMSE-rmse:3.02434e+10\n",
      "[340]\tRMSE-rmse:3.02399e+10\n",
      "[341]\tRMSE-rmse:3.02323e+10\n",
      "[342]\tRMSE-rmse:3.02277e+10\n",
      "[343]\tRMSE-rmse:3.02247e+10\n",
      "[344]\tRMSE-rmse:3.02219e+10\n",
      "[345]\tRMSE-rmse:3.02195e+10\n",
      "[346]\tRMSE-rmse:3.02193e+10\n",
      "[347]\tRMSE-rmse:3.02168e+10\n",
      "[348]\tRMSE-rmse:3.02144e+10\n",
      "[349]\tRMSE-rmse:3.02124e+10\n",
      "[350]\tRMSE-rmse:3.02081e+10\n",
      "[351]\tRMSE-rmse:3.02081e+10\n",
      "[352]\tRMSE-rmse:3.02103e+10\n",
      "[353]\tRMSE-rmse:3.02086e+10\n",
      "[354]\tRMSE-rmse:3.02079e+10\n",
      "[355]\tRMSE-rmse:3.02062e+10\n",
      "[356]\tRMSE-rmse:3.02047e+10\n",
      "[357]\tRMSE-rmse:3.02027e+10\n",
      "[358]\tRMSE-rmse:3.02021e+10\n",
      "[359]\tRMSE-rmse:3.02015e+10\n",
      "[360]\tRMSE-rmse:3.02006e+10\n",
      "[361]\tRMSE-rmse:3.02007e+10\n",
      "[362]\tRMSE-rmse:3.01995e+10\n",
      "[363]\tRMSE-rmse:3.01988e+10\n",
      "[364]\tRMSE-rmse:3.01966e+10\n",
      "[365]\tRMSE-rmse:3.01949e+10\n",
      "[366]\tRMSE-rmse:3.01937e+10\n",
      "[367]\tRMSE-rmse:3.0193e+10\n",
      "[368]\tRMSE-rmse:3.01926e+10\n",
      "[369]\tRMSE-rmse:3.01923e+10\n",
      "[370]\tRMSE-rmse:3.01925e+10\n",
      "[371]\tRMSE-rmse:3.01919e+10\n",
      "[372]\tRMSE-rmse:3.01908e+10\n",
      "[373]\tRMSE-rmse:3.01903e+10\n",
      "[374]\tRMSE-rmse:3.01897e+10\n",
      "[375]\tRMSE-rmse:3.01894e+10\n",
      "[376]\tRMSE-rmse:3.01894e+10\n",
      "[377]\tRMSE-rmse:3.01893e+10\n",
      "[378]\tRMSE-rmse:3.01894e+10\n",
      "[379]\tRMSE-rmse:3.01893e+10\n",
      "[380]\tRMSE-rmse:3.01892e+10\n",
      "[381]\tRMSE-rmse:3.01892e+10\n",
      "[382]\tRMSE-rmse:3.01893e+10\n",
      "[383]\tRMSE-rmse:3.01894e+10\n",
      "[384]\tRMSE-rmse:3.01895e+10\n",
      "[385]\tRMSE-rmse:3.01896e+10\n",
      "[386]\tRMSE-rmse:3.01897e+10\n",
      "[387]\tRMSE-rmse:3.01899e+10\n",
      "[388]\tRMSE-rmse:3.01902e+10\n",
      "[389]\tRMSE-rmse:3.01901e+10\n",
      "[390]\tRMSE-rmse:3.01904e+10\n",
      "Stopping. Best iteration:\n",
      "[380]\tRMSE-rmse:3.01892e+10\n",
      "\n",
      "XGB train root mean squared error: 116187064067.86394\n",
      "XGB dev root mean squared error: 30189224735.52262\n"
     ]
    }
   ],
   "source": [
    "xgb_features = ['difficulty_mean_5_lagged', 'size_mean_5_lagged', 'gas_limit_mean_5_lagged', \n",
    "                    'base_fee_per_gas_mean_5_lagged']\n",
    "\n",
    "#set up the training matrix\n",
    "dtrain = xgb.DMatrix(X_train[xgb_features], label=Y_train)\n",
    "xgb_dict = {\n",
    "        'booster': 'dart',\n",
    "        #'booster': 'gbtree',\n",
    "        #'booster': 'gblinear',\n",
    "        'max_depth': 3,\n",
    "        'random_state': 42,\n",
    "        'learning_rate': 0.01,\n",
    "        'objective': 'reg:squarederror',\n",
    "        'verbosity': 0,\n",
    "        'sample_type': 'uniform',\n",
    "        'subsample': 0.6,\n",
    "        'normalize_type': 'tree',\n",
    "        'rate_drop': 0.0,\n",
    "        #'rate_drop': 0.2,\n",
    "        'skip_drop': 0.2,\n",
    "        'min_child_weight': 5,\n",
    "        \n",
    "    }\n",
    "#starting hyperparameter of training rounds\n",
    "training_rounds = 500\n",
    "\n",
    "#train the model\n",
    "bst = xgb.train(\n",
    "    xgb_dict,\n",
    "    dtrain,\n",
    "    training_rounds,\n",
    "    evals=[(xgb.DMatrix(X_dev[xgb_features], label=Y_dev), 'RMSE')],\n",
    "    early_stopping_rounds=10) \n",
    "\n",
    "\n",
    "training_rounds = bst.best_ntree_limit\n",
    " \n",
    "#get training predictions and MSE\n",
    "xgb_train_pred = bst.predict(xgb.DMatrix(X_train[xgb_features]), ntree_limit=training_rounds)\n",
    "xgb_train_mse = mean_squared_error(xgb_train_pred, Y_train)\n",
    "xgb_train_rmse = np.sqrt(xgb_train_mse)\n",
    "\n",
    "#print(\"XGB train mean squared error:\", xgb_train_mse)\n",
    "print(\"XGB train root mean squared error:\", xgb_train_rmse)\n",
    "\n",
    "#get dev predictions and MSE\n",
    "xgb_dev_pred = bst.predict(xgb.DMatrix(X_dev[xgb_features]), ntree_limit=training_rounds)\n",
    "xgb_dev_mse = mean_squared_error(xgb_dev_pred, Y_dev)\n",
    "xgb_dev_rmse = np.sqrt(xgb_dev_mse)\n",
    "\n",
    "#print(\"XGB dev mean squared error:\", xgb_dev_mse)\n",
    "print(\"XGB dev root mean squared error:\", xgb_dev_rmse)"
   ]
  },
  {
   "cell_type": "code",
   "execution_count": 22,
   "id": "4c372e26",
   "metadata": {},
   "outputs": [
    {
     "name": "stdout",
     "output_type": "stream",
     "text": [
      "                                weight          gain\n",
      "base_fee_per_gas_mean_5_lagged    1240  1.619381e+25\n",
      "difficulty_mean_5_lagged           725  1.133724e+24\n",
      "size_mean_5_lagged                 571  2.749343e+24\n",
      "gas_limit_mean_5_lagged            185  1.085823e+24\n"
     ]
    }
   ],
   "source": [
    "#feature importance\n",
    "xgb_importance_weight = bst.get_score(importance_type='weight')\n",
    "xgb_importance_gain = bst.get_score(importance_type='gain')\n",
    "xgb_importance_weight_df = pd.DataFrame.from_dict(xgb_importance_weight,\n",
    "                                                  orient='index',\n",
    "                                                  columns=['weight'])\n",
    "xgb_importance_gain_df = pd.DataFrame.from_dict(xgb_importance_gain,\n",
    "                                                  orient='index',\n",
    "                                                  columns=['gain'])\n",
    "xgb_feature_importance_df = xgb_importance_weight_df.join(xgb_importance_gain_df)\n",
    "xgb_feature_importance_df.sort_values(by=['weight'], ascending=False, inplace=True)                 \n",
    "print(xgb_feature_importance_df.head(30))\n"
   ]
  },
  {
   "cell_type": "code",
   "execution_count": 23,
   "id": "60b69363",
   "metadata": {},
   "outputs": [
    {
     "data": {
      "text/plain": [
       "<AxesSubplot:title={'center':'Feature importance'}, xlabel='F score', ylabel='Features'>"
      ]
     },
     "execution_count": 23,
     "metadata": {},
     "output_type": "execute_result"
    },
    {
     "data": {
      "image/png": "[encoded data removed]",
      "text/plain": [
       "<Figure size 432x288 with 1 Axes>"
      ]
     },
     "metadata": {
      "needs_background": "light"
     },
     "output_type": "display_data"
    }
   ],
   "source": [
    "plot_importance(bst, max_num_features=30)"
   ]
  },
  {
   "cell_type": "markdown",
   "id": "1cd06bf0",
   "metadata": {},
   "source": [
    "## Ensemble"
   ]
  },
  {
   "cell_type": "code",
   "execution_count": 48,
   "id": "2800b139",
   "metadata": {},
   "outputs": [
    {
     "name": "stdout",
     "output_type": "stream",
     "text": [
      "train_rmse = 116442247805.48709\n"
     ]
    }
   ],
   "source": [
    "ensemble_train_preds = (y_train_pred.ravel() + y_train_pred_rr.ravel() + rf_train_predictions + xgb_train_pred) / 4\n",
    "print(\"train_rmse =\", np.sqrt(mean_squared_error(ensemble_train_preds, Y_train)))\n"
   ]
  },
  {
   "cell_type": "code",
   "execution_count": 28,
   "id": "580f89a7",
   "metadata": {},
   "outputs": [
    {
     "data": {
      "text/plain": [
       "444015"
      ]
     },
     "execution_count": 28,
     "metadata": {},
     "output_type": "execute_result"
    }
   ],
   "source": [
    "len(y_train_pred)"
   ]
  },
  {
   "cell_type": "code",
   "execution_count": 34,
   "id": "ec3c3432",
   "metadata": {},
   "outputs": [
    {
     "data": {
      "text/plain": [
       "444015"
      ]
     },
     "execution_count": 34,
     "metadata": {},
     "output_type": "execute_result"
    }
   ],
   "source": [
    "len(xgb_train_pred)"
   ]
  },
  {
   "cell_type": "code",
   "execution_count": 44,
   "id": "6e4ba819",
   "metadata": {},
   "outputs": [
    {
     "data": {
      "text/plain": [
       "numpy.ndarray"
      ]
     },
     "execution_count": 44,
     "metadata": {},
     "output_type": "execute_result"
    }
   ],
   "source": [
    "type(y_train_pred_rr)"
   ]
  },
  {
   "cell_type": "code",
   "execution_count": 38,
   "id": "2b898b63",
   "metadata": {},
   "outputs": [
    {
     "data": {
      "text/plain": [
       "array([2.5, 3.5, 4.5])"
      ]
     },
     "execution_count": 38,
     "metadata": {},
     "output_type": "execute_result"
    }
   ],
   "source": [
    "a = np.array([1,2,3])\n",
    "b = np.array([4,5,6])\n",
    "c = (a + b)/2\n",
    "c"
   ]
  },
  {
   "cell_type": "code",
   "execution_count": 46,
   "id": "371a17a7",
   "metadata": {},
   "outputs": [
    {
     "data": {
      "text/plain": [
       "(444015,)"
      ]
     },
     "execution_count": 46,
     "metadata": {},
     "output_type": "execute_result"
    }
   ],
   "source": [
    "y_train_pred.ravel().shape"
   ]
  }
 ],
 "metadata": {
  "kernelspec": {
   "display_name": "conda_python3",
   "language": "python",
   "name": "conda_python3"
  },
  "language_info": {
   "codemirror_mode": {
    "name": "ipython",
    "version": 3
   },
   "file_extension": ".py",
   "mimetype": "text/x-python",
   "name": "python",
   "nbconvert_exporter": "python",
   "pygments_lexer": "ipython3",
   "version": "3.6.13"
  }
 },
 "nbformat": 4,
 "nbformat_minor": 5
}
