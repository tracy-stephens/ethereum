{
 "cells": [
  {
   "cell_type": "code",
   "execution_count": 15,
   "metadata": {},
   "outputs": [
    {
     "name": "stdout",
     "output_type": "stream",
     "text": [
      "The autoreload extension is already loaded. To reload it, use:\n",
      "  %reload_ext autoreload\n"
     ]
    }
   ],
   "source": [
    "%load_ext autoreload\n",
    "%autoreload 2\n",
    "\n",
    "import pandas as pd\n",
    "import numpy as np\n",
    "import pickle"
   ]
  },
  {
   "cell_type": "code",
   "execution_count": 16,
   "metadata": {},
   "outputs": [
    {
     "name": "stderr",
     "output_type": "stream",
     "text": [
      "/Users/tracy/opt/anaconda3/lib/python3.7/site-packages/sklearn/base.py:333: UserWarning: Trying to unpickle estimator DecisionTreeRegressor from version 0.24.1 when using version 1.0.1. This might lead to breaking code or invalid results. Use at your own risk. For more info please refer to:\n",
      "https://scikit-learn.org/stable/modules/model_persistence.html#security-maintainability-limitations\n",
      "  UserWarning,\n",
      "/Users/tracy/opt/anaconda3/lib/python3.7/site-packages/sklearn/base.py:333: UserWarning: Trying to unpickle estimator RandomForestRegressor from version 0.24.1 when using version 1.0.1. This might lead to breaking code or invalid results. Use at your own risk. For more info please refer to:\n",
      "https://scikit-learn.org/stable/modules/model_persistence.html#security-maintainability-limitations\n",
      "  UserWarning,\n"
     ]
    }
   ],
   "source": [
    "# load model\n",
    "with open('../rf_test_model.pkl', 'rb') as model:\n",
    "    rf = pickle.load(model)\n",
    "\n",
    "# load data\n",
    "blocks = pd.read_csv(\"../blocks.csv\")\n",
    "transactions = pd.read_csv(\"../transactions.csv\")\n",
    "\n",
    "df = pd.read_csv(\"../blocks.csv\")\n",
    "df2 = pd.read_csv(\"../transactions.csv\")"
   ]
  },
  {
   "cell_type": "code",
   "execution_count": 14,
   "metadata": {},
   "outputs": [
    {
     "name": "stderr",
     "output_type": "stream",
     "text": [
      "/Users/tracy/opt/anaconda3/lib/python3.7/site-packages/pandas/core/generic.py:6746: SettingWithCopyWarning: \n",
      "A value is trying to be set on a copy of a slice from a DataFrame\n",
      "\n",
      "See the caveats in the documentation: https://pandas.pydata.org/pandas-docs/stable/user_guide/indexing.html#returning-a-view-versus-a-copy\n",
      "  self._update_inplace(new_data)\n",
      "/Users/tracy/opt/anaconda3/lib/python3.7/site-packages/sklearn/base.py:439: UserWarning: X has feature names, but RandomForestRegressor was fitted without feature names\n",
      "  f\"X has feature names, but {self.__class__.__name__} was fitted without\"\n"
     ]
    }
   ],
   "source": [
    "df2_agg = df2[['block_timestamp', 'receipt_effective_gas_price', 'max_priority_fee_per_gas']].groupby('block_timestamp').agg(['mean', 'count'])\n",
    "df2_agg.columns = df2_agg.columns.map('_'.join).str.strip('_')\n",
    "df_merge = df.merge(right=df2_agg, how='inner', on='block_timestamp')\n",
    "df_merge = pd.DataFrame(df_merge).sort_values(by='block_timestamp', ascending=True)\n",
    "df_merge = df_merge[-200:] # need 200 to do 100-ago division on last of 100 most recent\n",
    "\n",
    "cols = ['base_fee_per_gas', 'receipt_effective_gas_price_count', 'receipt_effective_gas_price_mean', 'max_priority_fee_per_gas_mean']\n",
    "for col in cols:\n",
    "    # Last 5 blocks\n",
    "    df_merge[col+'_pct_chg_last_5'] = df_merge[col]/df_merge[col].shift(5)-1\n",
    "    # 100 blocks ago to 5 blocks ago percentage changes\n",
    "    df_merge[col+'_pct_chg_last_100_to_5'] = df_merge[col].shift(5)/df_merge[col].shift(100)-1\n",
    "\n",
    "df_merge = df_merge[-100:] # only want those 100 most recent which have complete percents\n",
    "\n",
    "# datetime dummy variables\n",
    "df_merge['local_date'] = pd.to_datetime(df_merge['block_timestamp']).dt.tz_localize('utc').dt.tz_convert('US/Eastern')\n",
    "df_merge['date'] = df_merge['local_date'].dt.date\n",
    "df_merge['hour'] = df_merge['local_date'].dt.hour\n",
    "df_merge['minute'] = df_merge['local_date'].dt.minute\n",
    "df_merge['weekday'] = df_merge['local_date'].dt.weekday\n",
    "\n",
    "df_merge['hour_dummy'] = 0\n",
    "start_hour = 2\n",
    "end_hour = 9\n",
    "mask = (df_merge['hour'] < start_hour) | (df_merge['hour'] > end_hour)\n",
    "df_merge.loc[mask, 'hour_dummy'] = 1\n",
    "\n",
    "df_merge['minute_dummy'] = 0\n",
    "start_minute = 1\n",
    "end_minute = 6\n",
    "mask = (df_merge['minute'] >= start_minute) & (df_merge['minute'] <= end_minute)\n",
    "df_merge.loc[mask, 'minute_dummy'] = 1\n",
    "\n",
    "df_merge['weekday_dummy'] = 0\n",
    "start_weekday = 1\n",
    "end_weekday = 4\n",
    "mask = (df_merge['weekday'] >= start_weekday) & (df_merge['weekday'] <= end_weekday)\n",
    "df_merge.loc[mask, 'weekday_dummy'] = 1\n",
    "\n",
    "# get only columns needed\n",
    "features = ['base_fee_per_gas_pct_chg_last_100_to_5', \n",
    "            'base_fee_per_gas_pct_chg_last_5', \n",
    "            'receipt_effective_gas_price_count_pct_chg_last_100_to_5', \n",
    "            'receipt_effective_gas_price_count_pct_chg_last_5', \n",
    "            'receipt_effective_gas_price_mean_pct_chg_last_100_to_5', \n",
    "            'receipt_effective_gas_price_mean_pct_chg_last_5', \n",
    "            'max_priority_fee_per_gas_mean_pct_chg_last_100_to_5', \n",
    "            'max_priority_fee_per_gas_mean_pct_chg_last_5', \n",
    "            'minute_dummy', 'hour_dummy', 'weekday_dummy'\n",
    "            ]\n",
    "df_predict = df_merge[features]\n",
    "\n",
    "# swap out infs (generated during % change step if denominator is 0)\n",
    "columns = df_predict.columns\n",
    "values = [0.431637, 0.309303, 8.809524, 8.9, 17.677177, 16.710033, 15.495496, 10.24462]\n",
    "for i in columns[:8]:\n",
    "    df_predict[i].replace(np.inf, values[columns.get_loc(i)], inplace=True)\n",
    "\n",
    "####################\n",
    "# make predictions #\n",
    "####################\n",
    "\n",
    "predicted = rf.predict(df_predict)"
   ]
  },
  {
   "cell_type": "code",
   "execution_count": 10,
   "metadata": {},
   "outputs": [],
   "source": [
    "#df2_agg"
   ]
  },
  {
   "cell_type": "code",
   "execution_count": 11,
   "metadata": {},
   "outputs": [],
   "source": [
    "#transactions.tail(100)['receipt_effective_gas_price']"
   ]
  },
  {
   "cell_type": "code",
   "execution_count": 12,
   "metadata": {},
   "outputs": [],
   "source": [
    "#transactions['predicted'] = "
   ]
  },
  {
   "cell_type": "code",
   "execution_count": 13,
   "metadata": {},
   "outputs": [
    {
     "data": {
      "text/html": [
       "<div>\n",
       "<style scoped>\n",
       "    .dataframe tbody tr th:only-of-type {\n",
       "        vertical-align: middle;\n",
       "    }\n",
       "\n",
       "    .dataframe tbody tr th {\n",
       "        vertical-align: top;\n",
       "    }\n",
       "\n",
       "    .dataframe thead th {\n",
       "        text-align: right;\n",
       "    }\n",
       "</style>\n",
       "<table border=\"1\" class=\"dataframe\">\n",
       "  <thead>\n",
       "    <tr style=\"text-align: right;\">\n",
       "      <th></th>\n",
       "      <th>block_timestamp</th>\n",
       "      <th>base_fee_per_gas</th>\n",
       "    </tr>\n",
       "  </thead>\n",
       "  <tbody>\n",
       "    <tr>\n",
       "      <th>0</th>\n",
       "      <td>2021-11-26 21:32:09</td>\n",
       "      <td>116925004757</td>\n",
       "    </tr>\n",
       "    <tr>\n",
       "      <th>1</th>\n",
       "      <td>2021-11-26 21:31:58</td>\n",
       "      <td>121935382610</td>\n",
       "    </tr>\n",
       "    <tr>\n",
       "      <th>2</th>\n",
       "      <td>2021-11-26 21:31:38</td>\n",
       "      <td>108389042873</td>\n",
       "    </tr>\n",
       "    <tr>\n",
       "      <th>3</th>\n",
       "      <td>2021-11-26 21:31:36</td>\n",
       "      <td>123043231276</td>\n",
       "    </tr>\n",
       "    <tr>\n",
       "      <th>4</th>\n",
       "      <td>2021-11-26 21:31:28</td>\n",
       "      <td>118132043184</td>\n",
       "    </tr>\n",
       "    <tr>\n",
       "      <th>...</th>\n",
       "      <td>...</td>\n",
       "      <td>...</td>\n",
       "    </tr>\n",
       "    <tr>\n",
       "      <th>245</th>\n",
       "      <td>2021-11-26 20:32:48</td>\n",
       "      <td>101632253377</td>\n",
       "    </tr>\n",
       "    <tr>\n",
       "      <th>246</th>\n",
       "      <td>2021-11-26 20:32:43</td>\n",
       "      <td>111328001027</td>\n",
       "    </tr>\n",
       "    <tr>\n",
       "      <th>247</th>\n",
       "      <td>2021-11-26 20:32:32</td>\n",
       "      <td>109482183896</td>\n",
       "    </tr>\n",
       "    <tr>\n",
       "      <th>248</th>\n",
       "      <td>2021-11-26 20:32:15</td>\n",
       "      <td>97330091311</td>\n",
       "    </tr>\n",
       "    <tr>\n",
       "      <th>249</th>\n",
       "      <td>2021-11-26 20:32:13</td>\n",
       "      <td>106952739831</td>\n",
       "    </tr>\n",
       "  </tbody>\n",
       "</table>\n",
       "<p>250 rows × 2 columns</p>\n",
       "</div>"
      ],
      "text/plain": [
       "         block_timestamp  base_fee_per_gas\n",
       "0    2021-11-26 21:32:09      116925004757\n",
       "1    2021-11-26 21:31:58      121935382610\n",
       "2    2021-11-26 21:31:38      108389042873\n",
       "3    2021-11-26 21:31:36      123043231276\n",
       "4    2021-11-26 21:31:28      118132043184\n",
       "..                   ...               ...\n",
       "245  2021-11-26 20:32:48      101632253377\n",
       "246  2021-11-26 20:32:43      111328001027\n",
       "247  2021-11-26 20:32:32      109482183896\n",
       "248  2021-11-26 20:32:15       97330091311\n",
       "249  2021-11-26 20:32:13      106952739831\n",
       "\n",
       "[250 rows x 2 columns]"
      ]
     },
     "execution_count": 13,
     "metadata": {},
     "output_type": "execute_result"
    }
   ],
   "source": [
    "blocks"
   ]
  },
  {
   "cell_type": "code",
   "execution_count": null,
   "metadata": {},
   "outputs": [],
   "source": []
  }
 ],
 "metadata": {
  "kernelspec": {
   "display_name": "Python 3",
   "language": "python",
   "name": "python3"
  },
  "language_info": {
   "codemirror_mode": {
    "name": "ipython",
    "version": 3
   },
   "file_extension": ".py",
   "mimetype": "text/x-python",
   "name": "python",
   "nbconvert_exporter": "python",
   "pygments_lexer": "ipython3",
   "version": "3.7.4"
  }
 },
 "nbformat": 4,
 "nbformat_minor": 4
}
