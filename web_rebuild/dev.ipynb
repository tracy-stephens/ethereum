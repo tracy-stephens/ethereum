{
 "cells": [
  {
   "cell_type": "code",
   "execution_count": 1,
   "metadata": {},
   "outputs": [
    {
     "name": "stdout",
     "output_type": "stream",
     "text": [
      "blocks.csv                         \u001b[31mget_predicted.py\u001b[m\u001b[m*\r\n",
      "dashboard.py                       get_predicted_shebang_namemain.py\r\n",
      "deploy.py                          \u001b[34mold\u001b[m\u001b[m/\r\n",
      "deploy_clean.py                    rf_test_model.pkl\r\n",
      "dev.ipynb                          transactions.csv\r\n",
      "df_predict.csv\r\n"
     ]
    }
   ],
   "source": [
    "ls"
   ]
  },
  {
   "cell_type": "code",
   "execution_count": 2,
   "metadata": {},
   "outputs": [],
   "source": [
    "import pandas as pd\n",
    "import numpy as np\n",
    "import pickle\n",
    "import plotly.express as px\n",
    "import os"
   ]
  },
  {
   "cell_type": "code",
   "execution_count": 3,
   "metadata": {},
   "outputs": [],
   "source": [
    "# load data\n",
    "df = pd.read_csv(\"blocks.csv\")\n",
    "df2 = pd.read_csv(\"transactions.csv\")"
   ]
  },
  {
   "cell_type": "code",
   "execution_count": 4,
   "metadata": {
    "scrolled": true
   },
   "outputs": [
    {
     "data": {
      "text/html": [
       "<div>\n",
       "<style scoped>\n",
       "    .dataframe tbody tr th:only-of-type {\n",
       "        vertical-align: middle;\n",
       "    }\n",
       "\n",
       "    .dataframe tbody tr th {\n",
       "        vertical-align: top;\n",
       "    }\n",
       "\n",
       "    .dataframe thead th {\n",
       "        text-align: right;\n",
       "    }\n",
       "</style>\n",
       "<table border=\"1\" class=\"dataframe\">\n",
       "  <thead>\n",
       "    <tr style=\"text-align: right;\">\n",
       "      <th></th>\n",
       "      <th>block_timestamp</th>\n",
       "      <th>base_fee_per_gas</th>\n",
       "    </tr>\n",
       "  </thead>\n",
       "  <tbody>\n",
       "    <tr>\n",
       "      <th>0</th>\n",
       "      <td>2021-11-26 21:32:09</td>\n",
       "      <td>116925004757</td>\n",
       "    </tr>\n",
       "    <tr>\n",
       "      <th>1</th>\n",
       "      <td>2021-11-26 21:31:58</td>\n",
       "      <td>121935382610</td>\n",
       "    </tr>\n",
       "    <tr>\n",
       "      <th>2</th>\n",
       "      <td>2021-11-26 21:31:38</td>\n",
       "      <td>108389042873</td>\n",
       "    </tr>\n",
       "    <tr>\n",
       "      <th>3</th>\n",
       "      <td>2021-11-26 21:31:36</td>\n",
       "      <td>123043231276</td>\n",
       "    </tr>\n",
       "    <tr>\n",
       "      <th>4</th>\n",
       "      <td>2021-11-26 21:31:28</td>\n",
       "      <td>118132043184</td>\n",
       "    </tr>\n",
       "  </tbody>\n",
       "</table>\n",
       "</div>"
      ],
      "text/plain": [
       "       block_timestamp  base_fee_per_gas\n",
       "0  2021-11-26 21:32:09      116925004757\n",
       "1  2021-11-26 21:31:58      121935382610\n",
       "2  2021-11-26 21:31:38      108389042873\n",
       "3  2021-11-26 21:31:36      123043231276\n",
       "4  2021-11-26 21:31:28      118132043184"
      ]
     },
     "execution_count": 4,
     "metadata": {},
     "output_type": "execute_result"
    }
   ],
   "source": [
    "df.head()"
   ]
  },
  {
   "cell_type": "code",
   "execution_count": null,
   "metadata": {},
   "outputs": [],
   "source": []
  },
  {
   "cell_type": "code",
   "execution_count": 5,
   "metadata": {},
   "outputs": [
    {
     "data": {
      "text/plain": [
       "250"
      ]
     },
     "execution_count": 5,
     "metadata": {},
     "output_type": "execute_result"
    }
   ],
   "source": [
    "len(df)"
   ]
  },
  {
   "cell_type": "code",
   "execution_count": 6,
   "metadata": {},
   "outputs": [
    {
     "data": {
      "text/plain": [
       "250"
      ]
     },
     "execution_count": 6,
     "metadata": {},
     "output_type": "execute_result"
    }
   ],
   "source": [
    "len(pd.Series(df['block_timestamp']).unique())"
   ]
  },
  {
   "cell_type": "code",
   "execution_count": 7,
   "metadata": {},
   "outputs": [
    {
     "data": {
      "text/html": [
       "<div>\n",
       "<style scoped>\n",
       "    .dataframe tbody tr th:only-of-type {\n",
       "        vertical-align: middle;\n",
       "    }\n",
       "\n",
       "    .dataframe tbody tr th {\n",
       "        vertical-align: top;\n",
       "    }\n",
       "\n",
       "    .dataframe thead th {\n",
       "        text-align: right;\n",
       "    }\n",
       "</style>\n",
       "<table border=\"1\" class=\"dataframe\">\n",
       "  <thead>\n",
       "    <tr style=\"text-align: right;\">\n",
       "      <th></th>\n",
       "      <th>block_timestamp</th>\n",
       "      <th>max_priority_fee_per_gas</th>\n",
       "      <th>receipt_effective_gas_price</th>\n",
       "    </tr>\n",
       "  </thead>\n",
       "  <tbody>\n",
       "    <tr>\n",
       "      <th>0</th>\n",
       "      <td>2021-11-29 03:14:08</td>\n",
       "      <td>0</td>\n",
       "      <td>110000000000</td>\n",
       "    </tr>\n",
       "    <tr>\n",
       "      <th>1</th>\n",
       "      <td>2021-11-29 03:14:08</td>\n",
       "      <td>2000000000</td>\n",
       "      <td>106975341111</td>\n",
       "    </tr>\n",
       "    <tr>\n",
       "      <th>2</th>\n",
       "      <td>2021-11-29 03:14:08</td>\n",
       "      <td>2000000000</td>\n",
       "      <td>106975341111</td>\n",
       "    </tr>\n",
       "    <tr>\n",
       "      <th>3</th>\n",
       "      <td>2021-11-29 03:14:08</td>\n",
       "      <td>2000000000</td>\n",
       "      <td>106975341111</td>\n",
       "    </tr>\n",
       "    <tr>\n",
       "      <th>4</th>\n",
       "      <td>2021-11-29 03:14:08</td>\n",
       "      <td>0</td>\n",
       "      <td>132000000000</td>\n",
       "    </tr>\n",
       "  </tbody>\n",
       "</table>\n",
       "</div>"
      ],
      "text/plain": [
       "       block_timestamp  max_priority_fee_per_gas  receipt_effective_gas_price\n",
       "0  2021-11-29 03:14:08                         0                 110000000000\n",
       "1  2021-11-29 03:14:08                2000000000                 106975341111\n",
       "2  2021-11-29 03:14:08                2000000000                 106975341111\n",
       "3  2021-11-29 03:14:08                2000000000                 106975341111\n",
       "4  2021-11-29 03:14:08                         0                 132000000000"
      ]
     },
     "execution_count": 7,
     "metadata": {},
     "output_type": "execute_result"
    }
   ],
   "source": [
    "df2.head()"
   ]
  },
  {
   "cell_type": "markdown",
   "metadata": {},
   "source": [
    "## agg"
   ]
  },
  {
   "cell_type": "code",
   "execution_count": 8,
   "metadata": {},
   "outputs": [
    {
     "data": {
      "text/html": [
       "<div>\n",
       "<style scoped>\n",
       "    .dataframe tbody tr th:only-of-type {\n",
       "        vertical-align: middle;\n",
       "    }\n",
       "\n",
       "    .dataframe tbody tr th {\n",
       "        vertical-align: top;\n",
       "    }\n",
       "\n",
       "    .dataframe thead th {\n",
       "        text-align: right;\n",
       "    }\n",
       "</style>\n",
       "<table border=\"1\" class=\"dataframe\">\n",
       "  <thead>\n",
       "    <tr style=\"text-align: right;\">\n",
       "      <th></th>\n",
       "      <th>receipt_effective_gas_price_mean</th>\n",
       "      <th>receipt_effective_gas_price_count</th>\n",
       "      <th>max_priority_fee_per_gas_mean</th>\n",
       "      <th>max_priority_fee_per_gas_count</th>\n",
       "    </tr>\n",
       "    <tr>\n",
       "      <th>block_timestamp</th>\n",
       "      <th></th>\n",
       "      <th></th>\n",
       "      <th></th>\n",
       "      <th></th>\n",
       "    </tr>\n",
       "  </thead>\n",
       "  <tbody>\n",
       "    <tr>\n",
       "      <th>2021-11-29 03:13:34</th>\n",
       "      <td>1.140581e+11</td>\n",
       "      <td>206</td>\n",
       "      <td>2.256228e+09</td>\n",
       "      <td>206</td>\n",
       "    </tr>\n",
       "    <tr>\n",
       "      <th>2021-11-29 03:13:40</th>\n",
       "      <td>1.247622e+11</td>\n",
       "      <td>77</td>\n",
       "      <td>2.492227e+09</td>\n",
       "      <td>77</td>\n",
       "    </tr>\n",
       "    <tr>\n",
       "      <th>2021-11-29 03:13:41</th>\n",
       "      <td>1.072463e+11</td>\n",
       "      <td>123</td>\n",
       "      <td>7.923588e+09</td>\n",
       "      <td>123</td>\n",
       "    </tr>\n",
       "    <tr>\n",
       "      <th>2021-11-29 03:13:43</th>\n",
       "      <td>1.104397e+11</td>\n",
       "      <td>313</td>\n",
       "      <td>6.178903e+09</td>\n",
       "      <td>313</td>\n",
       "    </tr>\n",
       "    <tr>\n",
       "      <th>2021-11-29 03:14:08</th>\n",
       "      <td>1.110649e+11</td>\n",
       "      <td>133</td>\n",
       "      <td>2.829828e+09</td>\n",
       "      <td>133</td>\n",
       "    </tr>\n",
       "  </tbody>\n",
       "</table>\n",
       "</div>"
      ],
      "text/plain": [
       "                     receipt_effective_gas_price_mean  \\\n",
       "block_timestamp                                         \n",
       "2021-11-29 03:13:34                      1.140581e+11   \n",
       "2021-11-29 03:13:40                      1.247622e+11   \n",
       "2021-11-29 03:13:41                      1.072463e+11   \n",
       "2021-11-29 03:13:43                      1.104397e+11   \n",
       "2021-11-29 03:14:08                      1.110649e+11   \n",
       "\n",
       "                     receipt_effective_gas_price_count  \\\n",
       "block_timestamp                                          \n",
       "2021-11-29 03:13:34                                206   \n",
       "2021-11-29 03:13:40                                 77   \n",
       "2021-11-29 03:13:41                                123   \n",
       "2021-11-29 03:13:43                                313   \n",
       "2021-11-29 03:14:08                                133   \n",
       "\n",
       "                     max_priority_fee_per_gas_mean  \\\n",
       "block_timestamp                                      \n",
       "2021-11-29 03:13:34                   2.256228e+09   \n",
       "2021-11-29 03:13:40                   2.492227e+09   \n",
       "2021-11-29 03:13:41                   7.923588e+09   \n",
       "2021-11-29 03:13:43                   6.178903e+09   \n",
       "2021-11-29 03:14:08                   2.829828e+09   \n",
       "\n",
       "                     max_priority_fee_per_gas_count  \n",
       "block_timestamp                                      \n",
       "2021-11-29 03:13:34                             206  \n",
       "2021-11-29 03:13:40                              77  \n",
       "2021-11-29 03:13:41                             123  \n",
       "2021-11-29 03:13:43                             313  \n",
       "2021-11-29 03:14:08                             133  "
      ]
     },
     "execution_count": 8,
     "metadata": {},
     "output_type": "execute_result"
    }
   ],
   "source": [
    "df2_agg = df2[['block_timestamp', 'receipt_effective_gas_price', 'max_priority_fee_per_gas']].groupby('block_timestamp').agg(['mean', 'count'])\n",
    "df2_agg.columns = df2_agg.columns.map('_'.join).str.strip('_')\n",
    "df2_agg.tail()\n"
   ]
  },
  {
   "cell_type": "code",
   "execution_count": 9,
   "metadata": {},
   "outputs": [],
   "source": [
    "#df2_agg = pd.DataFrame(df2_agg).sort_values(by=['block_timestamp'], ascending=False)"
   ]
  },
  {
   "cell_type": "code",
   "execution_count": 10,
   "metadata": {},
   "outputs": [
    {
     "data": {
      "text/plain": [
       "514"
      ]
     },
     "execution_count": 10,
     "metadata": {},
     "output_type": "execute_result"
    }
   ],
   "source": [
    "len(df2_agg)"
   ]
  },
  {
   "cell_type": "code",
   "execution_count": 11,
   "metadata": {},
   "outputs": [
    {
     "data": {
      "text/plain": [
       "250"
      ]
     },
     "execution_count": 11,
     "metadata": {},
     "output_type": "execute_result"
    }
   ],
   "source": [
    "len(df)"
   ]
  },
  {
   "cell_type": "markdown",
   "metadata": {},
   "source": [
    "## merge"
   ]
  },
  {
   "cell_type": "code",
   "execution_count": 12,
   "metadata": {},
   "outputs": [],
   "source": [
    "df_merge=df.merge(right=df2_agg, how='inner', on='block_timestamp')\n",
    "df_merge = pd.DataFrame(df_merge).sort_values(by='block_timestamp', ascending=True)"
   ]
  },
  {
   "cell_type": "code",
   "execution_count": 13,
   "metadata": {},
   "outputs": [],
   "source": [
    "df_merge = df_merge[-200:]"
   ]
  },
  {
   "cell_type": "code",
   "execution_count": 14,
   "metadata": {},
   "outputs": [
    {
     "data": {
      "text/html": [
       "<div>\n",
       "<style scoped>\n",
       "    .dataframe tbody tr th:only-of-type {\n",
       "        vertical-align: middle;\n",
       "    }\n",
       "\n",
       "    .dataframe tbody tr th {\n",
       "        vertical-align: top;\n",
       "    }\n",
       "\n",
       "    .dataframe thead th {\n",
       "        text-align: right;\n",
       "    }\n",
       "</style>\n",
       "<table border=\"1\" class=\"dataframe\">\n",
       "  <thead>\n",
       "    <tr style=\"text-align: right;\">\n",
       "      <th></th>\n",
       "      <th>block_timestamp</th>\n",
       "      <th>base_fee_per_gas</th>\n",
       "      <th>receipt_effective_gas_price_mean</th>\n",
       "      <th>receipt_effective_gas_price_count</th>\n",
       "      <th>max_priority_fee_per_gas_mean</th>\n",
       "      <th>max_priority_fee_per_gas_count</th>\n",
       "    </tr>\n",
       "  </thead>\n",
       "  <tbody>\n",
       "  </tbody>\n",
       "</table>\n",
       "</div>"
      ],
      "text/plain": [
       "Empty DataFrame\n",
       "Columns: [block_timestamp, base_fee_per_gas, receipt_effective_gas_price_mean, receipt_effective_gas_price_count, max_priority_fee_per_gas_mean, max_priority_fee_per_gas_count]\n",
       "Index: []"
      ]
     },
     "execution_count": 14,
     "metadata": {},
     "output_type": "execute_result"
    }
   ],
   "source": [
    "df_merge.head()"
   ]
  },
  {
   "cell_type": "code",
   "execution_count": 15,
   "metadata": {},
   "outputs": [
    {
     "data": {
      "text/plain": [
       "0"
      ]
     },
     "execution_count": 15,
     "metadata": {},
     "output_type": "execute_result"
    }
   ],
   "source": [
    "len(df_merge)"
   ]
  },
  {
   "cell_type": "code",
   "execution_count": 16,
   "metadata": {},
   "outputs": [],
   "source": [
    "cols = ['base_fee_per_gas', 'receipt_effective_gas_price_count', 'receipt_effective_gas_price_mean', 'max_priority_fee_per_gas_mean']\n",
    "for col in cols:\n",
    "    # Last 5 blocks\n",
    "    df_merge[col+'_pct_chg_last_5'] = df_merge[col]/df_merge[col].shift(5)-1\n",
    "    # 100 blocks ago to 5 blocks ago percentage changes\n",
    "    df_merge[col+'_pct_chg_last_100_to_5'] = df_merge[col].shift(5)/df_merge[col].shift(100)-1\n"
   ]
  },
  {
   "cell_type": "code",
   "execution_count": 17,
   "metadata": {},
   "outputs": [],
   "source": [
    "#df_merge = pd.DataFrame(df_merge).sort_values(by='block_timestamp', ascending=False)"
   ]
  },
  {
   "cell_type": "code",
   "execution_count": 18,
   "metadata": {},
   "outputs": [
    {
     "data": {
      "text/html": [
       "<div>\n",
       "<style scoped>\n",
       "    .dataframe tbody tr th:only-of-type {\n",
       "        vertical-align: middle;\n",
       "    }\n",
       "\n",
       "    .dataframe tbody tr th {\n",
       "        vertical-align: top;\n",
       "    }\n",
       "\n",
       "    .dataframe thead th {\n",
       "        text-align: right;\n",
       "    }\n",
       "</style>\n",
       "<table border=\"1\" class=\"dataframe\">\n",
       "  <thead>\n",
       "    <tr style=\"text-align: right;\">\n",
       "      <th></th>\n",
       "      <th>block_timestamp</th>\n",
       "      <th>base_fee_per_gas</th>\n",
       "      <th>receipt_effective_gas_price_mean</th>\n",
       "      <th>receipt_effective_gas_price_count</th>\n",
       "      <th>max_priority_fee_per_gas_mean</th>\n",
       "      <th>max_priority_fee_per_gas_count</th>\n",
       "      <th>base_fee_per_gas_pct_chg_last_5</th>\n",
       "      <th>base_fee_per_gas_pct_chg_last_100_to_5</th>\n",
       "      <th>receipt_effective_gas_price_count_pct_chg_last_5</th>\n",
       "      <th>receipt_effective_gas_price_count_pct_chg_last_100_to_5</th>\n",
       "      <th>receipt_effective_gas_price_mean_pct_chg_last_5</th>\n",
       "      <th>receipt_effective_gas_price_mean_pct_chg_last_100_to_5</th>\n",
       "      <th>max_priority_fee_per_gas_mean_pct_chg_last_5</th>\n",
       "      <th>max_priority_fee_per_gas_mean_pct_chg_last_100_to_5</th>\n",
       "    </tr>\n",
       "  </thead>\n",
       "  <tbody>\n",
       "  </tbody>\n",
       "</table>\n",
       "</div>"
      ],
      "text/plain": [
       "Empty DataFrame\n",
       "Columns: [block_timestamp, base_fee_per_gas, receipt_effective_gas_price_mean, receipt_effective_gas_price_count, max_priority_fee_per_gas_mean, max_priority_fee_per_gas_count, base_fee_per_gas_pct_chg_last_5, base_fee_per_gas_pct_chg_last_100_to_5, receipt_effective_gas_price_count_pct_chg_last_5, receipt_effective_gas_price_count_pct_chg_last_100_to_5, receipt_effective_gas_price_mean_pct_chg_last_5, receipt_effective_gas_price_mean_pct_chg_last_100_to_5, max_priority_fee_per_gas_mean_pct_chg_last_5, max_priority_fee_per_gas_mean_pct_chg_last_100_to_5]\n",
       "Index: []"
      ]
     },
     "execution_count": 18,
     "metadata": {},
     "output_type": "execute_result"
    }
   ],
   "source": [
    "df_merge = df_merge[-100:]\n",
    "df_merge.head()"
   ]
  },
  {
   "cell_type": "code",
   "execution_count": 19,
   "metadata": {},
   "outputs": [
    {
     "data": {
      "text/html": [
       "<div>\n",
       "<style scoped>\n",
       "    .dataframe tbody tr th:only-of-type {\n",
       "        vertical-align: middle;\n",
       "    }\n",
       "\n",
       "    .dataframe tbody tr th {\n",
       "        vertical-align: top;\n",
       "    }\n",
       "\n",
       "    .dataframe thead th {\n",
       "        text-align: right;\n",
       "    }\n",
       "</style>\n",
       "<table border=\"1\" class=\"dataframe\">\n",
       "  <thead>\n",
       "    <tr style=\"text-align: right;\">\n",
       "      <th></th>\n",
       "      <th>block_timestamp</th>\n",
       "      <th>base_fee_per_gas</th>\n",
       "      <th>receipt_effective_gas_price_mean</th>\n",
       "      <th>receipt_effective_gas_price_count</th>\n",
       "      <th>max_priority_fee_per_gas_mean</th>\n",
       "      <th>max_priority_fee_per_gas_count</th>\n",
       "      <th>base_fee_per_gas_pct_chg_last_5</th>\n",
       "      <th>base_fee_per_gas_pct_chg_last_100_to_5</th>\n",
       "      <th>receipt_effective_gas_price_count_pct_chg_last_5</th>\n",
       "      <th>receipt_effective_gas_price_count_pct_chg_last_100_to_5</th>\n",
       "      <th>receipt_effective_gas_price_mean_pct_chg_last_5</th>\n",
       "      <th>receipt_effective_gas_price_mean_pct_chg_last_100_to_5</th>\n",
       "      <th>max_priority_fee_per_gas_mean_pct_chg_last_5</th>\n",
       "      <th>max_priority_fee_per_gas_mean_pct_chg_last_100_to_5</th>\n",
       "    </tr>\n",
       "  </thead>\n",
       "  <tbody>\n",
       "  </tbody>\n",
       "</table>\n",
       "</div>"
      ],
      "text/plain": [
       "Empty DataFrame\n",
       "Columns: [block_timestamp, base_fee_per_gas, receipt_effective_gas_price_mean, receipt_effective_gas_price_count, max_priority_fee_per_gas_mean, max_priority_fee_per_gas_count, base_fee_per_gas_pct_chg_last_5, base_fee_per_gas_pct_chg_last_100_to_5, receipt_effective_gas_price_count_pct_chg_last_5, receipt_effective_gas_price_count_pct_chg_last_100_to_5, receipt_effective_gas_price_mean_pct_chg_last_5, receipt_effective_gas_price_mean_pct_chg_last_100_to_5, max_priority_fee_per_gas_mean_pct_chg_last_5, max_priority_fee_per_gas_mean_pct_chg_last_100_to_5]\n",
       "Index: []"
      ]
     },
     "execution_count": 19,
     "metadata": {},
     "output_type": "execute_result"
    }
   ],
   "source": [
    "df_merge.tail()"
   ]
  },
  {
   "cell_type": "code",
   "execution_count": 20,
   "metadata": {},
   "outputs": [
    {
     "data": {
      "text/plain": [
       "0"
      ]
     },
     "execution_count": 20,
     "metadata": {},
     "output_type": "execute_result"
    }
   ],
   "source": [
    "len(df_merge)"
   ]
  },
  {
   "cell_type": "markdown",
   "metadata": {},
   "source": [
    "## seasonality"
   ]
  },
  {
   "cell_type": "code",
   "execution_count": 21,
   "metadata": {},
   "outputs": [
    {
     "data": {
      "text/html": [
       "<div>\n",
       "<style scoped>\n",
       "    .dataframe tbody tr th:only-of-type {\n",
       "        vertical-align: middle;\n",
       "    }\n",
       "\n",
       "    .dataframe tbody tr th {\n",
       "        vertical-align: top;\n",
       "    }\n",
       "\n",
       "    .dataframe thead th {\n",
       "        text-align: right;\n",
       "    }\n",
       "</style>\n",
       "<table border=\"1\" class=\"dataframe\">\n",
       "  <thead>\n",
       "    <tr style=\"text-align: right;\">\n",
       "      <th></th>\n",
       "      <th>block_timestamp</th>\n",
       "      <th>base_fee_per_gas</th>\n",
       "      <th>receipt_effective_gas_price_mean</th>\n",
       "      <th>receipt_effective_gas_price_count</th>\n",
       "      <th>max_priority_fee_per_gas_mean</th>\n",
       "      <th>max_priority_fee_per_gas_count</th>\n",
       "      <th>base_fee_per_gas_pct_chg_last_5</th>\n",
       "      <th>base_fee_per_gas_pct_chg_last_100_to_5</th>\n",
       "      <th>receipt_effective_gas_price_count_pct_chg_last_5</th>\n",
       "      <th>receipt_effective_gas_price_count_pct_chg_last_100_to_5</th>\n",
       "      <th>receipt_effective_gas_price_mean_pct_chg_last_5</th>\n",
       "      <th>receipt_effective_gas_price_mean_pct_chg_last_100_to_5</th>\n",
       "      <th>max_priority_fee_per_gas_mean_pct_chg_last_5</th>\n",
       "      <th>max_priority_fee_per_gas_mean_pct_chg_last_100_to_5</th>\n",
       "    </tr>\n",
       "  </thead>\n",
       "  <tbody>\n",
       "  </tbody>\n",
       "</table>\n",
       "</div>"
      ],
      "text/plain": [
       "Empty DataFrame\n",
       "Columns: [block_timestamp, base_fee_per_gas, receipt_effective_gas_price_mean, receipt_effective_gas_price_count, max_priority_fee_per_gas_mean, max_priority_fee_per_gas_count, base_fee_per_gas_pct_chg_last_5, base_fee_per_gas_pct_chg_last_100_to_5, receipt_effective_gas_price_count_pct_chg_last_5, receipt_effective_gas_price_count_pct_chg_last_100_to_5, receipt_effective_gas_price_mean_pct_chg_last_5, receipt_effective_gas_price_mean_pct_chg_last_100_to_5, max_priority_fee_per_gas_mean_pct_chg_last_5, max_priority_fee_per_gas_mean_pct_chg_last_100_to_5]\n",
       "Index: []"
      ]
     },
     "execution_count": 21,
     "metadata": {},
     "output_type": "execute_result"
    }
   ],
   "source": [
    "df_merge.head()"
   ]
  },
  {
   "cell_type": "code",
   "execution_count": 22,
   "metadata": {},
   "outputs": [
    {
     "data": {
      "text/html": [
       "<div>\n",
       "<style scoped>\n",
       "    .dataframe tbody tr th:only-of-type {\n",
       "        vertical-align: middle;\n",
       "    }\n",
       "\n",
       "    .dataframe tbody tr th {\n",
       "        vertical-align: top;\n",
       "    }\n",
       "\n",
       "    .dataframe thead th {\n",
       "        text-align: right;\n",
       "    }\n",
       "</style>\n",
       "<table border=\"1\" class=\"dataframe\">\n",
       "  <thead>\n",
       "    <tr style=\"text-align: right;\">\n",
       "      <th></th>\n",
       "      <th>block_timestamp</th>\n",
       "      <th>base_fee_per_gas</th>\n",
       "      <th>receipt_effective_gas_price_mean</th>\n",
       "      <th>receipt_effective_gas_price_count</th>\n",
       "      <th>max_priority_fee_per_gas_mean</th>\n",
       "      <th>max_priority_fee_per_gas_count</th>\n",
       "      <th>base_fee_per_gas_pct_chg_last_5</th>\n",
       "      <th>base_fee_per_gas_pct_chg_last_100_to_5</th>\n",
       "      <th>receipt_effective_gas_price_count_pct_chg_last_5</th>\n",
       "      <th>receipt_effective_gas_price_count_pct_chg_last_100_to_5</th>\n",
       "      <th>receipt_effective_gas_price_mean_pct_chg_last_5</th>\n",
       "      <th>receipt_effective_gas_price_mean_pct_chg_last_100_to_5</th>\n",
       "      <th>max_priority_fee_per_gas_mean_pct_chg_last_5</th>\n",
       "      <th>max_priority_fee_per_gas_mean_pct_chg_last_100_to_5</th>\n",
       "      <th>local_date</th>\n",
       "      <th>date</th>\n",
       "      <th>hour</th>\n",
       "      <th>minute</th>\n",
       "      <th>weekday</th>\n",
       "    </tr>\n",
       "  </thead>\n",
       "  <tbody>\n",
       "  </tbody>\n",
       "</table>\n",
       "</div>"
      ],
      "text/plain": [
       "Empty DataFrame\n",
       "Columns: [block_timestamp, base_fee_per_gas, receipt_effective_gas_price_mean, receipt_effective_gas_price_count, max_priority_fee_per_gas_mean, max_priority_fee_per_gas_count, base_fee_per_gas_pct_chg_last_5, base_fee_per_gas_pct_chg_last_100_to_5, receipt_effective_gas_price_count_pct_chg_last_5, receipt_effective_gas_price_count_pct_chg_last_100_to_5, receipt_effective_gas_price_mean_pct_chg_last_5, receipt_effective_gas_price_mean_pct_chg_last_100_to_5, max_priority_fee_per_gas_mean_pct_chg_last_5, max_priority_fee_per_gas_mean_pct_chg_last_100_to_5, local_date, date, hour, minute, weekday]\n",
       "Index: []"
      ]
     },
     "execution_count": 22,
     "metadata": {},
     "output_type": "execute_result"
    }
   ],
   "source": [
    "df_merge['local_date'] = pd.to_datetime(df_merge['block_timestamp']).dt.tz_localize('utc').dt.tz_convert('US/Eastern')\n",
    "df_merge['date'] = df_merge['local_date'].dt.date\n",
    "df_merge['hour'] = df_merge['local_date'].dt.hour\n",
    "df_merge['minute'] = df_merge['local_date'].dt.minute\n",
    "df_merge['weekday'] = df_merge['local_date'].dt.weekday\n",
    "df_merge.head()"
   ]
  },
  {
   "cell_type": "code",
   "execution_count": 23,
   "metadata": {},
   "outputs": [],
   "source": [
    "df_merge['hour_dummy'] = 0\n",
    "start_hour = 2\n",
    "end_hour = 9\n",
    "mask = (df_merge['hour'] < start_hour) | (df_merge['hour'] > end_hour)\n",
    "df_merge.loc[mask, 'hour_dummy'] = 1\n",
    "\n",
    "df_merge['minute_dummy'] = 0\n",
    "start_minute = 1\n",
    "end_minute = 6\n",
    "mask = (df_merge['minute'] >= start_minute) & (df_merge['minute'] <= end_minute)\n",
    "df_merge.loc[mask, 'minute_dummy'] = 1\n",
    "\n",
    "df_merge['weekday_dummy'] = 0\n",
    "start_weekday = 1\n",
    "end_weekday = 4\n",
    "mask = (df_merge['weekday'] >= start_weekday) & (df_merge['weekday'] <= end_weekday)\n",
    "df_merge.loc[mask, 'weekday_dummy'] = 1"
   ]
  },
  {
   "cell_type": "code",
   "execution_count": 24,
   "metadata": {},
   "outputs": [
    {
     "data": {
      "text/html": [
       "<div>\n",
       "<style scoped>\n",
       "    .dataframe tbody tr th:only-of-type {\n",
       "        vertical-align: middle;\n",
       "    }\n",
       "\n",
       "    .dataframe tbody tr th {\n",
       "        vertical-align: top;\n",
       "    }\n",
       "\n",
       "    .dataframe thead th {\n",
       "        text-align: right;\n",
       "    }\n",
       "</style>\n",
       "<table border=\"1\" class=\"dataframe\">\n",
       "  <thead>\n",
       "    <tr style=\"text-align: right;\">\n",
       "      <th></th>\n",
       "      <th>block_timestamp</th>\n",
       "      <th>base_fee_per_gas</th>\n",
       "      <th>receipt_effective_gas_price_mean</th>\n",
       "      <th>receipt_effective_gas_price_count</th>\n",
       "      <th>max_priority_fee_per_gas_mean</th>\n",
       "      <th>max_priority_fee_per_gas_count</th>\n",
       "      <th>base_fee_per_gas_pct_chg_last_5</th>\n",
       "      <th>base_fee_per_gas_pct_chg_last_100_to_5</th>\n",
       "      <th>receipt_effective_gas_price_count_pct_chg_last_5</th>\n",
       "      <th>receipt_effective_gas_price_count_pct_chg_last_100_to_5</th>\n",
       "      <th>...</th>\n",
       "      <th>max_priority_fee_per_gas_mean_pct_chg_last_5</th>\n",
       "      <th>max_priority_fee_per_gas_mean_pct_chg_last_100_to_5</th>\n",
       "      <th>local_date</th>\n",
       "      <th>date</th>\n",
       "      <th>hour</th>\n",
       "      <th>minute</th>\n",
       "      <th>weekday</th>\n",
       "      <th>hour_dummy</th>\n",
       "      <th>minute_dummy</th>\n",
       "      <th>weekday_dummy</th>\n",
       "    </tr>\n",
       "  </thead>\n",
       "  <tbody>\n",
       "  </tbody>\n",
       "</table>\n",
       "<p>0 rows × 22 columns</p>\n",
       "</div>"
      ],
      "text/plain": [
       "Empty DataFrame\n",
       "Columns: [block_timestamp, base_fee_per_gas, receipt_effective_gas_price_mean, receipt_effective_gas_price_count, max_priority_fee_per_gas_mean, max_priority_fee_per_gas_count, base_fee_per_gas_pct_chg_last_5, base_fee_per_gas_pct_chg_last_100_to_5, receipt_effective_gas_price_count_pct_chg_last_5, receipt_effective_gas_price_count_pct_chg_last_100_to_5, receipt_effective_gas_price_mean_pct_chg_last_5, receipt_effective_gas_price_mean_pct_chg_last_100_to_5, max_priority_fee_per_gas_mean_pct_chg_last_5, max_priority_fee_per_gas_mean_pct_chg_last_100_to_5, local_date, date, hour, minute, weekday, hour_dummy, minute_dummy, weekday_dummy]\n",
       "Index: []\n",
       "\n",
       "[0 rows x 22 columns]"
      ]
     },
     "execution_count": 24,
     "metadata": {},
     "output_type": "execute_result"
    }
   ],
   "source": [
    "df_merge.head()"
   ]
  },
  {
   "cell_type": "code",
   "execution_count": 25,
   "metadata": {},
   "outputs": [
    {
     "data": {
      "text/plain": [
       "Index(['block_timestamp', 'base_fee_per_gas',\n",
       "       'receipt_effective_gas_price_mean', 'receipt_effective_gas_price_count',\n",
       "       'max_priority_fee_per_gas_mean', 'max_priority_fee_per_gas_count',\n",
       "       'base_fee_per_gas_pct_chg_last_5',\n",
       "       'base_fee_per_gas_pct_chg_last_100_to_5',\n",
       "       'receipt_effective_gas_price_count_pct_chg_last_5',\n",
       "       'receipt_effective_gas_price_count_pct_chg_last_100_to_5',\n",
       "       'receipt_effective_gas_price_mean_pct_chg_last_5',\n",
       "       'receipt_effective_gas_price_mean_pct_chg_last_100_to_5',\n",
       "       'max_priority_fee_per_gas_mean_pct_chg_last_5',\n",
       "       'max_priority_fee_per_gas_mean_pct_chg_last_100_to_5', 'local_date',\n",
       "       'date', 'hour', 'minute', 'weekday', 'hour_dummy', 'minute_dummy',\n",
       "       'weekday_dummy'],\n",
       "      dtype='object')"
      ]
     },
     "execution_count": 25,
     "metadata": {},
     "output_type": "execute_result"
    }
   ],
   "source": [
    "df_merge.columns"
   ]
  },
  {
   "cell_type": "markdown",
   "metadata": {},
   "source": [
    "##### FROM ROB: \n",
    "'''rf_features = ['base_fee_per_gas_pct_chg_last_100_to_5', 'base_fee_per_gas_pct_chg_last_5',\n",
    "             'number_transactions_in_block_pct_chg_last_100_to_5', 'number_transactions_in_block_pct_chg_last_5',\n",
    "             'effective_gas_price_mean_pct_chg_last_100_to_5', 'effective_gas_price_mean_pct_chg_last_5',\n",
    "             'max_priority_fee_per_gas_mean_pct_chg_last_100_to_5', 'max_priority_fee_per_gas_mean_pct_chg_last_5',\n",
    "             'minute_dummy', 'hour_dummy', 'weekday_dummy']\n",
    "'''"
   ]
  },
  {
   "cell_type": "code",
   "execution_count": 26,
   "metadata": {},
   "outputs": [],
   "source": [
    "df_merge.rename(columns={\n",
    "       'receipt_effective_gas_price_count_pct_chg_last_5':'number_transactions_in_block_pct_chg_last_5',\n",
    "       'receipt_effective_gas_price_count_pct_chg_last_100_to_5':'number_transactions_in_block_pct_chg_last_100_to_5',\n",
    "       'receipt_effective_gas_price_mean_pct_chg_last_5':'effective_gas_price_mean_pct_chg_last_5',\n",
    "       'receipt_effective_gas_price_mean_pct_chg_last_100_to_5':'effective_gas_price_mean_pct_chg_last_100_to_5',\n",
    "        }, inplace=True)\n"
   ]
  },
  {
   "cell_type": "code",
   "execution_count": 27,
   "metadata": {},
   "outputs": [
    {
     "data": {
      "text/plain": [
       "Index(['block_timestamp', 'base_fee_per_gas',\n",
       "       'receipt_effective_gas_price_mean', 'receipt_effective_gas_price_count',\n",
       "       'max_priority_fee_per_gas_mean', 'max_priority_fee_per_gas_count',\n",
       "       'base_fee_per_gas_pct_chg_last_5',\n",
       "       'base_fee_per_gas_pct_chg_last_100_to_5',\n",
       "       'number_transactions_in_block_pct_chg_last_5',\n",
       "       'number_transactions_in_block_pct_chg_last_100_to_5',\n",
       "       'effective_gas_price_mean_pct_chg_last_5',\n",
       "       'effective_gas_price_mean_pct_chg_last_100_to_5',\n",
       "       'max_priority_fee_per_gas_mean_pct_chg_last_5',\n",
       "       'max_priority_fee_per_gas_mean_pct_chg_last_100_to_5', 'local_date',\n",
       "       'date', 'hour', 'minute', 'weekday', 'hour_dummy', 'minute_dummy',\n",
       "       'weekday_dummy'],\n",
       "      dtype='object')"
      ]
     },
     "execution_count": 27,
     "metadata": {},
     "output_type": "execute_result"
    }
   ],
   "source": [
    "df_merge.columns"
   ]
  },
  {
   "cell_type": "code",
   "execution_count": 28,
   "metadata": {},
   "outputs": [
    {
     "name": "stderr",
     "output_type": "stream",
     "text": [
      "/Users/anthonybaldor/anaconda3/lib/python3.8/site-packages/sklearn/base.py:329: UserWarning: Trying to unpickle estimator DecisionTreeRegressor from version 0.24.1 when using version 0.23.1. This might lead to breaking code or invalid results. Use at your own risk.\n",
      "  warnings.warn(\n",
      "/Users/anthonybaldor/anaconda3/lib/python3.8/site-packages/sklearn/base.py:329: UserWarning: Trying to unpickle estimator RandomForestRegressor from version 0.24.1 when using version 0.23.1. This might lead to breaking code or invalid results. Use at your own risk.\n",
      "  warnings.warn(\n"
     ]
    }
   ],
   "source": [
    "with open('rf_test_model.pkl', 'rb') as model:\n",
    "    rf = pickle.load(model)"
   ]
  },
  {
   "cell_type": "code",
   "execution_count": 29,
   "metadata": {},
   "outputs": [],
   "source": [
    "features = ['base_fee_per_gas_pct_chg_last_100_to_5', \n",
    "            'base_fee_per_gas_pct_chg_last_5',\n",
    "            'number_transactions_in_block_pct_chg_last_100_to_5', \n",
    "            'number_transactions_in_block_pct_chg_last_5',\n",
    "            'effective_gas_price_mean_pct_chg_last_100_to_5', \n",
    "            'effective_gas_price_mean_pct_chg_last_5',\n",
    "            'max_priority_fee_per_gas_mean_pct_chg_last_100_to_5', \n",
    "            'max_priority_fee_per_gas_mean_pct_chg_last_5',\n",
    "            'minute_dummy', 'hour_dummy', 'weekday_dummy']\n",
    "df_predict = df_merge[features]\n",
    "\n"
   ]
  },
  {
   "cell_type": "markdown",
   "metadata": {},
   "source": [
    "'''df_predict = df_merge[features].astype({\n",
    "    'base_fee_per_gas_pct_chg_last_100_to_5': np.float32,\n",
    "    'base_fee_per_gas_pct_chg_last_5': np.float32,\n",
    "    'receipt_effective_gas_price_count_pct_chg_last_100_to_5': np.float32,\n",
    "    'receipt_effective_gas_price_count_pct_chg_last_5': np.float32,\n",
    "    'receipt_effective_gas_price_mean_pct_chg_last_100_to_5': np.float32,\n",
    "    'receipt_effective_gas_price_mean_pct_chg_last_5': np.float32,\n",
    "    'max_priority_fee_per_gas_mean_pct_chg_last_100_to_5': np.float32,\n",
    "    'max_priority_fee_per_gas_mean_pct_chg_last_5': np.float32,\n",
    "})\n",
    "'''"
   ]
  },
  {
   "cell_type": "code",
   "execution_count": 30,
   "metadata": {},
   "outputs": [
    {
     "data": {
      "text/html": [
       "<div>\n",
       "<style scoped>\n",
       "    .dataframe tbody tr th:only-of-type {\n",
       "        vertical-align: middle;\n",
       "    }\n",
       "\n",
       "    .dataframe tbody tr th {\n",
       "        vertical-align: top;\n",
       "    }\n",
       "\n",
       "    .dataframe thead th {\n",
       "        text-align: right;\n",
       "    }\n",
       "</style>\n",
       "<table border=\"1\" class=\"dataframe\">\n",
       "  <thead>\n",
       "    <tr style=\"text-align: right;\">\n",
       "      <th></th>\n",
       "      <th>base_fee_per_gas_pct_chg_last_100_to_5</th>\n",
       "      <th>base_fee_per_gas_pct_chg_last_5</th>\n",
       "      <th>number_transactions_in_block_pct_chg_last_100_to_5</th>\n",
       "      <th>number_transactions_in_block_pct_chg_last_5</th>\n",
       "      <th>effective_gas_price_mean_pct_chg_last_100_to_5</th>\n",
       "      <th>effective_gas_price_mean_pct_chg_last_5</th>\n",
       "      <th>max_priority_fee_per_gas_mean_pct_chg_last_100_to_5</th>\n",
       "      <th>max_priority_fee_per_gas_mean_pct_chg_last_5</th>\n",
       "      <th>minute_dummy</th>\n",
       "      <th>hour_dummy</th>\n",
       "      <th>weekday_dummy</th>\n",
       "    </tr>\n",
       "  </thead>\n",
       "  <tbody>\n",
       "  </tbody>\n",
       "</table>\n",
       "</div>"
      ],
      "text/plain": [
       "Empty DataFrame\n",
       "Columns: [base_fee_per_gas_pct_chg_last_100_to_5, base_fee_per_gas_pct_chg_last_5, number_transactions_in_block_pct_chg_last_100_to_5, number_transactions_in_block_pct_chg_last_5, effective_gas_price_mean_pct_chg_last_100_to_5, effective_gas_price_mean_pct_chg_last_5, max_priority_fee_per_gas_mean_pct_chg_last_100_to_5, max_priority_fee_per_gas_mean_pct_chg_last_5, minute_dummy, hour_dummy, weekday_dummy]\n",
       "Index: []"
      ]
     },
     "execution_count": 30,
     "metadata": {},
     "output_type": "execute_result"
    }
   ],
   "source": [
    "df_predict.tail()"
   ]
  },
  {
   "cell_type": "code",
   "execution_count": 31,
   "metadata": {},
   "outputs": [],
   "source": [
    "mask100 = (df_predict['max_priority_fee_per_gas_mean_pct_chg_last_100_to_5'] >= 17.677177)\n",
    "df_predict.loc[mask100, 'max_priority_fee_per_gas_mean_pct_chg_last_100_to_5'] = 17.677177\n",
    "mask5 = (df_predict['max_priority_fee_per_gas_mean_pct_chg_last_5'] >= 10.24462)\n",
    "df_predict.loc[mask5, 'max_priority_fee_per_gas_mean_pct_chg_last_5'] = 10.24462"
   ]
  },
  {
   "cell_type": "code",
   "execution_count": 32,
   "metadata": {},
   "outputs": [],
   "source": [
    "#columns = df_predict.columns\n",
    "#values = [0.431637, 0.309303, 8.809524, 8.9, 17.677177, 16.710033, 15.495496, 10.24462]\n",
    "#for i in columns[:8]:\n",
    "#    df_predict[i].replace(np.inf, values[columns.get_loc(i)], inplace=True)\n",
    "#    #print(values[columns.get_loc(i)])\n",
    "#    #print(df_predict[i])\n"
   ]
  },
  {
   "cell_type": "code",
   "execution_count": 33,
   "metadata": {},
   "outputs": [
    {
     "ename": "ValueError",
     "evalue": "Found array with 0 sample(s) (shape=(0, 11)) while a minimum of 1 is required.",
     "output_type": "error",
     "traceback": [
      "\u001b[0;31m---------------------------------------------------------------------------\u001b[0m",
      "\u001b[0;31mValueError\u001b[0m                                Traceback (most recent call last)",
      "\u001b[0;32m<ipython-input-33-1794a66ab811>\u001b[0m in \u001b[0;36m<module>\u001b[0;34m\u001b[0m\n\u001b[0;32m----> 1\u001b[0;31m \u001b[0mpredicted\u001b[0m \u001b[0;34m=\u001b[0m \u001b[0mrf\u001b[0m\u001b[0;34m.\u001b[0m\u001b[0mpredict\u001b[0m\u001b[0;34m(\u001b[0m\u001b[0mdf_predict\u001b[0m\u001b[0;34m)\u001b[0m\u001b[0;34m\u001b[0m\u001b[0;34m\u001b[0m\u001b[0m\n\u001b[0m",
      "\u001b[0;32m~/anaconda3/lib/python3.8/site-packages/sklearn/ensemble/_forest.py\u001b[0m in \u001b[0;36mpredict\u001b[0;34m(self, X)\u001b[0m\n\u001b[1;32m    781\u001b[0m         \u001b[0mcheck_is_fitted\u001b[0m\u001b[0;34m(\u001b[0m\u001b[0mself\u001b[0m\u001b[0;34m)\u001b[0m\u001b[0;34m\u001b[0m\u001b[0;34m\u001b[0m\u001b[0m\n\u001b[1;32m    782\u001b[0m         \u001b[0;31m# Check data\u001b[0m\u001b[0;34m\u001b[0m\u001b[0;34m\u001b[0m\u001b[0;34m\u001b[0m\u001b[0m\n\u001b[0;32m--> 783\u001b[0;31m         \u001b[0mX\u001b[0m \u001b[0;34m=\u001b[0m \u001b[0mself\u001b[0m\u001b[0;34m.\u001b[0m\u001b[0m_validate_X_predict\u001b[0m\u001b[0;34m(\u001b[0m\u001b[0mX\u001b[0m\u001b[0;34m)\u001b[0m\u001b[0;34m\u001b[0m\u001b[0;34m\u001b[0m\u001b[0m\n\u001b[0m\u001b[1;32m    784\u001b[0m \u001b[0;34m\u001b[0m\u001b[0m\n\u001b[1;32m    785\u001b[0m         \u001b[0;31m# Assign chunk of trees to jobs\u001b[0m\u001b[0;34m\u001b[0m\u001b[0;34m\u001b[0m\u001b[0;34m\u001b[0m\u001b[0m\n",
      "\u001b[0;32m~/anaconda3/lib/python3.8/site-packages/sklearn/ensemble/_forest.py\u001b[0m in \u001b[0;36m_validate_X_predict\u001b[0;34m(self, X)\u001b[0m\n\u001b[1;32m    419\u001b[0m         \u001b[0mcheck_is_fitted\u001b[0m\u001b[0;34m(\u001b[0m\u001b[0mself\u001b[0m\u001b[0;34m)\u001b[0m\u001b[0;34m\u001b[0m\u001b[0;34m\u001b[0m\u001b[0m\n\u001b[1;32m    420\u001b[0m \u001b[0;34m\u001b[0m\u001b[0m\n\u001b[0;32m--> 421\u001b[0;31m         \u001b[0;32mreturn\u001b[0m \u001b[0mself\u001b[0m\u001b[0;34m.\u001b[0m\u001b[0mestimators_\u001b[0m\u001b[0;34m[\u001b[0m\u001b[0;36m0\u001b[0m\u001b[0;34m]\u001b[0m\u001b[0;34m.\u001b[0m\u001b[0m_validate_X_predict\u001b[0m\u001b[0;34m(\u001b[0m\u001b[0mX\u001b[0m\u001b[0;34m,\u001b[0m \u001b[0mcheck_input\u001b[0m\u001b[0;34m=\u001b[0m\u001b[0;32mTrue\u001b[0m\u001b[0;34m)\u001b[0m\u001b[0;34m\u001b[0m\u001b[0;34m\u001b[0m\u001b[0m\n\u001b[0m\u001b[1;32m    422\u001b[0m \u001b[0;34m\u001b[0m\u001b[0m\n\u001b[1;32m    423\u001b[0m     \u001b[0;34m@\u001b[0m\u001b[0mproperty\u001b[0m\u001b[0;34m\u001b[0m\u001b[0;34m\u001b[0m\u001b[0m\n",
      "\u001b[0;32m~/anaconda3/lib/python3.8/site-packages/sklearn/tree/_classes.py\u001b[0m in \u001b[0;36m_validate_X_predict\u001b[0;34m(self, X, check_input)\u001b[0m\n\u001b[1;32m    386\u001b[0m         \u001b[0;34m\"\"\"Validate X whenever one tries to predict, apply, predict_proba\"\"\"\u001b[0m\u001b[0;34m\u001b[0m\u001b[0;34m\u001b[0m\u001b[0m\n\u001b[1;32m    387\u001b[0m         \u001b[0;32mif\u001b[0m \u001b[0mcheck_input\u001b[0m\u001b[0;34m:\u001b[0m\u001b[0;34m\u001b[0m\u001b[0;34m\u001b[0m\u001b[0m\n\u001b[0;32m--> 388\u001b[0;31m             \u001b[0mX\u001b[0m \u001b[0;34m=\u001b[0m \u001b[0mcheck_array\u001b[0m\u001b[0;34m(\u001b[0m\u001b[0mX\u001b[0m\u001b[0;34m,\u001b[0m \u001b[0mdtype\u001b[0m\u001b[0;34m=\u001b[0m\u001b[0mDTYPE\u001b[0m\u001b[0;34m,\u001b[0m \u001b[0maccept_sparse\u001b[0m\u001b[0;34m=\u001b[0m\u001b[0;34m\"csr\"\u001b[0m\u001b[0;34m)\u001b[0m\u001b[0;34m\u001b[0m\u001b[0;34m\u001b[0m\u001b[0m\n\u001b[0m\u001b[1;32m    389\u001b[0m             if issparse(X) and (X.indices.dtype != np.intc or\n\u001b[1;32m    390\u001b[0m                                 X.indptr.dtype != np.intc):\n",
      "\u001b[0;32m~/anaconda3/lib/python3.8/site-packages/sklearn/utils/validation.py\u001b[0m in \u001b[0;36minner_f\u001b[0;34m(*args, **kwargs)\u001b[0m\n\u001b[1;32m     71\u001b[0m                           FutureWarning)\n\u001b[1;32m     72\u001b[0m         \u001b[0mkwargs\u001b[0m\u001b[0;34m.\u001b[0m\u001b[0mupdate\u001b[0m\u001b[0;34m(\u001b[0m\u001b[0;34m{\u001b[0m\u001b[0mk\u001b[0m\u001b[0;34m:\u001b[0m \u001b[0marg\u001b[0m \u001b[0;32mfor\u001b[0m \u001b[0mk\u001b[0m\u001b[0;34m,\u001b[0m \u001b[0marg\u001b[0m \u001b[0;32min\u001b[0m \u001b[0mzip\u001b[0m\u001b[0;34m(\u001b[0m\u001b[0msig\u001b[0m\u001b[0;34m.\u001b[0m\u001b[0mparameters\u001b[0m\u001b[0;34m,\u001b[0m \u001b[0margs\u001b[0m\u001b[0;34m)\u001b[0m\u001b[0;34m}\u001b[0m\u001b[0;34m)\u001b[0m\u001b[0;34m\u001b[0m\u001b[0;34m\u001b[0m\u001b[0m\n\u001b[0;32m---> 73\u001b[0;31m         \u001b[0;32mreturn\u001b[0m \u001b[0mf\u001b[0m\u001b[0;34m(\u001b[0m\u001b[0;34m**\u001b[0m\u001b[0mkwargs\u001b[0m\u001b[0;34m)\u001b[0m\u001b[0;34m\u001b[0m\u001b[0;34m\u001b[0m\u001b[0m\n\u001b[0m\u001b[1;32m     74\u001b[0m     \u001b[0;32mreturn\u001b[0m \u001b[0minner_f\u001b[0m\u001b[0;34m\u001b[0m\u001b[0;34m\u001b[0m\u001b[0m\n\u001b[1;32m     75\u001b[0m \u001b[0;34m\u001b[0m\u001b[0m\n",
      "\u001b[0;32m~/anaconda3/lib/python3.8/site-packages/sklearn/utils/validation.py\u001b[0m in \u001b[0;36mcheck_array\u001b[0;34m(array, accept_sparse, accept_large_sparse, dtype, order, copy, force_all_finite, ensure_2d, allow_nd, ensure_min_samples, ensure_min_features, estimator)\u001b[0m\n\u001b[1;32m    649\u001b[0m         \u001b[0mn_samples\u001b[0m \u001b[0;34m=\u001b[0m \u001b[0m_num_samples\u001b[0m\u001b[0;34m(\u001b[0m\u001b[0marray\u001b[0m\u001b[0;34m)\u001b[0m\u001b[0;34m\u001b[0m\u001b[0;34m\u001b[0m\u001b[0m\n\u001b[1;32m    650\u001b[0m         \u001b[0;32mif\u001b[0m \u001b[0mn_samples\u001b[0m \u001b[0;34m<\u001b[0m \u001b[0mensure_min_samples\u001b[0m\u001b[0;34m:\u001b[0m\u001b[0;34m\u001b[0m\u001b[0;34m\u001b[0m\u001b[0m\n\u001b[0;32m--> 651\u001b[0;31m             raise ValueError(\"Found array with %d sample(s) (shape=%s) while a\"\n\u001b[0m\u001b[1;32m    652\u001b[0m                              \u001b[0;34m\" minimum of %d is required%s.\"\u001b[0m\u001b[0;34m\u001b[0m\u001b[0;34m\u001b[0m\u001b[0m\n\u001b[1;32m    653\u001b[0m                              % (n_samples, array.shape, ensure_min_samples,\n",
      "\u001b[0;31mValueError\u001b[0m: Found array with 0 sample(s) (shape=(0, 11)) while a minimum of 1 is required."
     ]
    }
   ],
   "source": [
    "predicted = rf.predict(df_predict)"
   ]
  },
  {
   "cell_type": "code",
   "execution_count": null,
   "metadata": {},
   "outputs": [],
   "source": [
    "print(predicted)"
   ]
  },
  {
   "cell_type": "code",
   "execution_count": null,
   "metadata": {},
   "outputs": [],
   "source": [
    "print(len(predicted))\n",
    "print(len(df_merge))"
   ]
  },
  {
   "cell_type": "code",
   "execution_count": null,
   "metadata": {},
   "outputs": [],
   "source": [
    "chart = df_merge[['block_timestamp','receipt_effective_gas_price_mean']]"
   ]
  },
  {
   "cell_type": "code",
   "execution_count": null,
   "metadata": {},
   "outputs": [],
   "source": [
    "chart['predicted'] = predicted"
   ]
  },
  {
   "cell_type": "code",
   "execution_count": null,
   "metadata": {},
   "outputs": [],
   "source": [
    "chart.head()"
   ]
  },
  {
   "cell_type": "code",
   "execution_count": null,
   "metadata": {},
   "outputs": [],
   "source": [
    "chart.tail()"
   ]
  },
  {
   "cell_type": "code",
   "execution_count": null,
   "metadata": {},
   "outputs": [],
   "source": [
    "chart.set_index('block_timestamp')"
   ]
  },
  {
   "cell_type": "code",
   "execution_count": null,
   "metadata": {},
   "outputs": [],
   "source": [
    "chart.set_index('block_timestamp').plot()"
   ]
  },
  {
   "cell_type": "code",
   "execution_count": null,
   "metadata": {},
   "outputs": [],
   "source": [
    "chart.to_csv('chart.csv', index=False)\n"
   ]
  },
  {
   "cell_type": "code",
   "execution_count": null,
   "metadata": {},
   "outputs": [],
   "source": [
    "dir_path = os.path.dirname(os.path.realpath(__file__))"
   ]
  },
  {
   "cell_type": "code",
   "execution_count": null,
   "metadata": {},
   "outputs": [],
   "source": []
  }
 ],
 "metadata": {
  "kernelspec": {
   "display_name": "Python 3",
   "language": "python",
   "name": "python3"
  },
  "language_info": {
   "codemirror_mode": {
    "name": "ipython",
    "version": 3
   },
   "file_extension": ".py",
   "mimetype": "text/x-python",
   "name": "python",
   "nbconvert_exporter": "python",
   "pygments_lexer": "ipython3",
   "version": "3.8.3"
  }
 },
 "nbformat": 4,
 "nbformat_minor": 4
}
