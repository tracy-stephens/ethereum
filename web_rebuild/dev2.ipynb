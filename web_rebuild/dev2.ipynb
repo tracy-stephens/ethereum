{
 "cells": [
  {
   "cell_type": "code",
   "execution_count": 1,
   "metadata": {},
   "outputs": [
    {
     "name": "stdout",
     "output_type": "stream",
     "text": [
      "\u001b[34m__pycache__\u001b[m\u001b[m/                       df_predict.csv\r\n",
      "blocks.csv                         \u001b[31mget_predicted.py\u001b[m\u001b[m*\r\n",
      "chart.csv                          get_predicted_shebang_namemain.py\r\n",
      "dashboard.py                       \u001b[34mold\u001b[m\u001b[m/\r\n",
      "deploy_clean.py                    rf_test_model.pkl\r\n",
      "dev.ipynb                          transactions.csv\r\n",
      "dev2.ipynb\r\n"
     ]
    }
   ],
   "source": [
    "ls"
   ]
  },
  {
   "cell_type": "code",
   "execution_count": 2,
   "metadata": {},
   "outputs": [
    {
     "name": "stderr",
     "output_type": "stream",
     "text": [
      "2021-12-03 21:58:32.828 INFO    numexpr.utils: NumExpr defaulting to 4 threads.\n"
     ]
    }
   ],
   "source": [
    "import streamlit as st\n",
    "from streamlit_autorefresh import st_autorefresh\n",
    "import pandas as pd\n",
    "import numpy as np\n",
    "from dashboard import (\n",
    "    clean_dates,\n",
    "    clean_predicted,\n",
    "    surge_chart,\n",
    "    surge_index,\n",
    "    gas_hist,\n",
    ")\n",
    "from datetime import datetime\n",
    "import time"
   ]
  },
  {
   "cell_type": "code",
   "execution_count": 3,
   "metadata": {},
   "outputs": [],
   "source": [
    "TZ = \"US/Eastern\"\n",
    "files = {\n",
    "    \"blocks\" : 'blocks.csv',\n",
    "    \"transactions\" : 'transactions.csv',\n",
    "    \"predicted\" : 'chart.csv'\n",
    "}\n"
   ]
  },
  {
   "cell_type": "code",
   "execution_count": 4,
   "metadata": {},
   "outputs": [],
   "source": [
    "data = {k : pd.read_csv(v) for k, v in files.items()}\n",
    "data = clean_dates(data, tz=TZ)\n"
   ]
  },
  {
   "cell_type": "code",
   "execution_count": 5,
   "metadata": {},
   "outputs": [
    {
     "data": {
      "text/plain": [
       "dict"
      ]
     },
     "execution_count": 5,
     "metadata": {},
     "output_type": "execute_result"
    }
   ],
   "source": [
    "type(data)"
   ]
  },
  {
   "cell_type": "code",
   "execution_count": 6,
   "metadata": {},
   "outputs": [
    {
     "data": {
      "text/plain": [
       "dict_keys(['blocks', 'transactions', 'predicted'])"
      ]
     },
     "execution_count": 6,
     "metadata": {},
     "output_type": "execute_result"
    }
   ],
   "source": [
    "data.keys()"
   ]
  },
  {
   "cell_type": "code",
   "execution_count": 7,
   "metadata": {},
   "outputs": [],
   "source": [
    "#chart_df = surge_index(data)\n",
    "pred = data['predicted']"
   ]
  },
  {
   "cell_type": "code",
   "execution_count": 8,
   "metadata": {},
   "outputs": [
    {
     "data": {
      "text/plain": [
       "Index(['receipt_effective_gas_price_mean', 'predicted'], dtype='object')"
      ]
     },
     "execution_count": 8,
     "metadata": {},
     "output_type": "execute_result"
    }
   ],
   "source": [
    "pred.columns"
   ]
  },
  {
   "cell_type": "code",
   "execution_count": 9,
   "metadata": {},
   "outputs": [
    {
     "data": {
      "text/html": [
       "<div>\n",
       "<style scoped>\n",
       "    .dataframe tbody tr th:only-of-type {\n",
       "        vertical-align: middle;\n",
       "    }\n",
       "\n",
       "    .dataframe tbody tr th {\n",
       "        vertical-align: top;\n",
       "    }\n",
       "\n",
       "    .dataframe thead th {\n",
       "        text-align: right;\n",
       "    }\n",
       "</style>\n",
       "<table border=\"1\" class=\"dataframe\">\n",
       "  <thead>\n",
       "    <tr style=\"text-align: right;\">\n",
       "      <th></th>\n",
       "      <th>receipt_effective_gas_price_mean</th>\n",
       "      <th>predicted</th>\n",
       "    </tr>\n",
       "    <tr>\n",
       "      <th>block_timestamp</th>\n",
       "      <th></th>\n",
       "      <th></th>\n",
       "    </tr>\n",
       "  </thead>\n",
       "  <tbody>\n",
       "    <tr>\n",
       "      <th>2021-11-30 10:49:43-05:00</th>\n",
       "      <td>1.197941e+11</td>\n",
       "      <td>9.119814e+10</td>\n",
       "    </tr>\n",
       "    <tr>\n",
       "      <th>2021-11-30 10:50:01-05:00</th>\n",
       "      <td>1.218046e+11</td>\n",
       "      <td>9.119814e+10</td>\n",
       "    </tr>\n",
       "    <tr>\n",
       "      <th>2021-11-30 10:50:03-05:00</th>\n",
       "      <td>1.247563e+11</td>\n",
       "      <td>9.119814e+10</td>\n",
       "    </tr>\n",
       "    <tr>\n",
       "      <th>2021-11-30 10:50:11-05:00</th>\n",
       "      <td>1.187208e+11</td>\n",
       "      <td>9.327116e+10</td>\n",
       "    </tr>\n",
       "    <tr>\n",
       "      <th>2021-11-30 10:50:16-05:00</th>\n",
       "      <td>1.169524e+11</td>\n",
       "      <td>9.211373e+10</td>\n",
       "    </tr>\n",
       "  </tbody>\n",
       "</table>\n",
       "</div>"
      ],
      "text/plain": [
       "                           receipt_effective_gas_price_mean     predicted\n",
       "block_timestamp                                                          \n",
       "2021-11-30 10:49:43-05:00                      1.197941e+11  9.119814e+10\n",
       "2021-11-30 10:50:01-05:00                      1.218046e+11  9.119814e+10\n",
       "2021-11-30 10:50:03-05:00                      1.247563e+11  9.119814e+10\n",
       "2021-11-30 10:50:11-05:00                      1.187208e+11  9.327116e+10\n",
       "2021-11-30 10:50:16-05:00                      1.169524e+11  9.211373e+10"
      ]
     },
     "execution_count": 9,
     "metadata": {},
     "output_type": "execute_result"
    }
   ],
   "source": [
    "pred.head()"
   ]
  },
  {
   "cell_type": "code",
   "execution_count": 10,
   "metadata": {},
   "outputs": [],
   "source": [
    "this = clean_predicted(data['predicted'])"
   ]
  },
  {
   "cell_type": "markdown",
   "metadata": {},
   "source": [
    "# Tracy"
   ]
  },
  {
   "cell_type": "code",
   "execution_count": 11,
   "metadata": {},
   "outputs": [],
   "source": [
    "surge_cht = surge_chart(clean_predicted(data[\"predicted\"]))"
   ]
  },
  {
   "cell_type": "code",
   "execution_count": 12,
   "metadata": {},
   "outputs": [
    {
     "name": "stderr",
     "output_type": "stream",
     "text": [
      "2021-12-03 21:58:35.919 \n",
      "  \u001b[33m\u001b[1mWarning:\u001b[0m to view this Streamlit app on a browser, run it with the following\n",
      "  command:\n",
      "\n",
      "    streamlit run /Users/anthonybaldor/anaconda3/lib/python3.8/site-packages/ipykernel_launcher.py [ARGUMENTS]\n"
     ]
    },
    {
     "data": {
      "text/plain": [
       "DeltaGenerator(_root_container=0, _provided_cursor=None, _parent=None, _block_type=None, _form_data=None)"
      ]
     },
     "execution_count": 12,
     "metadata": {},
     "output_type": "execute_result"
    }
   ],
   "source": [
    "st.plotly_chart(surge_cht)\n"
   ]
  },
  {
   "cell_type": "code",
   "execution_count": 13,
   "metadata": {},
   "outputs": [],
   "source": [
    "rolling_lookback='24h'\n",
    "quantile=0.25\n",
    "halflife=15\n",
    "\n",
    "normalized_data = this / this.rolling(rolling_lookback).quantile(quantile)\n",
    "idx = (np.log(normalized_data).clip(lower=0) + 1)\n",
    "smoothed_index = idx.ewm(halflife=halflife).mean()"
   ]
  },
  {
   "cell_type": "code",
   "execution_count": 14,
   "metadata": {},
   "outputs": [
    {
     "data": {
      "text/html": [
       "<div>\n",
       "<style scoped>\n",
       "    .dataframe tbody tr th:only-of-type {\n",
       "        vertical-align: middle;\n",
       "    }\n",
       "\n",
       "    .dataframe tbody tr th {\n",
       "        vertical-align: top;\n",
       "    }\n",
       "\n",
       "    .dataframe thead th {\n",
       "        text-align: right;\n",
       "    }\n",
       "</style>\n",
       "<table border=\"1\" class=\"dataframe\">\n",
       "  <thead>\n",
       "    <tr style=\"text-align: right;\">\n",
       "      <th></th>\n",
       "      <th>receipt_effective_gas_price_mean</th>\n",
       "      <th>predicted</th>\n",
       "    </tr>\n",
       "    <tr>\n",
       "      <th>block_timestamp</th>\n",
       "      <th></th>\n",
       "      <th></th>\n",
       "    </tr>\n",
       "  </thead>\n",
       "  <tbody>\n",
       "    <tr>\n",
       "      <th>2021-11-30 10:49:43-05:00</th>\n",
       "      <td>1.0</td>\n",
       "      <td>NaN</td>\n",
       "    </tr>\n",
       "    <tr>\n",
       "      <th>2021-11-30 10:49:44-05:00</th>\n",
       "      <td>1.0</td>\n",
       "      <td>NaN</td>\n",
       "    </tr>\n",
       "    <tr>\n",
       "      <th>2021-11-30 10:49:45-05:00</th>\n",
       "      <td>1.0</td>\n",
       "      <td>NaN</td>\n",
       "    </tr>\n",
       "    <tr>\n",
       "      <th>2021-11-30 10:49:46-05:00</th>\n",
       "      <td>1.0</td>\n",
       "      <td>NaN</td>\n",
       "    </tr>\n",
       "    <tr>\n",
       "      <th>2021-11-30 10:49:47-05:00</th>\n",
       "      <td>1.0</td>\n",
       "      <td>NaN</td>\n",
       "    </tr>\n",
       "    <tr>\n",
       "      <th>...</th>\n",
       "      <td>...</td>\n",
       "      <td>...</td>\n",
       "    </tr>\n",
       "    <tr>\n",
       "      <th>2021-11-30 11:13:23-05:00</th>\n",
       "      <td>NaN</td>\n",
       "      <td>1.057081</td>\n",
       "    </tr>\n",
       "    <tr>\n",
       "      <th>2021-11-30 11:13:24-05:00</th>\n",
       "      <td>NaN</td>\n",
       "      <td>1.054503</td>\n",
       "    </tr>\n",
       "    <tr>\n",
       "      <th>2021-11-30 11:13:25-05:00</th>\n",
       "      <td>NaN</td>\n",
       "      <td>1.052042</td>\n",
       "    </tr>\n",
       "    <tr>\n",
       "      <th>2021-11-30 11:13:26-05:00</th>\n",
       "      <td>NaN</td>\n",
       "      <td>1.049692</td>\n",
       "    </tr>\n",
       "    <tr>\n",
       "      <th>2021-11-30 11:13:27-05:00</th>\n",
       "      <td>NaN</td>\n",
       "      <td>1.052379</td>\n",
       "    </tr>\n",
       "  </tbody>\n",
       "</table>\n",
       "<p>1425 rows × 2 columns</p>\n",
       "</div>"
      ],
      "text/plain": [
       "                           receipt_effective_gas_price_mean  predicted\n",
       "block_timestamp                                                       \n",
       "2021-11-30 10:49:43-05:00                               1.0        NaN\n",
       "2021-11-30 10:49:44-05:00                               1.0        NaN\n",
       "2021-11-30 10:49:45-05:00                               1.0        NaN\n",
       "2021-11-30 10:49:46-05:00                               1.0        NaN\n",
       "2021-11-30 10:49:47-05:00                               1.0        NaN\n",
       "...                                                     ...        ...\n",
       "2021-11-30 11:13:23-05:00                               NaN   1.057081\n",
       "2021-11-30 11:13:24-05:00                               NaN   1.054503\n",
       "2021-11-30 11:13:25-05:00                               NaN   1.052042\n",
       "2021-11-30 11:13:26-05:00                               NaN   1.049692\n",
       "2021-11-30 11:13:27-05:00                               NaN   1.052379\n",
       "\n",
       "[1425 rows x 2 columns]"
      ]
     },
     "execution_count": 14,
     "metadata": {},
     "output_type": "execute_result"
    }
   ],
   "source": [
    "smoothed_index[~this.isna()]"
   ]
  },
  {
   "cell_type": "markdown",
   "metadata": {},
   "source": [
    "# Anthony"
   ]
  },
  {
   "cell_type": "code",
   "execution_count": 19,
   "metadata": {},
   "outputs": [],
   "source": [
    "thresh_df = surge_index(data['predicted'])"
   ]
  },
  {
   "cell_type": "code",
   "execution_count": 20,
   "metadata": {},
   "outputs": [
    {
     "data": {
      "text/html": [
       "<div>\n",
       "<style scoped>\n",
       "    .dataframe tbody tr th:only-of-type {\n",
       "        vertical-align: middle;\n",
       "    }\n",
       "\n",
       "    .dataframe tbody tr th {\n",
       "        vertical-align: top;\n",
       "    }\n",
       "\n",
       "    .dataframe thead th {\n",
       "        text-align: right;\n",
       "    }\n",
       "</style>\n",
       "<table border=\"1\" class=\"dataframe\">\n",
       "  <thead>\n",
       "    <tr style=\"text-align: right;\">\n",
       "      <th></th>\n",
       "      <th>receipt_effective_gas_price_mean</th>\n",
       "      <th>predicted</th>\n",
       "    </tr>\n",
       "    <tr>\n",
       "      <th>block_timestamp</th>\n",
       "      <th></th>\n",
       "      <th></th>\n",
       "    </tr>\n",
       "  </thead>\n",
       "  <tbody>\n",
       "    <tr>\n",
       "      <th>2021-11-30 10:49:43-05:00</th>\n",
       "      <td>1.000000</td>\n",
       "      <td>1.000000</td>\n",
       "    </tr>\n",
       "    <tr>\n",
       "      <th>2021-11-30 10:50:01-05:00</th>\n",
       "      <td>1.006372</td>\n",
       "      <td>1.000000</td>\n",
       "    </tr>\n",
       "    <tr>\n",
       "      <th>2021-11-30 10:50:03-05:00</th>\n",
       "      <td>1.015393</td>\n",
       "      <td>1.000000</td>\n",
       "    </tr>\n",
       "    <tr>\n",
       "      <th>2021-11-30 10:50:11-05:00</th>\n",
       "      <td>1.011274</td>\n",
       "      <td>1.006014</td>\n",
       "    </tr>\n",
       "    <tr>\n",
       "      <th>2021-11-30 10:50:16-05:00</th>\n",
       "      <td>1.008806</td>\n",
       "      <td>1.006885</td>\n",
       "    </tr>\n",
       "    <tr>\n",
       "      <th>...</th>\n",
       "      <td>...</td>\n",
       "      <td>...</td>\n",
       "    </tr>\n",
       "    <tr>\n",
       "      <th>2021-11-30 11:11:32-05:00</th>\n",
       "      <td>1.259593</td>\n",
       "      <td>1.136082</td>\n",
       "    </tr>\n",
       "    <tr>\n",
       "      <th>2021-11-30 11:12:13-05:00</th>\n",
       "      <td>1.262558</td>\n",
       "      <td>1.133612</td>\n",
       "    </tr>\n",
       "    <tr>\n",
       "      <th>2021-11-30 11:12:18-05:00</th>\n",
       "      <td>1.265759</td>\n",
       "      <td>1.129520</td>\n",
       "    </tr>\n",
       "    <tr>\n",
       "      <th>2021-11-30 11:12:22-05:00</th>\n",
       "      <td>1.258578</td>\n",
       "      <td>1.123610</td>\n",
       "    </tr>\n",
       "    <tr>\n",
       "      <th>2021-11-30 11:12:27-05:00</th>\n",
       "      <td>1.253809</td>\n",
       "      <td>1.123322</td>\n",
       "    </tr>\n",
       "  </tbody>\n",
       "</table>\n",
       "<p>100 rows × 2 columns</p>\n",
       "</div>"
      ],
      "text/plain": [
       "                           receipt_effective_gas_price_mean  predicted\n",
       "block_timestamp                                                       \n",
       "2021-11-30 10:49:43-05:00                          1.000000   1.000000\n",
       "2021-11-30 10:50:01-05:00                          1.006372   1.000000\n",
       "2021-11-30 10:50:03-05:00                          1.015393   1.000000\n",
       "2021-11-30 10:50:11-05:00                          1.011274   1.006014\n",
       "2021-11-30 10:50:16-05:00                          1.008806   1.006885\n",
       "...                                                     ...        ...\n",
       "2021-11-30 11:11:32-05:00                          1.259593   1.136082\n",
       "2021-11-30 11:12:13-05:00                          1.262558   1.133612\n",
       "2021-11-30 11:12:18-05:00                          1.265759   1.129520\n",
       "2021-11-30 11:12:22-05:00                          1.258578   1.123610\n",
       "2021-11-30 11:12:27-05:00                          1.253809   1.123322\n",
       "\n",
       "[100 rows x 2 columns]"
      ]
     },
     "execution_count": 20,
     "metadata": {},
     "output_type": "execute_result"
    }
   ],
   "source": [
    "thresh_df"
   ]
  },
  {
   "cell_type": "markdown",
   "metadata": {},
   "source": [
    "# more tests"
   ]
  },
  {
   "cell_type": "code",
   "execution_count": 17,
   "metadata": {},
   "outputs": [],
   "source": [
    "preds_df = pred.copy().sort_index().resample('s').ffill()\n"
   ]
  },
  {
   "cell_type": "code",
   "execution_count": 18,
   "metadata": {},
   "outputs": [
    {
     "data": {
      "text/html": [
       "<div>\n",
       "<style scoped>\n",
       "    .dataframe tbody tr th:only-of-type {\n",
       "        vertical-align: middle;\n",
       "    }\n",
       "\n",
       "    .dataframe tbody tr th {\n",
       "        vertical-align: top;\n",
       "    }\n",
       "\n",
       "    .dataframe thead th {\n",
       "        text-align: right;\n",
       "    }\n",
       "</style>\n",
       "<table border=\"1\" class=\"dataframe\">\n",
       "  <thead>\n",
       "    <tr style=\"text-align: right;\">\n",
       "      <th></th>\n",
       "      <th>receipt_effective_gas_price_mean</th>\n",
       "      <th>predicted</th>\n",
       "    </tr>\n",
       "    <tr>\n",
       "      <th>block_timestamp</th>\n",
       "      <th></th>\n",
       "      <th></th>\n",
       "    </tr>\n",
       "  </thead>\n",
       "  <tbody>\n",
       "    <tr>\n",
       "      <th>2021-11-30 10:49:43-05:00</th>\n",
       "      <td>1.197941e+11</td>\n",
       "      <td>9.119814e+10</td>\n",
       "    </tr>\n",
       "    <tr>\n",
       "      <th>2021-11-30 10:49:44-05:00</th>\n",
       "      <td>1.197941e+11</td>\n",
       "      <td>9.119814e+10</td>\n",
       "    </tr>\n",
       "    <tr>\n",
       "      <th>2021-11-30 10:49:45-05:00</th>\n",
       "      <td>1.197941e+11</td>\n",
       "      <td>9.119814e+10</td>\n",
       "    </tr>\n",
       "    <tr>\n",
       "      <th>2021-11-30 10:49:46-05:00</th>\n",
       "      <td>1.197941e+11</td>\n",
       "      <td>9.119814e+10</td>\n",
       "    </tr>\n",
       "    <tr>\n",
       "      <th>2021-11-30 10:49:47-05:00</th>\n",
       "      <td>1.197941e+11</td>\n",
       "      <td>9.119814e+10</td>\n",
       "    </tr>\n",
       "  </tbody>\n",
       "</table>\n",
       "</div>"
      ],
      "text/plain": [
       "                           receipt_effective_gas_price_mean     predicted\n",
       "block_timestamp                                                          \n",
       "2021-11-30 10:49:43-05:00                      1.197941e+11  9.119814e+10\n",
       "2021-11-30 10:49:44-05:00                      1.197941e+11  9.119814e+10\n",
       "2021-11-30 10:49:45-05:00                      1.197941e+11  9.119814e+10\n",
       "2021-11-30 10:49:46-05:00                      1.197941e+11  9.119814e+10\n",
       "2021-11-30 10:49:47-05:00                      1.197941e+11  9.119814e+10"
      ]
     },
     "execution_count": 18,
     "metadata": {},
     "output_type": "execute_result"
    }
   ],
   "source": [
    "preds_df.head()"
   ]
  },
  {
   "cell_type": "code",
   "execution_count": null,
   "metadata": {},
   "outputs": [],
   "source": []
  }
 ],
 "metadata": {
  "kernelspec": {
   "display_name": "Python 3",
   "language": "python",
   "name": "python3"
  },
  "language_info": {
   "codemirror_mode": {
    "name": "ipython",
    "version": 3
   },
   "file_extension": ".py",
   "mimetype": "text/x-python",
   "name": "python",
   "nbconvert_exporter": "python",
   "pygments_lexer": "ipython3",
   "version": "3.8.3"
  }
 },
 "nbformat": 4,
 "nbformat_minor": 4
}
