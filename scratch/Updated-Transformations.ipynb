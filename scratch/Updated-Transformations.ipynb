{
 "cells": [
  {
   "cell_type": "markdown",
   "id": "4a997ea9",
   "metadata": {},
   "source": [
    "# Updated Data Transformations"
   ]
  },
  {
   "cell_type": "code",
   "execution_count": 13,
   "id": "f895f843",
   "metadata": {},
   "outputs": [
    {
     "name": "stdout",
     "output_type": "stream",
     "text": [
      "The autoreload extension is already loaded. To reload it, use:\n",
      "  %reload_ext autoreload\n"
     ]
    }
   ],
   "source": [
    "%load_ext autoreload\n",
    "%autoreload 2\n",
    "\n",
    "import numpy as np\n",
    "import pandas as pd\n",
    "import matplotlib.pyplot as plt\n",
    "from tqdm import tqdm\n",
    "from numpy import intersect1d\n",
    "from datetime import datetime"
   ]
  },
  {
   "cell_type": "code",
   "execution_count": 5,
   "id": "ebb74d94",
   "metadata": {},
   "outputs": [],
   "source": [
    "#!pip3 install awswrangler"
   ]
  },
  {
   "cell_type": "code",
   "execution_count": 14,
   "id": "bfd1d3f1",
   "metadata": {},
   "outputs": [],
   "source": [
    "import awswrangler as wr\n",
    "import boto3\n",
    "import io\n",
    "\n",
    "import sagemaker\n",
    "from sagemaker import get_execution_role\n",
    "from sagemaker.session import Session"
   ]
  },
  {
   "cell_type": "code",
   "execution_count": 15,
   "id": "737fbfdb",
   "metadata": {},
   "outputs": [],
   "source": [
    "# add ethereum to python path (only do this once)\n",
    "import sys\n",
    "sys.path.insert(0, \"/home/ec2-user/SageMaker/ethereum\")"
   ]
  },
  {
   "cell_type": "code",
   "execution_count": 16,
   "id": "585aef54",
   "metadata": {},
   "outputs": [],
   "source": [
    "from ethereum import (\n",
    "    timestamp_to_datetime,\n",
    "    EthereumData\n",
    ")\n",
    "from utils import (\n",
    "    latest,\n",
    "    lead_lag,\n",
    "    add_latest_avail_block,\n",
    "    lagged_block_data,\n",
    "    get_pit_blocks\n",
    ")"
   ]
  },
  {
   "cell_type": "code",
   "execution_count": 17,
   "id": "e0e7383f",
   "metadata": {},
   "outputs": [],
   "source": [
    "role = get_execution_role()\n",
    "\n",
    "try:\n",
    "    role = sagemaker.get_execution_role()\n",
    "except ValueError:\n",
    "    iam = boto3.client('iam')\n",
    "    role = iam.get_role(RoleName='arn:aws:iam::971504885040:role/SageMaker')['Role']['Arn']"
   ]
  },
  {
   "cell_type": "code",
   "execution_count": 9,
   "id": "5930fd0d",
   "metadata": {},
   "outputs": [],
   "source": [
    "blocks = wr.s3.read_csv(path=\"s3://sagemaker-w210-eth/raw_data/infuria/blocks\")   "
   ]
  },
  {
   "cell_type": "code",
   "execution_count": 10,
   "id": "3a9b8196",
   "metadata": {},
   "outputs": [],
   "source": [
    "cols = [\n",
    "    'number', 'difficulty', 'total_difficulty', 'size', 'gas_limit', \n",
    "    'gas_used', 'timestamp', 'transaction_count', 'base_fee_per_gas'\n",
    "]"
   ]
  },
  {
   "cell_type": "code",
   "execution_count": 11,
   "id": "274efc0c",
   "metadata": {},
   "outputs": [],
   "source": [
    "blocks = blocks[cols]"
   ]
  },
  {
   "cell_type": "code",
   "execution_count": 12,
   "id": "ff137ec9",
   "metadata": {},
   "outputs": [
    {
     "data": {
      "text/html": [
       "<div>\n",
       "<style scoped>\n",
       "    .dataframe tbody tr th:only-of-type {\n",
       "        vertical-align: middle;\n",
       "    }\n",
       "\n",
       "    .dataframe tbody tr th {\n",
       "        vertical-align: top;\n",
       "    }\n",
       "\n",
       "    .dataframe thead th {\n",
       "        text-align: right;\n",
       "    }\n",
       "</style>\n",
       "<table border=\"1\" class=\"dataframe\">\n",
       "  <thead>\n",
       "    <tr style=\"text-align: right;\">\n",
       "      <th></th>\n",
       "      <th>number</th>\n",
       "      <th>difficulty</th>\n",
       "      <th>total_difficulty</th>\n",
       "      <th>size</th>\n",
       "      <th>gas_limit</th>\n",
       "      <th>gas_used</th>\n",
       "      <th>timestamp</th>\n",
       "      <th>transaction_count</th>\n",
       "      <th>base_fee_per_gas</th>\n",
       "    </tr>\n",
       "  </thead>\n",
       "  <tbody>\n",
       "    <tr>\n",
       "      <th>0</th>\n",
       "      <td>12962018</td>\n",
       "      <td>7604452341876898</td>\n",
       "      <td>28471525393295665706633</td>\n",
       "      <td>55433</td>\n",
       "      <td>15000000</td>\n",
       "      <td>14994306</td>\n",
       "      <td>1628126126</td>\n",
       "      <td>160</td>\n",
       "      <td>NaN</td>\n",
       "    </tr>\n",
       "    <tr>\n",
       "      <th>1</th>\n",
       "      <td>12962019</td>\n",
       "      <td>7604589780830370</td>\n",
       "      <td>28471532997885446537003</td>\n",
       "      <td>79403</td>\n",
       "      <td>14985353</td>\n",
       "      <td>14969945</td>\n",
       "      <td>1628126136</td>\n",
       "      <td>217</td>\n",
       "      <td>NaN</td>\n",
       "    </tr>\n",
       "    <tr>\n",
       "      <th>2</th>\n",
       "      <td>12962020</td>\n",
       "      <td>7601014041179921</td>\n",
       "      <td>28471540598899487716924</td>\n",
       "      <td>69949</td>\n",
       "      <td>14970720</td>\n",
       "      <td>14964505</td>\n",
       "      <td>1628126157</td>\n",
       "      <td>155</td>\n",
       "      <td>NaN</td>\n",
       "    </tr>\n",
       "    <tr>\n",
       "      <th>3</th>\n",
       "      <td>12962021</td>\n",
       "      <td>7601151480133393</td>\n",
       "      <td>28471548200050967850317</td>\n",
       "      <td>92704</td>\n",
       "      <td>14956102</td>\n",
       "      <td>14944125</td>\n",
       "      <td>1628126167</td>\n",
       "      <td>195</td>\n",
       "      <td>NaN</td>\n",
       "    </tr>\n",
       "    <tr>\n",
       "      <th>4</th>\n",
       "      <td>12962022</td>\n",
       "      <td>7597577419340707</td>\n",
       "      <td>28471555797628387191024</td>\n",
       "      <td>65855</td>\n",
       "      <td>14963388</td>\n",
       "      <td>14943452</td>\n",
       "      <td>1628126200</td>\n",
       "      <td>178</td>\n",
       "      <td>NaN</td>\n",
       "    </tr>\n",
       "  </tbody>\n",
       "</table>\n",
       "</div>"
      ],
      "text/plain": [
       "     number        difficulty         total_difficulty   size  gas_limit  \\\n",
       "0  12962018  7604452341876898  28471525393295665706633  55433   15000000   \n",
       "1  12962019  7604589780830370  28471532997885446537003  79403   14985353   \n",
       "2  12962020  7601014041179921  28471540598899487716924  69949   14970720   \n",
       "3  12962021  7601151480133393  28471548200050967850317  92704   14956102   \n",
       "4  12962022  7597577419340707  28471555797628387191024  65855   14963388   \n",
       "\n",
       "   gas_used   timestamp  transaction_count  base_fee_per_gas  \n",
       "0  14994306  1628126126                160               NaN  \n",
       "1  14969945  1628126136                217               NaN  \n",
       "2  14964505  1628126157                155               NaN  \n",
       "3  14944125  1628126167                195               NaN  \n",
       "4  14943452  1628126200                178               NaN  "
      ]
     },
     "execution_count": 12,
     "metadata": {},
     "output_type": "execute_result"
    }
   ],
   "source": [
    "blocks.head()"
   ]
  },
  {
   "cell_type": "markdown",
   "id": "eb6eef47",
   "metadata": {},
   "source": [
    "### Point-In-Time Blocks"
   ]
  },
  {
   "cell_type": "code",
   "execution_count": 17,
   "id": "aa698680",
   "metadata": {},
   "outputs": [
    {
     "data": {
      "text/html": [
       "<div>\n",
       "<style scoped>\n",
       "    .dataframe tbody tr th:only-of-type {\n",
       "        vertical-align: middle;\n",
       "    }\n",
       "\n",
       "    .dataframe tbody tr th {\n",
       "        vertical-align: top;\n",
       "    }\n",
       "\n",
       "    .dataframe thead th {\n",
       "        text-align: right;\n",
       "    }\n",
       "</style>\n",
       "<table border=\"1\" class=\"dataframe\">\n",
       "  <thead>\n",
       "    <tr style=\"text-align: right;\">\n",
       "      <th></th>\n",
       "      <th>datetime</th>\n",
       "      <th>lag_cutoff</th>\n",
       "      <th>latest_avail_block</th>\n",
       "    </tr>\n",
       "    <tr>\n",
       "      <th>number</th>\n",
       "      <th></th>\n",
       "      <th></th>\n",
       "      <th></th>\n",
       "    </tr>\n",
       "  </thead>\n",
       "  <tbody>\n",
       "    <tr>\n",
       "      <th>12961718</th>\n",
       "      <td>2021-08-05 00:00:04</td>\n",
       "      <td>2021-08-04 23:59:04</td>\n",
       "      <td>NaN</td>\n",
       "    </tr>\n",
       "    <tr>\n",
       "      <th>12961719</th>\n",
       "      <td>2021-08-05 00:00:07</td>\n",
       "      <td>2021-08-04 23:59:07</td>\n",
       "      <td>NaN</td>\n",
       "    </tr>\n",
       "    <tr>\n",
       "      <th>12961720</th>\n",
       "      <td>2021-08-05 00:00:47</td>\n",
       "      <td>2021-08-04 23:59:47</td>\n",
       "      <td>NaN</td>\n",
       "    </tr>\n",
       "    <tr>\n",
       "      <th>12961721</th>\n",
       "      <td>2021-08-05 00:01:03</td>\n",
       "      <td>2021-08-05 00:00:03</td>\n",
       "      <td>NaN</td>\n",
       "    </tr>\n",
       "    <tr>\n",
       "      <th>12961722</th>\n",
       "      <td>2021-08-05 00:01:25</td>\n",
       "      <td>2021-08-05 00:00:25</td>\n",
       "      <td>12961719.0</td>\n",
       "    </tr>\n",
       "  </tbody>\n",
       "</table>\n",
       "</div>"
      ],
      "text/plain": [
       "                    datetime          lag_cutoff  latest_avail_block\n",
       "number                                                              \n",
       "12961718 2021-08-05 00:00:04 2021-08-04 23:59:04                 NaN\n",
       "12961719 2021-08-05 00:00:07 2021-08-04 23:59:07                 NaN\n",
       "12961720 2021-08-05 00:00:47 2021-08-04 23:59:47                 NaN\n",
       "12961721 2021-08-05 00:01:03 2021-08-05 00:00:03                 NaN\n",
       "12961722 2021-08-05 00:01:25 2021-08-05 00:00:25          12961719.0"
      ]
     },
     "execution_count": 17,
     "metadata": {},
     "output_type": "execute_result"
    }
   ],
   "source": [
    "pit = get_pit_blocks(blocks, lag=60)\n",
    "pit.head()"
   ]
  },
  {
   "cell_type": "code",
   "execution_count": 18,
   "id": "f6c0759c",
   "metadata": {},
   "outputs": [],
   "source": [
    "pit_path = \"../data/pit_60.csv\"\n",
    "pit.to_csv(pit_path)"
   ]
  },
  {
   "cell_type": "code",
   "execution_count": 10,
   "id": "9c378e8f",
   "metadata": {},
   "outputs": [],
   "source": [
    "del blocks\n",
    "del pit"
   ]
  },
  {
   "cell_type": "markdown",
   "id": "eaef4212",
   "metadata": {},
   "source": [
    "### Transactions Small"
   ]
  },
  {
   "cell_type": "code",
   "execution_count": 8,
   "id": "b451a1c7",
   "metadata": {},
   "outputs": [],
   "source": [
    "def get_size_gb(object_):\n",
    "    return sys.getsizeof(object_) / (1024*1024*1024)"
   ]
  },
  {
   "cell_type": "code",
   "execution_count": 9,
   "id": "2fdb4377",
   "metadata": {},
   "outputs": [],
   "source": [
    "def transaction_id(df, index_col='transaction_index', block_number_col='block_number'):\n",
    "    idx_str = df[index_col].astype(str).str.pad(width=6, side='left', fillchar='0')\n",
    "    blk_str = df[block_number_col].astype(str).str.pad(width=12, side='right', fillchar='0')\n",
    "    id_str = blk_str + idx_str\n",
    "    return pd.Series(id_str.astype(int), name=\"transaction_id\")"
   ]
  },
  {
   "cell_type": "code",
   "execution_count": 10,
   "id": "5ad9f7f0",
   "metadata": {},
   "outputs": [],
   "source": [
    "def make_small_transactions(df):\n",
    "    small_cols = [\n",
    "        'block_number', 'transaction_index', 'value', 'gas', 'gas_price', \n",
    "        'max_fee_per_gas', 'max_priority_fee_per_gas', 'transaction_type', \n",
    "        'block_timestamp'\n",
    "    ]\n",
    "    df = df[small_cols]\n",
    "    id_ = transaction_id(df)\n",
    "    df = pd.concat([id_, df], axis=1)\n",
    "    return df"
   ]
  },
  {
   "cell_type": "code",
   "execution_count": 11,
   "id": "1303169d",
   "metadata": {},
   "outputs": [],
   "source": [
    "transactions_files = [\n",
    "    \"s3://sagemaker-w210-eth/raw_data/infuria/transactions/transactions_12961718_13136426.csv\",\n",
    "    \"s3://sagemaker-w210-eth/raw_data/infuria/transactions/transactions_13136427_13330089.csv\",\n",
    "    \"s3://sagemaker-w210-eth/raw_data/infuria/transactions/transactions_13330090_13527858.csv\"\n",
    "]"
   ]
  },
  {
   "cell_type": "code",
   "execution_count": 18,
   "id": "0d1b246b",
   "metadata": {},
   "outputs": [],
   "source": [
    "for f in tqdm(transactions_files[2:]):\n",
    "    \n",
    "    ### read\n",
    "    df = wr.s3.read_csv(f)\n",
    "    \n",
    "    print(\"current size: \")\n",
    "    print(get_size_gb(df))\n",
    "    \n",
    "    ### reduce size\n",
    "    df = make_small_transactions(df)\n",
    "    \n",
    "    print(\"new size: \")\n",
    "    print(get_size_gb(df))\n",
    "    print()\n",
    "    \n",
    "    ### save\n",
    "    save_file_name = f.replace(\n",
    "        \"s3://sagemaker-w210-eth/raw_data/infuria/transactions/transactions_\", \"\"\n",
    "    )\n",
    "    save_file_path = \"../data/transactions_small/\" + save_file_name\n",
    "    df.to_csv(save_file_path)\n",
    "    \n",
    "    del df"
   ]
  },
  {
   "cell_type": "markdown",
   "id": "af085a45",
   "metadata": {},
   "source": [
    "### Receipts Small"
   ]
  },
  {
   "cell_type": "code",
   "execution_count": 28,
   "id": "434650fd",
   "metadata": {},
   "outputs": [],
   "source": [
    "def make_small_receipts(df):\n",
    "    small_cols = [\n",
    "        'transaction_index',\n",
    "        'block_number',\n",
    "        'cumulative_gas_used',\n",
    "        'gas_used',\n",
    "        'status',\n",
    "        'effective_gas_price'\n",
    "    ]\n",
    "    df = df[small_cols]\n",
    "    id_ = transaction_id(df)\n",
    "    df = pd.concat([id_, df], axis=1)\n",
    "    return df"
   ]
  },
  {
   "cell_type": "code",
   "execution_count": 20,
   "id": "7f7974fb",
   "metadata": {},
   "outputs": [],
   "source": [
    "receipts_files = [\n",
    "    \"s3://sagemaker-w210-eth/raw_data/infuria/receipts/receipts_12961718_13136426.csv\",\n",
    "    \"s3://sagemaker-w210-eth/raw_data/infuria/receipts/receipts_13136427_13330089.csv\",\n",
    "    \"s3://sagemaker-w210-eth/raw_data/infuria/receipts/receipts_13330090_13527858.csv\"\n",
    "]"
   ]
  },
  {
   "cell_type": "code",
   "execution_count": null,
   "id": "d35f5174",
   "metadata": {},
   "outputs": [
    {
     "name": "stderr",
     "output_type": "stream",
     "text": [
      "  0%|          | 0/3 [00:00<?, ?it/s]"
     ]
    },
    {
     "name": "stdout",
     "output_type": "stream",
     "text": [
      "current size: \n",
      "0.46388217620551586\n",
      "new size: \n",
      "0.07776185125112534\n",
      "\n"
     ]
    },
    {
     "name": "stderr",
     "output_type": "stream",
     "text": [
      " 33%|███▎      | 1/3 [00:11<00:22, 11.42s/it]"
     ]
    }
   ],
   "source": [
    "for f in tqdm(receipts_files):\n",
    "    \n",
    "    ### read\n",
    "    df = wr.s3.read_csv(f)\n",
    "    \n",
    "    print(\"current size: \")\n",
    "    print(get_size_gb(df))\n",
    "    \n",
    "    ### reduce size\n",
    "    df = make_small_receipts(df)\n",
    "    \n",
    "    print(\"new size: \")\n",
    "    print(get_size_gb(df))\n",
    "    print()\n",
    "    \n",
    "    ### save\n",
    "    save_file_name = f.replace(\n",
    "        \"s3://sagemaker-w210-eth/raw_data/infuria/receipts/receipts_\", \"\"\n",
    "    )\n",
    "    save_file_path = \"../data/receipts_small/\" + save_file_name\n",
    "    df.to_csv(save_file_path)\n",
    "    \n",
    "    del df"
   ]
  }
 ],
 "metadata": {
  "kernelspec": {
   "display_name": "conda_amazonei_mxnet_p36",
   "language": "python",
   "name": "conda_amazonei_mxnet_p36"
  },
  "language_info": {
   "codemirror_mode": {
    "name": "ipython",
    "version": 3
   },
   "file_extension": ".py",
   "mimetype": "text/x-python",
   "name": "python",
   "nbconvert_exporter": "python",
   "pygments_lexer": "ipython3",
   "version": "3.6.13"
  }
 },
 "nbformat": 4,
 "nbformat_minor": 5
}
