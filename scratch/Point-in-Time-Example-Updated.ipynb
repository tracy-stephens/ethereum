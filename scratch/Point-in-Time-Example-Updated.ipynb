{
 "cells": [
  {
   "cell_type": "markdown",
   "id": "6b8b9a94",
   "metadata": {},
   "source": [
    "# Updated Data Transformations"
   ]
  },
  {
   "cell_type": "code",
   "execution_count": 2,
   "id": "99924bc7",
   "metadata": {},
   "outputs": [
    {
     "name": "stdout",
     "output_type": "stream",
     "text": [
      "The autoreload extension is already loaded. To reload it, use:\n",
      "  %reload_ext autoreload\n"
     ]
    }
   ],
   "source": [
    "%load_ext autoreload\n",
    "%autoreload 2\n",
    "\n",
    "import numpy as np\n",
    "import pandas as pd\n",
    "import matplotlib.pyplot as plt\n",
    "from tqdm import tqdm\n",
    "from numpy import intersect1d\n",
    "from datetime import datetime\n",
    "\n",
    "import awswrangler as wr\n",
    "import boto3\n",
    "import io\n",
    "\n",
    "import sagemaker\n",
    "from sagemaker import get_execution_role\n",
    "from sagemaker.session import Session"
   ]
  },
  {
   "cell_type": "code",
   "execution_count": 11,
   "id": "163be1a8",
   "metadata": {},
   "outputs": [],
   "source": [
    "# add ethereum to python path (only do this once)\n",
    "import sys\n",
    "sys.path.insert(0, \"/home/ec2-user/SageMaker/ethereum\")"
   ]
  },
  {
   "cell_type": "code",
   "execution_count": 12,
   "id": "aefcd956",
   "metadata": {},
   "outputs": [],
   "source": [
    "from ethereum import (\n",
    "    timestamp_to_datetime,\n",
    "    EthereumData\n",
    ")\n",
    "from utils import (\n",
    "    latest,\n",
    "    lead_lag,\n",
    "    add_latest_avail_block,\n",
    "    lagged_block_data,\n",
    "    get_pit_blocks\n",
    ")"
   ]
  },
  {
   "cell_type": "code",
   "execution_count": 13,
   "id": "c703cf63",
   "metadata": {},
   "outputs": [],
   "source": [
    "role = get_execution_role()\n",
    "\n",
    "try:\n",
    "    role = sagemaker.get_execution_role()\n",
    "except ValueError:\n",
    "    iam = boto3.client('iam')\n",
    "    role = iam.get_role(RoleName='arn:aws:iam::971504885040:role/SageMaker')['Role']['Arn']"
   ]
  },
  {
   "cell_type": "code",
   "execution_count": 14,
   "id": "2e9f77ae",
   "metadata": {},
   "outputs": [],
   "source": [
    "blocks = wr.s3.read_csv(path=\"s3://sagemaker-w210-eth/raw_data/infuria/blocks\")   "
   ]
  },
  {
   "cell_type": "code",
   "execution_count": 15,
   "id": "1b7a9ef9",
   "metadata": {},
   "outputs": [],
   "source": [
    "cols = [\n",
    "    'number', 'difficulty', 'total_difficulty', 'size', 'gas_limit', \n",
    "    'gas_used', 'timestamp', 'transaction_count', 'base_fee_per_gas'\n",
    "]"
   ]
  },
  {
   "cell_type": "code",
   "execution_count": 16,
   "id": "76dfa074",
   "metadata": {},
   "outputs": [],
   "source": [
    "blocks = blocks[cols]"
   ]
  },
  {
   "cell_type": "code",
   "execution_count": 17,
   "id": "72cdd10c",
   "metadata": {},
   "outputs": [
    {
     "data": {
      "text/html": [
       "<div>\n",
       "<style scoped>\n",
       "    .dataframe tbody tr th:only-of-type {\n",
       "        vertical-align: middle;\n",
       "    }\n",
       "\n",
       "    .dataframe tbody tr th {\n",
       "        vertical-align: top;\n",
       "    }\n",
       "\n",
       "    .dataframe thead th {\n",
       "        text-align: right;\n",
       "    }\n",
       "</style>\n",
       "<table border=\"1\" class=\"dataframe\">\n",
       "  <thead>\n",
       "    <tr style=\"text-align: right;\">\n",
       "      <th></th>\n",
       "      <th>number</th>\n",
       "      <th>difficulty</th>\n",
       "      <th>total_difficulty</th>\n",
       "      <th>size</th>\n",
       "      <th>gas_limit</th>\n",
       "      <th>gas_used</th>\n",
       "      <th>timestamp</th>\n",
       "      <th>transaction_count</th>\n",
       "      <th>base_fee_per_gas</th>\n",
       "    </tr>\n",
       "  </thead>\n",
       "  <tbody>\n",
       "    <tr>\n",
       "      <th>0</th>\n",
       "      <td>12962018</td>\n",
       "      <td>7604452341876898</td>\n",
       "      <td>28471525393295665706633</td>\n",
       "      <td>55433</td>\n",
       "      <td>15000000</td>\n",
       "      <td>14994306</td>\n",
       "      <td>1628126126</td>\n",
       "      <td>160</td>\n",
       "      <td>NaN</td>\n",
       "    </tr>\n",
       "    <tr>\n",
       "      <th>1</th>\n",
       "      <td>12962019</td>\n",
       "      <td>7604589780830370</td>\n",
       "      <td>28471532997885446537003</td>\n",
       "      <td>79403</td>\n",
       "      <td>14985353</td>\n",
       "      <td>14969945</td>\n",
       "      <td>1628126136</td>\n",
       "      <td>217</td>\n",
       "      <td>NaN</td>\n",
       "    </tr>\n",
       "    <tr>\n",
       "      <th>2</th>\n",
       "      <td>12962020</td>\n",
       "      <td>7601014041179921</td>\n",
       "      <td>28471540598899487716924</td>\n",
       "      <td>69949</td>\n",
       "      <td>14970720</td>\n",
       "      <td>14964505</td>\n",
       "      <td>1628126157</td>\n",
       "      <td>155</td>\n",
       "      <td>NaN</td>\n",
       "    </tr>\n",
       "    <tr>\n",
       "      <th>3</th>\n",
       "      <td>12962021</td>\n",
       "      <td>7601151480133393</td>\n",
       "      <td>28471548200050967850317</td>\n",
       "      <td>92704</td>\n",
       "      <td>14956102</td>\n",
       "      <td>14944125</td>\n",
       "      <td>1628126167</td>\n",
       "      <td>195</td>\n",
       "      <td>NaN</td>\n",
       "    </tr>\n",
       "    <tr>\n",
       "      <th>4</th>\n",
       "      <td>12962022</td>\n",
       "      <td>7597577419340707</td>\n",
       "      <td>28471555797628387191024</td>\n",
       "      <td>65855</td>\n",
       "      <td>14963388</td>\n",
       "      <td>14943452</td>\n",
       "      <td>1628126200</td>\n",
       "      <td>178</td>\n",
       "      <td>NaN</td>\n",
       "    </tr>\n",
       "  </tbody>\n",
       "</table>\n",
       "</div>"
      ],
      "text/plain": [
       "     number        difficulty         total_difficulty   size  gas_limit  \\\n",
       "0  12962018  7604452341876898  28471525393295665706633  55433   15000000   \n",
       "1  12962019  7604589780830370  28471532997885446537003  79403   14985353   \n",
       "2  12962020  7601014041179921  28471540598899487716924  69949   14970720   \n",
       "3  12962021  7601151480133393  28471548200050967850317  92704   14956102   \n",
       "4  12962022  7597577419340707  28471555797628387191024  65855   14963388   \n",
       "\n",
       "   gas_used   timestamp  transaction_count  base_fee_per_gas  \n",
       "0  14994306  1628126126                160               NaN  \n",
       "1  14969945  1628126136                217               NaN  \n",
       "2  14964505  1628126157                155               NaN  \n",
       "3  14944125  1628126167                195               NaN  \n",
       "4  14943452  1628126200                178               NaN  "
      ]
     },
     "execution_count": 17,
     "metadata": {},
     "output_type": "execute_result"
    }
   ],
   "source": [
    "blocks.head()"
   ]
  },
  {
   "cell_type": "markdown",
   "id": "fc2585eb",
   "metadata": {},
   "source": [
    "### Point-In-Time Blocks"
   ]
  },
  {
   "cell_type": "code",
   "execution_count": 18,
   "id": "4db62cfb",
   "metadata": {},
   "outputs": [
    {
     "data": {
      "text/html": [
       "<div>\n",
       "<style scoped>\n",
       "    .dataframe tbody tr th:only-of-type {\n",
       "        vertical-align: middle;\n",
       "    }\n",
       "\n",
       "    .dataframe tbody tr th {\n",
       "        vertical-align: top;\n",
       "    }\n",
       "\n",
       "    .dataframe thead th {\n",
       "        text-align: right;\n",
       "    }\n",
       "</style>\n",
       "<table border=\"1\" class=\"dataframe\">\n",
       "  <thead>\n",
       "    <tr style=\"text-align: right;\">\n",
       "      <th></th>\n",
       "      <th>datetime</th>\n",
       "      <th>lag_cutoff</th>\n",
       "      <th>latest_avail_block</th>\n",
       "    </tr>\n",
       "    <tr>\n",
       "      <th>number</th>\n",
       "      <th></th>\n",
       "      <th></th>\n",
       "      <th></th>\n",
       "    </tr>\n",
       "  </thead>\n",
       "  <tbody>\n",
       "    <tr>\n",
       "      <th>12961718</th>\n",
       "      <td>2021-08-05 00:00:04</td>\n",
       "      <td>2021-08-04 23:59:04</td>\n",
       "      <td>NaN</td>\n",
       "    </tr>\n",
       "    <tr>\n",
       "      <th>12961719</th>\n",
       "      <td>2021-08-05 00:00:07</td>\n",
       "      <td>2021-08-04 23:59:07</td>\n",
       "      <td>NaN</td>\n",
       "    </tr>\n",
       "    <tr>\n",
       "      <th>12961720</th>\n",
       "      <td>2021-08-05 00:00:47</td>\n",
       "      <td>2021-08-04 23:59:47</td>\n",
       "      <td>NaN</td>\n",
       "    </tr>\n",
       "    <tr>\n",
       "      <th>12961721</th>\n",
       "      <td>2021-08-05 00:01:03</td>\n",
       "      <td>2021-08-05 00:00:03</td>\n",
       "      <td>NaN</td>\n",
       "    </tr>\n",
       "    <tr>\n",
       "      <th>12961722</th>\n",
       "      <td>2021-08-05 00:01:25</td>\n",
       "      <td>2021-08-05 00:00:25</td>\n",
       "      <td>12961719.0</td>\n",
       "    </tr>\n",
       "  </tbody>\n",
       "</table>\n",
       "</div>"
      ],
      "text/plain": [
       "                    datetime          lag_cutoff  latest_avail_block\n",
       "number                                                              \n",
       "12961718 2021-08-05 00:00:04 2021-08-04 23:59:04                 NaN\n",
       "12961719 2021-08-05 00:00:07 2021-08-04 23:59:07                 NaN\n",
       "12961720 2021-08-05 00:00:47 2021-08-04 23:59:47                 NaN\n",
       "12961721 2021-08-05 00:01:03 2021-08-05 00:00:03                 NaN\n",
       "12961722 2021-08-05 00:01:25 2021-08-05 00:00:25          12961719.0"
      ]
     },
     "execution_count": 18,
     "metadata": {},
     "output_type": "execute_result"
    }
   ],
   "source": [
    "get_pit_blocks(blocks.loc[:1000,], lag=60).head()"
   ]
  },
  {
   "cell_type": "markdown",
   "id": "4ea57273",
   "metadata": {},
   "source": [
    "### Transaction ID"
   ]
  },
  {
   "cell_type": "code",
   "execution_count": null,
   "id": "f4d1c1d9",
   "metadata": {},
   "outputs": [],
   "source": [
    "transactions = wr.s3.read_csv(path=\"s3://sagemaker-w210-eth/raw_data/infuria/transactions\") "
   ]
  },
  {
   "cell_type": "code",
   "execution_count": null,
   "id": "bc811ca8",
   "metadata": {},
   "outputs": [],
   "source": [
    "transactions.shape"
   ]
  },
  {
   "cell_type": "code",
   "execution_count": null,
   "id": "79fa766e",
   "metadata": {},
   "outputs": [],
   "source": []
  }
 ],
 "metadata": {
  "kernelspec": {
   "display_name": "conda_python3",
   "language": "python",
   "name": "conda_python3"
  },
  "language_info": {
   "codemirror_mode": {
    "name": "ipython",
    "version": 3
   },
   "file_extension": ".py",
   "mimetype": "text/x-python",
   "name": "python",
   "nbconvert_exporter": "python",
   "pygments_lexer": "ipython3",
   "version": "3.6.13"
  }
 },
 "nbformat": 4,
 "nbformat_minor": 5
}
