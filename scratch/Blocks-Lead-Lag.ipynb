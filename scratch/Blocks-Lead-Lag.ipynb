{
 "cells": [
  {
   "cell_type": "markdown",
   "id": "6aca2fc6",
   "metadata": {},
   "source": [
    "# Blocks Lead/Lag"
   ]
  },
  {
   "cell_type": "code",
   "execution_count": 149,
   "id": "88d5ec34",
   "metadata": {},
   "outputs": [
    {
     "name": "stdout",
     "output_type": "stream",
     "text": [
      "The autoreload extension is already loaded. To reload it, use:\n",
      "  %reload_ext autoreload\n"
     ]
    }
   ],
   "source": [
    "%load_ext autoreload\n",
    "%autoreload 2\n",
    "\n",
    "import numpy as np\n",
    "import pandas as pd\n",
    "import matplotlib.pyplot as plt\n",
    "from tqdm import tqdm\n",
    "from numpy import intersect1d\n",
    "from datetime import datetime\n",
    "from pyathena import connect"
   ]
  },
  {
   "cell_type": "code",
   "execution_count": 11,
   "id": "c90b00d9",
   "metadata": {},
   "outputs": [],
   "source": [
    "# add ethereum to python path (only do this once)\n",
    "import sys\n",
    "sys.path.insert(0, \"/home/ec2-user/SageMaker/ethereum\")"
   ]
  },
  {
   "cell_type": "code",
   "execution_count": 150,
   "id": "a39fed87",
   "metadata": {},
   "outputs": [],
   "source": [
    "from ethereum import (\n",
    "    timestamp_to_datetime,\n",
    "    EthereumData\n",
    ")\n",
    "from utils import (\n",
    "    latest,\n",
    "    lead_lag,\n",
    "    add_latest_avail_block,\n",
    "    lagged_block_data\n",
    ")"
   ]
  },
  {
   "cell_type": "code",
   "execution_count": 151,
   "id": "d542fbeb",
   "metadata": {},
   "outputs": [],
   "source": [
    "conn = connect(\n",
    "    s3_staging_dir='s3://sagemaker-w210-eth/raw_data/August/',\n",
    "    region_name='us-west-2'\n",
    ")"
   ]
  },
  {
   "cell_type": "code",
   "execution_count": 152,
   "id": "6ebaacf1",
   "metadata": {},
   "outputs": [],
   "source": [
    "conn.close()"
   ]
  },
  {
   "cell_type": "code",
   "execution_count": 53,
   "id": "18244b32",
   "metadata": {},
   "outputs": [],
   "source": [
    "cols = [\n",
    "    'number', 'difficulty', 'total_difficulty', 'size', 'gas_limit', \n",
    "    'gas_used', 'timestamp', 'transaction_count', 'base_fee_per_gas'\n",
    "]\n",
    "\n",
    "blocks = pd.read_sql(f\"SELECT {', '.join(cols)} FROM ethereumetl.blocks\", conn)\n",
    "blocks.shape"
   ]
  },
  {
   "cell_type": "code",
   "execution_count": 153,
   "id": "d322a79c",
   "metadata": {},
   "outputs": [
    {
     "data": {
      "text/html": [
       "<div>\n",
       "<style scoped>\n",
       "    .dataframe tbody tr th:only-of-type {\n",
       "        vertical-align: middle;\n",
       "    }\n",
       "\n",
       "    .dataframe tbody tr th {\n",
       "        vertical-align: top;\n",
       "    }\n",
       "\n",
       "    .dataframe thead th {\n",
       "        text-align: right;\n",
       "    }\n",
       "</style>\n",
       "<table border=\"1\" class=\"dataframe\">\n",
       "  <thead>\n",
       "    <tr style=\"text-align: right;\">\n",
       "      <th></th>\n",
       "      <th>number</th>\n",
       "      <th>difficulty</th>\n",
       "      <th>total_difficulty</th>\n",
       "      <th>size</th>\n",
       "      <th>gas_limit</th>\n",
       "      <th>gas_used</th>\n",
       "      <th>timestamp</th>\n",
       "      <th>transaction_count</th>\n",
       "      <th>base_fee_per_gas</th>\n",
       "    </tr>\n",
       "  </thead>\n",
       "  <tbody>\n",
       "    <tr>\n",
       "      <th>0</th>\n",
       "      <td>13021551.0</td>\n",
       "      <td>None</td>\n",
       "      <td>None</td>\n",
       "      <td>163905.0</td>\n",
       "      <td>29970677.0</td>\n",
       "      <td>29970293.0</td>\n",
       "      <td>1.628921e+09</td>\n",
       "      <td>290.0</td>\n",
       "      <td>2.608603e+10</td>\n",
       "    </tr>\n",
       "    <tr>\n",
       "      <th>1</th>\n",
       "      <td>13021509.0</td>\n",
       "      <td>None</td>\n",
       "      <td>None</td>\n",
       "      <td>39184.0</td>\n",
       "      <td>30028810.0</td>\n",
       "      <td>9533024.0</td>\n",
       "      <td>1.628921e+09</td>\n",
       "      <td>222.0</td>\n",
       "      <td>4.039236e+10</td>\n",
       "    </tr>\n",
       "    <tr>\n",
       "      <th>2</th>\n",
       "      <td>13021552.0</td>\n",
       "      <td>None</td>\n",
       "      <td>None</td>\n",
       "      <td>18510.0</td>\n",
       "      <td>29999944.0</td>\n",
       "      <td>3848065.0</td>\n",
       "      <td>1.628921e+09</td>\n",
       "      <td>50.0</td>\n",
       "      <td>2.934670e+10</td>\n",
       "    </tr>\n",
       "    <tr>\n",
       "      <th>3</th>\n",
       "      <td>13021510.0</td>\n",
       "      <td>None</td>\n",
       "      <td>None</td>\n",
       "      <td>15740.0</td>\n",
       "      <td>29999486.0</td>\n",
       "      <td>2950586.0</td>\n",
       "      <td>1.628921e+09</td>\n",
       "      <td>52.0</td>\n",
       "      <td>3.854909e+10</td>\n",
       "    </tr>\n",
       "    <tr>\n",
       "      <th>4</th>\n",
       "      <td>13021553.0</td>\n",
       "      <td>None</td>\n",
       "      <td>None</td>\n",
       "      <td>116658.0</td>\n",
       "      <td>30000000.0</td>\n",
       "      <td>29992624.0</td>\n",
       "      <td>1.628921e+09</td>\n",
       "      <td>476.0</td>\n",
       "      <td>2.661943e+10</td>\n",
       "    </tr>\n",
       "  </tbody>\n",
       "</table>\n",
       "</div>"
      ],
      "text/plain": [
       "       number difficulty total_difficulty      size   gas_limit    gas_used  \\\n",
       "0  13021551.0       None             None  163905.0  29970677.0  29970293.0   \n",
       "1  13021509.0       None             None   39184.0  30028810.0   9533024.0   \n",
       "2  13021552.0       None             None   18510.0  29999944.0   3848065.0   \n",
       "3  13021510.0       None             None   15740.0  29999486.0   2950586.0   \n",
       "4  13021553.0       None             None  116658.0  30000000.0  29992624.0   \n",
       "\n",
       "      timestamp  transaction_count  base_fee_per_gas  \n",
       "0  1.628921e+09              290.0      2.608603e+10  \n",
       "1  1.628921e+09              222.0      4.039236e+10  \n",
       "2  1.628921e+09               50.0      2.934670e+10  \n",
       "3  1.628921e+09               52.0      3.854909e+10  \n",
       "4  1.628921e+09              476.0      2.661943e+10  "
      ]
     },
     "execution_count": 153,
     "metadata": {},
     "output_type": "execute_result"
    }
   ],
   "source": [
    "blocks.head()"
   ]
  },
  {
   "cell_type": "code",
   "execution_count": 66,
   "id": "85dbb070",
   "metadata": {},
   "outputs": [],
   "source": [
    "data_lags = [1] + [i * 10 for i in range(1, 7)]\n",
    "block_lookback_lags = [i * 20 for i in range(6)]"
   ]
  },
  {
   "cell_type": "code",
   "execution_count": 68,
   "id": "7deb2595",
   "metadata": {},
   "outputs": [],
   "source": [
    "pit = {\n",
    "    k : get_pit_blocks(blocks.loc[:1000,], lag=k) for k in data_lags\n",
    "}"
   ]
  },
  {
   "cell_type": "code",
   "execution_count": 69,
   "id": "0b838d91",
   "metadata": {},
   "outputs": [],
   "source": [
    "pit_data = {\n",
    "    k : lagged_block_data(blocks.loc[:1000,], v) for k, v in pit.items()\n",
    "}"
   ]
  },
  {
   "cell_type": "code",
   "execution_count": 142,
   "id": "8605a016",
   "metadata": {},
   "outputs": [
    {
     "data": {
      "text/html": [
       "<div>\n",
       "<style scoped>\n",
       "    .dataframe tbody tr th:only-of-type {\n",
       "        vertical-align: middle;\n",
       "    }\n",
       "\n",
       "    .dataframe tbody tr th {\n",
       "        vertical-align: top;\n",
       "    }\n",
       "\n",
       "    .dataframe thead th {\n",
       "        text-align: right;\n",
       "    }\n",
       "</style>\n",
       "<table border=\"1\" class=\"dataframe\">\n",
       "  <thead>\n",
       "    <tr style=\"text-align: right;\">\n",
       "      <th></th>\n",
       "      <th>difficulty_lagged</th>\n",
       "      <th>total_difficulty_lagged</th>\n",
       "      <th>size_lagged</th>\n",
       "      <th>gas_limit_lagged</th>\n",
       "      <th>gas_used_lagged</th>\n",
       "      <th>timestamp_lagged</th>\n",
       "      <th>transaction_count_lagged</th>\n",
       "      <th>base_fee_per_gas_lagged</th>\n",
       "    </tr>\n",
       "    <tr>\n",
       "      <th>number</th>\n",
       "      <th></th>\n",
       "      <th></th>\n",
       "      <th></th>\n",
       "      <th></th>\n",
       "      <th></th>\n",
       "      <th></th>\n",
       "      <th></th>\n",
       "      <th></th>\n",
       "    </tr>\n",
       "  </thead>\n",
       "  <tbody>\n",
       "    <tr>\n",
       "      <th>12991647.0</th>\n",
       "      <td>None</td>\n",
       "      <td>None</td>\n",
       "      <td>NaN</td>\n",
       "      <td>NaN</td>\n",
       "      <td>NaN</td>\n",
       "      <td>NaN</td>\n",
       "      <td>NaN</td>\n",
       "      <td>NaN</td>\n",
       "    </tr>\n",
       "    <tr>\n",
       "      <th>12991648.0</th>\n",
       "      <td>None</td>\n",
       "      <td>None</td>\n",
       "      <td>NaN</td>\n",
       "      <td>NaN</td>\n",
       "      <td>NaN</td>\n",
       "      <td>NaN</td>\n",
       "      <td>NaN</td>\n",
       "      <td>NaN</td>\n",
       "    </tr>\n",
       "    <tr>\n",
       "      <th>12991649.0</th>\n",
       "      <td>None</td>\n",
       "      <td>None</td>\n",
       "      <td>NaN</td>\n",
       "      <td>NaN</td>\n",
       "      <td>NaN</td>\n",
       "      <td>NaN</td>\n",
       "      <td>NaN</td>\n",
       "      <td>NaN</td>\n",
       "    </tr>\n",
       "    <tr>\n",
       "      <th>12991650.0</th>\n",
       "      <td>None</td>\n",
       "      <td>None</td>\n",
       "      <td>NaN</td>\n",
       "      <td>NaN</td>\n",
       "      <td>NaN</td>\n",
       "      <td>NaN</td>\n",
       "      <td>NaN</td>\n",
       "      <td>NaN</td>\n",
       "    </tr>\n",
       "    <tr>\n",
       "      <th>12991651.0</th>\n",
       "      <td>None</td>\n",
       "      <td>None</td>\n",
       "      <td>NaN</td>\n",
       "      <td>NaN</td>\n",
       "      <td>NaN</td>\n",
       "      <td>NaN</td>\n",
       "      <td>NaN</td>\n",
       "      <td>NaN</td>\n",
       "    </tr>\n",
       "    <tr>\n",
       "      <th>...</th>\n",
       "      <td>...</td>\n",
       "      <td>...</td>\n",
       "      <td>...</td>\n",
       "      <td>...</td>\n",
       "      <td>...</td>\n",
       "      <td>...</td>\n",
       "      <td>...</td>\n",
       "      <td>...</td>\n",
       "    </tr>\n",
       "    <tr>\n",
       "      <th>13022459.0</th>\n",
       "      <td>None</td>\n",
       "      <td>None</td>\n",
       "      <td>131897.0</td>\n",
       "      <td>29999914.0</td>\n",
       "      <td>29979757.0</td>\n",
       "      <td>1.628934e+09</td>\n",
       "      <td>309.0</td>\n",
       "      <td>3.186493e+10</td>\n",
       "    </tr>\n",
       "    <tr>\n",
       "      <th>13022460.0</th>\n",
       "      <td>None</td>\n",
       "      <td>None</td>\n",
       "      <td>175529.0</td>\n",
       "      <td>29970705.0</td>\n",
       "      <td>29952910.0</td>\n",
       "      <td>1.628934e+09</td>\n",
       "      <td>427.0</td>\n",
       "      <td>2.915884e+10</td>\n",
       "    </tr>\n",
       "    <tr>\n",
       "      <th>13022461.0</th>\n",
       "      <td>None</td>\n",
       "      <td>None</td>\n",
       "      <td>175529.0</td>\n",
       "      <td>29970705.0</td>\n",
       "      <td>29952910.0</td>\n",
       "      <td>1.628934e+09</td>\n",
       "      <td>427.0</td>\n",
       "      <td>2.915884e+10</td>\n",
       "    </tr>\n",
       "    <tr>\n",
       "      <th>13022462.0</th>\n",
       "      <td>None</td>\n",
       "      <td>None</td>\n",
       "      <td>149395.0</td>\n",
       "      <td>29999972.0</td>\n",
       "      <td>29985607.0</td>\n",
       "      <td>1.628934e+09</td>\n",
       "      <td>497.0</td>\n",
       "      <td>3.279937e+10</td>\n",
       "    </tr>\n",
       "    <tr>\n",
       "      <th>13022463.0</th>\n",
       "      <td>None</td>\n",
       "      <td>None</td>\n",
       "      <td>149395.0</td>\n",
       "      <td>29999972.0</td>\n",
       "      <td>29985607.0</td>\n",
       "      <td>1.628934e+09</td>\n",
       "      <td>497.0</td>\n",
       "      <td>3.279937e+10</td>\n",
       "    </tr>\n",
       "  </tbody>\n",
       "</table>\n",
       "<p>1001 rows × 8 columns</p>\n",
       "</div>"
      ],
      "text/plain": [
       "           difficulty_lagged total_difficulty_lagged  size_lagged  \\\n",
       "number                                                              \n",
       "12991647.0              None                    None          NaN   \n",
       "12991648.0              None                    None          NaN   \n",
       "12991649.0              None                    None          NaN   \n",
       "12991650.0              None                    None          NaN   \n",
       "12991651.0              None                    None          NaN   \n",
       "...                      ...                     ...          ...   \n",
       "13022459.0              None                    None     131897.0   \n",
       "13022460.0              None                    None     175529.0   \n",
       "13022461.0              None                    None     175529.0   \n",
       "13022462.0              None                    None     149395.0   \n",
       "13022463.0              None                    None     149395.0   \n",
       "\n",
       "            gas_limit_lagged  gas_used_lagged  timestamp_lagged  \\\n",
       "number                                                            \n",
       "12991647.0               NaN              NaN               NaN   \n",
       "12991648.0               NaN              NaN               NaN   \n",
       "12991649.0               NaN              NaN               NaN   \n",
       "12991650.0               NaN              NaN               NaN   \n",
       "12991651.0               NaN              NaN               NaN   \n",
       "...                      ...              ...               ...   \n",
       "13022459.0        29999914.0       29979757.0      1.628934e+09   \n",
       "13022460.0        29970705.0       29952910.0      1.628934e+09   \n",
       "13022461.0        29970705.0       29952910.0      1.628934e+09   \n",
       "13022462.0        29999972.0       29985607.0      1.628934e+09   \n",
       "13022463.0        29999972.0       29985607.0      1.628934e+09   \n",
       "\n",
       "            transaction_count_lagged  base_fee_per_gas_lagged  \n",
       "number                                                         \n",
       "12991647.0                       NaN                      NaN  \n",
       "12991648.0                       NaN                      NaN  \n",
       "12991649.0                       NaN                      NaN  \n",
       "12991650.0                       NaN                      NaN  \n",
       "12991651.0                       NaN                      NaN  \n",
       "...                              ...                      ...  \n",
       "13022459.0                     309.0             3.186493e+10  \n",
       "13022460.0                     427.0             2.915884e+10  \n",
       "13022461.0                     427.0             2.915884e+10  \n",
       "13022462.0                     497.0             3.279937e+10  \n",
       "13022463.0                     497.0             3.279937e+10  \n",
       "\n",
       "[1001 rows x 8 columns]"
      ]
     },
     "execution_count": 142,
     "metadata": {},
     "output_type": "execute_result"
    }
   ],
   "source": [
    "pit_data[60]"
   ]
  },
  {
   "cell_type": "code",
   "execution_count": 106,
   "id": "68423a2e",
   "metadata": {},
   "outputs": [],
   "source": [
    "x_variable = 'base_feae_per_gas'"
   ]
  },
  {
   "cell_type": "code",
   "execution_count": 100,
   "id": "69d266d9",
   "metadata": {},
   "outputs": [],
   "source": [
    "lead_lag_cols = [\n",
    "    'base_fee_per_gas', 'size', 'gas_used', 'transaction_count' #'difficulty', 'total_difficulty', \n",
    "]"
   ]
  },
  {
   "cell_type": "code",
   "execution_count": null,
   "id": "2b7d079f",
   "metadata": {},
   "outputs": [],
   "source": []
  },
  {
   "cell_type": "code",
   "execution_count": 141,
   "id": "bd4f6393",
   "metadata": {},
   "outputs": [
    {
     "data": {
      "image/png": "[encoded data removed]",
      "text/plain": [
       "<Figure size 1008x288 with 1 Axes>"
      ]
     },
     "metadata": {
      "needs_background": "light"
     },
     "output_type": "display_data"
    }
   ],
   "source": [
    "pd.DataFrame({\n",
    "    k : lead_lag(\n",
    "        blocks[x_variable], blocks[k], lags=range(1, 100), z_score=True\n",
    "    ) for k in lead_lag_cols\n",
    "}).plot(title='lead/lag', figsize=(14, 4));"
   ]
  },
  {
   "cell_type": "code",
   "execution_count": 118,
   "id": "5a3476ff",
   "metadata": {},
   "outputs": [],
   "source": [
    "import numpy as np\n",
    "from sklearn.linear_model import LinearRegression\n",
    "from sklearn.metrics import mean_squared_error, r2_score"
   ]
  },
  {
   "cell_type": "code",
   "execution_count": 128,
   "id": "1eea64a1",
   "metadata": {},
   "outputs": [],
   "source": [
    "x = pit_data[60][['base_fee_per_gas_lagged']].ewm(halflife=20).mean().dropna()\n",
    "y = blocks.set_index('number')['base_fee_per_gas'][x.index]"
   ]
  },
  {
   "cell_type": "code",
   "execution_count": 129,
   "id": "fb627f31",
   "metadata": {},
   "outputs": [],
   "source": [
    "reg = LinearRegression().fit(x, y)"
   ]
  },
  {
   "cell_type": "code",
   "execution_count": 131,
   "id": "bebd9bc5",
   "metadata": {},
   "outputs": [
    {
     "data": {
      "text/plain": [
       "0.4421607050126749"
      ]
     },
     "execution_count": 131,
     "metadata": {},
     "output_type": "execute_result"
    }
   ],
   "source": [
    "reg.score(x, y)"
   ]
  },
  {
   "cell_type": "code",
   "execution_count": 133,
   "id": "72b03e1c",
   "metadata": {},
   "outputs": [
    {
     "data": {
      "text/plain": [
       "array([0.8296486])"
      ]
     },
     "execution_count": 133,
     "metadata": {},
     "output_type": "execute_result"
    }
   ],
   "source": [
    "reg.coef_"
   ]
  },
  {
   "cell_type": "code",
   "execution_count": 134,
   "id": "c0343e6b",
   "metadata": {},
   "outputs": [],
   "source": [
    "pred_y = reg.predict(x)"
   ]
  },
  {
   "cell_type": "code",
   "execution_count": 136,
   "id": "82abee0f",
   "metadata": {},
   "outputs": [
    {
     "data": {
      "text/plain": [
       "1.9842553316207297e+19"
      ]
     },
     "execution_count": 136,
     "metadata": {},
     "output_type": "execute_result"
    }
   ],
   "source": [
    "mean_squared_error(y, pred_y)"
   ]
  },
  {
   "cell_type": "code",
   "execution_count": 137,
   "id": "8c072a47",
   "metadata": {},
   "outputs": [
    {
     "ename": "ValueError",
     "evalue": "Cannot take a larger sample than population when 'replace=False'",
     "output_type": "error",
     "traceback": [
      "\u001b[0;31m---------------------------------------------------------------------------\u001b[0m",
      "\u001b[0;31mValueError\u001b[0m                                Traceback (most recent call last)",
      "\u001b[0;32m<ipython-input-137-6b62611eb139>\u001b[0m in \u001b[0;36m<module>\u001b[0;34m()\u001b[0m\n\u001b[1;32m      2\u001b[0m     \u001b[0;34m\"pred\"\u001b[0m \u001b[0;34m:\u001b[0m \u001b[0mpred_y\u001b[0m\u001b[0;34m,\u001b[0m\u001b[0;34m\u001b[0m\u001b[0;34m\u001b[0m\u001b[0m\n\u001b[1;32m      3\u001b[0m     \u001b[0;34m\"actual\"\u001b[0m \u001b[0;34m:\u001b[0m \u001b[0my\u001b[0m\u001b[0;34m\u001b[0m\u001b[0;34m\u001b[0m\u001b[0m\n\u001b[0;32m----> 4\u001b[0;31m }).sample(5000)\n\u001b[0m",
      "\u001b[0;32m/home/ec2-user/anaconda3/envs/python3/lib/python3.6/site-packages/pandas/core/generic.py\u001b[0m in \u001b[0;36msample\u001b[0;34m(self, n, frac, replace, weights, random_state, axis)\u001b[0m\n\u001b[1;32m   4993\u001b[0m             )\n\u001b[1;32m   4994\u001b[0m \u001b[0;34m\u001b[0m\u001b[0m\n\u001b[0;32m-> 4995\u001b[0;31m         \u001b[0mlocs\u001b[0m \u001b[0;34m=\u001b[0m \u001b[0mrs\u001b[0m\u001b[0;34m.\u001b[0m\u001b[0mchoice\u001b[0m\u001b[0;34m(\u001b[0m\u001b[0maxis_length\u001b[0m\u001b[0;34m,\u001b[0m \u001b[0msize\u001b[0m\u001b[0;34m=\u001b[0m\u001b[0mn\u001b[0m\u001b[0;34m,\u001b[0m \u001b[0mreplace\u001b[0m\u001b[0;34m=\u001b[0m\u001b[0mreplace\u001b[0m\u001b[0;34m,\u001b[0m \u001b[0mp\u001b[0m\u001b[0;34m=\u001b[0m\u001b[0mweights\u001b[0m\u001b[0;34m)\u001b[0m\u001b[0;34m\u001b[0m\u001b[0;34m\u001b[0m\u001b[0m\n\u001b[0m\u001b[1;32m   4996\u001b[0m         \u001b[0;32mreturn\u001b[0m \u001b[0mself\u001b[0m\u001b[0;34m.\u001b[0m\u001b[0mtake\u001b[0m\u001b[0;34m(\u001b[0m\u001b[0mlocs\u001b[0m\u001b[0;34m,\u001b[0m \u001b[0maxis\u001b[0m\u001b[0;34m=\u001b[0m\u001b[0maxis\u001b[0m\u001b[0;34m)\u001b[0m\u001b[0;34m\u001b[0m\u001b[0;34m\u001b[0m\u001b[0m\n\u001b[1;32m   4997\u001b[0m \u001b[0;34m\u001b[0m\u001b[0m\n",
      "\u001b[0;32mmtrand.pyx\u001b[0m in \u001b[0;36mnumpy.random.mtrand.RandomState.choice\u001b[0;34m()\u001b[0m\n",
      "\u001b[0;31mValueError\u001b[0m: Cannot take a larger sample than population when 'replace=False'"
     ]
    }
   ],
   "source": [
    "sample_results = pd.DataFrame({\n",
    "    \"pred\" : pred_y,\n",
    "    \"actual\" : y\n",
    "}).sample(5000)"
   ]
  },
  {
   "cell_type": "code",
   "execution_count": null,
   "id": "7b76a75b",
   "metadata": {},
   "outputs": [],
   "source": [
    "plt.scatter(y, sample_results['effective_gas_price'])\n",
    "plt.title('Predicted vs Realized Gas Prices');\n"
   ]
  }
 ],
 "metadata": {
  "kernelspec": {
   "display_name": "conda_python3",
   "language": "python",
   "name": "conda_python3"
  },
  "language_info": {
   "codemirror_mode": {
    "name": "ipython",
    "version": 3
   },
   "file_extension": ".py",
   "mimetype": "text/x-python",
   "name": "python",
   "nbconvert_exporter": "python",
   "pygments_lexer": "ipython3",
   "version": "3.6.13"
  }
 },
 "nbformat": 4,
 "nbformat_minor": 5
}
